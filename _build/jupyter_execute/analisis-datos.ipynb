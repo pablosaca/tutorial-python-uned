{
 "cells": [
  {
   "cell_type": "markdown",
   "id": "91811ea3-791d-4b1d-b95f-be22c39c338d",
   "metadata": {
    "tags": []
   },
   "source": [
    "# <font color='green'> Análisis de Datos </font>"
   ]
  },
  {
   "cell_type": "markdown",
   "id": "83ad990d-7c9b-4c34-8211-16c8855a1ef4",
   "metadata": {},
   "source": [
    "Antes de comenzar, se importa el paquete *os* y se define el directorio donde se encuentra el notebook. "
   ]
  },
  {
   "cell_type": "code",
   "execution_count": 1,
   "id": "0f06ec8e-f78e-4f02-900e-a48a35e46bb6",
   "metadata": {
    "tags": []
   },
   "outputs": [],
   "source": [
    "import os\n",
    "path = 'C:/Users/p_san/OneDrive/Escritorio/master_uned_modulo_1/Introducción a Python' # cambiar la ruta donde se encuentran los ficheros en el PC"
   ]
  },
  {
   "cell_type": "markdown",
   "id": "6dbbbdee-d783-4181-8604-697b9cfe9b05",
   "metadata": {},
   "source": [
    "## <font color='green'> 1. Lectura y escritura de ficheros </font>"
   ]
  },
  {
   "cell_type": "code",
   "execution_count": 2,
   "id": "b18ee7fe-e0c2-467c-82e4-1fe255cee3a8",
   "metadata": {
    "tags": []
   },
   "outputs": [],
   "source": [
    "import csv "
   ]
  },
  {
   "cell_type": "markdown",
   "id": "e244c4e3-bbd4-4268-bf14-6f93ba6fb73a",
   "metadata": {},
   "source": [
    "### <font color='green'> 1.1 Ficheros csv </font>\n",
    "\n",
    "#### <font color='green'> Lectura: sentencia *reader* </font>"
   ]
  },
  {
   "cell_type": "markdown",
   "id": "35479852-d231-4f50-a949-0ddd5f110071",
   "metadata": {},
   "source": [
    "- Lectura de cabeceras"
   ]
  },
  {
   "cell_type": "code",
   "execution_count": 3,
   "id": "dc4c1d96-7102-4b2a-ac8e-bb7166968db3",
   "metadata": {
    "tags": []
   },
   "outputs": [
    {
     "name": "stdout",
     "output_type": "stream",
     "text": [
      "Los campos del fichero son ['Nombre;Provincia;Nivel_Estudios;Edad']\n"
     ]
    }
   ],
   "source": [
    "with open(os.path.join(path, 'info_personas.csv')) as csv_file:\n",
    "    csv_reader = csv.reader(csv_file, delimiter=',')\n",
    "\n",
    "    contar_lineas = 0\n",
    "    for row in csv_reader:\n",
    "        if contar_lineas == 0:\n",
    "            print(f'Los campos del fichero son {row}')\n",
    "            contar_lineas = contar_lineas + 1"
   ]
  },
  {
   "cell_type": "markdown",
   "id": "e1bd921d-838a-4f41-8445-64854d0d983e",
   "metadata": {},
   "source": [
    "- Lectura de los registros"
   ]
  },
  {
   "cell_type": "code",
   "execution_count": 4,
   "id": "89cc98d7-31da-4fa8-b3f4-115d17832aed",
   "metadata": {
    "tags": []
   },
   "outputs": [
    {
     "name": "stdout",
     "output_type": "stream",
     "text": [
      "['Pablo;Avila;Grado;28']\n",
      "['Luis;Madrid;Bachiller;45']\n",
      "['Fran;Toledo;Licenciatura;34']\n",
      "['Maria;Barcelona;Doctor;56']\n",
      "['Bea;Malaga;Basico;22']\n",
      "['Emilio;Salamanca;Bachiller;37']\n",
      "['Juan;Caceres;Grado;21']\n",
      "['Laura;Vitoria;Licenciatura;40']\n",
      "Total de líneas 8 lines.\n"
     ]
    }
   ],
   "source": [
    "with open(os.path.join(path, 'info_personas.csv')) as csv_file:\n",
    "    csv_reader = csv.reader(csv_file, delimiter=',')\n",
    "\n",
    "    contar_lineas= 0\n",
    "    next(csv_reader, None)  # omitir encabezado\n",
    "    for row in csv_reader:\n",
    "        print(row)\n",
    "        contar_lineas = contar_lineas +1\n",
    "    print(f'Total de líneas {contar_lineas} lines.')"
   ]
  },
  {
   "cell_type": "markdown",
   "id": "cfcb7b9e-5644-4169-8890-185f1b49d6c4",
   "metadata": {
    "tags": []
   },
   "source": [
    "#### <font color='green'> Lectura: sentencia *DictReader* </font>\n",
    "\n",
    "Importación del fichero en formato diccionario"
   ]
  },
  {
   "cell_type": "code",
   "execution_count": 5,
   "id": "4b420903-55f4-4710-ac18-a61f7d57ddb4",
   "metadata": {
    "tags": []
   },
   "outputs": [
    {
     "name": "stdout",
     "output_type": "stream",
     "text": [
      "[{'Nombre;Provincia;Nivel_Estudios;Edad': 'Pablo;Avila;Grado;28'}, {'Nombre;Provincia;Nivel_Estudios;Edad': 'Luis;Madrid;Bachiller;45'}, {'Nombre;Provincia;Nivel_Estudios;Edad': 'Fran;Toledo;Licenciatura;34'}, {'Nombre;Provincia;Nivel_Estudios;Edad': 'Maria;Barcelona;Doctor;56'}, {'Nombre;Provincia;Nivel_Estudios;Edad': 'Bea;Malaga;Basico;22'}, {'Nombre;Provincia;Nivel_Estudios;Edad': 'Emilio;Salamanca;Bachiller;37'}, {'Nombre;Provincia;Nivel_Estudios;Edad': 'Juan;Caceres;Grado;21'}, {'Nombre;Provincia;Nivel_Estudios;Edad': 'Laura;Vitoria;Licenciatura;40'}]\n"
     ]
    }
   ],
   "source": [
    "results= []\n",
    "\n",
    "with open(os.path.join(path, 'info_personas.csv')) as csv_file:\n",
    "    csv_reader = csv.DictReader(csv_file, delimiter=',')\n",
    "\n",
    "    for row in csv_reader:\n",
    "        results.append(row)\n",
    "\n",
    "    print(results)"
   ]
  },
  {
   "cell_type": "code",
   "execution_count": 6,
   "id": "a71b32db-bb07-4feb-889b-968bd70b41a3",
   "metadata": {
    "tags": []
   },
   "outputs": [
    {
     "name": "stdout",
     "output_type": "stream",
     "text": [
      "Pablo;Avila;Grado;28\n",
      "Luis;Madrid;Bachiller;45\n",
      "Fran;Toledo;Licenciatura;34\n",
      "Maria;Barcelona;Doctor;56\n",
      "Bea;Malaga;Basico;22\n",
      "Emilio;Salamanca;Bachiller;37\n",
      "Juan;Caceres;Grado;21\n",
      "Laura;Vitoria;Licenciatura;40\n"
     ]
    }
   ],
   "source": [
    "for i in results:\n",
    "    for j in i.values():\n",
    "        print(j)"
   ]
  },
  {
   "cell_type": "markdown",
   "id": "f09fd733-aab8-42f6-8ea4-72d667358829",
   "metadata": {},
   "source": [
    "#### <font color='green'> Escritura: sentencia *writer* </font>\n"
   ]
  },
  {
   "cell_type": "code",
   "execution_count": 7,
   "id": "5287ba67-e9f3-4570-a18a-2cfd4835e24a",
   "metadata": {
    "tags": []
   },
   "outputs": [],
   "source": [
    "datos1 = [[\"Nombre\", \"Provincia\", \"Nivel_Estudios\", \"Edad\"],\n",
    "           [\"Maca\", \"Valencia\", \"Licenciatura\", 37],\n",
    "           [\"Roberto\", \"Pontevedra\", \"Basico\", 19]]"
   ]
  },
  {
   "cell_type": "code",
   "execution_count": 8,
   "id": "68c4114a-fa6f-4437-a031-6415fcb5f314",
   "metadata": {
    "tags": []
   },
   "outputs": [],
   "source": [
    "with open(os.path.join(path, 'info_personas2a.csv'), 'w', newline='') as file:\n",
    "    writer = csv.writer(file, delimiter=';')\n",
    "    writer.writerows(datos1)"
   ]
  },
  {
   "cell_type": "markdown",
   "id": "3aaa52d1-e421-4cf7-a8df-6bac6f8cc247",
   "metadata": {},
   "source": [
    "#### <font color='green'> Escritura: sentencia *Dictwriter* </font>"
   ]
  },
  {
   "cell_type": "code",
   "execution_count": 9,
   "id": "fd1eae4e-5a5a-4257-8c1c-6a51f1a5d7a7",
   "metadata": {
    "tags": []
   },
   "outputs": [],
   "source": [
    "datos2 = [{'Nombre': 'Maca', 'Provincia': 'Valencia', 'Nivel_Estudios': 'Licenciatura', 'Edad':37}, \n",
    "{'Nombre': 'Roberto', 'Provincia': 'Pontevedra', 'Nivel_Estudios': 'Basico', 'Edad':19}]\n",
    "\n",
    "cabecera = ['Nombre', 'Provincia', 'Nivel_Estudios', 'Edad']"
   ]
  },
  {
   "cell_type": "code",
   "execution_count": 10,
   "id": "a4983bcb-cf04-4a4e-a720-a23475d279bb",
   "metadata": {
    "tags": []
   },
   "outputs": [],
   "source": [
    "with open(os.path.join(path, 'info_personas2b.csv'), 'w', newline='') as file:\n",
    "    writer = csv.DictWriter(file, delimiter=';', fieldnames= cabecera)\n",
    "    writer.writeheader()\n",
    "    writer.writerows(datos2)"
   ]
  },
  {
   "cell_type": "markdown",
   "id": "ed19ec18-399e-4051-8b30-45fca22d2127",
   "metadata": {},
   "source": [
    "### <font color='green'> 1.2 Ficheros json </font>"
   ]
  },
  {
   "cell_type": "code",
   "execution_count": 11,
   "id": "156c62a2-3d80-4696-84e7-c4d930f64560",
   "metadata": {
    "tags": []
   },
   "outputs": [],
   "source": [
    "import json"
   ]
  },
  {
   "cell_type": "markdown",
   "id": "3ce494fc-6c3e-487f-b3c7-59ba6db36228",
   "metadata": {},
   "source": [
    "#### <font color='green'> Lectura del fichero </font>\n"
   ]
  },
  {
   "cell_type": "code",
   "execution_count": 12,
   "id": "ba8cc0c7-e8e4-4810-bda9-8cfdb19201ba",
   "metadata": {
    "tags": []
   },
   "outputs": [],
   "source": [
    "with open(os.path.join(path, 'config.json')) as file:\n",
    "    data = json.load(file)"
   ]
  },
  {
   "cell_type": "markdown",
   "id": "9247867a-9018-4d97-a495-f7b0f869378f",
   "metadata": {},
   "source": [
    "- Información del fichero"
   ]
  },
  {
   "cell_type": "code",
   "execution_count": 13,
   "id": "1673dcf0-1bcb-4d51-a47c-a89bdbb65c5b",
   "metadata": {
    "tags": []
   },
   "outputs": [
    {
     "data": {
      "text/plain": [
       "{'umbrales': {'riesgo_bajo': 100,\n",
       "  'riesgo_medio_bajo': 150,\n",
       "  'riesgo_medio_alto': 190},\n",
       " 'fecha_model': {'time_init': '2015-01-01',\n",
       "  'time_end': '2021-09-30',\n",
       "  'time_use': 'today'},\n",
       " 'parametros_model': {'semilla': 123,\n",
       "  'split': 0.3,\n",
       "  'n_estimators': 50,\n",
       "  'max_depth': 6,\n",
       "  'min_samples_split': 4}}"
      ]
     },
     "execution_count": 13,
     "metadata": {},
     "output_type": "execute_result"
    }
   ],
   "source": [
    "data"
   ]
  },
  {
   "cell_type": "markdown",
   "id": "649882ae-ea0e-4a0f-a999-246b4d21a598",
   "metadata": {},
   "source": [
    "El fichero *json* es leído como un *diccionario* de forma que se puede iterar sobre él."
   ]
  },
  {
   "cell_type": "markdown",
   "id": "73d81165-7132-4032-ac78-b0bdb4399d28",
   "metadata": {},
   "source": [
    "- Manipulación del fichero"
   ]
  },
  {
   "cell_type": "code",
   "execution_count": 14,
   "id": "1de4b227-76a5-473c-9ef3-1635e7500dbc",
   "metadata": {
    "tags": []
   },
   "outputs": [
    {
     "data": {
      "text/plain": [
       "dict_keys(['umbrales', 'fecha_model', 'parametros_model'])"
      ]
     },
     "execution_count": 14,
     "metadata": {},
     "output_type": "execute_result"
    }
   ],
   "source": [
    "data.keys()"
   ]
  },
  {
   "cell_type": "code",
   "execution_count": 15,
   "id": "606c8e24-2605-40e0-aa3a-1abc31d56f74",
   "metadata": {
    "tags": []
   },
   "outputs": [
    {
     "data": {
      "text/plain": [
       "dict_values([{'riesgo_bajo': 100, 'riesgo_medio_bajo': 150, 'riesgo_medio_alto': 190}, {'time_init': '2015-01-01', 'time_end': '2021-09-30', 'time_use': 'today'}, {'semilla': 123, 'split': 0.3, 'n_estimators': 50, 'max_depth': 6, 'min_samples_split': 4}])"
      ]
     },
     "execution_count": 15,
     "metadata": {},
     "output_type": "execute_result"
    }
   ],
   "source": [
    "data.values()"
   ]
  },
  {
   "cell_type": "code",
   "execution_count": 16,
   "id": "9248fcd4-a138-42d3-b900-e5e15e3f2966",
   "metadata": {
    "tags": []
   },
   "outputs": [
    {
     "name": "stdout",
     "output_type": "stream",
     "text": [
      "('riesgo_bajo', 100)\n",
      "('riesgo_medio_bajo', 150)\n",
      "('riesgo_medio_alto', 190)\n"
     ]
    }
   ],
   "source": [
    "for i in data['umbrales'].items():\n",
    "    print(i)"
   ]
  },
  {
   "cell_type": "markdown",
   "id": "517c1521-7642-4695-bd01-c94668ab9f1d",
   "metadata": {},
   "source": [
    "#### <font color='green'> Escritura del fichero </font>\n",
    "\n",
    "De igual forma, un *diccionario* se puede guardar como un fichero *json*"
   ]
  },
  {
   "cell_type": "code",
   "execution_count": 17,
   "id": "a1a3e0dc-d5eb-4fd6-bb27-a6bdcf9c3255",
   "metadata": {
    "tags": []
   },
   "outputs": [],
   "source": [
    "datos_personales = {'Nombre':'Pablo', 'Apellido':'Sanchez', 'Residencia':'Madrid'}"
   ]
  },
  {
   "cell_type": "code",
   "execution_count": 18,
   "id": "ff578fca-4d63-4bb9-8757-6784ff6ff174",
   "metadata": {
    "tags": []
   },
   "outputs": [],
   "source": [
    "with open(os.path.join(path,'datos_personales.json'), 'w') as file:\n",
    "    json.dump(datos_personales, file)"
   ]
  },
  {
   "cell_type": "markdown",
   "id": "a2086535-1f80-4d51-8981-9461649d29c7",
   "metadata": {},
   "source": [
    "### <font color='green'> 1.3 Ficheros yaml </font>"
   ]
  },
  {
   "cell_type": "code",
   "execution_count": 19,
   "id": "4638f857-ddfe-4435-bce6-95dbaead8cd2",
   "metadata": {
    "tags": []
   },
   "outputs": [],
   "source": [
    "import yaml"
   ]
  },
  {
   "cell_type": "markdown",
   "id": "353447a5-dd0e-40c9-9b5a-c38ce0222f11",
   "metadata": {},
   "source": [
    "#### <font color='green'> Lectura del fichero </font>\n"
   ]
  },
  {
   "cell_type": "code",
   "execution_count": 20,
   "id": "900f9e0e-3f07-4678-9e89-1522071d724e",
   "metadata": {
    "tags": []
   },
   "outputs": [],
   "source": [
    "with open(os.path.join(path, 'config_data_model.yaml')) as file:\n",
    "    data = yaml.load(file, Loader=yaml.FullLoader)"
   ]
  },
  {
   "cell_type": "markdown",
   "id": "616d0217-9dbc-4ce2-b437-90abf6bf754a",
   "metadata": {},
   "source": [
    "- Información del fichero"
   ]
  },
  {
   "cell_type": "code",
   "execution_count": 21,
   "id": "1af29640-d0a9-4a43-a384-2659f3891be0",
   "metadata": {
    "tags": []
   },
   "outputs": [
    {
     "data": {
      "text/plain": [
       "{'data': {'target': 'class',\n",
       "  'features': ['checking_status',\n",
       "   'credit_history',\n",
       "   'personal_status',\n",
       "   'existing_credits',\n",
       "   'age',\n",
       "   'credit_amount']},\n",
       " 'model': {'type': 'glm', 'family': 'binomial'},\n",
       " 'decision': {'threshold': 0.35,\n",
       "  'new_data': {'features': ['checking_status',\n",
       "    'credit_history',\n",
       "    'personal_status',\n",
       "    'existing_credits',\n",
       "    'age',\n",
       "    'credit_amount'],\n",
       "   'values': ['<0', \"'existing paid'\", \"'male mar/wid'\", 1, 45, 3893]}}}"
      ]
     },
     "execution_count": 21,
     "metadata": {},
     "output_type": "execute_result"
    }
   ],
   "source": [
    "data"
   ]
  },
  {
   "cell_type": "markdown",
   "id": "41d426d7-0173-4c0c-9c1d-c7b2e88e50d0",
   "metadata": {},
   "source": [
    "El fichero *yaml* es leído como un *diccionario* de forma que se puede iterar sobre él."
   ]
  },
  {
   "cell_type": "markdown",
   "id": "55d32ac3-7f08-44ab-9aeb-5d0b6fe70b8f",
   "metadata": {},
   "source": [
    "- Manipulación del fichero"
   ]
  },
  {
   "cell_type": "code",
   "execution_count": 22,
   "id": "d64af52d-9386-4596-8c3f-261f2c5d7ca0",
   "metadata": {
    "tags": []
   },
   "outputs": [
    {
     "data": {
      "text/plain": [
       "dict_keys(['data', 'model', 'decision'])"
      ]
     },
     "execution_count": 22,
     "metadata": {},
     "output_type": "execute_result"
    }
   ],
   "source": [
    "data.keys()"
   ]
  },
  {
   "cell_type": "code",
   "execution_count": 23,
   "id": "ff40ce21-6d85-4763-a5d5-76b6efd9ebae",
   "metadata": {
    "tags": []
   },
   "outputs": [
    {
     "data": {
      "text/plain": [
       "dict_values([{'target': 'class', 'features': ['checking_status', 'credit_history', 'personal_status', 'existing_credits', 'age', 'credit_amount']}, {'type': 'glm', 'family': 'binomial'}, {'threshold': 0.35, 'new_data': {'features': ['checking_status', 'credit_history', 'personal_status', 'existing_credits', 'age', 'credit_amount'], 'values': ['<0', \"'existing paid'\", \"'male mar/wid'\", 1, 45, 3893]}}])"
      ]
     },
     "execution_count": 23,
     "metadata": {},
     "output_type": "execute_result"
    }
   ],
   "source": [
    "data.values()"
   ]
  },
  {
   "cell_type": "code",
   "execution_count": 24,
   "id": "faeecb89-8a80-42a0-b7fd-7cfb7a6f6744",
   "metadata": {
    "tags": []
   },
   "outputs": [
    {
     "data": {
      "text/plain": [
       "{'type': 'glm', 'family': 'binomial'}"
      ]
     },
     "execution_count": 24,
     "metadata": {},
     "output_type": "execute_result"
    }
   ],
   "source": [
    "data[\"model\"]"
   ]
  },
  {
   "cell_type": "code",
   "execution_count": 25,
   "id": "1baaa8ad-8712-455a-b668-ae0c0dc003c5",
   "metadata": {
    "tags": []
   },
   "outputs": [
    {
     "data": {
      "text/plain": [
       "{'threshold': 0.35,\n",
       " 'new_data': {'features': ['checking_status',\n",
       "   'credit_history',\n",
       "   'personal_status',\n",
       "   'existing_credits',\n",
       "   'age',\n",
       "   'credit_amount'],\n",
       "  'values': ['<0', \"'existing paid'\", \"'male mar/wid'\", 1, 45, 3893]}}"
      ]
     },
     "execution_count": 25,
     "metadata": {},
     "output_type": "execute_result"
    }
   ],
   "source": [
    "data[\"decision\"]"
   ]
  },
  {
   "cell_type": "code",
   "execution_count": 26,
   "id": "59f49b65-396e-42dc-931a-aad7fcab49c4",
   "metadata": {
    "tags": []
   },
   "outputs": [
    {
     "name": "stdout",
     "output_type": "stream",
     "text": [
      "('target', 'class')\n",
      "('features', ['checking_status', 'credit_history', 'personal_status', 'existing_credits', 'age', 'credit_amount'])\n"
     ]
    }
   ],
   "source": [
    "for i in data['data'].items():\n",
    "    print(i)"
   ]
  },
  {
   "cell_type": "markdown",
   "id": "c020316f-eb44-4097-85ae-6692f8387641",
   "metadata": {},
   "source": [
    "#### <font color='green'> Escritura del fichero </font>\n",
    "\n",
    "De igual forma, un *diccionario* se puede guardar como un fichero *yaml*"
   ]
  },
  {
   "cell_type": "code",
   "execution_count": 27,
   "id": "db2827bf-0cf0-4168-8119-fa67ec79a9fb",
   "metadata": {
    "tags": []
   },
   "outputs": [],
   "source": [
    "datos_personales = {'Nombre':'Pablo', 'Apellido':'Sanchez', 'Residencia':'Madrid'}"
   ]
  },
  {
   "cell_type": "code",
   "execution_count": 28,
   "id": "1381e6ee-afac-41d2-9730-63575e26a1e0",
   "metadata": {
    "tags": []
   },
   "outputs": [],
   "source": [
    "with open(os.path.join(path,'datos_personales.yaml'), 'w') as file:\n",
    "    yaml.dump(datos_personales, file)"
   ]
  },
  {
   "cell_type": "markdown",
   "id": "fa7c47a6-8daa-4449-9f83-4b05b284e3f8",
   "metadata": {},
   "source": [
    "## <font color='green'> 2. Numpy </font>\n",
    "\n",
    "Numpy es una librería de fácil manejo y eficiente para el cálculo numérico y matricial."
   ]
  },
  {
   "cell_type": "code",
   "execution_count": 29,
   "id": "c2ea01e4-76ba-435b-9bb9-b0f967cc58d1",
   "metadata": {
    "tags": []
   },
   "outputs": [],
   "source": [
    "import numpy as np\n",
    "\n",
    "from numpy import linalg"
   ]
  },
  {
   "cell_type": "code",
   "execution_count": 30,
   "id": "79b2ba7d-2d00-4df5-92ea-dca4bb8f9a2a",
   "metadata": {
    "tags": []
   },
   "outputs": [
    {
     "name": "stdout",
     "output_type": "stream",
     "text": [
      "Numpy - 1.24.3\n"
     ]
    }
   ],
   "source": [
    "print(f'Numpy - {np.__version__}')"
   ]
  },
  {
   "cell_type": "markdown",
   "id": "d080d355-4d4d-4731-8629-dbe841690252",
   "metadata": {},
   "source": [
    "### <font color='green'> 2.1 Vectores </font>"
   ]
  },
  {
   "cell_type": "markdown",
   "id": "3f6f8d6c-3bba-4715-a2e4-022eb25e200f",
   "metadata": {},
   "source": [
    "- Definición y operaciones básicas"
   ]
  },
  {
   "cell_type": "code",
   "execution_count": 31,
   "id": "55e37f8f-743f-4962-bbc3-819329123218",
   "metadata": {
    "tags": []
   },
   "outputs": [],
   "source": [
    "a = np.array([1,2,-2,4,0,6,7,-3,9])"
   ]
  },
  {
   "cell_type": "code",
   "execution_count": 32,
   "id": "c0a91fff-9cf9-49c1-a385-076fd0687f52",
   "metadata": {
    "tags": []
   },
   "outputs": [
    {
     "data": {
      "text/plain": [
       "numpy.ndarray"
      ]
     },
     "execution_count": 32,
     "metadata": {},
     "output_type": "execute_result"
    }
   ],
   "source": [
    "type(a)"
   ]
  },
  {
   "cell_type": "code",
   "execution_count": 33,
   "id": "df719cdd-581d-432a-ac74-4cee17cbdc92",
   "metadata": {
    "tags": []
   },
   "outputs": [
    {
     "data": {
      "text/plain": [
       "(9,)"
      ]
     },
     "execution_count": 33,
     "metadata": {},
     "output_type": "execute_result"
    }
   ],
   "source": [
    "a.shape # tamaño del array"
   ]
  },
  {
   "cell_type": "code",
   "execution_count": 34,
   "id": "a74d7350-0e47-4e7e-a999-607ab8461264",
   "metadata": {
    "tags": []
   },
   "outputs": [
    {
     "name": "stdout",
     "output_type": "stream",
     "text": [
      "El elemento más grande del vector es: 9\n"
     ]
    }
   ],
   "source": [
    "print(f'El elemento más grande del vector es: {np.max(a)}')"
   ]
  },
  {
   "cell_type": "code",
   "execution_count": 35,
   "id": "d1175800-3e33-4783-927a-5f6d3cec18bd",
   "metadata": {
    "tags": []
   },
   "outputs": [
    {
     "name": "stdout",
     "output_type": "stream",
     "text": [
      "El elemento más pequeño del vector es: -3\n"
     ]
    }
   ],
   "source": [
    "print(f'El elemento más pequeño del vector es: {np.min(a)}')"
   ]
  },
  {
   "cell_type": "code",
   "execution_count": 36,
   "id": "40ec1d16-d10d-4069-9ec1-dd19106946ca",
   "metadata": {
    "tags": []
   },
   "outputs": [
    {
     "name": "stdout",
     "output_type": "stream",
     "text": [
      "Suma de los elementos del vector: 24\n"
     ]
    }
   ],
   "source": [
    "print(f'Suma de los elementos del vector: {np.sum(a)}')"
   ]
  },
  {
   "cell_type": "code",
   "execution_count": 37,
   "id": "e1c98c8c-3f41-4edb-abb7-227aaf630fd4",
   "metadata": {
    "tags": []
   },
   "outputs": [
    {
     "name": "stdout",
     "output_type": "stream",
     "text": [
      "El vector A tiene media 2.6666666666666665 y desviación estandar 3.8873012632302\n"
     ]
    }
   ],
   "source": [
    "print(f'El vector A tiene media {np.mean(a)} y desviación estandar {np.std(a)}')"
   ]
  },
  {
   "cell_type": "markdown",
   "id": "6ac7cb15-5a25-4df8-998f-8190b2a402fb",
   "metadata": {},
   "source": [
    "- Vector de *unos* y de *ceros*"
   ]
  },
  {
   "cell_type": "code",
   "execution_count": 38,
   "id": "26b80f7b-ca8d-46ec-8db3-eb9c1b1f6192",
   "metadata": {
    "tags": []
   },
   "outputs": [
    {
     "data": {
      "text/plain": [
       "array([1., 1., 1., 1., 1., 1., 1., 1., 1.])"
      ]
     },
     "execution_count": 38,
     "metadata": {},
     "output_type": "execute_result"
    }
   ],
   "source": [
    "np.ones(9)"
   ]
  },
  {
   "cell_type": "code",
   "execution_count": 39,
   "id": "33b9457c-a98e-42f2-a3df-af5c384918ed",
   "metadata": {
    "tags": []
   },
   "outputs": [
    {
     "data": {
      "text/plain": [
       "array([0., 0., 0., 0., 0., 0., 0., 0., 0.])"
      ]
     },
     "execution_count": 39,
     "metadata": {},
     "output_type": "execute_result"
    }
   ],
   "source": [
    "np.zeros(9)"
   ]
  },
  {
   "cell_type": "markdown",
   "id": "9aea6106-c748-4145-9ded-322e56c97879",
   "metadata": {},
   "source": [
    "- Uso de las funciones **arange** y **linespace**"
   ]
  },
  {
   "cell_type": "code",
   "execution_count": 40,
   "id": "94d3bd56-81e0-41cf-b8bc-b5ca62eed5a1",
   "metadata": {
    "tags": []
   },
   "outputs": [
    {
     "data": {
      "text/plain": [
       "array([1, 2, 3, 4, 5, 6, 7, 8, 9])"
      ]
     },
     "execution_count": 40,
     "metadata": {},
     "output_type": "execute_result"
    }
   ],
   "source": [
    "b = np.arange(start=1, stop=10, step=1)\n",
    "b"
   ]
  },
  {
   "cell_type": "code",
   "execution_count": 41,
   "id": "c98048e2-c8ba-4689-b92c-0975ff9d6251",
   "metadata": {
    "tags": []
   },
   "outputs": [
    {
     "data": {
      "text/plain": [
       "(9,)"
      ]
     },
     "execution_count": 41,
     "metadata": {},
     "output_type": "execute_result"
    }
   ],
   "source": [
    "b.shape"
   ]
  },
  {
   "cell_type": "code",
   "execution_count": 42,
   "id": "9dfebe7f-1add-48b1-a71b-7fcb003968d8",
   "metadata": {
    "jp-MarkdownHeadingCollapsed": true,
    "tags": []
   },
   "outputs": [
    {
     "data": {
      "text/plain": [
       "array([0.        , 0.55555556, 1.11111111, 1.66666667, 2.22222222,\n",
       "       2.77777778, 3.33333333, 3.88888889, 4.44444444, 5.        ])"
      ]
     },
     "execution_count": 42,
     "metadata": {},
     "output_type": "execute_result"
    }
   ],
   "source": [
    "c = np.linspace(start= 0, stop= 5, num= 10)\n",
    "c"
   ]
  },
  {
   "cell_type": "code",
   "execution_count": 43,
   "id": "1b343c6a-cd4a-4598-9995-989269cdc2e6",
   "metadata": {
    "tags": []
   },
   "outputs": [
    {
     "data": {
      "text/plain": [
       "(10,)"
      ]
     },
     "execution_count": 43,
     "metadata": {},
     "output_type": "execute_result"
    }
   ],
   "source": [
    "c.shape"
   ]
  },
  {
   "cell_type": "code",
   "execution_count": 44,
   "id": "177720e3-46b1-4fbd-80ca-cefde72b05fb",
   "metadata": {
    "tags": []
   },
   "outputs": [
    {
     "data": {
      "text/plain": [
       "array([0., 1., 1., 2., 2., 3., 3., 4., 4., 5.])"
      ]
     },
     "execution_count": 44,
     "metadata": {},
     "output_type": "execute_result"
    }
   ],
   "source": [
    "np.round(c, 0) # redondear un vector"
   ]
  },
  {
   "cell_type": "markdown",
   "id": "825df609-a2f1-41f1-b8e4-bd48c9e758e9",
   "metadata": {},
   "source": [
    "- Operaciones con vectores"
   ]
  },
  {
   "cell_type": "code",
   "execution_count": 45,
   "id": "8dfc0542-6c13-4702-8ece-6ee5161c1ab7",
   "metadata": {
    "tags": []
   },
   "outputs": [
    {
     "data": {
      "text/plain": [
       "False"
      ]
     },
     "execution_count": 45,
     "metadata": {},
     "output_type": "execute_result"
    }
   ],
   "source": [
    "a[3]<2"
   ]
  },
  {
   "cell_type": "code",
   "execution_count": 46,
   "id": "d05e9e5b-061e-434d-9d8f-c07df465c240",
   "metadata": {
    "tags": []
   },
   "outputs": [
    {
     "data": {
      "text/plain": [
       "array([ 3,  6, -6, 12,  0, 18, 21, -9, 27])"
      ]
     },
     "execution_count": 46,
     "metadata": {},
     "output_type": "execute_result"
    }
   ],
   "source": [
    "3*a"
   ]
  },
  {
   "cell_type": "code",
   "execution_count": 47,
   "id": "e5ecb3da-5eb7-4198-84ee-4bc34fc9ffb5",
   "metadata": {
    "tags": []
   },
   "outputs": [
    {
     "data": {
      "text/plain": [
       "array([ 4,  5,  1,  7,  3,  9, 10,  0, 12])"
      ]
     },
     "execution_count": 47,
     "metadata": {},
     "output_type": "execute_result"
    }
   ],
   "source": [
    "3+a"
   ]
  },
  {
   "cell_type": "code",
   "execution_count": 48,
   "id": "cafff5e2-a6d1-4471-8dec-5ba9781c76cb",
   "metadata": {
    "tags": []
   },
   "outputs": [
    {
     "data": {
      "text/plain": [
       "array([ 2,  4,  1,  8,  5, 12, 14,  5, 18])"
      ]
     },
     "execution_count": 48,
     "metadata": {},
     "output_type": "execute_result"
    }
   ],
   "source": [
    "a+b"
   ]
  },
  {
   "cell_type": "code",
   "execution_count": 49,
   "id": "9844a5d8-448a-4ffc-bc49-46ae2b23949b",
   "metadata": {
    "tags": []
   },
   "outputs": [
    {
     "data": {
      "text/plain": [
       "array([  1,   4,  -6,  16,   0,  36,  49, -24,  81])"
      ]
     },
     "execution_count": 49,
     "metadata": {},
     "output_type": "execute_result"
    }
   ],
   "source": [
    "a*b"
   ]
  },
  {
   "cell_type": "code",
   "execution_count": 50,
   "id": "3df66587-ce6a-42aa-9ff3-3719c1d33e4b",
   "metadata": {
    "tags": []
   },
   "outputs": [
    {
     "data": {
      "text/plain": [
       "array([ 1.        ,  1.        , -0.66666667,  1.        ,  0.        ,\n",
       "        1.        ,  1.        , -0.375     ,  1.        ])"
      ]
     },
     "execution_count": 50,
     "metadata": {},
     "output_type": "execute_result"
    }
   ],
   "source": [
    "a/b"
   ]
  },
  {
   "cell_type": "markdown",
   "id": "18a116fb-f03a-45c0-a1a2-e2ce2005af66",
   "metadata": {},
   "source": [
    "### <font color='green'> 2.2 Matrices </font>"
   ]
  },
  {
   "cell_type": "code",
   "execution_count": 51,
   "id": "95f62ace-e746-418e-bd09-e8d351b4038c",
   "metadata": {
    "tags": []
   },
   "outputs": [],
   "source": [
    "matriz = np.array([[1,2], [5,6]], dtype=float)"
   ]
  },
  {
   "cell_type": "code",
   "execution_count": 52,
   "id": "bf27a527-82f9-4a93-92b8-a45b154aa417",
   "metadata": {
    "tags": []
   },
   "outputs": [
    {
     "data": {
      "text/plain": [
       "array([[1., 2.],\n",
       "       [5., 6.]])"
      ]
     },
     "execution_count": 52,
     "metadata": {},
     "output_type": "execute_result"
    }
   ],
   "source": [
    "matriz"
   ]
  },
  {
   "cell_type": "code",
   "execution_count": 53,
   "id": "23049e09-b626-48cb-8eed-b2382f556035",
   "metadata": {
    "tags": []
   },
   "outputs": [
    {
     "data": {
      "text/plain": [
       "numpy.ndarray"
      ]
     },
     "execution_count": 53,
     "metadata": {},
     "output_type": "execute_result"
    }
   ],
   "source": [
    "type(matriz)"
   ]
  },
  {
   "cell_type": "code",
   "execution_count": 54,
   "id": "f0756531-4590-4b01-99c8-2cfe667b9657",
   "metadata": {
    "tags": []
   },
   "outputs": [
    {
     "data": {
      "text/plain": [
       "(2, 2)"
      ]
     },
     "execution_count": 54,
     "metadata": {},
     "output_type": "execute_result"
    }
   ],
   "source": [
    "matriz.shape"
   ]
  },
  {
   "cell_type": "code",
   "execution_count": 55,
   "id": "1b0f7c2a-a460-4387-a6dc-97d3aee2638f",
   "metadata": {
    "tags": []
   },
   "outputs": [
    {
     "data": {
      "text/plain": [
       "array([[1., 5.],\n",
       "       [2., 6.]])"
      ]
     },
     "execution_count": 55,
     "metadata": {},
     "output_type": "execute_result"
    }
   ],
   "source": [
    "matriz.T # matriz transpuesta"
   ]
  },
  {
   "cell_type": "code",
   "execution_count": 56,
   "id": "bc7c4c82-9ff9-4403-ade0-bc002f91fa5b",
   "metadata": {
    "tags": []
   },
   "outputs": [
    {
     "data": {
      "text/plain": [
       "array([[26., 32.],\n",
       "       [32., 40.]])"
      ]
     },
     "execution_count": 56,
     "metadata": {},
     "output_type": "execute_result"
    }
   ],
   "source": [
    "np.dot(matriz.T, matriz) # producto matricial "
   ]
  },
  {
   "cell_type": "code",
   "execution_count": 57,
   "id": "d365b47c-a871-4d13-9193-2348fdaf6ec2",
   "metadata": {
    "tags": []
   },
   "outputs": [
    {
     "data": {
      "text/plain": [
       "-3.999999999999999"
      ]
     },
     "execution_count": 57,
     "metadata": {},
     "output_type": "execute_result"
    }
   ],
   "source": [
    "linalg.det(matriz) # determinante de la matriz\n",
    "\n",
    "# np.linalg.det(matriz)"
   ]
  },
  {
   "cell_type": "code",
   "execution_count": 58,
   "id": "e9bce219-3b4d-499b-8394-dbbfccc78e25",
   "metadata": {
    "tags": []
   },
   "outputs": [
    {
     "data": {
      "text/plain": [
       "array([-0.53112887,  7.53112887])"
      ]
     },
     "execution_count": 58,
     "metadata": {},
     "output_type": "execute_result"
    }
   ],
   "source": [
    "linalg.eigvals(matriz) # valores propios de la matriz\n",
    "\n",
    "# np.linalg.eigvals(matriz)"
   ]
  },
  {
   "cell_type": "markdown",
   "id": "fee4ecbd-e972-45a8-b7ad-adb74b70d53f",
   "metadata": {},
   "source": [
    "### <font color='green'> 2.3 Otras acciones </font>"
   ]
  },
  {
   "cell_type": "markdown",
   "id": "407eaa32-8151-4a82-bc9c-69a9be763073",
   "metadata": {},
   "source": [
    "- Concatenar vectores y matrices"
   ]
  },
  {
   "cell_type": "code",
   "execution_count": 59,
   "id": "edbeb054-fcaa-4613-95b3-6db6ae6dd077",
   "metadata": {
    "tags": []
   },
   "outputs": [
    {
     "data": {
      "text/plain": [
       "array([ 1.4,  2.3,  3.3,  6.9, 11. ])"
      ]
     },
     "execution_count": 59,
     "metadata": {},
     "output_type": "execute_result"
    }
   ],
   "source": [
    "v1 = np.array([1.4, 2.3, 3.3, 6.9, 11.0])\n",
    "\n",
    "v1"
   ]
  },
  {
   "cell_type": "code",
   "execution_count": 60,
   "id": "f5e2c4ba-7b6e-4fcf-951a-1dee6a4eec2b",
   "metadata": {
    "tags": []
   },
   "outputs": [
    {
     "data": {
      "text/plain": [
       "array([4.1 , 3.2 , 3.3 , 9.6 , 0.11])"
      ]
     },
     "execution_count": 60,
     "metadata": {},
     "output_type": "execute_result"
    }
   ],
   "source": [
    "v2 = np.array([4.1, 3.2, 3.3, 9.6, 0.11])\n",
    "\n",
    "v2"
   ]
  },
  {
   "cell_type": "code",
   "execution_count": 61,
   "id": "9d434046-4671-48c4-aedb-23706976e38d",
   "metadata": {
    "tags": []
   },
   "outputs": [
    {
     "data": {
      "text/plain": [
       "array([ 1.4 ,  2.3 ,  3.3 ,  6.9 , 11.  ,  4.1 ,  3.2 ,  3.3 ,  9.6 ,\n",
       "        0.11])"
      ]
     },
     "execution_count": 61,
     "metadata": {},
     "output_type": "execute_result"
    }
   ],
   "source": [
    "np.concatenate((v1, v2), axis=0)"
   ]
  },
  {
   "cell_type": "code",
   "execution_count": 62,
   "id": "34e76ea6-6b0c-4e6c-a850-406bef98c704",
   "metadata": {
    "tags": []
   },
   "outputs": [
    {
     "data": {
      "text/plain": [
       "array([[5., 4., 0.],\n",
       "       [6., 2., 9.]])"
      ]
     },
     "execution_count": 62,
     "metadata": {},
     "output_type": "execute_result"
    }
   ],
   "source": [
    "m1 = np.array([[5,4,0], [6,2,9]], dtype=float)\n",
    "\n",
    "m1"
   ]
  },
  {
   "cell_type": "code",
   "execution_count": 63,
   "id": "bab2bede-426a-40ad-8ecb-f82ea19e3de8",
   "metadata": {
    "tags": []
   },
   "outputs": [
    {
     "data": {
      "text/plain": [
       "array([[2, 1],\n",
       "       [0, 3],\n",
       "       [4, 1]])"
      ]
     },
     "execution_count": 63,
     "metadata": {},
     "output_type": "execute_result"
    }
   ],
   "source": [
    "m2 = np.array([[2,1], [0, 3], [4,1]])\n",
    "\n",
    "m2"
   ]
  },
  {
   "cell_type": "code",
   "execution_count": 64,
   "id": "fa4f6208-e368-4fcf-86b4-501cde4f765d",
   "metadata": {
    "tags": []
   },
   "outputs": [
    {
     "data": {
      "text/plain": [
       "array([[5., 4., 0.],\n",
       "       [6., 2., 9.],\n",
       "       [2., 0., 4.],\n",
       "       [1., 3., 1.]])"
      ]
     },
     "execution_count": 64,
     "metadata": {},
     "output_type": "execute_result"
    }
   ],
   "source": [
    "np.concatenate((m1, m2.T), axis=0)"
   ]
  },
  {
   "cell_type": "code",
   "execution_count": 65,
   "id": "1e95aac5-df4f-4263-95c8-0b3a3b1b1e79",
   "metadata": {
    "tags": []
   },
   "outputs": [
    {
     "data": {
      "text/plain": [
       "array([[5., 4., 0., 2., 0., 4.],\n",
       "       [6., 2., 9., 1., 3., 1.]])"
      ]
     },
     "execution_count": 65,
     "metadata": {},
     "output_type": "execute_result"
    }
   ],
   "source": [
    "np.concatenate((m1, m2.T), axis=1)"
   ]
  },
  {
   "cell_type": "markdown",
   "id": "f8bf2305-6cde-4368-ac7b-28e79e2eb2ad",
   "metadata": {},
   "source": [
    "- Redefinir el tamaño de un vector"
   ]
  },
  {
   "cell_type": "code",
   "execution_count": 66,
   "id": "147002c1-63bf-45d4-8539-c79a9b558a41",
   "metadata": {
    "tags": []
   },
   "outputs": [
    {
     "data": {
      "text/plain": [
       "array([ 1,  2, -2,  4,  0,  6,  7, -3,  9])"
      ]
     },
     "execution_count": 66,
     "metadata": {},
     "output_type": "execute_result"
    }
   ],
   "source": [
    "a"
   ]
  },
  {
   "cell_type": "code",
   "execution_count": 67,
   "id": "b3237f04-c573-4ab9-87cd-a509a8f53fae",
   "metadata": {
    "tags": []
   },
   "outputs": [
    {
     "data": {
      "text/plain": [
       "(9,)"
      ]
     },
     "execution_count": 67,
     "metadata": {},
     "output_type": "execute_result"
    }
   ],
   "source": [
    "a.shape"
   ]
  },
  {
   "cell_type": "code",
   "execution_count": 68,
   "id": "60c17b3b-4ba7-45c4-8ee6-390255068d9a",
   "metadata": {
    "tags": []
   },
   "outputs": [],
   "source": [
    "a1 = np.reshape(a, (-1,1)) # de gran utilidad para trabajar con data.frames"
   ]
  },
  {
   "cell_type": "code",
   "execution_count": 69,
   "id": "3db966a0-f0f9-4501-92c1-d3776513585c",
   "metadata": {
    "tags": []
   },
   "outputs": [
    {
     "data": {
      "text/plain": [
       "array([[ 1],\n",
       "       [ 2],\n",
       "       [-2],\n",
       "       [ 4],\n",
       "       [ 0],\n",
       "       [ 6],\n",
       "       [ 7],\n",
       "       [-3],\n",
       "       [ 9]])"
      ]
     },
     "execution_count": 69,
     "metadata": {},
     "output_type": "execute_result"
    }
   ],
   "source": [
    "a1"
   ]
  },
  {
   "cell_type": "code",
   "execution_count": 70,
   "id": "a49816ad-5573-4468-b1d2-a34f90a37bd1",
   "metadata": {
    "tags": []
   },
   "outputs": [
    {
     "data": {
      "text/plain": [
       "(9, 1)"
      ]
     },
     "execution_count": 70,
     "metadata": {},
     "output_type": "execute_result"
    }
   ],
   "source": [
    "a1.shape"
   ]
  },
  {
   "cell_type": "code",
   "execution_count": 71,
   "id": "1f4d3895-f4ab-4f19-92d2-c9c0b64d6d76",
   "metadata": {
    "tags": []
   },
   "outputs": [],
   "source": [
    "a2 = np.reshape(a, (1,-1)) # no tiene mucho uso"
   ]
  },
  {
   "cell_type": "code",
   "execution_count": 72,
   "id": "1f8883f2-477e-41b4-aeaa-3469bfbac465",
   "metadata": {
    "tags": []
   },
   "outputs": [
    {
     "data": {
      "text/plain": [
       "array([[ 1,  2, -2,  4,  0,  6,  7, -3,  9]])"
      ]
     },
     "execution_count": 72,
     "metadata": {},
     "output_type": "execute_result"
    }
   ],
   "source": [
    "a2 "
   ]
  },
  {
   "cell_type": "code",
   "execution_count": 73,
   "id": "5f81b288-c332-4a98-bbb5-7adea0d7e8f4",
   "metadata": {
    "tags": []
   },
   "outputs": [
    {
     "data": {
      "text/plain": [
       "(1, 9)"
      ]
     },
     "execution_count": 73,
     "metadata": {},
     "output_type": "execute_result"
    }
   ],
   "source": [
    "a2.shape"
   ]
  },
  {
   "cell_type": "markdown",
   "id": "908fcc00-eeae-469a-bc21-92ea88038f9f",
   "metadata": {},
   "source": [
    "## <font color='green'> 3. Pandas </font>\n",
    "\n",
    "Pandas es una librería para análisis y exploración de datos en formato tabla (filas, columnas). Este paquete está construido bajo la librería Numpy"
   ]
  },
  {
   "cell_type": "code",
   "execution_count": 74,
   "id": "9bdf2272-3f7d-438c-8ed5-85390b9a9737",
   "metadata": {
    "tags": []
   },
   "outputs": [],
   "source": [
    "import pandas as pd\n",
    "import numpy as np"
   ]
  },
  {
   "cell_type": "code",
   "execution_count": 75,
   "id": "12f601b6-ebce-4f05-9f44-c526a6c0ee01",
   "metadata": {
    "tags": []
   },
   "outputs": [
    {
     "name": "stdout",
     "output_type": "stream",
     "text": [
      "Pandas - 1.5.3\n",
      "Numpy - 1.24.3\n"
     ]
    }
   ],
   "source": [
    "print(f'Pandas - {pd.__version__}')\n",
    "print(f'Numpy - {np.__version__}')"
   ]
  },
  {
   "cell_type": "markdown",
   "id": "34211513-44e9-4c57-acc6-a7f6ae6e74ad",
   "metadata": {},
   "source": [
    "### <font color='green'> 3.1 DataFrames </font>"
   ]
  },
  {
   "cell_type": "code",
   "execution_count": 76,
   "id": "2f20452f-6abf-46b1-9c56-bd65f00f68e8",
   "metadata": {
    "tags": []
   },
   "outputs": [
    {
     "data": {
      "text/html": [
       "<div>\n",
       "<style scoped>\n",
       "    .dataframe tbody tr th:only-of-type {\n",
       "        vertical-align: middle;\n",
       "    }\n",
       "\n",
       "    .dataframe tbody tr th {\n",
       "        vertical-align: top;\n",
       "    }\n",
       "\n",
       "    .dataframe thead th {\n",
       "        text-align: right;\n",
       "    }\n",
       "</style>\n",
       "<table border=\"1\" class=\"dataframe\">\n",
       "  <thead>\n",
       "    <tr style=\"text-align: right;\">\n",
       "      <th></th>\n",
       "      <th>NOMBRE</th>\n",
       "      <th>EDAD</th>\n",
       "      <th>CIUDAD</th>\n",
       "      <th>EDUCACION</th>\n",
       "    </tr>\n",
       "  </thead>\n",
       "  <tbody>\n",
       "    <tr>\n",
       "      <th>0</th>\n",
       "      <td>Pablo</td>\n",
       "      <td>26</td>\n",
       "      <td>Avila</td>\n",
       "      <td>Universitaria</td>\n",
       "    </tr>\n",
       "    <tr>\n",
       "      <th>1</th>\n",
       "      <td>Luis</td>\n",
       "      <td>30</td>\n",
       "      <td>Madrid</td>\n",
       "      <td>Elemental</td>\n",
       "    </tr>\n",
       "    <tr>\n",
       "      <th>2</th>\n",
       "      <td>Hector</td>\n",
       "      <td>34</td>\n",
       "      <td>Santander</td>\n",
       "      <td>Universitaria</td>\n",
       "    </tr>\n",
       "    <tr>\n",
       "      <th>3</th>\n",
       "      <td>Maria</td>\n",
       "      <td>43</td>\n",
       "      <td>Cordoba</td>\n",
       "      <td>Bachillerato</td>\n",
       "    </tr>\n",
       "    <tr>\n",
       "      <th>4</th>\n",
       "      <td>Veronica</td>\n",
       "      <td>27</td>\n",
       "      <td>Madrid</td>\n",
       "      <td>Universitaria</td>\n",
       "    </tr>\n",
       "  </tbody>\n",
       "</table>\n",
       "</div>"
      ],
      "text/plain": [
       "     NOMBRE  EDAD     CIUDAD      EDUCACION\n",
       "0     Pablo    26      Avila  Universitaria\n",
       "1      Luis    30     Madrid      Elemental\n",
       "2    Hector    34  Santander  Universitaria\n",
       "3     Maria    43    Cordoba   Bachillerato\n",
       "4  Veronica    27     Madrid  Universitaria"
      ]
     },
     "execution_count": 76,
     "metadata": {},
     "output_type": "execute_result"
    }
   ],
   "source": [
    "diccionario = {'NOMBRE': ['Pablo', 'Luis', 'Hector', 'Maria', 'Veronica'],\n",
    "                'EDAD': [26,30,34,43,27],\n",
    "                'CIUDAD': ['Avila', 'Madrid', 'Santander', 'Cordoba', 'Madrid'],\n",
    "                'EDUCACION': ['Universitaria', 'Elemental', 'Universitaria', 'Bachillerato', 'Universitaria']\n",
    "}\n",
    "\n",
    "df=pd.DataFrame(diccionario)\n",
    "df"
   ]
  },
  {
   "cell_type": "code",
   "execution_count": 77,
   "id": "e116e8db-fc65-4188-9a27-d2a49b91e5b5",
   "metadata": {
    "tags": []
   },
   "outputs": [
    {
     "data": {
      "text/html": [
       "<div>\n",
       "<style scoped>\n",
       "    .dataframe tbody tr th:only-of-type {\n",
       "        vertical-align: middle;\n",
       "    }\n",
       "\n",
       "    .dataframe tbody tr th {\n",
       "        vertical-align: top;\n",
       "    }\n",
       "\n",
       "    .dataframe thead th {\n",
       "        text-align: right;\n",
       "    }\n",
       "</style>\n",
       "<table border=\"1\" class=\"dataframe\">\n",
       "  <thead>\n",
       "    <tr style=\"text-align: right;\">\n",
       "      <th></th>\n",
       "      <th>NOMBRE</th>\n",
       "      <th>EDAD</th>\n",
       "      <th>CIUDAD</th>\n",
       "      <th>EDUCACION</th>\n",
       "    </tr>\n",
       "  </thead>\n",
       "  <tbody>\n",
       "    <tr>\n",
       "      <th>1</th>\n",
       "      <td>Pablo</td>\n",
       "      <td>26</td>\n",
       "      <td>Avila</td>\n",
       "      <td>Universitaria</td>\n",
       "    </tr>\n",
       "    <tr>\n",
       "      <th>2</th>\n",
       "      <td>Luis</td>\n",
       "      <td>30</td>\n",
       "      <td>Madrid</td>\n",
       "      <td>Elemental</td>\n",
       "    </tr>\n",
       "    <tr>\n",
       "      <th>3</th>\n",
       "      <td>Hector</td>\n",
       "      <td>34</td>\n",
       "      <td>Santander</td>\n",
       "      <td>Universitaria</td>\n",
       "    </tr>\n",
       "    <tr>\n",
       "      <th>4</th>\n",
       "      <td>Maria</td>\n",
       "      <td>43</td>\n",
       "      <td>Cordoba</td>\n",
       "      <td>Bachillerato</td>\n",
       "    </tr>\n",
       "    <tr>\n",
       "      <th>5</th>\n",
       "      <td>Veronica</td>\n",
       "      <td>27</td>\n",
       "      <td>Madrid</td>\n",
       "      <td>Universitaria</td>\n",
       "    </tr>\n",
       "  </tbody>\n",
       "</table>\n",
       "</div>"
      ],
      "text/plain": [
       "     NOMBRE EDAD     CIUDAD      EDUCACION\n",
       "1     Pablo   26      Avila  Universitaria\n",
       "2      Luis   30     Madrid      Elemental\n",
       "3    Hector   34  Santander  Universitaria\n",
       "4     Maria   43    Cordoba   Bachillerato\n",
       "5  Veronica   27     Madrid  Universitaria"
      ]
     },
     "execution_count": 77,
     "metadata": {},
     "output_type": "execute_result"
    }
   ],
   "source": [
    "matriz = np.array([('Pablo','Luis', 'Hector', 'Maria', 'Veronica'),\n",
    "              (26, 30, 34, 43, 27),\n",
    "              ('Avila', 'Madrid', 'Santander', 'Cordoba', 'Madrid'),\n",
    "              ('Universitaria', 'Elemental', 'Universitaria', 'Bachillerato', 'Universitaria')])\n",
    "\n",
    "pd.DataFrame(matriz.T, \n",
    "             columns=['NOMBRE', 'EDAD', 'CIUDAD', 'EDUCACION'], \n",
    "             index=np.arange(start=1, stop=len(matriz[0])+1))"
   ]
  },
  {
   "cell_type": "code",
   "execution_count": 78,
   "id": "5e994b44-4998-42c7-b827-d32c98354eb9",
   "metadata": {
    "tags": []
   },
   "outputs": [
    {
     "data": {
      "text/plain": [
       "(5, 4)"
      ]
     },
     "execution_count": 78,
     "metadata": {},
     "output_type": "execute_result"
    }
   ],
   "source": [
    "df.shape"
   ]
  },
  {
   "cell_type": "code",
   "execution_count": 79,
   "id": "171df744-ef15-44ef-8ed6-0d86d5e868d2",
   "metadata": {
    "tags": []
   },
   "outputs": [
    {
     "name": "stdout",
     "output_type": "stream",
     "text": [
      "Filas: 5\n",
      "Columnas: 4\n"
     ]
    }
   ],
   "source": [
    "print(f'Filas: {df.shape[0]}')\n",
    "print(f'Columnas: {df.shape[1]}')"
   ]
  },
  {
   "cell_type": "code",
   "execution_count": 80,
   "id": "4014eb69-ffca-4992-a59a-aa1a542731f7",
   "metadata": {
    "tags": []
   },
   "outputs": [
    {
     "data": {
      "text/plain": [
       "Index(['NOMBRE', 'EDAD', 'CIUDAD', 'EDUCACION'], dtype='object')"
      ]
     },
     "execution_count": 80,
     "metadata": {},
     "output_type": "execute_result"
    }
   ],
   "source": [
    "df.columns"
   ]
  },
  {
   "cell_type": "code",
   "execution_count": 81,
   "id": "1978ce92-3a01-44ff-ad56-691f5809f110",
   "metadata": {
    "tags": []
   },
   "outputs": [
    {
     "name": "stdout",
     "output_type": "stream",
     "text": [
      "<class 'pandas.core.frame.DataFrame'>\n",
      "RangeIndex: 5 entries, 0 to 4\n",
      "Data columns (total 4 columns):\n",
      " #   Column     Non-Null Count  Dtype \n",
      "---  ------     --------------  ----- \n",
      " 0   NOMBRE     5 non-null      object\n",
      " 1   EDAD       5 non-null      int64 \n",
      " 2   CIUDAD     5 non-null      object\n",
      " 3   EDUCACION  5 non-null      object\n",
      "dtypes: int64(1), object(3)\n",
      "memory usage: 292.0+ bytes\n"
     ]
    }
   ],
   "source": [
    "df.info()"
   ]
  },
  {
   "cell_type": "code",
   "execution_count": 82,
   "id": "5b1ef8b4-47bd-4548-a845-0da0f01cb759",
   "metadata": {
    "tags": []
   },
   "outputs": [
    {
     "data": {
      "text/html": [
       "<div>\n",
       "<style scoped>\n",
       "    .dataframe tbody tr th:only-of-type {\n",
       "        vertical-align: middle;\n",
       "    }\n",
       "\n",
       "    .dataframe tbody tr th {\n",
       "        vertical-align: top;\n",
       "    }\n",
       "\n",
       "    .dataframe thead th {\n",
       "        text-align: right;\n",
       "    }\n",
       "</style>\n",
       "<table border=\"1\" class=\"dataframe\">\n",
       "  <thead>\n",
       "    <tr style=\"text-align: right;\">\n",
       "      <th></th>\n",
       "      <th>EDAD</th>\n",
       "    </tr>\n",
       "  </thead>\n",
       "  <tbody>\n",
       "    <tr>\n",
       "      <th>count</th>\n",
       "      <td>5.000000</td>\n",
       "    </tr>\n",
       "    <tr>\n",
       "      <th>mean</th>\n",
       "      <td>32.000000</td>\n",
       "    </tr>\n",
       "    <tr>\n",
       "      <th>std</th>\n",
       "      <td>6.892024</td>\n",
       "    </tr>\n",
       "    <tr>\n",
       "      <th>min</th>\n",
       "      <td>26.000000</td>\n",
       "    </tr>\n",
       "    <tr>\n",
       "      <th>25%</th>\n",
       "      <td>27.000000</td>\n",
       "    </tr>\n",
       "    <tr>\n",
       "      <th>50%</th>\n",
       "      <td>30.000000</td>\n",
       "    </tr>\n",
       "    <tr>\n",
       "      <th>75%</th>\n",
       "      <td>34.000000</td>\n",
       "    </tr>\n",
       "    <tr>\n",
       "      <th>max</th>\n",
       "      <td>43.000000</td>\n",
       "    </tr>\n",
       "  </tbody>\n",
       "</table>\n",
       "</div>"
      ],
      "text/plain": [
       "            EDAD\n",
       "count   5.000000\n",
       "mean   32.000000\n",
       "std     6.892024\n",
       "min    26.000000\n",
       "25%    27.000000\n",
       "50%    30.000000\n",
       "75%    34.000000\n",
       "max    43.000000"
      ]
     },
     "execution_count": 82,
     "metadata": {},
     "output_type": "execute_result"
    }
   ],
   "source": [
    "df.describe()"
   ]
  },
  {
   "cell_type": "markdown",
   "id": "fa7ad2bc-aaf0-45f1-8f21-7b8122b4d7dd",
   "metadata": {},
   "source": [
    "### <font color='green'> 3.2 Importar y Exportar ficheros </font>\n",
    "\n",
    "\n",
    "Un fichero puede ser guardado en distintos formatos (Excel, CSV, Text, HDFS, json, Pickle, SQL, SAS, SPSS,...). Se presenta como ejemplo la importación de un fichero en formato CSV; si bien, *Pandas* permite la importación desde diferentes formatos a partir de una sintaxis análoga: \n",
    "    \n",
    "https://pandas.pydata.org/pandas-docs/stable/reference/io.html"
   ]
  },
  {
   "cell_type": "code",
   "execution_count": 83,
   "id": "32e7302f-5678-4bec-a9c0-2dfd06b0d8f3",
   "metadata": {
    "tags": []
   },
   "outputs": [],
   "source": [
    "iris = pd.read_csv(\"iris.csv\") # tener en cuenta la ruta del fichero"
   ]
  },
  {
   "cell_type": "code",
   "execution_count": 84,
   "id": "59155565-4078-49ca-8dde-09f5681ab5d5",
   "metadata": {
    "tags": []
   },
   "outputs": [
    {
     "data": {
      "text/plain": [
       "pandas.core.frame.DataFrame"
      ]
     },
     "execution_count": 84,
     "metadata": {},
     "output_type": "execute_result"
    }
   ],
   "source": [
    "type(iris)"
   ]
  },
  {
   "cell_type": "code",
   "execution_count": 85,
   "id": "d84e5fe3-2658-46bd-afeb-38c131cfd2f8",
   "metadata": {
    "tags": []
   },
   "outputs": [
    {
     "data": {
      "text/html": [
       "<div>\n",
       "<style scoped>\n",
       "    .dataframe tbody tr th:only-of-type {\n",
       "        vertical-align: middle;\n",
       "    }\n",
       "\n",
       "    .dataframe tbody tr th {\n",
       "        vertical-align: top;\n",
       "    }\n",
       "\n",
       "    .dataframe thead th {\n",
       "        text-align: right;\n",
       "    }\n",
       "</style>\n",
       "<table border=\"1\" class=\"dataframe\">\n",
       "  <thead>\n",
       "    <tr style=\"text-align: right;\">\n",
       "      <th></th>\n",
       "      <th>Id</th>\n",
       "      <th>SepalLengthCm</th>\n",
       "      <th>SepalWidthCm</th>\n",
       "      <th>PetalLengthCm</th>\n",
       "      <th>PetalWidthCm</th>\n",
       "      <th>Species</th>\n",
       "    </tr>\n",
       "  </thead>\n",
       "  <tbody>\n",
       "    <tr>\n",
       "      <th>0</th>\n",
       "      <td>1</td>\n",
       "      <td>5.1</td>\n",
       "      <td>3.5</td>\n",
       "      <td>1.4</td>\n",
       "      <td>0.2</td>\n",
       "      <td>Iris-setosa</td>\n",
       "    </tr>\n",
       "    <tr>\n",
       "      <th>1</th>\n",
       "      <td>2</td>\n",
       "      <td>4.9</td>\n",
       "      <td>3.0</td>\n",
       "      <td>1.4</td>\n",
       "      <td>0.2</td>\n",
       "      <td>Iris-setosa</td>\n",
       "    </tr>\n",
       "    <tr>\n",
       "      <th>2</th>\n",
       "      <td>3</td>\n",
       "      <td>4.7</td>\n",
       "      <td>3.2</td>\n",
       "      <td>1.3</td>\n",
       "      <td>0.2</td>\n",
       "      <td>Iris-setosa</td>\n",
       "    </tr>\n",
       "    <tr>\n",
       "      <th>3</th>\n",
       "      <td>4</td>\n",
       "      <td>4.6</td>\n",
       "      <td>3.1</td>\n",
       "      <td>1.5</td>\n",
       "      <td>0.2</td>\n",
       "      <td>Iris-setosa</td>\n",
       "    </tr>\n",
       "    <tr>\n",
       "      <th>4</th>\n",
       "      <td>5</td>\n",
       "      <td>5.0</td>\n",
       "      <td>3.6</td>\n",
       "      <td>1.4</td>\n",
       "      <td>0.2</td>\n",
       "      <td>Iris-setosa</td>\n",
       "    </tr>\n",
       "  </tbody>\n",
       "</table>\n",
       "</div>"
      ],
      "text/plain": [
       "   Id  SepalLengthCm  SepalWidthCm  PetalLengthCm  PetalWidthCm      Species\n",
       "0   1            5.1           3.5            1.4           0.2  Iris-setosa\n",
       "1   2            4.9           3.0            1.4           0.2  Iris-setosa\n",
       "2   3            4.7           3.2            1.3           0.2  Iris-setosa\n",
       "3   4            4.6           3.1            1.5           0.2  Iris-setosa\n",
       "4   5            5.0           3.6            1.4           0.2  Iris-setosa"
      ]
     },
     "execution_count": 85,
     "metadata": {},
     "output_type": "execute_result"
    }
   ],
   "source": [
    "iris.head() # cinco primeros elementos "
   ]
  },
  {
   "cell_type": "code",
   "execution_count": 86,
   "id": "5f8e32db-19f7-44af-b7ea-19bbbb6a486a",
   "metadata": {
    "tags": []
   },
   "outputs": [
    {
     "data": {
      "text/html": [
       "<div>\n",
       "<style scoped>\n",
       "    .dataframe tbody tr th:only-of-type {\n",
       "        vertical-align: middle;\n",
       "    }\n",
       "\n",
       "    .dataframe tbody tr th {\n",
       "        vertical-align: top;\n",
       "    }\n",
       "\n",
       "    .dataframe thead th {\n",
       "        text-align: right;\n",
       "    }\n",
       "</style>\n",
       "<table border=\"1\" class=\"dataframe\">\n",
       "  <thead>\n",
       "    <tr style=\"text-align: right;\">\n",
       "      <th></th>\n",
       "      <th>Id</th>\n",
       "      <th>SepalLengthCm</th>\n",
       "      <th>SepalWidthCm</th>\n",
       "      <th>PetalLengthCm</th>\n",
       "      <th>PetalWidthCm</th>\n",
       "      <th>Species</th>\n",
       "    </tr>\n",
       "  </thead>\n",
       "  <tbody>\n",
       "    <tr>\n",
       "      <th>145</th>\n",
       "      <td>146</td>\n",
       "      <td>6.7</td>\n",
       "      <td>3.0</td>\n",
       "      <td>5.2</td>\n",
       "      <td>2.3</td>\n",
       "      <td>Iris-virginica</td>\n",
       "    </tr>\n",
       "    <tr>\n",
       "      <th>146</th>\n",
       "      <td>147</td>\n",
       "      <td>6.3</td>\n",
       "      <td>2.5</td>\n",
       "      <td>5.0</td>\n",
       "      <td>1.9</td>\n",
       "      <td>Iris-virginica</td>\n",
       "    </tr>\n",
       "    <tr>\n",
       "      <th>147</th>\n",
       "      <td>148</td>\n",
       "      <td>6.5</td>\n",
       "      <td>3.0</td>\n",
       "      <td>5.2</td>\n",
       "      <td>2.0</td>\n",
       "      <td>Iris-virginica</td>\n",
       "    </tr>\n",
       "    <tr>\n",
       "      <th>148</th>\n",
       "      <td>149</td>\n",
       "      <td>6.2</td>\n",
       "      <td>3.4</td>\n",
       "      <td>5.4</td>\n",
       "      <td>2.3</td>\n",
       "      <td>Iris-virginica</td>\n",
       "    </tr>\n",
       "    <tr>\n",
       "      <th>149</th>\n",
       "      <td>150</td>\n",
       "      <td>5.9</td>\n",
       "      <td>3.0</td>\n",
       "      <td>5.1</td>\n",
       "      <td>1.8</td>\n",
       "      <td>Iris-virginica</td>\n",
       "    </tr>\n",
       "  </tbody>\n",
       "</table>\n",
       "</div>"
      ],
      "text/plain": [
       "      Id  SepalLengthCm  SepalWidthCm  PetalLengthCm  PetalWidthCm  \\\n",
       "145  146            6.7           3.0            5.2           2.3   \n",
       "146  147            6.3           2.5            5.0           1.9   \n",
       "147  148            6.5           3.0            5.2           2.0   \n",
       "148  149            6.2           3.4            5.4           2.3   \n",
       "149  150            5.9           3.0            5.1           1.8   \n",
       "\n",
       "            Species  \n",
       "145  Iris-virginica  \n",
       "146  Iris-virginica  \n",
       "147  Iris-virginica  \n",
       "148  Iris-virginica  \n",
       "149  Iris-virginica  "
      ]
     },
     "execution_count": 86,
     "metadata": {},
     "output_type": "execute_result"
    }
   ],
   "source": [
    "iris.tail() # cinco últimos elementos "
   ]
  },
  {
   "cell_type": "code",
   "execution_count": 87,
   "id": "b6259636-ae69-4901-8e0a-f83c59ae6048",
   "metadata": {
    "tags": []
   },
   "outputs": [
    {
     "data": {
      "text/plain": [
       "(150, 6)"
      ]
     },
     "execution_count": 87,
     "metadata": {},
     "output_type": "execute_result"
    }
   ],
   "source": [
    "iris.shape"
   ]
  },
  {
   "cell_type": "code",
   "execution_count": 88,
   "id": "2e52b6bd-2fcc-4e5e-9cfe-abd21c8a289b",
   "metadata": {
    "tags": []
   },
   "outputs": [
    {
     "data": {
      "text/plain": [
       "Index(['Id', 'SepalLengthCm', 'SepalWidthCm', 'PetalLengthCm', 'PetalWidthCm',\n",
       "       'Species'],\n",
       "      dtype='object')"
      ]
     },
     "execution_count": 88,
     "metadata": {},
     "output_type": "execute_result"
    }
   ],
   "source": [
    "iris.columns"
   ]
  },
  {
   "cell_type": "code",
   "execution_count": 89,
   "id": "264ca8e4-218b-42da-9483-b621dda4de7e",
   "metadata": {
    "tags": []
   },
   "outputs": [
    {
     "data": {
      "text/plain": [
       "Id                 int64\n",
       "SepalLengthCm    float64\n",
       "SepalWidthCm     float64\n",
       "PetalLengthCm    float64\n",
       "PetalWidthCm     float64\n",
       "Species           object\n",
       "dtype: object"
      ]
     },
     "execution_count": 89,
     "metadata": {},
     "output_type": "execute_result"
    }
   ],
   "source": [
    "iris.dtypes"
   ]
  },
  {
   "cell_type": "code",
   "execution_count": 90,
   "id": "71e089c3-3e62-40c0-9c0c-017378ba5ed9",
   "metadata": {
    "tags": []
   },
   "outputs": [],
   "source": [
    "iris['Id'] = iris['Id'].astype(str) \n",
    "\n",
    "iris['Species'] = iris['Species'].astype('category') "
   ]
  },
  {
   "cell_type": "code",
   "execution_count": 91,
   "id": "e33d623c-2878-46d2-a0eb-67cd446aa366",
   "metadata": {
    "tags": []
   },
   "outputs": [
    {
     "data": {
      "text/plain": [
       "Id                 object\n",
       "SepalLengthCm     float64\n",
       "SepalWidthCm      float64\n",
       "PetalLengthCm     float64\n",
       "PetalWidthCm      float64\n",
       "Species          category\n",
       "dtype: object"
      ]
     },
     "execution_count": 91,
     "metadata": {},
     "output_type": "execute_result"
    }
   ],
   "source": [
    "iris.dtypes"
   ]
  },
  {
   "cell_type": "code",
   "execution_count": 92,
   "id": "ce118a14-4a92-4273-8ba5-96909a1570d2",
   "metadata": {
    "tags": []
   },
   "outputs": [
    {
     "data": {
      "text/html": [
       "<div>\n",
       "<style scoped>\n",
       "    .dataframe tbody tr th:only-of-type {\n",
       "        vertical-align: middle;\n",
       "    }\n",
       "\n",
       "    .dataframe tbody tr th {\n",
       "        vertical-align: top;\n",
       "    }\n",
       "\n",
       "    .dataframe thead th {\n",
       "        text-align: right;\n",
       "    }\n",
       "</style>\n",
       "<table border=\"1\" class=\"dataframe\">\n",
       "  <thead>\n",
       "    <tr style=\"text-align: right;\">\n",
       "      <th></th>\n",
       "      <th>SepalLengthCm</th>\n",
       "      <th>SepalWidthCm</th>\n",
       "      <th>PetalLengthCm</th>\n",
       "      <th>PetalWidthCm</th>\n",
       "    </tr>\n",
       "  </thead>\n",
       "  <tbody>\n",
       "    <tr>\n",
       "      <th>count</th>\n",
       "      <td>150.000000</td>\n",
       "      <td>150.000000</td>\n",
       "      <td>150.000000</td>\n",
       "      <td>150.000000</td>\n",
       "    </tr>\n",
       "    <tr>\n",
       "      <th>mean</th>\n",
       "      <td>5.843333</td>\n",
       "      <td>3.054000</td>\n",
       "      <td>3.758667</td>\n",
       "      <td>1.198667</td>\n",
       "    </tr>\n",
       "    <tr>\n",
       "      <th>std</th>\n",
       "      <td>0.828066</td>\n",
       "      <td>0.433594</td>\n",
       "      <td>1.764420</td>\n",
       "      <td>0.763161</td>\n",
       "    </tr>\n",
       "    <tr>\n",
       "      <th>min</th>\n",
       "      <td>4.300000</td>\n",
       "      <td>2.000000</td>\n",
       "      <td>1.000000</td>\n",
       "      <td>0.100000</td>\n",
       "    </tr>\n",
       "    <tr>\n",
       "      <th>25%</th>\n",
       "      <td>5.100000</td>\n",
       "      <td>2.800000</td>\n",
       "      <td>1.600000</td>\n",
       "      <td>0.300000</td>\n",
       "    </tr>\n",
       "    <tr>\n",
       "      <th>50%</th>\n",
       "      <td>5.800000</td>\n",
       "      <td>3.000000</td>\n",
       "      <td>4.350000</td>\n",
       "      <td>1.300000</td>\n",
       "    </tr>\n",
       "    <tr>\n",
       "      <th>75%</th>\n",
       "      <td>6.400000</td>\n",
       "      <td>3.300000</td>\n",
       "      <td>5.100000</td>\n",
       "      <td>1.800000</td>\n",
       "    </tr>\n",
       "    <tr>\n",
       "      <th>max</th>\n",
       "      <td>7.900000</td>\n",
       "      <td>4.400000</td>\n",
       "      <td>6.900000</td>\n",
       "      <td>2.500000</td>\n",
       "    </tr>\n",
       "  </tbody>\n",
       "</table>\n",
       "</div>"
      ],
      "text/plain": [
       "       SepalLengthCm  SepalWidthCm  PetalLengthCm  PetalWidthCm\n",
       "count     150.000000    150.000000     150.000000    150.000000\n",
       "mean        5.843333      3.054000       3.758667      1.198667\n",
       "std         0.828066      0.433594       1.764420      0.763161\n",
       "min         4.300000      2.000000       1.000000      0.100000\n",
       "25%         5.100000      2.800000       1.600000      0.300000\n",
       "50%         5.800000      3.000000       4.350000      1.300000\n",
       "75%         6.400000      3.300000       5.100000      1.800000\n",
       "max         7.900000      4.400000       6.900000      2.500000"
      ]
     },
     "execution_count": 92,
     "metadata": {},
     "output_type": "execute_result"
    }
   ],
   "source": [
    "iris.describe()"
   ]
  },
  {
   "cell_type": "markdown",
   "id": "09286e37-47cf-474d-83f1-c8e93363cebe",
   "metadata": {},
   "source": [
    "### <font color='green'> 3.3 Operaciones Básicas sobre DataFrames </font>"
   ]
  },
  {
   "cell_type": "markdown",
   "id": "e9612f89-1087-45f2-848c-40a99b788d01",
   "metadata": {},
   "source": [
    "- Categorías de la variable"
   ]
  },
  {
   "cell_type": "code",
   "execution_count": 93,
   "id": "762b212b-1300-4e08-8ed9-74986a2cb136",
   "metadata": {
    "tags": []
   },
   "outputs": [
    {
     "data": {
      "text/plain": [
       "['Iris-setosa', 'Iris-versicolor', 'Iris-virginica']\n",
       "Categories (3, object): ['Iris-setosa', 'Iris-versicolor', 'Iris-virginica']"
      ]
     },
     "execution_count": 93,
     "metadata": {},
     "output_type": "execute_result"
    }
   ],
   "source": [
    "iris['Species'].unique()"
   ]
  },
  {
   "cell_type": "code",
   "execution_count": 94,
   "id": "5f3817f8-253a-4f42-9d71-2c097b5579ed",
   "metadata": {
    "tags": []
   },
   "outputs": [
    {
     "data": {
      "text/plain": [
       "Iris-setosa        50\n",
       "Iris-versicolor    50\n",
       "Iris-virginica     50\n",
       "Name: Species, dtype: int64"
      ]
     },
     "execution_count": 94,
     "metadata": {},
     "output_type": "execute_result"
    }
   ],
   "source": [
    "iris['Species'].value_counts()  \n",
    "\n",
    "#iris['Species'].value_counts(normalize=True)"
   ]
  },
  {
   "cell_type": "markdown",
   "id": "0e16a117-5427-4caf-8c35-8884614f1b94",
   "metadata": {},
   "source": [
    "- Seleccionar filas y columnas"
   ]
  },
  {
   "cell_type": "code",
   "execution_count": 95,
   "id": "3ccfdb95-ca9a-4a77-a5df-014cb197513f",
   "metadata": {
    "tags": []
   },
   "outputs": [
    {
     "data": {
      "text/html": [
       "<div>\n",
       "<style scoped>\n",
       "    .dataframe tbody tr th:only-of-type {\n",
       "        vertical-align: middle;\n",
       "    }\n",
       "\n",
       "    .dataframe tbody tr th {\n",
       "        vertical-align: top;\n",
       "    }\n",
       "\n",
       "    .dataframe thead th {\n",
       "        text-align: right;\n",
       "    }\n",
       "</style>\n",
       "<table border=\"1\" class=\"dataframe\">\n",
       "  <thead>\n",
       "    <tr style=\"text-align: right;\">\n",
       "      <th></th>\n",
       "      <th>Id</th>\n",
       "      <th>SepalLengthCm</th>\n",
       "      <th>SepalWidthCm</th>\n",
       "      <th>PetalLengthCm</th>\n",
       "      <th>PetalWidthCm</th>\n",
       "      <th>Species</th>\n",
       "    </tr>\n",
       "  </thead>\n",
       "  <tbody>\n",
       "    <tr>\n",
       "      <th>50</th>\n",
       "      <td>51</td>\n",
       "      <td>7.0</td>\n",
       "      <td>3.2</td>\n",
       "      <td>4.7</td>\n",
       "      <td>1.4</td>\n",
       "      <td>Iris-versicolor</td>\n",
       "    </tr>\n",
       "    <tr>\n",
       "      <th>51</th>\n",
       "      <td>52</td>\n",
       "      <td>6.4</td>\n",
       "      <td>3.2</td>\n",
       "      <td>4.5</td>\n",
       "      <td>1.5</td>\n",
       "      <td>Iris-versicolor</td>\n",
       "    </tr>\n",
       "    <tr>\n",
       "      <th>52</th>\n",
       "      <td>53</td>\n",
       "      <td>6.9</td>\n",
       "      <td>3.1</td>\n",
       "      <td>4.9</td>\n",
       "      <td>1.5</td>\n",
       "      <td>Iris-versicolor</td>\n",
       "    </tr>\n",
       "    <tr>\n",
       "      <th>54</th>\n",
       "      <td>55</td>\n",
       "      <td>6.5</td>\n",
       "      <td>2.8</td>\n",
       "      <td>4.6</td>\n",
       "      <td>1.5</td>\n",
       "      <td>Iris-versicolor</td>\n",
       "    </tr>\n",
       "    <tr>\n",
       "      <th>56</th>\n",
       "      <td>57</td>\n",
       "      <td>6.3</td>\n",
       "      <td>3.3</td>\n",
       "      <td>4.7</td>\n",
       "      <td>1.6</td>\n",
       "      <td>Iris-versicolor</td>\n",
       "    </tr>\n",
       "    <tr>\n",
       "      <th>...</th>\n",
       "      <td>...</td>\n",
       "      <td>...</td>\n",
       "      <td>...</td>\n",
       "      <td>...</td>\n",
       "      <td>...</td>\n",
       "      <td>...</td>\n",
       "    </tr>\n",
       "    <tr>\n",
       "      <th>144</th>\n",
       "      <td>145</td>\n",
       "      <td>6.7</td>\n",
       "      <td>3.3</td>\n",
       "      <td>5.7</td>\n",
       "      <td>2.5</td>\n",
       "      <td>Iris-virginica</td>\n",
       "    </tr>\n",
       "    <tr>\n",
       "      <th>145</th>\n",
       "      <td>146</td>\n",
       "      <td>6.7</td>\n",
       "      <td>3.0</td>\n",
       "      <td>5.2</td>\n",
       "      <td>2.3</td>\n",
       "      <td>Iris-virginica</td>\n",
       "    </tr>\n",
       "    <tr>\n",
       "      <th>146</th>\n",
       "      <td>147</td>\n",
       "      <td>6.3</td>\n",
       "      <td>2.5</td>\n",
       "      <td>5.0</td>\n",
       "      <td>1.9</td>\n",
       "      <td>Iris-virginica</td>\n",
       "    </tr>\n",
       "    <tr>\n",
       "      <th>147</th>\n",
       "      <td>148</td>\n",
       "      <td>6.5</td>\n",
       "      <td>3.0</td>\n",
       "      <td>5.2</td>\n",
       "      <td>2.0</td>\n",
       "      <td>Iris-virginica</td>\n",
       "    </tr>\n",
       "    <tr>\n",
       "      <th>148</th>\n",
       "      <td>149</td>\n",
       "      <td>6.2</td>\n",
       "      <td>3.4</td>\n",
       "      <td>5.4</td>\n",
       "      <td>2.3</td>\n",
       "      <td>Iris-virginica</td>\n",
       "    </tr>\n",
       "  </tbody>\n",
       "</table>\n",
       "<p>67 rows × 6 columns</p>\n",
       "</div>"
      ],
      "text/plain": [
       "      Id  SepalLengthCm  SepalWidthCm  PetalLengthCm  PetalWidthCm  \\\n",
       "50    51            7.0           3.2            4.7           1.4   \n",
       "51    52            6.4           3.2            4.5           1.5   \n",
       "52    53            6.9           3.1            4.9           1.5   \n",
       "54    55            6.5           2.8            4.6           1.5   \n",
       "56    57            6.3           3.3            4.7           1.6   \n",
       "..   ...            ...           ...            ...           ...   \n",
       "144  145            6.7           3.3            5.7           2.5   \n",
       "145  146            6.7           3.0            5.2           2.3   \n",
       "146  147            6.3           2.5            5.0           1.9   \n",
       "147  148            6.5           3.0            5.2           2.0   \n",
       "148  149            6.2           3.4            5.4           2.3   \n",
       "\n",
       "             Species  \n",
       "50   Iris-versicolor  \n",
       "51   Iris-versicolor  \n",
       "52   Iris-versicolor  \n",
       "54   Iris-versicolor  \n",
       "56   Iris-versicolor  \n",
       "..               ...  \n",
       "144   Iris-virginica  \n",
       "145   Iris-virginica  \n",
       "146   Iris-virginica  \n",
       "147   Iris-virginica  \n",
       "148   Iris-virginica  \n",
       "\n",
       "[67 rows x 6 columns]"
      ]
     },
     "execution_count": 95,
     "metadata": {},
     "output_type": "execute_result"
    }
   ],
   "source": [
    "iris[iris['SepalLengthCm'] >= 6]"
   ]
  },
  {
   "cell_type": "code",
   "execution_count": 96,
   "id": "04e310a8-2b38-44c9-87f7-d9ab265a57ac",
   "metadata": {
    "tags": []
   },
   "outputs": [
    {
     "data": {
      "text/html": [
       "<div>\n",
       "<style scoped>\n",
       "    .dataframe tbody tr th:only-of-type {\n",
       "        vertical-align: middle;\n",
       "    }\n",
       "\n",
       "    .dataframe tbody tr th {\n",
       "        vertical-align: top;\n",
       "    }\n",
       "\n",
       "    .dataframe thead th {\n",
       "        text-align: right;\n",
       "    }\n",
       "</style>\n",
       "<table border=\"1\" class=\"dataframe\">\n",
       "  <thead>\n",
       "    <tr style=\"text-align: right;\">\n",
       "      <th></th>\n",
       "      <th>Id</th>\n",
       "      <th>SepalLengthCm</th>\n",
       "      <th>SepalWidthCm</th>\n",
       "      <th>PetalLengthCm</th>\n",
       "      <th>PetalWidthCm</th>\n",
       "      <th>Species</th>\n",
       "    </tr>\n",
       "  </thead>\n",
       "  <tbody>\n",
       "    <tr>\n",
       "      <th>50</th>\n",
       "      <td>51</td>\n",
       "      <td>7.0</td>\n",
       "      <td>3.2</td>\n",
       "      <td>4.7</td>\n",
       "      <td>1.4</td>\n",
       "      <td>Iris-versicolor</td>\n",
       "    </tr>\n",
       "    <tr>\n",
       "      <th>51</th>\n",
       "      <td>52</td>\n",
       "      <td>6.4</td>\n",
       "      <td>3.2</td>\n",
       "      <td>4.5</td>\n",
       "      <td>1.5</td>\n",
       "      <td>Iris-versicolor</td>\n",
       "    </tr>\n",
       "    <tr>\n",
       "      <th>52</th>\n",
       "      <td>53</td>\n",
       "      <td>6.9</td>\n",
       "      <td>3.1</td>\n",
       "      <td>4.9</td>\n",
       "      <td>1.5</td>\n",
       "      <td>Iris-versicolor</td>\n",
       "    </tr>\n",
       "    <tr>\n",
       "      <th>54</th>\n",
       "      <td>55</td>\n",
       "      <td>6.5</td>\n",
       "      <td>2.8</td>\n",
       "      <td>4.6</td>\n",
       "      <td>1.5</td>\n",
       "      <td>Iris-versicolor</td>\n",
       "    </tr>\n",
       "    <tr>\n",
       "      <th>56</th>\n",
       "      <td>57</td>\n",
       "      <td>6.3</td>\n",
       "      <td>3.3</td>\n",
       "      <td>4.7</td>\n",
       "      <td>1.6</td>\n",
       "      <td>Iris-versicolor</td>\n",
       "    </tr>\n",
       "    <tr>\n",
       "      <th>...</th>\n",
       "      <td>...</td>\n",
       "      <td>...</td>\n",
       "      <td>...</td>\n",
       "      <td>...</td>\n",
       "      <td>...</td>\n",
       "      <td>...</td>\n",
       "    </tr>\n",
       "    <tr>\n",
       "      <th>143</th>\n",
       "      <td>144</td>\n",
       "      <td>6.8</td>\n",
       "      <td>3.2</td>\n",
       "      <td>5.9</td>\n",
       "      <td>2.3</td>\n",
       "      <td>Iris-virginica</td>\n",
       "    </tr>\n",
       "    <tr>\n",
       "      <th>145</th>\n",
       "      <td>146</td>\n",
       "      <td>6.7</td>\n",
       "      <td>3.0</td>\n",
       "      <td>5.2</td>\n",
       "      <td>2.3</td>\n",
       "      <td>Iris-virginica</td>\n",
       "    </tr>\n",
       "    <tr>\n",
       "      <th>146</th>\n",
       "      <td>147</td>\n",
       "      <td>6.3</td>\n",
       "      <td>2.5</td>\n",
       "      <td>5.0</td>\n",
       "      <td>1.9</td>\n",
       "      <td>Iris-virginica</td>\n",
       "    </tr>\n",
       "    <tr>\n",
       "      <th>147</th>\n",
       "      <td>148</td>\n",
       "      <td>6.5</td>\n",
       "      <td>3.0</td>\n",
       "      <td>5.2</td>\n",
       "      <td>2.0</td>\n",
       "      <td>Iris-virginica</td>\n",
       "    </tr>\n",
       "    <tr>\n",
       "      <th>148</th>\n",
       "      <td>149</td>\n",
       "      <td>6.2</td>\n",
       "      <td>3.4</td>\n",
       "      <td>5.4</td>\n",
       "      <td>2.3</td>\n",
       "      <td>Iris-virginica</td>\n",
       "    </tr>\n",
       "  </tbody>\n",
       "</table>\n",
       "<p>64 rows × 6 columns</p>\n",
       "</div>"
      ],
      "text/plain": [
       "      Id  SepalLengthCm  SepalWidthCm  PetalLengthCm  PetalWidthCm  \\\n",
       "50    51            7.0           3.2            4.7           1.4   \n",
       "51    52            6.4           3.2            4.5           1.5   \n",
       "52    53            6.9           3.1            4.9           1.5   \n",
       "54    55            6.5           2.8            4.6           1.5   \n",
       "56    57            6.3           3.3            4.7           1.6   \n",
       "..   ...            ...           ...            ...           ...   \n",
       "143  144            6.8           3.2            5.9           2.3   \n",
       "145  146            6.7           3.0            5.2           2.3   \n",
       "146  147            6.3           2.5            5.0           1.9   \n",
       "147  148            6.5           3.0            5.2           2.0   \n",
       "148  149            6.2           3.4            5.4           2.3   \n",
       "\n",
       "             Species  \n",
       "50   Iris-versicolor  \n",
       "51   Iris-versicolor  \n",
       "52   Iris-versicolor  \n",
       "54   Iris-versicolor  \n",
       "56   Iris-versicolor  \n",
       "..               ...  \n",
       "143   Iris-virginica  \n",
       "145   Iris-virginica  \n",
       "146   Iris-virginica  \n",
       "147   Iris-virginica  \n",
       "148   Iris-virginica  \n",
       "\n",
       "[64 rows x 6 columns]"
      ]
     },
     "execution_count": 96,
     "metadata": {},
     "output_type": "execute_result"
    }
   ],
   "source": [
    "iris[(iris['SepalLengthCm'] >= 6.0) & (iris['PetalWidthCm'] < 2.5)]"
   ]
  },
  {
   "cell_type": "code",
   "execution_count": 97,
   "id": "e69521cb-f159-4c86-b5ca-88364db5fe36",
   "metadata": {
    "tags": []
   },
   "outputs": [
    {
     "data": {
      "text/html": [
       "<div>\n",
       "<style scoped>\n",
       "    .dataframe tbody tr th:only-of-type {\n",
       "        vertical-align: middle;\n",
       "    }\n",
       "\n",
       "    .dataframe tbody tr th {\n",
       "        vertical-align: top;\n",
       "    }\n",
       "\n",
       "    .dataframe thead th {\n",
       "        text-align: right;\n",
       "    }\n",
       "</style>\n",
       "<table border=\"1\" class=\"dataframe\">\n",
       "  <thead>\n",
       "    <tr style=\"text-align: right;\">\n",
       "      <th></th>\n",
       "      <th>Id</th>\n",
       "      <th>SepalLengthCm</th>\n",
       "      <th>SepalWidthCm</th>\n",
       "      <th>PetalLengthCm</th>\n",
       "      <th>PetalWidthCm</th>\n",
       "      <th>Species</th>\n",
       "    </tr>\n",
       "  </thead>\n",
       "  <tbody>\n",
       "    <tr>\n",
       "      <th>8</th>\n",
       "      <td>9</td>\n",
       "      <td>4.4</td>\n",
       "      <td>2.9</td>\n",
       "      <td>1.4</td>\n",
       "      <td>0.2</td>\n",
       "      <td>Iris-setosa</td>\n",
       "    </tr>\n",
       "    <tr>\n",
       "      <th>9</th>\n",
       "      <td>10</td>\n",
       "      <td>4.9</td>\n",
       "      <td>3.1</td>\n",
       "      <td>1.5</td>\n",
       "      <td>0.1</td>\n",
       "      <td>Iris-setosa</td>\n",
       "    </tr>\n",
       "    <tr>\n",
       "      <th>12</th>\n",
       "      <td>13</td>\n",
       "      <td>4.8</td>\n",
       "      <td>3.0</td>\n",
       "      <td>1.4</td>\n",
       "      <td>0.1</td>\n",
       "      <td>Iris-setosa</td>\n",
       "    </tr>\n",
       "    <tr>\n",
       "      <th>13</th>\n",
       "      <td>14</td>\n",
       "      <td>4.3</td>\n",
       "      <td>3.0</td>\n",
       "      <td>1.1</td>\n",
       "      <td>0.1</td>\n",
       "      <td>Iris-setosa</td>\n",
       "    </tr>\n",
       "    <tr>\n",
       "      <th>32</th>\n",
       "      <td>33</td>\n",
       "      <td>5.2</td>\n",
       "      <td>4.1</td>\n",
       "      <td>1.5</td>\n",
       "      <td>0.1</td>\n",
       "      <td>Iris-setosa</td>\n",
       "    </tr>\n",
       "    <tr>\n",
       "      <th>34</th>\n",
       "      <td>35</td>\n",
       "      <td>4.9</td>\n",
       "      <td>3.1</td>\n",
       "      <td>1.5</td>\n",
       "      <td>0.1</td>\n",
       "      <td>Iris-setosa</td>\n",
       "    </tr>\n",
       "    <tr>\n",
       "      <th>37</th>\n",
       "      <td>38</td>\n",
       "      <td>4.9</td>\n",
       "      <td>3.1</td>\n",
       "      <td>1.5</td>\n",
       "      <td>0.1</td>\n",
       "      <td>Iris-setosa</td>\n",
       "    </tr>\n",
       "    <tr>\n",
       "      <th>38</th>\n",
       "      <td>39</td>\n",
       "      <td>4.4</td>\n",
       "      <td>3.0</td>\n",
       "      <td>1.3</td>\n",
       "      <td>0.2</td>\n",
       "      <td>Iris-setosa</td>\n",
       "    </tr>\n",
       "    <tr>\n",
       "      <th>42</th>\n",
       "      <td>43</td>\n",
       "      <td>4.4</td>\n",
       "      <td>3.2</td>\n",
       "      <td>1.3</td>\n",
       "      <td>0.2</td>\n",
       "      <td>Iris-setosa</td>\n",
       "    </tr>\n",
       "  </tbody>\n",
       "</table>\n",
       "</div>"
      ],
      "text/plain": [
       "    Id  SepalLengthCm  SepalWidthCm  PetalLengthCm  PetalWidthCm      Species\n",
       "8    9            4.4           2.9            1.4           0.2  Iris-setosa\n",
       "9   10            4.9           3.1            1.5           0.1  Iris-setosa\n",
       "12  13            4.8           3.0            1.4           0.1  Iris-setosa\n",
       "13  14            4.3           3.0            1.1           0.1  Iris-setosa\n",
       "32  33            5.2           4.1            1.5           0.1  Iris-setosa\n",
       "34  35            4.9           3.1            1.5           0.1  Iris-setosa\n",
       "37  38            4.9           3.1            1.5           0.1  Iris-setosa\n",
       "38  39            4.4           3.0            1.3           0.2  Iris-setosa\n",
       "42  43            4.4           3.2            1.3           0.2  Iris-setosa"
      ]
     },
     "execution_count": 97,
     "metadata": {},
     "output_type": "execute_result"
    }
   ],
   "source": [
    "iris[(iris['SepalLengthCm'] < 4.5) | (iris['PetalWidthCm'] < 0.2)]"
   ]
  },
  {
   "cell_type": "code",
   "execution_count": 98,
   "id": "aa084bd8-8447-40fc-b53a-8bd7e72154a2",
   "metadata": {},
   "outputs": [
    {
     "data": {
      "text/plain": [
       "Id                        26\n",
       "SepalLengthCm            5.0\n",
       "SepalWidthCm             3.0\n",
       "PetalLengthCm            1.6\n",
       "PetalWidthCm             0.2\n",
       "Species          Iris-setosa\n",
       "Name: 25, dtype: object"
      ]
     },
     "execution_count": 98,
     "metadata": {},
     "output_type": "execute_result"
    }
   ],
   "source": [
    "iris.loc[25]"
   ]
  },
  {
   "cell_type": "code",
   "execution_count": 99,
   "id": "78f491cb-6e0b-4488-b898-e8f80e607d05",
   "metadata": {
    "tags": []
   },
   "outputs": [
    {
     "data": {
      "text/html": [
       "<div>\n",
       "<style scoped>\n",
       "    .dataframe tbody tr th:only-of-type {\n",
       "        vertical-align: middle;\n",
       "    }\n",
       "\n",
       "    .dataframe tbody tr th {\n",
       "        vertical-align: top;\n",
       "    }\n",
       "\n",
       "    .dataframe thead th {\n",
       "        text-align: right;\n",
       "    }\n",
       "</style>\n",
       "<table border=\"1\" class=\"dataframe\">\n",
       "  <thead>\n",
       "    <tr style=\"text-align: right;\">\n",
       "      <th></th>\n",
       "      <th>Id</th>\n",
       "      <th>SepalLengthCm</th>\n",
       "      <th>SepalWidthCm</th>\n",
       "      <th>PetalLengthCm</th>\n",
       "      <th>PetalWidthCm</th>\n",
       "      <th>Species</th>\n",
       "    </tr>\n",
       "  </thead>\n",
       "  <tbody>\n",
       "    <tr>\n",
       "      <th>0</th>\n",
       "      <td>1</td>\n",
       "      <td>5.1</td>\n",
       "      <td>3.5</td>\n",
       "      <td>1.4</td>\n",
       "      <td>0.2</td>\n",
       "      <td>Iris-setosa</td>\n",
       "    </tr>\n",
       "    <tr>\n",
       "      <th>1</th>\n",
       "      <td>2</td>\n",
       "      <td>4.9</td>\n",
       "      <td>3.0</td>\n",
       "      <td>1.4</td>\n",
       "      <td>0.2</td>\n",
       "      <td>Iris-setosa</td>\n",
       "    </tr>\n",
       "    <tr>\n",
       "      <th>2</th>\n",
       "      <td>3</td>\n",
       "      <td>4.7</td>\n",
       "      <td>3.2</td>\n",
       "      <td>1.3</td>\n",
       "      <td>0.2</td>\n",
       "      <td>Iris-setosa</td>\n",
       "    </tr>\n",
       "    <tr>\n",
       "      <th>3</th>\n",
       "      <td>4</td>\n",
       "      <td>4.6</td>\n",
       "      <td>3.1</td>\n",
       "      <td>1.5</td>\n",
       "      <td>0.2</td>\n",
       "      <td>Iris-setosa</td>\n",
       "    </tr>\n",
       "    <tr>\n",
       "      <th>4</th>\n",
       "      <td>5</td>\n",
       "      <td>5.0</td>\n",
       "      <td>3.6</td>\n",
       "      <td>1.4</td>\n",
       "      <td>0.2</td>\n",
       "      <td>Iris-setosa</td>\n",
       "    </tr>\n",
       "    <tr>\n",
       "      <th>5</th>\n",
       "      <td>6</td>\n",
       "      <td>5.4</td>\n",
       "      <td>3.9</td>\n",
       "      <td>1.7</td>\n",
       "      <td>0.4</td>\n",
       "      <td>Iris-setosa</td>\n",
       "    </tr>\n",
       "    <tr>\n",
       "      <th>6</th>\n",
       "      <td>7</td>\n",
       "      <td>4.6</td>\n",
       "      <td>3.4</td>\n",
       "      <td>1.4</td>\n",
       "      <td>0.3</td>\n",
       "      <td>Iris-setosa</td>\n",
       "    </tr>\n",
       "    <tr>\n",
       "      <th>7</th>\n",
       "      <td>8</td>\n",
       "      <td>5.0</td>\n",
       "      <td>3.4</td>\n",
       "      <td>1.5</td>\n",
       "      <td>0.2</td>\n",
       "      <td>Iris-setosa</td>\n",
       "    </tr>\n",
       "    <tr>\n",
       "      <th>8</th>\n",
       "      <td>9</td>\n",
       "      <td>4.4</td>\n",
       "      <td>2.9</td>\n",
       "      <td>1.4</td>\n",
       "      <td>0.2</td>\n",
       "      <td>Iris-setosa</td>\n",
       "    </tr>\n",
       "    <tr>\n",
       "      <th>9</th>\n",
       "      <td>10</td>\n",
       "      <td>4.9</td>\n",
       "      <td>3.1</td>\n",
       "      <td>1.5</td>\n",
       "      <td>0.1</td>\n",
       "      <td>Iris-setosa</td>\n",
       "    </tr>\n",
       "  </tbody>\n",
       "</table>\n",
       "</div>"
      ],
      "text/plain": [
       "   Id  SepalLengthCm  SepalWidthCm  PetalLengthCm  PetalWidthCm      Species\n",
       "0   1            5.1           3.5            1.4           0.2  Iris-setosa\n",
       "1   2            4.9           3.0            1.4           0.2  Iris-setosa\n",
       "2   3            4.7           3.2            1.3           0.2  Iris-setosa\n",
       "3   4            4.6           3.1            1.5           0.2  Iris-setosa\n",
       "4   5            5.0           3.6            1.4           0.2  Iris-setosa\n",
       "5   6            5.4           3.9            1.7           0.4  Iris-setosa\n",
       "6   7            4.6           3.4            1.4           0.3  Iris-setosa\n",
       "7   8            5.0           3.4            1.5           0.2  Iris-setosa\n",
       "8   9            4.4           2.9            1.4           0.2  Iris-setosa\n",
       "9  10            4.9           3.1            1.5           0.1  Iris-setosa"
      ]
     },
     "execution_count": 99,
     "metadata": {},
     "output_type": "execute_result"
    }
   ],
   "source": [
    "iris[iris['Species'] == 'Iris-setosa'][0:10]"
   ]
  },
  {
   "cell_type": "code",
   "execution_count": 100,
   "id": "30ced0ea-8c4d-4acf-ad73-451aed6c541d",
   "metadata": {
    "tags": []
   },
   "outputs": [
    {
     "data": {
      "text/html": [
       "<div>\n",
       "<style scoped>\n",
       "    .dataframe tbody tr th:only-of-type {\n",
       "        vertical-align: middle;\n",
       "    }\n",
       "\n",
       "    .dataframe tbody tr th {\n",
       "        vertical-align: top;\n",
       "    }\n",
       "\n",
       "    .dataframe thead th {\n",
       "        text-align: right;\n",
       "    }\n",
       "</style>\n",
       "<table border=\"1\" class=\"dataframe\">\n",
       "  <thead>\n",
       "    <tr style=\"text-align: right;\">\n",
       "      <th></th>\n",
       "      <th>Species</th>\n",
       "      <th>Id</th>\n",
       "    </tr>\n",
       "  </thead>\n",
       "  <tbody>\n",
       "    <tr>\n",
       "      <th>0</th>\n",
       "      <td>Iris-setosa</td>\n",
       "      <td>1</td>\n",
       "    </tr>\n",
       "    <tr>\n",
       "      <th>1</th>\n",
       "      <td>Iris-setosa</td>\n",
       "      <td>2</td>\n",
       "    </tr>\n",
       "    <tr>\n",
       "      <th>2</th>\n",
       "      <td>Iris-setosa</td>\n",
       "      <td>3</td>\n",
       "    </tr>\n",
       "    <tr>\n",
       "      <th>3</th>\n",
       "      <td>Iris-setosa</td>\n",
       "      <td>4</td>\n",
       "    </tr>\n",
       "    <tr>\n",
       "      <th>4</th>\n",
       "      <td>Iris-setosa</td>\n",
       "      <td>5</td>\n",
       "    </tr>\n",
       "    <tr>\n",
       "      <th>...</th>\n",
       "      <td>...</td>\n",
       "      <td>...</td>\n",
       "    </tr>\n",
       "    <tr>\n",
       "      <th>145</th>\n",
       "      <td>Iris-virginica</td>\n",
       "      <td>146</td>\n",
       "    </tr>\n",
       "    <tr>\n",
       "      <th>146</th>\n",
       "      <td>Iris-virginica</td>\n",
       "      <td>147</td>\n",
       "    </tr>\n",
       "    <tr>\n",
       "      <th>147</th>\n",
       "      <td>Iris-virginica</td>\n",
       "      <td>148</td>\n",
       "    </tr>\n",
       "    <tr>\n",
       "      <th>148</th>\n",
       "      <td>Iris-virginica</td>\n",
       "      <td>149</td>\n",
       "    </tr>\n",
       "    <tr>\n",
       "      <th>149</th>\n",
       "      <td>Iris-virginica</td>\n",
       "      <td>150</td>\n",
       "    </tr>\n",
       "  </tbody>\n",
       "</table>\n",
       "<p>150 rows × 2 columns</p>\n",
       "</div>"
      ],
      "text/plain": [
       "            Species   Id\n",
       "0       Iris-setosa    1\n",
       "1       Iris-setosa    2\n",
       "2       Iris-setosa    3\n",
       "3       Iris-setosa    4\n",
       "4       Iris-setosa    5\n",
       "..              ...  ...\n",
       "145  Iris-virginica  146\n",
       "146  Iris-virginica  147\n",
       "147  Iris-virginica  148\n",
       "148  Iris-virginica  149\n",
       "149  Iris-virginica  150\n",
       "\n",
       "[150 rows x 2 columns]"
      ]
     },
     "execution_count": 100,
     "metadata": {},
     "output_type": "execute_result"
    }
   ],
   "source": [
    "iris[['Species', 'Id']]"
   ]
  },
  {
   "cell_type": "code",
   "execution_count": 101,
   "id": "8e064ff6-2762-4e12-9dd2-4e501c73d09e",
   "metadata": {
    "tags": []
   },
   "outputs": [
    {
     "data": {
      "text/html": [
       "<div>\n",
       "<style scoped>\n",
       "    .dataframe tbody tr th:only-of-type {\n",
       "        vertical-align: middle;\n",
       "    }\n",
       "\n",
       "    .dataframe tbody tr th {\n",
       "        vertical-align: top;\n",
       "    }\n",
       "\n",
       "    .dataframe thead th {\n",
       "        text-align: right;\n",
       "    }\n",
       "</style>\n",
       "<table border=\"1\" class=\"dataframe\">\n",
       "  <thead>\n",
       "    <tr style=\"text-align: right;\">\n",
       "      <th></th>\n",
       "      <th>Id</th>\n",
       "      <th>SepalLengthCm</th>\n",
       "      <th>PetalLengthCm</th>\n",
       "      <th>SepalWidthCm</th>\n",
       "      <th>PetalWidthCm</th>\n",
       "    </tr>\n",
       "  </thead>\n",
       "  <tbody>\n",
       "    <tr>\n",
       "      <th>15</th>\n",
       "      <td>16</td>\n",
       "      <td>5.7</td>\n",
       "      <td>1.5</td>\n",
       "      <td>4.4</td>\n",
       "      <td>0.4</td>\n",
       "    </tr>\n",
       "    <tr>\n",
       "      <th>32</th>\n",
       "      <td>33</td>\n",
       "      <td>5.2</td>\n",
       "      <td>1.5</td>\n",
       "      <td>4.1</td>\n",
       "      <td>0.1</td>\n",
       "    </tr>\n",
       "    <tr>\n",
       "      <th>33</th>\n",
       "      <td>34</td>\n",
       "      <td>5.5</td>\n",
       "      <td>1.4</td>\n",
       "      <td>4.2</td>\n",
       "      <td>0.2</td>\n",
       "    </tr>\n",
       "  </tbody>\n",
       "</table>\n",
       "</div>"
      ],
      "text/plain": [
       "    Id  SepalLengthCm  PetalLengthCm  SepalWidthCm  PetalWidthCm\n",
       "15  16            5.7            1.5           4.4           0.4\n",
       "32  33            5.2            1.5           4.1           0.1\n",
       "33  34            5.5            1.4           4.2           0.2"
      ]
     },
     "execution_count": 101,
     "metadata": {},
     "output_type": "execute_result"
    }
   ],
   "source": [
    "variables = ['Id', 'SepalLengthCm', 'PetalLengthCm', 'SepalWidthCm', 'PetalWidthCm']\n",
    "iris.loc[(iris['Species'] == 'Iris-setosa') & (iris['SepalWidthCm'] > 4), variables]"
   ]
  },
  {
   "cell_type": "markdown",
   "id": "bb3b88eb-fd22-4614-841a-0b0be43c6d6d",
   "metadata": {},
   "source": [
    "- Sumarización y agrupaciones"
   ]
  },
  {
   "cell_type": "code",
   "execution_count": 102,
   "id": "36782358-64e0-4316-9f97-b11dcb6cfcff",
   "metadata": {
    "tags": []
   },
   "outputs": [
    {
     "data": {
      "text/plain": [
       "7.9"
      ]
     },
     "execution_count": 102,
     "metadata": {},
     "output_type": "execute_result"
    }
   ],
   "source": [
    "np.max(iris['SepalLengthCm'])"
   ]
  },
  {
   "cell_type": "code",
   "execution_count": 103,
   "id": "ea172251-5444-4fbd-a4ff-d730fbc6545d",
   "metadata": {
    "tags": []
   },
   "outputs": [
    {
     "data": {
      "text/plain": [
       "131"
      ]
     },
     "execution_count": 103,
     "metadata": {},
     "output_type": "execute_result"
    }
   ],
   "source": [
    "np.argmax(iris['SepalLengthCm'])"
   ]
  },
  {
   "cell_type": "code",
   "execution_count": 104,
   "id": "f8102a88-1802-4929-b2ad-a557cc07798a",
   "metadata": {
    "tags": []
   },
   "outputs": [
    {
     "data": {
      "text/plain": [
       "Species\n",
       "Iris-setosa        50\n",
       "Iris-versicolor    50\n",
       "Iris-virginica     50\n",
       "dtype: int64"
      ]
     },
     "execution_count": 104,
     "metadata": {},
     "output_type": "execute_result"
    }
   ],
   "source": [
    "iris.groupby('Species').size()"
   ]
  },
  {
   "cell_type": "code",
   "execution_count": 105,
   "id": "14b5d3e1-ab57-403b-a39f-2d342e97d87d",
   "metadata": {
    "tags": []
   },
   "outputs": [
    {
     "data": {
      "text/html": [
       "<div>\n",
       "<style scoped>\n",
       "    .dataframe tbody tr th:only-of-type {\n",
       "        vertical-align: middle;\n",
       "    }\n",
       "\n",
       "    .dataframe tbody tr th {\n",
       "        vertical-align: top;\n",
       "    }\n",
       "\n",
       "    .dataframe thead th {\n",
       "        text-align: right;\n",
       "    }\n",
       "</style>\n",
       "<table border=\"1\" class=\"dataframe\">\n",
       "  <thead>\n",
       "    <tr style=\"text-align: right;\">\n",
       "      <th></th>\n",
       "      <th>Species</th>\n",
       "      <th>SepalLengthCm</th>\n",
       "    </tr>\n",
       "  </thead>\n",
       "  <tbody>\n",
       "    <tr>\n",
       "      <th>0</th>\n",
       "      <td>Iris-setosa</td>\n",
       "      <td>5.006</td>\n",
       "    </tr>\n",
       "    <tr>\n",
       "      <th>1</th>\n",
       "      <td>Iris-versicolor</td>\n",
       "      <td>5.936</td>\n",
       "    </tr>\n",
       "    <tr>\n",
       "      <th>2</th>\n",
       "      <td>Iris-virginica</td>\n",
       "      <td>6.588</td>\n",
       "    </tr>\n",
       "  </tbody>\n",
       "</table>\n",
       "</div>"
      ],
      "text/plain": [
       "           Species  SepalLengthCm\n",
       "0      Iris-setosa          5.006\n",
       "1  Iris-versicolor          5.936\n",
       "2   Iris-virginica          6.588"
      ]
     },
     "execution_count": 105,
     "metadata": {},
     "output_type": "execute_result"
    }
   ],
   "source": [
    "iris.groupby('Species', as_index=False).agg({\"SepalLengthCm\":\"mean\"})"
   ]
  },
  {
   "cell_type": "code",
   "execution_count": 106,
   "id": "1ba24619-4f93-4132-94d3-b78e16989e8a",
   "metadata": {
    "tags": []
   },
   "outputs": [
    {
     "data": {
      "text/html": [
       "<div>\n",
       "<style scoped>\n",
       "    .dataframe tbody tr th:only-of-type {\n",
       "        vertical-align: middle;\n",
       "    }\n",
       "\n",
       "    .dataframe tbody tr th {\n",
       "        vertical-align: top;\n",
       "    }\n",
       "\n",
       "    .dataframe thead th {\n",
       "        text-align: right;\n",
       "    }\n",
       "</style>\n",
       "<table border=\"1\" class=\"dataframe\">\n",
       "  <thead>\n",
       "    <tr style=\"text-align: right;\">\n",
       "      <th></th>\n",
       "      <th>Species</th>\n",
       "      <th>SepalLengthCm</th>\n",
       "      <th>SepalWidthCm</th>\n",
       "    </tr>\n",
       "  </thead>\n",
       "  <tbody>\n",
       "    <tr>\n",
       "      <th>0</th>\n",
       "      <td>Iris-setosa</td>\n",
       "      <td>5.8</td>\n",
       "      <td>4.4</td>\n",
       "    </tr>\n",
       "    <tr>\n",
       "      <th>1</th>\n",
       "      <td>Iris-versicolor</td>\n",
       "      <td>7.0</td>\n",
       "      <td>3.4</td>\n",
       "    </tr>\n",
       "    <tr>\n",
       "      <th>2</th>\n",
       "      <td>Iris-virginica</td>\n",
       "      <td>7.9</td>\n",
       "      <td>3.8</td>\n",
       "    </tr>\n",
       "  </tbody>\n",
       "</table>\n",
       "</div>"
      ],
      "text/plain": [
       "           Species  SepalLengthCm  SepalWidthCm\n",
       "0      Iris-setosa            5.8           4.4\n",
       "1  Iris-versicolor            7.0           3.4\n",
       "2   Iris-virginica            7.9           3.8"
      ]
     },
     "execution_count": 106,
     "metadata": {},
     "output_type": "execute_result"
    }
   ],
   "source": [
    "iris.groupby('Species', as_index=False)[['SepalLengthCm', 'SepalWidthCm']].max()"
   ]
  },
  {
   "cell_type": "code",
   "execution_count": 107,
   "id": "e6cc32c4-e692-4a90-82cd-2760c08c8930",
   "metadata": {
    "tags": []
   },
   "outputs": [
    {
     "data": {
      "text/html": [
       "<div>\n",
       "<style scoped>\n",
       "    .dataframe tbody tr th:only-of-type {\n",
       "        vertical-align: middle;\n",
       "    }\n",
       "\n",
       "    .dataframe tbody tr th {\n",
       "        vertical-align: top;\n",
       "    }\n",
       "\n",
       "    .dataframe thead tr th {\n",
       "        text-align: left;\n",
       "    }\n",
       "</style>\n",
       "<table border=\"1\" class=\"dataframe\">\n",
       "  <thead>\n",
       "    <tr>\n",
       "      <th></th>\n",
       "      <th>Species</th>\n",
       "      <th colspan=\"4\" halign=\"left\">SepalLengthCm</th>\n",
       "      <th colspan=\"4\" halign=\"left\">SepalWidthCm</th>\n",
       "    </tr>\n",
       "    <tr>\n",
       "      <th></th>\n",
       "      <th></th>\n",
       "      <th>min</th>\n",
       "      <th>max</th>\n",
       "      <th>mean</th>\n",
       "      <th>median</th>\n",
       "      <th>min</th>\n",
       "      <th>max</th>\n",
       "      <th>mean</th>\n",
       "      <th>median</th>\n",
       "    </tr>\n",
       "  </thead>\n",
       "  <tbody>\n",
       "    <tr>\n",
       "      <th>0</th>\n",
       "      <td>Iris-setosa</td>\n",
       "      <td>4.3</td>\n",
       "      <td>5.8</td>\n",
       "      <td>5.006</td>\n",
       "      <td>5.0</td>\n",
       "      <td>2.3</td>\n",
       "      <td>4.4</td>\n",
       "      <td>3.418</td>\n",
       "      <td>3.4</td>\n",
       "    </tr>\n",
       "    <tr>\n",
       "      <th>1</th>\n",
       "      <td>Iris-versicolor</td>\n",
       "      <td>4.9</td>\n",
       "      <td>7.0</td>\n",
       "      <td>5.936</td>\n",
       "      <td>5.9</td>\n",
       "      <td>2.0</td>\n",
       "      <td>3.4</td>\n",
       "      <td>2.770</td>\n",
       "      <td>2.8</td>\n",
       "    </tr>\n",
       "    <tr>\n",
       "      <th>2</th>\n",
       "      <td>Iris-virginica</td>\n",
       "      <td>4.9</td>\n",
       "      <td>7.9</td>\n",
       "      <td>6.588</td>\n",
       "      <td>6.5</td>\n",
       "      <td>2.2</td>\n",
       "      <td>3.8</td>\n",
       "      <td>2.974</td>\n",
       "      <td>3.0</td>\n",
       "    </tr>\n",
       "  </tbody>\n",
       "</table>\n",
       "</div>"
      ],
      "text/plain": [
       "           Species SepalLengthCm                    SepalWidthCm              \\\n",
       "                             min  max   mean median          min  max   mean   \n",
       "0      Iris-setosa           4.3  5.8  5.006    5.0          2.3  4.4  3.418   \n",
       "1  Iris-versicolor           4.9  7.0  5.936    5.9          2.0  3.4  2.770   \n",
       "2   Iris-virginica           4.9  7.9  6.588    6.5          2.2  3.8  2.974   \n",
       "\n",
       "          \n",
       "  median  \n",
       "0    3.4  \n",
       "1    2.8  \n",
       "2    3.0  "
      ]
     },
     "execution_count": 107,
     "metadata": {},
     "output_type": "execute_result"
    }
   ],
   "source": [
    "iris.groupby('Species', as_index=False)[['SepalLengthCm', 'SepalWidthCm']].agg({'SepalLengthCm':['min', 'max', 'mean', 'median'], \n",
    "                                                                                   'SepalWidthCm':['min', 'max', 'mean', 'median']})"
   ]
  },
  {
   "cell_type": "markdown",
   "id": "72126fa0-19f0-4596-a260-aa3180e6e4bc",
   "metadata": {},
   "source": [
    "- Ordenación y renombrar variables"
   ]
  },
  {
   "cell_type": "code",
   "execution_count": 108,
   "id": "240819e8-6a54-4985-9fad-490332709379",
   "metadata": {
    "tags": []
   },
   "outputs": [
    {
     "data": {
      "text/html": [
       "<div>\n",
       "<style scoped>\n",
       "    .dataframe tbody tr th:only-of-type {\n",
       "        vertical-align: middle;\n",
       "    }\n",
       "\n",
       "    .dataframe tbody tr th {\n",
       "        vertical-align: top;\n",
       "    }\n",
       "\n",
       "    .dataframe thead th {\n",
       "        text-align: right;\n",
       "    }\n",
       "</style>\n",
       "<table border=\"1\" class=\"dataframe\">\n",
       "  <thead>\n",
       "    <tr style=\"text-align: right;\">\n",
       "      <th></th>\n",
       "      <th>Id</th>\n",
       "      <th>SepalLengthCm</th>\n",
       "      <th>SepalWidthCm</th>\n",
       "      <th>PetalLengthCm</th>\n",
       "      <th>PetalWidthCm</th>\n",
       "      <th>Species</th>\n",
       "    </tr>\n",
       "  </thead>\n",
       "  <tbody>\n",
       "    <tr>\n",
       "      <th>131</th>\n",
       "      <td>132</td>\n",
       "      <td>7.9</td>\n",
       "      <td>3.8</td>\n",
       "      <td>6.4</td>\n",
       "      <td>2.0</td>\n",
       "      <td>Iris-virginica</td>\n",
       "    </tr>\n",
       "    <tr>\n",
       "      <th>118</th>\n",
       "      <td>119</td>\n",
       "      <td>7.7</td>\n",
       "      <td>2.6</td>\n",
       "      <td>6.9</td>\n",
       "      <td>2.3</td>\n",
       "      <td>Iris-virginica</td>\n",
       "    </tr>\n",
       "    <tr>\n",
       "      <th>117</th>\n",
       "      <td>118</td>\n",
       "      <td>7.7</td>\n",
       "      <td>3.8</td>\n",
       "      <td>6.7</td>\n",
       "      <td>2.2</td>\n",
       "      <td>Iris-virginica</td>\n",
       "    </tr>\n",
       "    <tr>\n",
       "      <th>122</th>\n",
       "      <td>123</td>\n",
       "      <td>7.7</td>\n",
       "      <td>2.8</td>\n",
       "      <td>6.7</td>\n",
       "      <td>2.0</td>\n",
       "      <td>Iris-virginica</td>\n",
       "    </tr>\n",
       "    <tr>\n",
       "      <th>135</th>\n",
       "      <td>136</td>\n",
       "      <td>7.7</td>\n",
       "      <td>3.0</td>\n",
       "      <td>6.1</td>\n",
       "      <td>2.3</td>\n",
       "      <td>Iris-virginica</td>\n",
       "    </tr>\n",
       "    <tr>\n",
       "      <th>105</th>\n",
       "      <td>106</td>\n",
       "      <td>7.6</td>\n",
       "      <td>3.0</td>\n",
       "      <td>6.6</td>\n",
       "      <td>2.1</td>\n",
       "      <td>Iris-virginica</td>\n",
       "    </tr>\n",
       "    <tr>\n",
       "      <th>130</th>\n",
       "      <td>131</td>\n",
       "      <td>7.4</td>\n",
       "      <td>2.8</td>\n",
       "      <td>6.1</td>\n",
       "      <td>1.9</td>\n",
       "      <td>Iris-virginica</td>\n",
       "    </tr>\n",
       "    <tr>\n",
       "      <th>107</th>\n",
       "      <td>108</td>\n",
       "      <td>7.3</td>\n",
       "      <td>2.9</td>\n",
       "      <td>6.3</td>\n",
       "      <td>1.8</td>\n",
       "      <td>Iris-virginica</td>\n",
       "    </tr>\n",
       "    <tr>\n",
       "      <th>109</th>\n",
       "      <td>110</td>\n",
       "      <td>7.2</td>\n",
       "      <td>3.6</td>\n",
       "      <td>6.1</td>\n",
       "      <td>2.5</td>\n",
       "      <td>Iris-virginica</td>\n",
       "    </tr>\n",
       "    <tr>\n",
       "      <th>125</th>\n",
       "      <td>126</td>\n",
       "      <td>7.2</td>\n",
       "      <td>3.2</td>\n",
       "      <td>6.0</td>\n",
       "      <td>1.8</td>\n",
       "      <td>Iris-virginica</td>\n",
       "    </tr>\n",
       "  </tbody>\n",
       "</table>\n",
       "</div>"
      ],
      "text/plain": [
       "      Id  SepalLengthCm  SepalWidthCm  PetalLengthCm  PetalWidthCm  \\\n",
       "131  132            7.9           3.8            6.4           2.0   \n",
       "118  119            7.7           2.6            6.9           2.3   \n",
       "117  118            7.7           3.8            6.7           2.2   \n",
       "122  123            7.7           2.8            6.7           2.0   \n",
       "135  136            7.7           3.0            6.1           2.3   \n",
       "105  106            7.6           3.0            6.6           2.1   \n",
       "130  131            7.4           2.8            6.1           1.9   \n",
       "107  108            7.3           2.9            6.3           1.8   \n",
       "109  110            7.2           3.6            6.1           2.5   \n",
       "125  126            7.2           3.2            6.0           1.8   \n",
       "\n",
       "            Species  \n",
       "131  Iris-virginica  \n",
       "118  Iris-virginica  \n",
       "117  Iris-virginica  \n",
       "122  Iris-virginica  \n",
       "135  Iris-virginica  \n",
       "105  Iris-virginica  \n",
       "130  Iris-virginica  \n",
       "107  Iris-virginica  \n",
       "109  Iris-virginica  \n",
       "125  Iris-virginica  "
      ]
     },
     "execution_count": 108,
     "metadata": {},
     "output_type": "execute_result"
    }
   ],
   "source": [
    "iris.sort_values(by=['SepalLengthCm', 'PetalLengthCm'], ascending=False)[0:10] # ordenación de mayor a menor"
   ]
  },
  {
   "cell_type": "code",
   "execution_count": 109,
   "id": "ee2da6d3-7f36-44db-a7ad-66e8414f779d",
   "metadata": {
    "tags": []
   },
   "outputs": [
    {
     "data": {
      "text/html": [
       "<div>\n",
       "<style scoped>\n",
       "    .dataframe tbody tr th:only-of-type {\n",
       "        vertical-align: middle;\n",
       "    }\n",
       "\n",
       "    .dataframe tbody tr th {\n",
       "        vertical-align: top;\n",
       "    }\n",
       "\n",
       "    .dataframe thead th {\n",
       "        text-align: right;\n",
       "    }\n",
       "</style>\n",
       "<table border=\"1\" class=\"dataframe\">\n",
       "  <thead>\n",
       "    <tr style=\"text-align: right;\">\n",
       "      <th></th>\n",
       "      <th>Id</th>\n",
       "      <th>SepalLengthCm</th>\n",
       "      <th>SepalWidthCm</th>\n",
       "      <th>PetalLengthCm</th>\n",
       "      <th>PetalWidthCm</th>\n",
       "      <th>Species</th>\n",
       "    </tr>\n",
       "  </thead>\n",
       "  <tbody>\n",
       "    <tr>\n",
       "      <th>131</th>\n",
       "      <td>132</td>\n",
       "      <td>7.9</td>\n",
       "      <td>3.8</td>\n",
       "      <td>6.4</td>\n",
       "      <td>2.0</td>\n",
       "      <td>Iris-virginica</td>\n",
       "    </tr>\n",
       "    <tr>\n",
       "      <th>135</th>\n",
       "      <td>136</td>\n",
       "      <td>7.7</td>\n",
       "      <td>3.0</td>\n",
       "      <td>6.1</td>\n",
       "      <td>2.3</td>\n",
       "      <td>Iris-virginica</td>\n",
       "    </tr>\n",
       "    <tr>\n",
       "      <th>122</th>\n",
       "      <td>123</td>\n",
       "      <td>7.7</td>\n",
       "      <td>2.8</td>\n",
       "      <td>6.7</td>\n",
       "      <td>2.0</td>\n",
       "      <td>Iris-virginica</td>\n",
       "    </tr>\n",
       "    <tr>\n",
       "      <th>117</th>\n",
       "      <td>118</td>\n",
       "      <td>7.7</td>\n",
       "      <td>3.8</td>\n",
       "      <td>6.7</td>\n",
       "      <td>2.2</td>\n",
       "      <td>Iris-virginica</td>\n",
       "    </tr>\n",
       "    <tr>\n",
       "      <th>118</th>\n",
       "      <td>119</td>\n",
       "      <td>7.7</td>\n",
       "      <td>2.6</td>\n",
       "      <td>6.9</td>\n",
       "      <td>2.3</td>\n",
       "      <td>Iris-virginica</td>\n",
       "    </tr>\n",
       "    <tr>\n",
       "      <th>105</th>\n",
       "      <td>106</td>\n",
       "      <td>7.6</td>\n",
       "      <td>3.0</td>\n",
       "      <td>6.6</td>\n",
       "      <td>2.1</td>\n",
       "      <td>Iris-virginica</td>\n",
       "    </tr>\n",
       "    <tr>\n",
       "      <th>130</th>\n",
       "      <td>131</td>\n",
       "      <td>7.4</td>\n",
       "      <td>2.8</td>\n",
       "      <td>6.1</td>\n",
       "      <td>1.9</td>\n",
       "      <td>Iris-virginica</td>\n",
       "    </tr>\n",
       "    <tr>\n",
       "      <th>107</th>\n",
       "      <td>108</td>\n",
       "      <td>7.3</td>\n",
       "      <td>2.9</td>\n",
       "      <td>6.3</td>\n",
       "      <td>1.8</td>\n",
       "      <td>Iris-virginica</td>\n",
       "    </tr>\n",
       "    <tr>\n",
       "      <th>125</th>\n",
       "      <td>126</td>\n",
       "      <td>7.2</td>\n",
       "      <td>3.2</td>\n",
       "      <td>6.0</td>\n",
       "      <td>1.8</td>\n",
       "      <td>Iris-virginica</td>\n",
       "    </tr>\n",
       "    <tr>\n",
       "      <th>109</th>\n",
       "      <td>110</td>\n",
       "      <td>7.2</td>\n",
       "      <td>3.6</td>\n",
       "      <td>6.1</td>\n",
       "      <td>2.5</td>\n",
       "      <td>Iris-virginica</td>\n",
       "    </tr>\n",
       "  </tbody>\n",
       "</table>\n",
       "</div>"
      ],
      "text/plain": [
       "      Id  SepalLengthCm  SepalWidthCm  PetalLengthCm  PetalWidthCm  \\\n",
       "131  132            7.9           3.8            6.4           2.0   \n",
       "135  136            7.7           3.0            6.1           2.3   \n",
       "122  123            7.7           2.8            6.7           2.0   \n",
       "117  118            7.7           3.8            6.7           2.2   \n",
       "118  119            7.7           2.6            6.9           2.3   \n",
       "105  106            7.6           3.0            6.6           2.1   \n",
       "130  131            7.4           2.8            6.1           1.9   \n",
       "107  108            7.3           2.9            6.3           1.8   \n",
       "125  126            7.2           3.2            6.0           1.8   \n",
       "109  110            7.2           3.6            6.1           2.5   \n",
       "\n",
       "            Species  \n",
       "131  Iris-virginica  \n",
       "135  Iris-virginica  \n",
       "122  Iris-virginica  \n",
       "117  Iris-virginica  \n",
       "118  Iris-virginica  \n",
       "105  Iris-virginica  \n",
       "130  Iris-virginica  \n",
       "107  Iris-virginica  \n",
       "125  Iris-virginica  \n",
       "109  Iris-virginica  "
      ]
     },
     "execution_count": 109,
     "metadata": {},
     "output_type": "execute_result"
    }
   ],
   "source": [
    "iris.sort_values(by='SepalLengthCm', ascending=False)[0:10] # ordenación de mayor a menor"
   ]
  },
  {
   "cell_type": "code",
   "execution_count": 110,
   "id": "84465928-91b1-4ded-8797-40167ab6b60b",
   "metadata": {
    "tags": []
   },
   "outputs": [],
   "source": [
    "iris_rename = iris.rename(columns={'SepalLengthCm': 'Longitud_Sepalo',\n",
    "                    'SepalWidthCm': 'Ancho_Sepalo',\n",
    "                    'PetalLengthCm': 'Longitud_Petalo',\n",
    "                    'PetalWidthCm': 'Ancho_Petalo', \n",
    "                    'Species': 'Especies'})"
   ]
  },
  {
   "cell_type": "code",
   "execution_count": 111,
   "id": "25dc34aa-23e8-408d-83fb-90cd0b142d99",
   "metadata": {
    "tags": []
   },
   "outputs": [
    {
     "data": {
      "text/html": [
       "<div>\n",
       "<style scoped>\n",
       "    .dataframe tbody tr th:only-of-type {\n",
       "        vertical-align: middle;\n",
       "    }\n",
       "\n",
       "    .dataframe tbody tr th {\n",
       "        vertical-align: top;\n",
       "    }\n",
       "\n",
       "    .dataframe thead th {\n",
       "        text-align: right;\n",
       "    }\n",
       "</style>\n",
       "<table border=\"1\" class=\"dataframe\">\n",
       "  <thead>\n",
       "    <tr style=\"text-align: right;\">\n",
       "      <th></th>\n",
       "      <th>Id</th>\n",
       "      <th>Longitud_Sepalo</th>\n",
       "      <th>Ancho_Sepalo</th>\n",
       "      <th>Longitud_Petalo</th>\n",
       "      <th>Ancho_Petalo</th>\n",
       "      <th>Especies</th>\n",
       "    </tr>\n",
       "  </thead>\n",
       "  <tbody>\n",
       "    <tr>\n",
       "      <th>140</th>\n",
       "      <td>141</td>\n",
       "      <td>6.7</td>\n",
       "      <td>3.1</td>\n",
       "      <td>5.6</td>\n",
       "      <td>2.4</td>\n",
       "      <td>Iris-virginica</td>\n",
       "    </tr>\n",
       "    <tr>\n",
       "      <th>141</th>\n",
       "      <td>142</td>\n",
       "      <td>6.9</td>\n",
       "      <td>3.1</td>\n",
       "      <td>5.1</td>\n",
       "      <td>2.3</td>\n",
       "      <td>Iris-virginica</td>\n",
       "    </tr>\n",
       "    <tr>\n",
       "      <th>142</th>\n",
       "      <td>143</td>\n",
       "      <td>5.8</td>\n",
       "      <td>2.7</td>\n",
       "      <td>5.1</td>\n",
       "      <td>1.9</td>\n",
       "      <td>Iris-virginica</td>\n",
       "    </tr>\n",
       "    <tr>\n",
       "      <th>143</th>\n",
       "      <td>144</td>\n",
       "      <td>6.8</td>\n",
       "      <td>3.2</td>\n",
       "      <td>5.9</td>\n",
       "      <td>2.3</td>\n",
       "      <td>Iris-virginica</td>\n",
       "    </tr>\n",
       "    <tr>\n",
       "      <th>144</th>\n",
       "      <td>145</td>\n",
       "      <td>6.7</td>\n",
       "      <td>3.3</td>\n",
       "      <td>5.7</td>\n",
       "      <td>2.5</td>\n",
       "      <td>Iris-virginica</td>\n",
       "    </tr>\n",
       "    <tr>\n",
       "      <th>145</th>\n",
       "      <td>146</td>\n",
       "      <td>6.7</td>\n",
       "      <td>3.0</td>\n",
       "      <td>5.2</td>\n",
       "      <td>2.3</td>\n",
       "      <td>Iris-virginica</td>\n",
       "    </tr>\n",
       "    <tr>\n",
       "      <th>146</th>\n",
       "      <td>147</td>\n",
       "      <td>6.3</td>\n",
       "      <td>2.5</td>\n",
       "      <td>5.0</td>\n",
       "      <td>1.9</td>\n",
       "      <td>Iris-virginica</td>\n",
       "    </tr>\n",
       "    <tr>\n",
       "      <th>147</th>\n",
       "      <td>148</td>\n",
       "      <td>6.5</td>\n",
       "      <td>3.0</td>\n",
       "      <td>5.2</td>\n",
       "      <td>2.0</td>\n",
       "      <td>Iris-virginica</td>\n",
       "    </tr>\n",
       "    <tr>\n",
       "      <th>148</th>\n",
       "      <td>149</td>\n",
       "      <td>6.2</td>\n",
       "      <td>3.4</td>\n",
       "      <td>5.4</td>\n",
       "      <td>2.3</td>\n",
       "      <td>Iris-virginica</td>\n",
       "    </tr>\n",
       "    <tr>\n",
       "      <th>149</th>\n",
       "      <td>150</td>\n",
       "      <td>5.9</td>\n",
       "      <td>3.0</td>\n",
       "      <td>5.1</td>\n",
       "      <td>1.8</td>\n",
       "      <td>Iris-virginica</td>\n",
       "    </tr>\n",
       "  </tbody>\n",
       "</table>\n",
       "</div>"
      ],
      "text/plain": [
       "      Id  Longitud_Sepalo  Ancho_Sepalo  Longitud_Petalo  Ancho_Petalo  \\\n",
       "140  141              6.7           3.1              5.6           2.4   \n",
       "141  142              6.9           3.1              5.1           2.3   \n",
       "142  143              5.8           2.7              5.1           1.9   \n",
       "143  144              6.8           3.2              5.9           2.3   \n",
       "144  145              6.7           3.3              5.7           2.5   \n",
       "145  146              6.7           3.0              5.2           2.3   \n",
       "146  147              6.3           2.5              5.0           1.9   \n",
       "147  148              6.5           3.0              5.2           2.0   \n",
       "148  149              6.2           3.4              5.4           2.3   \n",
       "149  150              5.9           3.0              5.1           1.8   \n",
       "\n",
       "           Especies  \n",
       "140  Iris-virginica  \n",
       "141  Iris-virginica  \n",
       "142  Iris-virginica  \n",
       "143  Iris-virginica  \n",
       "144  Iris-virginica  \n",
       "145  Iris-virginica  \n",
       "146  Iris-virginica  \n",
       "147  Iris-virginica  \n",
       "148  Iris-virginica  \n",
       "149  Iris-virginica  "
      ]
     },
     "execution_count": 111,
     "metadata": {},
     "output_type": "execute_result"
    }
   ],
   "source": [
    "iris_rename.tail(10)"
   ]
  },
  {
   "cell_type": "markdown",
   "id": "82c9d02d-9e46-4dd1-92ea-1ba1e6e8bb31",
   "metadata": {},
   "source": [
    "- Manejo de las columnas"
   ]
  },
  {
   "cell_type": "markdown",
   "id": "a25e1603-ad8e-4bf6-b88c-07d7c1c9ffcd",
   "metadata": {},
   "source": [
    "  a) separación de columnas"
   ]
  },
  {
   "cell_type": "code",
   "execution_count": 112,
   "id": "322756ff-bc24-4a20-a15e-64e1de252839",
   "metadata": {
    "tags": []
   },
   "outputs": [
    {
     "data": {
      "text/html": [
       "<div>\n",
       "<style scoped>\n",
       "    .dataframe tbody tr th:only-of-type {\n",
       "        vertical-align: middle;\n",
       "    }\n",
       "\n",
       "    .dataframe tbody tr th {\n",
       "        vertical-align: top;\n",
       "    }\n",
       "\n",
       "    .dataframe thead th {\n",
       "        text-align: right;\n",
       "    }\n",
       "</style>\n",
       "<table border=\"1\" class=\"dataframe\">\n",
       "  <thead>\n",
       "    <tr style=\"text-align: right;\">\n",
       "      <th></th>\n",
       "      <th>Id</th>\n",
       "      <th>Longitud_Sepalo</th>\n",
       "      <th>Ancho_Sepalo</th>\n",
       "      <th>Longitud_Petalo</th>\n",
       "      <th>Ancho_Petalo</th>\n",
       "      <th>Especies</th>\n",
       "      <th>Nombre_Planta</th>\n",
       "      <th>Nombre_Especie</th>\n",
       "    </tr>\n",
       "  </thead>\n",
       "  <tbody>\n",
       "    <tr>\n",
       "      <th>0</th>\n",
       "      <td>1</td>\n",
       "      <td>5.1</td>\n",
       "      <td>3.5</td>\n",
       "      <td>1.4</td>\n",
       "      <td>0.2</td>\n",
       "      <td>Iris-setosa</td>\n",
       "      <td>Iris</td>\n",
       "      <td>setosa</td>\n",
       "    </tr>\n",
       "    <tr>\n",
       "      <th>1</th>\n",
       "      <td>2</td>\n",
       "      <td>4.9</td>\n",
       "      <td>3.0</td>\n",
       "      <td>1.4</td>\n",
       "      <td>0.2</td>\n",
       "      <td>Iris-setosa</td>\n",
       "      <td>Iris</td>\n",
       "      <td>setosa</td>\n",
       "    </tr>\n",
       "    <tr>\n",
       "      <th>2</th>\n",
       "      <td>3</td>\n",
       "      <td>4.7</td>\n",
       "      <td>3.2</td>\n",
       "      <td>1.3</td>\n",
       "      <td>0.2</td>\n",
       "      <td>Iris-setosa</td>\n",
       "      <td>Iris</td>\n",
       "      <td>setosa</td>\n",
       "    </tr>\n",
       "    <tr>\n",
       "      <th>3</th>\n",
       "      <td>4</td>\n",
       "      <td>4.6</td>\n",
       "      <td>3.1</td>\n",
       "      <td>1.5</td>\n",
       "      <td>0.2</td>\n",
       "      <td>Iris-setosa</td>\n",
       "      <td>Iris</td>\n",
       "      <td>setosa</td>\n",
       "    </tr>\n",
       "    <tr>\n",
       "      <th>4</th>\n",
       "      <td>5</td>\n",
       "      <td>5.0</td>\n",
       "      <td>3.6</td>\n",
       "      <td>1.4</td>\n",
       "      <td>0.2</td>\n",
       "      <td>Iris-setosa</td>\n",
       "      <td>Iris</td>\n",
       "      <td>setosa</td>\n",
       "    </tr>\n",
       "  </tbody>\n",
       "</table>\n",
       "</div>"
      ],
      "text/plain": [
       "  Id  Longitud_Sepalo  Ancho_Sepalo  Longitud_Petalo  Ancho_Petalo  \\\n",
       "0  1              5.1           3.5              1.4           0.2   \n",
       "1  2              4.9           3.0              1.4           0.2   \n",
       "2  3              4.7           3.2              1.3           0.2   \n",
       "3  4              4.6           3.1              1.5           0.2   \n",
       "4  5              5.0           3.6              1.4           0.2   \n",
       "\n",
       "      Especies Nombre_Planta Nombre_Especie  \n",
       "0  Iris-setosa          Iris         setosa  \n",
       "1  Iris-setosa          Iris         setosa  \n",
       "2  Iris-setosa          Iris         setosa  \n",
       "3  Iris-setosa          Iris         setosa  \n",
       "4  Iris-setosa          Iris         setosa  "
      ]
     },
     "execution_count": 112,
     "metadata": {},
     "output_type": "execute_result"
    }
   ],
   "source": [
    "iris_rename[['Nombre_Planta', 'Nombre_Especie']] = iris_rename['Especies'].str.split('-',expand=True)\n",
    "\n",
    "iris_rename.head()"
   ]
  },
  {
   "cell_type": "markdown",
   "id": "549d2d41-3caf-4362-b8dd-69f18482b7b0",
   "metadata": {},
   "source": [
    "b) nuevas variables como condición de otras"
   ]
  },
  {
   "cell_type": "code",
   "execution_count": 113,
   "id": "e65b24c2-ecdd-4673-b037-0f7e4fca9243",
   "metadata": {
    "tags": []
   },
   "outputs": [],
   "source": [
    "iris_rename['Var1'] = np.where(iris_rename['Especies'].str.contains('osa'), 1, 0)"
   ]
  },
  {
   "cell_type": "code",
   "execution_count": 114,
   "id": "51f3961d-7cff-41d8-bb7d-85d44e543877",
   "metadata": {
    "tags": []
   },
   "outputs": [],
   "source": [
    "condition = [iris_rename['Longitud_Sepalo']<5.0, \n",
    "        (iris_rename['Ancho_Petalo']>1.0) | (iris_rename['Nombre_Especie']==\"virginica\")\n",
    "            ]                                         \n",
    "\n",
    "value =  ['A', 'B']\n",
    "                                             \n",
    "iris_rename['Var2'] = np.select(condition, value, default='C')"
   ]
  },
  {
   "cell_type": "markdown",
   "id": "3acf79e8-c011-465f-8762-e1e611e66895",
   "metadata": {},
   "source": [
    "c) asignar nuevas variables al dataframe"
   ]
  },
  {
   "cell_type": "code",
   "execution_count": 115,
   "id": "8d4efd40-ed99-4697-b1ac-5315adb1e168",
   "metadata": {
    "tags": []
   },
   "outputs": [],
   "source": [
    "iris_rename = iris_rename.assign(Cociente_Sepalo = iris_rename['Longitud_Sepalo'] / iris_rename['Ancho_Sepalo'])"
   ]
  },
  {
   "cell_type": "code",
   "execution_count": 116,
   "id": "5b34d30d-bb83-4830-a8e9-8678a7c35bb0",
   "metadata": {
    "tags": []
   },
   "outputs": [
    {
     "data": {
      "text/html": [
       "<div>\n",
       "<style scoped>\n",
       "    .dataframe tbody tr th:only-of-type {\n",
       "        vertical-align: middle;\n",
       "    }\n",
       "\n",
       "    .dataframe tbody tr th {\n",
       "        vertical-align: top;\n",
       "    }\n",
       "\n",
       "    .dataframe thead th {\n",
       "        text-align: right;\n",
       "    }\n",
       "</style>\n",
       "<table border=\"1\" class=\"dataframe\">\n",
       "  <thead>\n",
       "    <tr style=\"text-align: right;\">\n",
       "      <th></th>\n",
       "      <th>Id</th>\n",
       "      <th>Longitud_Sepalo</th>\n",
       "      <th>Ancho_Sepalo</th>\n",
       "      <th>Longitud_Petalo</th>\n",
       "      <th>Ancho_Petalo</th>\n",
       "      <th>Especies</th>\n",
       "      <th>Nombre_Planta</th>\n",
       "      <th>Nombre_Especie</th>\n",
       "      <th>Var1</th>\n",
       "      <th>Var2</th>\n",
       "      <th>Cociente_Sepalo</th>\n",
       "    </tr>\n",
       "  </thead>\n",
       "  <tbody>\n",
       "    <tr>\n",
       "      <th>145</th>\n",
       "      <td>146</td>\n",
       "      <td>6.7</td>\n",
       "      <td>3.0</td>\n",
       "      <td>5.2</td>\n",
       "      <td>2.3</td>\n",
       "      <td>Iris-virginica</td>\n",
       "      <td>Iris</td>\n",
       "      <td>virginica</td>\n",
       "      <td>0</td>\n",
       "      <td>B</td>\n",
       "      <td>2.233333</td>\n",
       "    </tr>\n",
       "    <tr>\n",
       "      <th>146</th>\n",
       "      <td>147</td>\n",
       "      <td>6.3</td>\n",
       "      <td>2.5</td>\n",
       "      <td>5.0</td>\n",
       "      <td>1.9</td>\n",
       "      <td>Iris-virginica</td>\n",
       "      <td>Iris</td>\n",
       "      <td>virginica</td>\n",
       "      <td>0</td>\n",
       "      <td>B</td>\n",
       "      <td>2.520000</td>\n",
       "    </tr>\n",
       "    <tr>\n",
       "      <th>147</th>\n",
       "      <td>148</td>\n",
       "      <td>6.5</td>\n",
       "      <td>3.0</td>\n",
       "      <td>5.2</td>\n",
       "      <td>2.0</td>\n",
       "      <td>Iris-virginica</td>\n",
       "      <td>Iris</td>\n",
       "      <td>virginica</td>\n",
       "      <td>0</td>\n",
       "      <td>B</td>\n",
       "      <td>2.166667</td>\n",
       "    </tr>\n",
       "    <tr>\n",
       "      <th>148</th>\n",
       "      <td>149</td>\n",
       "      <td>6.2</td>\n",
       "      <td>3.4</td>\n",
       "      <td>5.4</td>\n",
       "      <td>2.3</td>\n",
       "      <td>Iris-virginica</td>\n",
       "      <td>Iris</td>\n",
       "      <td>virginica</td>\n",
       "      <td>0</td>\n",
       "      <td>B</td>\n",
       "      <td>1.823529</td>\n",
       "    </tr>\n",
       "    <tr>\n",
       "      <th>149</th>\n",
       "      <td>150</td>\n",
       "      <td>5.9</td>\n",
       "      <td>3.0</td>\n",
       "      <td>5.1</td>\n",
       "      <td>1.8</td>\n",
       "      <td>Iris-virginica</td>\n",
       "      <td>Iris</td>\n",
       "      <td>virginica</td>\n",
       "      <td>0</td>\n",
       "      <td>B</td>\n",
       "      <td>1.966667</td>\n",
       "    </tr>\n",
       "  </tbody>\n",
       "</table>\n",
       "</div>"
      ],
      "text/plain": [
       "      Id  Longitud_Sepalo  Ancho_Sepalo  Longitud_Petalo  Ancho_Petalo  \\\n",
       "145  146              6.7           3.0              5.2           2.3   \n",
       "146  147              6.3           2.5              5.0           1.9   \n",
       "147  148              6.5           3.0              5.2           2.0   \n",
       "148  149              6.2           3.4              5.4           2.3   \n",
       "149  150              5.9           3.0              5.1           1.8   \n",
       "\n",
       "           Especies Nombre_Planta Nombre_Especie  Var1 Var2  Cociente_Sepalo  \n",
       "145  Iris-virginica          Iris      virginica     0    B         2.233333  \n",
       "146  Iris-virginica          Iris      virginica     0    B         2.520000  \n",
       "147  Iris-virginica          Iris      virginica     0    B         2.166667  \n",
       "148  Iris-virginica          Iris      virginica     0    B         1.823529  \n",
       "149  Iris-virginica          Iris      virginica     0    B         1.966667  "
      ]
     },
     "execution_count": 116,
     "metadata": {},
     "output_type": "execute_result"
    }
   ],
   "source": [
    "iris_rename.tail()"
   ]
  },
  {
   "cell_type": "markdown",
   "id": "fea36c85-f179-4916-9b01-8654ddc507ae",
   "metadata": {},
   "source": [
    "### <font color='green'> 3.4 Otras operaciones </font>"
   ]
  },
  {
   "cell_type": "markdown",
   "id": "0a007ccf-6051-44ac-b7b6-6a1e42bd6855",
   "metadata": {},
   "source": [
    "- El método **apply**: este método se utiliza para aplicar una función a una fila o columa del data.frame"
   ]
  },
  {
   "cell_type": "code",
   "execution_count": 117,
   "id": "ef7971e1-7666-4de4-ad6f-680a35c29353",
   "metadata": {
    "tags": []
   },
   "outputs": [],
   "source": [
    "c = \"pablo\""
   ]
  },
  {
   "cell_type": "code",
   "execution_count": 118,
   "id": "a2b22636-9b55-4649-baaf-8889480ce3b6",
   "metadata": {
    "tags": []
   },
   "outputs": [
    {
     "data": {
      "text/plain": [
       "'PABLO'"
      ]
     },
     "execution_count": 118,
     "metadata": {},
     "output_type": "execute_result"
    }
   ],
   "source": [
    "c.upper()"
   ]
  },
  {
   "cell_type": "markdown",
   "id": "a6943402-08c7-4257-9ac4-c6e6a1588595",
   "metadata": {},
   "source": [
    "*Ejemplo 1*"
   ]
  },
  {
   "cell_type": "code",
   "execution_count": 119,
   "id": "9a728ba0-ac23-48bc-80f1-266392ed5404",
   "metadata": {
    "tags": []
   },
   "outputs": [],
   "source": [
    "def Mayusculas(x):\n",
    "    return x.upper()"
   ]
  },
  {
   "cell_type": "code",
   "execution_count": 120,
   "id": "1c1730f0-40fd-4a46-b4a6-8b37fd68e8e9",
   "metadata": {
    "tags": []
   },
   "outputs": [],
   "source": [
    "iris_rename['Nombre_Especie_MAY'] = iris_rename['Nombre_Especie'].apply(Mayusculas)"
   ]
  },
  {
   "cell_type": "code",
   "execution_count": 121,
   "id": "26f58db9-f361-4511-b370-300ba28c0ef3",
   "metadata": {
    "tags": []
   },
   "outputs": [
    {
     "data": {
      "text/html": [
       "<div>\n",
       "<style scoped>\n",
       "    .dataframe tbody tr th:only-of-type {\n",
       "        vertical-align: middle;\n",
       "    }\n",
       "\n",
       "    .dataframe tbody tr th {\n",
       "        vertical-align: top;\n",
       "    }\n",
       "\n",
       "    .dataframe thead th {\n",
       "        text-align: right;\n",
       "    }\n",
       "</style>\n",
       "<table border=\"1\" class=\"dataframe\">\n",
       "  <thead>\n",
       "    <tr style=\"text-align: right;\">\n",
       "      <th></th>\n",
       "      <th>Nombre_Especie_MAY</th>\n",
       "      <th>Nombre_Especie</th>\n",
       "    </tr>\n",
       "  </thead>\n",
       "  <tbody>\n",
       "    <tr>\n",
       "      <th>0</th>\n",
       "      <td>SETOSA</td>\n",
       "      <td>setosa</td>\n",
       "    </tr>\n",
       "    <tr>\n",
       "      <th>1</th>\n",
       "      <td>SETOSA</td>\n",
       "      <td>setosa</td>\n",
       "    </tr>\n",
       "    <tr>\n",
       "      <th>2</th>\n",
       "      <td>SETOSA</td>\n",
       "      <td>setosa</td>\n",
       "    </tr>\n",
       "    <tr>\n",
       "      <th>3</th>\n",
       "      <td>SETOSA</td>\n",
       "      <td>setosa</td>\n",
       "    </tr>\n",
       "    <tr>\n",
       "      <th>4</th>\n",
       "      <td>SETOSA</td>\n",
       "      <td>setosa</td>\n",
       "    </tr>\n",
       "  </tbody>\n",
       "</table>\n",
       "</div>"
      ],
      "text/plain": [
       "  Nombre_Especie_MAY Nombre_Especie\n",
       "0             SETOSA         setosa\n",
       "1             SETOSA         setosa\n",
       "2             SETOSA         setosa\n",
       "3             SETOSA         setosa\n",
       "4             SETOSA         setosa"
      ]
     },
     "execution_count": 121,
     "metadata": {},
     "output_type": "execute_result"
    }
   ],
   "source": [
    "iris_rename[['Nombre_Especie_MAY', 'Nombre_Especie']].head()"
   ]
  },
  {
   "cell_type": "markdown",
   "id": "d882fa80-08ec-4401-90f7-c8ea83d5e261",
   "metadata": {
    "tags": []
   },
   "source": [
    "*Ejemplo 2*"
   ]
  },
  {
   "cell_type": "code",
   "execution_count": 122,
   "id": "750424ae-ad1c-4e7e-b9a4-899d35981617",
   "metadata": {
    "tags": []
   },
   "outputs": [],
   "source": [
    "def suma_pond (x,y):\n",
    "    return np.average(x,weights=y)"
   ]
  },
  {
   "cell_type": "code",
   "execution_count": 123,
   "id": "8e78145b-a332-4bcc-92fb-26666980547c",
   "metadata": {
    "tags": []
   },
   "outputs": [
    {
     "data": {
      "text/plain": [
       "Species\n",
       "Iris-setosa        5.048361\n",
       "Iris-versicolor    5.977225\n",
       "Iris-virginica     6.611747\n",
       "dtype: float64"
      ]
     },
     "execution_count": 123,
     "metadata": {},
     "output_type": "execute_result"
    }
   ],
   "source": [
    "iris.groupby('Species').apply(lambda x: suma_pond(x['SepalLengthCm'], x['PetalWidthCm']))"
   ]
  },
  {
   "cell_type": "markdown",
   "id": "4b73c43b-51a1-4fd7-9b4d-07721343d60e",
   "metadata": {},
   "source": [
    "*Ejemplo 3*"
   ]
  },
  {
   "cell_type": "code",
   "execution_count": 124,
   "id": "4195f294-2abc-4448-94a9-16cd88028297",
   "metadata": {},
   "outputs": [],
   "source": [
    "def Cociente(x,y):\n",
    "    return x / y"
   ]
  },
  {
   "cell_type": "code",
   "execution_count": 125,
   "id": "0d2c2304-5b49-49e2-b48d-6abee8f13231",
   "metadata": {},
   "outputs": [],
   "source": [
    "iris_rename['Cociente_Sepalo_2'] = iris_rename.apply(lambda x: Cociente(x.Longitud_Sepalo,x.Ancho_Sepalo),axis=1)"
   ]
  },
  {
   "cell_type": "code",
   "execution_count": 126,
   "id": "d32b8c55-fc7b-4dbe-b9fc-61950d2a9684",
   "metadata": {},
   "outputs": [
    {
     "data": {
      "text/html": [
       "<div>\n",
       "<style scoped>\n",
       "    .dataframe tbody tr th:only-of-type {\n",
       "        vertical-align: middle;\n",
       "    }\n",
       "\n",
       "    .dataframe tbody tr th {\n",
       "        vertical-align: top;\n",
       "    }\n",
       "\n",
       "    .dataframe thead th {\n",
       "        text-align: right;\n",
       "    }\n",
       "</style>\n",
       "<table border=\"1\" class=\"dataframe\">\n",
       "  <thead>\n",
       "    <tr style=\"text-align: right;\">\n",
       "      <th></th>\n",
       "      <th>Longitud_Sepalo</th>\n",
       "      <th>Ancho_Sepalo</th>\n",
       "      <th>Cociente_Sepalo</th>\n",
       "      <th>Cociente_Sepalo_2</th>\n",
       "    </tr>\n",
       "  </thead>\n",
       "  <tbody>\n",
       "    <tr>\n",
       "      <th>0</th>\n",
       "      <td>5.1</td>\n",
       "      <td>3.5</td>\n",
       "      <td>1.457143</td>\n",
       "      <td>1.457143</td>\n",
       "    </tr>\n",
       "    <tr>\n",
       "      <th>1</th>\n",
       "      <td>4.9</td>\n",
       "      <td>3.0</td>\n",
       "      <td>1.633333</td>\n",
       "      <td>1.633333</td>\n",
       "    </tr>\n",
       "    <tr>\n",
       "      <th>2</th>\n",
       "      <td>4.7</td>\n",
       "      <td>3.2</td>\n",
       "      <td>1.468750</td>\n",
       "      <td>1.468750</td>\n",
       "    </tr>\n",
       "    <tr>\n",
       "      <th>3</th>\n",
       "      <td>4.6</td>\n",
       "      <td>3.1</td>\n",
       "      <td>1.483871</td>\n",
       "      <td>1.483871</td>\n",
       "    </tr>\n",
       "    <tr>\n",
       "      <th>4</th>\n",
       "      <td>5.0</td>\n",
       "      <td>3.6</td>\n",
       "      <td>1.388889</td>\n",
       "      <td>1.388889</td>\n",
       "    </tr>\n",
       "  </tbody>\n",
       "</table>\n",
       "</div>"
      ],
      "text/plain": [
       "   Longitud_Sepalo  Ancho_Sepalo  Cociente_Sepalo  Cociente_Sepalo_2\n",
       "0              5.1           3.5         1.457143           1.457143\n",
       "1              4.9           3.0         1.633333           1.633333\n",
       "2              4.7           3.2         1.468750           1.468750\n",
       "3              4.6           3.1         1.483871           1.483871\n",
       "4              5.0           3.6         1.388889           1.388889"
      ]
     },
     "execution_count": 126,
     "metadata": {},
     "output_type": "execute_result"
    }
   ],
   "source": [
    "iris_rename[['Longitud_Sepalo', 'Ancho_Sepalo', 'Cociente_Sepalo', 'Cociente_Sepalo_2']].head()"
   ]
  },
  {
   "cell_type": "markdown",
   "id": "e55253d5-85e1-496b-aa8b-63cc0076bd83",
   "metadata": {},
   "source": [
    "- Otras cosas de interés"
   ]
  },
  {
   "cell_type": "markdown",
   "id": "741c9192-252c-4480-b585-48f76641a395",
   "metadata": {
    "tags": []
   },
   "source": [
    "*Tabla de frecuencias*"
   ]
  },
  {
   "cell_type": "code",
   "execution_count": 127,
   "id": "e6b41801-9b17-48a0-be36-56925a3fd755",
   "metadata": {},
   "outputs": [
    {
     "data": {
      "text/html": [
       "<div>\n",
       "<style scoped>\n",
       "    .dataframe tbody tr th:only-of-type {\n",
       "        vertical-align: middle;\n",
       "    }\n",
       "\n",
       "    .dataframe tbody tr th {\n",
       "        vertical-align: top;\n",
       "    }\n",
       "\n",
       "    .dataframe thead th {\n",
       "        text-align: right;\n",
       "    }\n",
       "</style>\n",
       "<table border=\"1\" class=\"dataframe\">\n",
       "  <thead>\n",
       "    <tr style=\"text-align: right;\">\n",
       "      <th>Nombre_Especie</th>\n",
       "      <th>setosa</th>\n",
       "      <th>versicolor</th>\n",
       "      <th>virginica</th>\n",
       "    </tr>\n",
       "    <tr>\n",
       "      <th>Var1</th>\n",
       "      <th></th>\n",
       "      <th></th>\n",
       "      <th></th>\n",
       "    </tr>\n",
       "  </thead>\n",
       "  <tbody>\n",
       "    <tr>\n",
       "      <th>0</th>\n",
       "      <td>0</td>\n",
       "      <td>50</td>\n",
       "      <td>50</td>\n",
       "    </tr>\n",
       "    <tr>\n",
       "      <th>1</th>\n",
       "      <td>50</td>\n",
       "      <td>0</td>\n",
       "      <td>0</td>\n",
       "    </tr>\n",
       "  </tbody>\n",
       "</table>\n",
       "</div>"
      ],
      "text/plain": [
       "Nombre_Especie  setosa  versicolor  virginica\n",
       "Var1                                         \n",
       "0                    0          50         50\n",
       "1                   50           0          0"
      ]
     },
     "execution_count": 127,
     "metadata": {},
     "output_type": "execute_result"
    }
   ],
   "source": [
    "pd.crosstab(iris_rename['Var1'], iris_rename['Nombre_Especie']) # tabla de frecuencias"
   ]
  },
  {
   "cell_type": "code",
   "execution_count": 128,
   "id": "7320841b-0ca9-4ca6-a887-940d0d73d91a",
   "metadata": {},
   "outputs": [
    {
     "data": {
      "text/html": [
       "<div>\n",
       "<style scoped>\n",
       "    .dataframe tbody tr th:only-of-type {\n",
       "        vertical-align: middle;\n",
       "    }\n",
       "\n",
       "    .dataframe tbody tr th {\n",
       "        vertical-align: top;\n",
       "    }\n",
       "\n",
       "    .dataframe thead th {\n",
       "        text-align: right;\n",
       "    }\n",
       "</style>\n",
       "<table border=\"1\" class=\"dataframe\">\n",
       "  <thead>\n",
       "    <tr style=\"text-align: right;\">\n",
       "      <th>Nombre_Especie</th>\n",
       "      <th>setosa</th>\n",
       "      <th>versicolor</th>\n",
       "      <th>virginica</th>\n",
       "    </tr>\n",
       "    <tr>\n",
       "      <th>Var2</th>\n",
       "      <th></th>\n",
       "      <th></th>\n",
       "      <th></th>\n",
       "    </tr>\n",
       "  </thead>\n",
       "  <tbody>\n",
       "    <tr>\n",
       "      <th>A</th>\n",
       "      <td>20</td>\n",
       "      <td>1</td>\n",
       "      <td>1</td>\n",
       "    </tr>\n",
       "    <tr>\n",
       "      <th>B</th>\n",
       "      <td>0</td>\n",
       "      <td>43</td>\n",
       "      <td>49</td>\n",
       "    </tr>\n",
       "    <tr>\n",
       "      <th>C</th>\n",
       "      <td>30</td>\n",
       "      <td>6</td>\n",
       "      <td>0</td>\n",
       "    </tr>\n",
       "  </tbody>\n",
       "</table>\n",
       "</div>"
      ],
      "text/plain": [
       "Nombre_Especie  setosa  versicolor  virginica\n",
       "Var2                                         \n",
       "A                   20           1          1\n",
       "B                    0          43         49\n",
       "C                   30           6          0"
      ]
     },
     "execution_count": 128,
     "metadata": {},
     "output_type": "execute_result"
    }
   ],
   "source": [
    "pd.crosstab(iris_rename['Var2'], iris_rename['Nombre_Especie']) # tabla de frecuencias"
   ]
  },
  {
   "cell_type": "markdown",
   "id": "2b16cfe9-3b6c-4cad-94b5-778f215dee00",
   "metadata": {},
   "source": [
    "*Pivot-table*"
   ]
  },
  {
   "cell_type": "code",
   "execution_count": 129,
   "id": "c1760871-81ac-4a20-956f-200eced471a2",
   "metadata": {
    "tags": []
   },
   "outputs": [],
   "source": [
    "pivot_table = pd.pivot_table(iris_rename, \n",
    "               values='Longitud_Sepalo', \n",
    "               columns='Var2', \n",
    "               index=['Nombre_Especie', 'Var1'], \n",
    "               aggfunc=np.mean)\n",
    "\n",
    "pivot_table = pivot_table.fillna(0)"
   ]
  },
  {
   "cell_type": "code",
   "execution_count": 130,
   "id": "e5c1849b-564f-4694-b16a-8bcdcfda6712",
   "metadata": {
    "tags": []
   },
   "outputs": [
    {
     "data": {
      "text/html": [
       "<div>\n",
       "<style scoped>\n",
       "    .dataframe tbody tr th:only-of-type {\n",
       "        vertical-align: middle;\n",
       "    }\n",
       "\n",
       "    .dataframe tbody tr th {\n",
       "        vertical-align: top;\n",
       "    }\n",
       "\n",
       "    .dataframe thead th {\n",
       "        text-align: right;\n",
       "    }\n",
       "</style>\n",
       "<table border=\"1\" class=\"dataframe\">\n",
       "  <thead>\n",
       "    <tr style=\"text-align: right;\">\n",
       "      <th></th>\n",
       "      <th>Var2</th>\n",
       "      <th>A</th>\n",
       "      <th>B</th>\n",
       "      <th>C</th>\n",
       "    </tr>\n",
       "    <tr>\n",
       "      <th>Nombre_Especie</th>\n",
       "      <th>Var1</th>\n",
       "      <th></th>\n",
       "      <th></th>\n",
       "      <th></th>\n",
       "    </tr>\n",
       "  </thead>\n",
       "  <tbody>\n",
       "    <tr>\n",
       "      <th>setosa</th>\n",
       "      <th>1</th>\n",
       "      <td>4.67</td>\n",
       "      <td>0.000000</td>\n",
       "      <td>5.23</td>\n",
       "    </tr>\n",
       "    <tr>\n",
       "      <th>versicolor</th>\n",
       "      <th>0</th>\n",
       "      <td>4.90</td>\n",
       "      <td>6.020930</td>\n",
       "      <td>5.50</td>\n",
       "    </tr>\n",
       "    <tr>\n",
       "      <th>virginica</th>\n",
       "      <th>0</th>\n",
       "      <td>4.90</td>\n",
       "      <td>6.622449</td>\n",
       "      <td>0.00</td>\n",
       "    </tr>\n",
       "  </tbody>\n",
       "</table>\n",
       "</div>"
      ],
      "text/plain": [
       "Var2                    A         B     C\n",
       "Nombre_Especie Var1                      \n",
       "setosa         1     4.67  0.000000  5.23\n",
       "versicolor     0     4.90  6.020930  5.50\n",
       "virginica      0     4.90  6.622449  0.00"
      ]
     },
     "execution_count": 130,
     "metadata": {},
     "output_type": "execute_result"
    }
   ],
   "source": [
    "pivot_table"
   ]
  },
  {
   "cell_type": "markdown",
   "id": "6449b400-2fa6-401e-9a72-c51baf9883e2",
   "metadata": {},
   "source": [
    "### <font color='green'> 3.5 Tratamiento de ficheros </font>"
   ]
  },
  {
   "cell_type": "markdown",
   "id": "ed361fb1-47da-4264-b93e-b4c39c38b6de",
   "metadata": {
    "tags": []
   },
   "source": [
    "- Lectura de ficheros en formato *csv*"
   ]
  },
  {
   "cell_type": "code",
   "execution_count": 131,
   "id": "d6f55081-ba40-4cc9-9a78-881626099bb4",
   "metadata": {
    "tags": []
   },
   "outputs": [
    {
     "ename": "FileNotFoundError",
     "evalue": "[Errno 2] No such file or directory: 'personas.csv'",
     "output_type": "error",
     "traceback": [
      "\u001b[1;31m---------------------------------------------------------------------------\u001b[0m",
      "\u001b[1;31mFileNotFoundError\u001b[0m                         Traceback (most recent call last)",
      "Cell \u001b[1;32mIn[131], line 1\u001b[0m\n\u001b[1;32m----> 1\u001b[0m personas \u001b[38;5;241m=\u001b[39m pd\u001b[38;5;241m.\u001b[39mread_csv(\u001b[38;5;124m'\u001b[39m\u001b[38;5;124mpersonas.csv\u001b[39m\u001b[38;5;124m'\u001b[39m, sep\u001b[38;5;241m=\u001b[39m\u001b[38;5;124m'\u001b[39m\u001b[38;5;124m;\u001b[39m\u001b[38;5;124m'\u001b[39m)\n\u001b[0;32m      2\u001b[0m paises \u001b[38;5;241m=\u001b[39m pd\u001b[38;5;241m.\u001b[39mread_csv(\u001b[38;5;124m'\u001b[39m\u001b[38;5;124mpaises.csv\u001b[39m\u001b[38;5;124m'\u001b[39m, sep\u001b[38;5;241m=\u001b[39m\u001b[38;5;124m'\u001b[39m\u001b[38;5;124m;\u001b[39m\u001b[38;5;124m'\u001b[39m)\n",
      "File \u001b[1;32m~\\anaconda3\\Lib\\site-packages\\pandas\\util\\_decorators.py:211\u001b[0m, in \u001b[0;36mdeprecate_kwarg.<locals>._deprecate_kwarg.<locals>.wrapper\u001b[1;34m(*args, **kwargs)\u001b[0m\n\u001b[0;32m    209\u001b[0m     \u001b[38;5;28;01melse\u001b[39;00m:\n\u001b[0;32m    210\u001b[0m         kwargs[new_arg_name] \u001b[38;5;241m=\u001b[39m new_arg_value\n\u001b[1;32m--> 211\u001b[0m \u001b[38;5;28;01mreturn\u001b[39;00m func(\u001b[38;5;241m*\u001b[39margs, \u001b[38;5;241m*\u001b[39m\u001b[38;5;241m*\u001b[39mkwargs)\n",
      "File \u001b[1;32m~\\anaconda3\\Lib\\site-packages\\pandas\\util\\_decorators.py:331\u001b[0m, in \u001b[0;36mdeprecate_nonkeyword_arguments.<locals>.decorate.<locals>.wrapper\u001b[1;34m(*args, **kwargs)\u001b[0m\n\u001b[0;32m    325\u001b[0m \u001b[38;5;28;01mif\u001b[39;00m \u001b[38;5;28mlen\u001b[39m(args) \u001b[38;5;241m>\u001b[39m num_allow_args:\n\u001b[0;32m    326\u001b[0m     warnings\u001b[38;5;241m.\u001b[39mwarn(\n\u001b[0;32m    327\u001b[0m         msg\u001b[38;5;241m.\u001b[39mformat(arguments\u001b[38;5;241m=\u001b[39m_format_argument_list(allow_args)),\n\u001b[0;32m    328\u001b[0m         \u001b[38;5;167;01mFutureWarning\u001b[39;00m,\n\u001b[0;32m    329\u001b[0m         stacklevel\u001b[38;5;241m=\u001b[39mfind_stack_level(),\n\u001b[0;32m    330\u001b[0m     )\n\u001b[1;32m--> 331\u001b[0m \u001b[38;5;28;01mreturn\u001b[39;00m func(\u001b[38;5;241m*\u001b[39margs, \u001b[38;5;241m*\u001b[39m\u001b[38;5;241m*\u001b[39mkwargs)\n",
      "File \u001b[1;32m~\\anaconda3\\Lib\\site-packages\\pandas\\io\\parsers\\readers.py:950\u001b[0m, in \u001b[0;36mread_csv\u001b[1;34m(filepath_or_buffer, sep, delimiter, header, names, index_col, usecols, squeeze, prefix, mangle_dupe_cols, dtype, engine, converters, true_values, false_values, skipinitialspace, skiprows, skipfooter, nrows, na_values, keep_default_na, na_filter, verbose, skip_blank_lines, parse_dates, infer_datetime_format, keep_date_col, date_parser, dayfirst, cache_dates, iterator, chunksize, compression, thousands, decimal, lineterminator, quotechar, quoting, doublequote, escapechar, comment, encoding, encoding_errors, dialect, error_bad_lines, warn_bad_lines, on_bad_lines, delim_whitespace, low_memory, memory_map, float_precision, storage_options)\u001b[0m\n\u001b[0;32m    935\u001b[0m kwds_defaults \u001b[38;5;241m=\u001b[39m _refine_defaults_read(\n\u001b[0;32m    936\u001b[0m     dialect,\n\u001b[0;32m    937\u001b[0m     delimiter,\n\u001b[1;32m   (...)\u001b[0m\n\u001b[0;32m    946\u001b[0m     defaults\u001b[38;5;241m=\u001b[39m{\u001b[38;5;124m\"\u001b[39m\u001b[38;5;124mdelimiter\u001b[39m\u001b[38;5;124m\"\u001b[39m: \u001b[38;5;124m\"\u001b[39m\u001b[38;5;124m,\u001b[39m\u001b[38;5;124m\"\u001b[39m},\n\u001b[0;32m    947\u001b[0m )\n\u001b[0;32m    948\u001b[0m kwds\u001b[38;5;241m.\u001b[39mupdate(kwds_defaults)\n\u001b[1;32m--> 950\u001b[0m \u001b[38;5;28;01mreturn\u001b[39;00m _read(filepath_or_buffer, kwds)\n",
      "File \u001b[1;32m~\\anaconda3\\Lib\\site-packages\\pandas\\io\\parsers\\readers.py:605\u001b[0m, in \u001b[0;36m_read\u001b[1;34m(filepath_or_buffer, kwds)\u001b[0m\n\u001b[0;32m    602\u001b[0m _validate_names(kwds\u001b[38;5;241m.\u001b[39mget(\u001b[38;5;124m\"\u001b[39m\u001b[38;5;124mnames\u001b[39m\u001b[38;5;124m\"\u001b[39m, \u001b[38;5;28;01mNone\u001b[39;00m))\n\u001b[0;32m    604\u001b[0m \u001b[38;5;66;03m# Create the parser.\u001b[39;00m\n\u001b[1;32m--> 605\u001b[0m parser \u001b[38;5;241m=\u001b[39m TextFileReader(filepath_or_buffer, \u001b[38;5;241m*\u001b[39m\u001b[38;5;241m*\u001b[39mkwds)\n\u001b[0;32m    607\u001b[0m \u001b[38;5;28;01mif\u001b[39;00m chunksize \u001b[38;5;129;01mor\u001b[39;00m iterator:\n\u001b[0;32m    608\u001b[0m     \u001b[38;5;28;01mreturn\u001b[39;00m parser\n",
      "File \u001b[1;32m~\\anaconda3\\Lib\\site-packages\\pandas\\io\\parsers\\readers.py:1442\u001b[0m, in \u001b[0;36mTextFileReader.__init__\u001b[1;34m(self, f, engine, **kwds)\u001b[0m\n\u001b[0;32m   1439\u001b[0m     \u001b[38;5;28mself\u001b[39m\u001b[38;5;241m.\u001b[39moptions[\u001b[38;5;124m\"\u001b[39m\u001b[38;5;124mhas_index_names\u001b[39m\u001b[38;5;124m\"\u001b[39m] \u001b[38;5;241m=\u001b[39m kwds[\u001b[38;5;124m\"\u001b[39m\u001b[38;5;124mhas_index_names\u001b[39m\u001b[38;5;124m\"\u001b[39m]\n\u001b[0;32m   1441\u001b[0m \u001b[38;5;28mself\u001b[39m\u001b[38;5;241m.\u001b[39mhandles: IOHandles \u001b[38;5;241m|\u001b[39m \u001b[38;5;28;01mNone\u001b[39;00m \u001b[38;5;241m=\u001b[39m \u001b[38;5;28;01mNone\u001b[39;00m\n\u001b[1;32m-> 1442\u001b[0m \u001b[38;5;28mself\u001b[39m\u001b[38;5;241m.\u001b[39m_engine \u001b[38;5;241m=\u001b[39m \u001b[38;5;28mself\u001b[39m\u001b[38;5;241m.\u001b[39m_make_engine(f, \u001b[38;5;28mself\u001b[39m\u001b[38;5;241m.\u001b[39mengine)\n",
      "File \u001b[1;32m~\\anaconda3\\Lib\\site-packages\\pandas\\io\\parsers\\readers.py:1735\u001b[0m, in \u001b[0;36mTextFileReader._make_engine\u001b[1;34m(self, f, engine)\u001b[0m\n\u001b[0;32m   1733\u001b[0m     \u001b[38;5;28;01mif\u001b[39;00m \u001b[38;5;124m\"\u001b[39m\u001b[38;5;124mb\u001b[39m\u001b[38;5;124m\"\u001b[39m \u001b[38;5;129;01mnot\u001b[39;00m \u001b[38;5;129;01min\u001b[39;00m mode:\n\u001b[0;32m   1734\u001b[0m         mode \u001b[38;5;241m+\u001b[39m\u001b[38;5;241m=\u001b[39m \u001b[38;5;124m\"\u001b[39m\u001b[38;5;124mb\u001b[39m\u001b[38;5;124m\"\u001b[39m\n\u001b[1;32m-> 1735\u001b[0m \u001b[38;5;28mself\u001b[39m\u001b[38;5;241m.\u001b[39mhandles \u001b[38;5;241m=\u001b[39m get_handle(\n\u001b[0;32m   1736\u001b[0m     f,\n\u001b[0;32m   1737\u001b[0m     mode,\n\u001b[0;32m   1738\u001b[0m     encoding\u001b[38;5;241m=\u001b[39m\u001b[38;5;28mself\u001b[39m\u001b[38;5;241m.\u001b[39moptions\u001b[38;5;241m.\u001b[39mget(\u001b[38;5;124m\"\u001b[39m\u001b[38;5;124mencoding\u001b[39m\u001b[38;5;124m\"\u001b[39m, \u001b[38;5;28;01mNone\u001b[39;00m),\n\u001b[0;32m   1739\u001b[0m     compression\u001b[38;5;241m=\u001b[39m\u001b[38;5;28mself\u001b[39m\u001b[38;5;241m.\u001b[39moptions\u001b[38;5;241m.\u001b[39mget(\u001b[38;5;124m\"\u001b[39m\u001b[38;5;124mcompression\u001b[39m\u001b[38;5;124m\"\u001b[39m, \u001b[38;5;28;01mNone\u001b[39;00m),\n\u001b[0;32m   1740\u001b[0m     memory_map\u001b[38;5;241m=\u001b[39m\u001b[38;5;28mself\u001b[39m\u001b[38;5;241m.\u001b[39moptions\u001b[38;5;241m.\u001b[39mget(\u001b[38;5;124m\"\u001b[39m\u001b[38;5;124mmemory_map\u001b[39m\u001b[38;5;124m\"\u001b[39m, \u001b[38;5;28;01mFalse\u001b[39;00m),\n\u001b[0;32m   1741\u001b[0m     is_text\u001b[38;5;241m=\u001b[39mis_text,\n\u001b[0;32m   1742\u001b[0m     errors\u001b[38;5;241m=\u001b[39m\u001b[38;5;28mself\u001b[39m\u001b[38;5;241m.\u001b[39moptions\u001b[38;5;241m.\u001b[39mget(\u001b[38;5;124m\"\u001b[39m\u001b[38;5;124mencoding_errors\u001b[39m\u001b[38;5;124m\"\u001b[39m, \u001b[38;5;124m\"\u001b[39m\u001b[38;5;124mstrict\u001b[39m\u001b[38;5;124m\"\u001b[39m),\n\u001b[0;32m   1743\u001b[0m     storage_options\u001b[38;5;241m=\u001b[39m\u001b[38;5;28mself\u001b[39m\u001b[38;5;241m.\u001b[39moptions\u001b[38;5;241m.\u001b[39mget(\u001b[38;5;124m\"\u001b[39m\u001b[38;5;124mstorage_options\u001b[39m\u001b[38;5;124m\"\u001b[39m, \u001b[38;5;28;01mNone\u001b[39;00m),\n\u001b[0;32m   1744\u001b[0m )\n\u001b[0;32m   1745\u001b[0m \u001b[38;5;28;01massert\u001b[39;00m \u001b[38;5;28mself\u001b[39m\u001b[38;5;241m.\u001b[39mhandles \u001b[38;5;129;01mis\u001b[39;00m \u001b[38;5;129;01mnot\u001b[39;00m \u001b[38;5;28;01mNone\u001b[39;00m\n\u001b[0;32m   1746\u001b[0m f \u001b[38;5;241m=\u001b[39m \u001b[38;5;28mself\u001b[39m\u001b[38;5;241m.\u001b[39mhandles\u001b[38;5;241m.\u001b[39mhandle\n",
      "File \u001b[1;32m~\\anaconda3\\Lib\\site-packages\\pandas\\io\\common.py:856\u001b[0m, in \u001b[0;36mget_handle\u001b[1;34m(path_or_buf, mode, encoding, compression, memory_map, is_text, errors, storage_options)\u001b[0m\n\u001b[0;32m    851\u001b[0m \u001b[38;5;28;01melif\u001b[39;00m \u001b[38;5;28misinstance\u001b[39m(handle, \u001b[38;5;28mstr\u001b[39m):\n\u001b[0;32m    852\u001b[0m     \u001b[38;5;66;03m# Check whether the filename is to be opened in binary mode.\u001b[39;00m\n\u001b[0;32m    853\u001b[0m     \u001b[38;5;66;03m# Binary mode does not support 'encoding' and 'newline'.\u001b[39;00m\n\u001b[0;32m    854\u001b[0m     \u001b[38;5;28;01mif\u001b[39;00m ioargs\u001b[38;5;241m.\u001b[39mencoding \u001b[38;5;129;01mand\u001b[39;00m \u001b[38;5;124m\"\u001b[39m\u001b[38;5;124mb\u001b[39m\u001b[38;5;124m\"\u001b[39m \u001b[38;5;129;01mnot\u001b[39;00m \u001b[38;5;129;01min\u001b[39;00m ioargs\u001b[38;5;241m.\u001b[39mmode:\n\u001b[0;32m    855\u001b[0m         \u001b[38;5;66;03m# Encoding\u001b[39;00m\n\u001b[1;32m--> 856\u001b[0m         handle \u001b[38;5;241m=\u001b[39m \u001b[38;5;28mopen\u001b[39m(\n\u001b[0;32m    857\u001b[0m             handle,\n\u001b[0;32m    858\u001b[0m             ioargs\u001b[38;5;241m.\u001b[39mmode,\n\u001b[0;32m    859\u001b[0m             encoding\u001b[38;5;241m=\u001b[39mioargs\u001b[38;5;241m.\u001b[39mencoding,\n\u001b[0;32m    860\u001b[0m             errors\u001b[38;5;241m=\u001b[39merrors,\n\u001b[0;32m    861\u001b[0m             newline\u001b[38;5;241m=\u001b[39m\u001b[38;5;124m\"\u001b[39m\u001b[38;5;124m\"\u001b[39m,\n\u001b[0;32m    862\u001b[0m         )\n\u001b[0;32m    863\u001b[0m     \u001b[38;5;28;01melse\u001b[39;00m:\n\u001b[0;32m    864\u001b[0m         \u001b[38;5;66;03m# Binary mode\u001b[39;00m\n\u001b[0;32m    865\u001b[0m         handle \u001b[38;5;241m=\u001b[39m \u001b[38;5;28mopen\u001b[39m(handle, ioargs\u001b[38;5;241m.\u001b[39mmode)\n",
      "\u001b[1;31mFileNotFoundError\u001b[0m: [Errno 2] No such file or directory: 'personas.csv'"
     ]
    }
   ],
   "source": [
    "personas = pd.read_csv('personas.csv', sep=';')\n",
    "paises = pd.read_csv('paises.csv', sep=';')"
   ]
  },
  {
   "cell_type": "code",
   "execution_count": 158,
   "id": "39048db9-82f6-400b-b089-11a31e2247c2",
   "metadata": {
    "tags": []
   },
   "outputs": [
    {
     "name": "stdout",
     "output_type": "stream",
     "text": [
      "Tablón Personas - filas 6 y columnas 3\n",
      "Tablón Paises - filas 4 y columnas 2\n"
     ]
    }
   ],
   "source": [
    "print(f'Tablón Personas - filas {personas.shape[0]} y columnas {personas.shape[1]}')\n",
    "print(f'Tablón Paises - filas {paises.shape[0]} y columnas {paises.shape[1]}')"
   ]
  },
  {
   "cell_type": "code",
   "execution_count": 5,
   "id": "46106c4f-a56e-40f4-9667-39cc63cd2547",
   "metadata": {},
   "outputs": [
    {
     "data": {
      "text/html": [
       "<div>\n",
       "<style scoped>\n",
       "    .dataframe tbody tr th:only-of-type {\n",
       "        vertical-align: middle;\n",
       "    }\n",
       "\n",
       "    .dataframe tbody tr th {\n",
       "        vertical-align: top;\n",
       "    }\n",
       "\n",
       "    .dataframe thead th {\n",
       "        text-align: right;\n",
       "    }\n",
       "</style>\n",
       "<table border=\"1\" class=\"dataframe\">\n",
       "  <thead>\n",
       "    <tr style=\"text-align: right;\">\n",
       "      <th></th>\n",
       "      <th>ID</th>\n",
       "      <th>Nombre</th>\n",
       "      <th>Nacionalidad</th>\n",
       "    </tr>\n",
       "  </thead>\n",
       "  <tbody>\n",
       "    <tr>\n",
       "      <th>0</th>\n",
       "      <td>1</td>\n",
       "      <td>Laura</td>\n",
       "      <td>ES</td>\n",
       "    </tr>\n",
       "    <tr>\n",
       "      <th>1</th>\n",
       "      <td>2</td>\n",
       "      <td>John</td>\n",
       "      <td>US</td>\n",
       "    </tr>\n",
       "    <tr>\n",
       "      <th>2</th>\n",
       "      <td>3</td>\n",
       "      <td>Esteban</td>\n",
       "      <td>ES</td>\n",
       "    </tr>\n",
       "    <tr>\n",
       "      <th>3</th>\n",
       "      <td>4</td>\n",
       "      <td>Catherine</td>\n",
       "      <td>UK</td>\n",
       "    </tr>\n",
       "    <tr>\n",
       "      <th>4</th>\n",
       "      <td>5</td>\n",
       "      <td>Ilayda</td>\n",
       "      <td>TR</td>\n",
       "    </tr>\n",
       "    <tr>\n",
       "      <th>5</th>\n",
       "      <td>6</td>\n",
       "      <td>Pierre</td>\n",
       "      <td>IT</td>\n",
       "    </tr>\n",
       "  </tbody>\n",
       "</table>\n",
       "</div>"
      ],
      "text/plain": [
       "   ID     Nombre Nacionalidad\n",
       "0   1      Laura           ES\n",
       "1   2       John           US\n",
       "2   3    Esteban           ES\n",
       "3   4  Catherine           UK\n",
       "4   5     Ilayda           TR\n",
       "5   6     Pierre           IT"
      ]
     },
     "execution_count": 5,
     "metadata": {},
     "output_type": "execute_result"
    }
   ],
   "source": [
    "personas"
   ]
  },
  {
   "cell_type": "code",
   "execution_count": 6,
   "id": "bd594b6a-6519-4cda-b0f6-19e9481100f6",
   "metadata": {},
   "outputs": [
    {
     "data": {
      "text/html": [
       "<div>\n",
       "<style scoped>\n",
       "    .dataframe tbody tr th:only-of-type {\n",
       "        vertical-align: middle;\n",
       "    }\n",
       "\n",
       "    .dataframe tbody tr th {\n",
       "        vertical-align: top;\n",
       "    }\n",
       "\n",
       "    .dataframe thead th {\n",
       "        text-align: right;\n",
       "    }\n",
       "</style>\n",
       "<table border=\"1\" class=\"dataframe\">\n",
       "  <thead>\n",
       "    <tr style=\"text-align: right;\">\n",
       "      <th></th>\n",
       "      <th>Codigo</th>\n",
       "      <th>Descripcion</th>\n",
       "    </tr>\n",
       "  </thead>\n",
       "  <tbody>\n",
       "    <tr>\n",
       "      <th>0</th>\n",
       "      <td>ES</td>\n",
       "      <td>España</td>\n",
       "    </tr>\n",
       "    <tr>\n",
       "      <th>1</th>\n",
       "      <td>UK</td>\n",
       "      <td>Reino Unido</td>\n",
       "    </tr>\n",
       "    <tr>\n",
       "      <th>2</th>\n",
       "      <td>US</td>\n",
       "      <td>Estados Unidos de América</td>\n",
       "    </tr>\n",
       "    <tr>\n",
       "      <th>3</th>\n",
       "      <td>DE</td>\n",
       "      <td>Alemania</td>\n",
       "    </tr>\n",
       "  </tbody>\n",
       "</table>\n",
       "</div>"
      ],
      "text/plain": [
       "  Codigo                Descripcion\n",
       "0     ES                     España\n",
       "1     UK                Reino Unido\n",
       "2     US  Estados Unidos de América\n",
       "3     DE                   Alemania"
      ]
     },
     "execution_count": 6,
     "metadata": {},
     "output_type": "execute_result"
    }
   ],
   "source": [
    "paises"
   ]
  },
  {
   "cell_type": "markdown",
   "id": "a319acdf-9216-4402-a1cf-1a58b1c82a46",
   "metadata": {},
   "source": [
    "- Unión de los dataframes"
   ]
  },
  {
   "cell_type": "markdown",
   "id": "2fb2d29d-7385-427b-b8ae-45714c2be8cd",
   "metadata": {},
   "source": [
    "*Left*"
   ]
  },
  {
   "cell_type": "code",
   "execution_count": 7,
   "id": "5839da84-96a1-4fba-8ce3-f440083b5d0e",
   "metadata": {},
   "outputs": [
    {
     "data": {
      "text/html": [
       "<div>\n",
       "<style scoped>\n",
       "    .dataframe tbody tr th:only-of-type {\n",
       "        vertical-align: middle;\n",
       "    }\n",
       "\n",
       "    .dataframe tbody tr th {\n",
       "        vertical-align: top;\n",
       "    }\n",
       "\n",
       "    .dataframe thead th {\n",
       "        text-align: right;\n",
       "    }\n",
       "</style>\n",
       "<table border=\"1\" class=\"dataframe\">\n",
       "  <thead>\n",
       "    <tr style=\"text-align: right;\">\n",
       "      <th></th>\n",
       "      <th>ID</th>\n",
       "      <th>Nombre</th>\n",
       "      <th>Nacionalidad</th>\n",
       "      <th>Codigo</th>\n",
       "      <th>Descripcion</th>\n",
       "    </tr>\n",
       "  </thead>\n",
       "  <tbody>\n",
       "    <tr>\n",
       "      <th>0</th>\n",
       "      <td>1</td>\n",
       "      <td>Laura</td>\n",
       "      <td>ES</td>\n",
       "      <td>ES</td>\n",
       "      <td>España</td>\n",
       "    </tr>\n",
       "    <tr>\n",
       "      <th>1</th>\n",
       "      <td>2</td>\n",
       "      <td>John</td>\n",
       "      <td>US</td>\n",
       "      <td>US</td>\n",
       "      <td>Estados Unidos de América</td>\n",
       "    </tr>\n",
       "    <tr>\n",
       "      <th>2</th>\n",
       "      <td>3</td>\n",
       "      <td>Esteban</td>\n",
       "      <td>ES</td>\n",
       "      <td>ES</td>\n",
       "      <td>España</td>\n",
       "    </tr>\n",
       "    <tr>\n",
       "      <th>3</th>\n",
       "      <td>4</td>\n",
       "      <td>Catherine</td>\n",
       "      <td>UK</td>\n",
       "      <td>UK</td>\n",
       "      <td>Reino Unido</td>\n",
       "    </tr>\n",
       "    <tr>\n",
       "      <th>4</th>\n",
       "      <td>5</td>\n",
       "      <td>Ilayda</td>\n",
       "      <td>TR</td>\n",
       "      <td>NaN</td>\n",
       "      <td>NaN</td>\n",
       "    </tr>\n",
       "    <tr>\n",
       "      <th>5</th>\n",
       "      <td>6</td>\n",
       "      <td>Pierre</td>\n",
       "      <td>IT</td>\n",
       "      <td>NaN</td>\n",
       "      <td>NaN</td>\n",
       "    </tr>\n",
       "  </tbody>\n",
       "</table>\n",
       "</div>"
      ],
      "text/plain": [
       "   ID     Nombre Nacionalidad Codigo                Descripcion\n",
       "0   1      Laura           ES     ES                     España\n",
       "1   2       John           US     US  Estados Unidos de América\n",
       "2   3    Esteban           ES     ES                     España\n",
       "3   4  Catherine           UK     UK                Reino Unido\n",
       "4   5     Ilayda           TR    NaN                        NaN\n",
       "5   6     Pierre           IT    NaN                        NaN"
      ]
     },
     "execution_count": 7,
     "metadata": {},
     "output_type": "execute_result"
    }
   ],
   "source": [
    "pd.merge(personas, paises, \n",
    "         left_on='Nacionalidad', \n",
    "         right_on='Codigo', \n",
    "         how='left')"
   ]
  },
  {
   "cell_type": "markdown",
   "id": "f99c7bbe-3cd4-47eb-89e4-0a9bc8448397",
   "metadata": {
    "tags": []
   },
   "source": [
    "*Right*"
   ]
  },
  {
   "cell_type": "code",
   "execution_count": 7,
   "id": "fb46be8e-7a9d-4c6b-a824-9788b641b08e",
   "metadata": {},
   "outputs": [
    {
     "data": {
      "text/html": [
       "<div>\n",
       "<style scoped>\n",
       "    .dataframe tbody tr th:only-of-type {\n",
       "        vertical-align: middle;\n",
       "    }\n",
       "\n",
       "    .dataframe tbody tr th {\n",
       "        vertical-align: top;\n",
       "    }\n",
       "\n",
       "    .dataframe thead th {\n",
       "        text-align: right;\n",
       "    }\n",
       "</style>\n",
       "<table border=\"1\" class=\"dataframe\">\n",
       "  <thead>\n",
       "    <tr style=\"text-align: right;\">\n",
       "      <th></th>\n",
       "      <th>ID</th>\n",
       "      <th>Nombre</th>\n",
       "      <th>Nacionalidad</th>\n",
       "      <th>Codigo</th>\n",
       "      <th>Descripcion</th>\n",
       "    </tr>\n",
       "  </thead>\n",
       "  <tbody>\n",
       "    <tr>\n",
       "      <th>0</th>\n",
       "      <td>1.0</td>\n",
       "      <td>Laura</td>\n",
       "      <td>ES</td>\n",
       "      <td>ES</td>\n",
       "      <td>España</td>\n",
       "    </tr>\n",
       "    <tr>\n",
       "      <th>1</th>\n",
       "      <td>3.0</td>\n",
       "      <td>Esteban</td>\n",
       "      <td>ES</td>\n",
       "      <td>ES</td>\n",
       "      <td>España</td>\n",
       "    </tr>\n",
       "    <tr>\n",
       "      <th>2</th>\n",
       "      <td>4.0</td>\n",
       "      <td>Catherine</td>\n",
       "      <td>UK</td>\n",
       "      <td>UK</td>\n",
       "      <td>Reino Unido</td>\n",
       "    </tr>\n",
       "    <tr>\n",
       "      <th>3</th>\n",
       "      <td>2.0</td>\n",
       "      <td>John</td>\n",
       "      <td>US</td>\n",
       "      <td>US</td>\n",
       "      <td>Estados Unidos de América</td>\n",
       "    </tr>\n",
       "    <tr>\n",
       "      <th>4</th>\n",
       "      <td>NaN</td>\n",
       "      <td>NaN</td>\n",
       "      <td>NaN</td>\n",
       "      <td>DE</td>\n",
       "      <td>Alemania</td>\n",
       "    </tr>\n",
       "  </tbody>\n",
       "</table>\n",
       "</div>"
      ],
      "text/plain": [
       "    ID     Nombre Nacionalidad Codigo                Descripcion\n",
       "0  1.0      Laura           ES     ES                     España\n",
       "1  3.0    Esteban           ES     ES                     España\n",
       "2  4.0  Catherine           UK     UK                Reino Unido\n",
       "3  2.0       John           US     US  Estados Unidos de América\n",
       "4  NaN        NaN          NaN     DE                   Alemania"
      ]
     },
     "execution_count": 7,
     "metadata": {},
     "output_type": "execute_result"
    }
   ],
   "source": [
    "pd.merge(personas, \n",
    "         paises, \n",
    "         left_on='Nacionalidad', \n",
    "         right_on='Codigo', \n",
    "         how='right')"
   ]
  },
  {
   "cell_type": "code",
   "execution_count": 10,
   "id": "cd091bd6-0362-44cc-ba74-86c915508240",
   "metadata": {},
   "outputs": [
    {
     "data": {
      "text/html": [
       "<div>\n",
       "<style scoped>\n",
       "    .dataframe tbody tr th:only-of-type {\n",
       "        vertical-align: middle;\n",
       "    }\n",
       "\n",
       "    .dataframe tbody tr th {\n",
       "        vertical-align: top;\n",
       "    }\n",
       "\n",
       "    .dataframe thead th {\n",
       "        text-align: right;\n",
       "    }\n",
       "</style>\n",
       "<table border=\"1\" class=\"dataframe\">\n",
       "  <thead>\n",
       "    <tr style=\"text-align: right;\">\n",
       "      <th></th>\n",
       "      <th>ID</th>\n",
       "      <th>Nombre</th>\n",
       "      <th>Nacionalidad</th>\n",
       "      <th>Codigo</th>\n",
       "      <th>Descripcion</th>\n",
       "    </tr>\n",
       "  </thead>\n",
       "  <tbody>\n",
       "    <tr>\n",
       "      <th>4</th>\n",
       "      <td>NaN</td>\n",
       "      <td>NaN</td>\n",
       "      <td>NaN</td>\n",
       "      <td>DE</td>\n",
       "      <td>Alemania</td>\n",
       "    </tr>\n",
       "  </tbody>\n",
       "</table>\n",
       "</div>"
      ],
      "text/plain": [
       "   ID Nombre Nacionalidad Codigo Descripcion\n",
       "4 NaN    NaN          NaN     DE    Alemania"
      ]
     },
     "execution_count": 10,
     "metadata": {},
     "output_type": "execute_result"
    }
   ],
   "source": [
    "merge_right[merge_right[\"Nombre\"].isna()]"
   ]
  },
  {
   "cell_type": "markdown",
   "id": "f5c10bbe-6b9a-4f77-b36e-7cc766bea4f4",
   "metadata": {},
   "source": [
    "*Inner*"
   ]
  },
  {
   "cell_type": "code",
   "execution_count": 8,
   "id": "69daa456-498f-4472-a1b7-121639759ae7",
   "metadata": {},
   "outputs": [
    {
     "data": {
      "text/html": [
       "<div>\n",
       "<style scoped>\n",
       "    .dataframe tbody tr th:only-of-type {\n",
       "        vertical-align: middle;\n",
       "    }\n",
       "\n",
       "    .dataframe tbody tr th {\n",
       "        vertical-align: top;\n",
       "    }\n",
       "\n",
       "    .dataframe thead th {\n",
       "        text-align: right;\n",
       "    }\n",
       "</style>\n",
       "<table border=\"1\" class=\"dataframe\">\n",
       "  <thead>\n",
       "    <tr style=\"text-align: right;\">\n",
       "      <th></th>\n",
       "      <th>ID</th>\n",
       "      <th>Nombre</th>\n",
       "      <th>Nacionalidad</th>\n",
       "      <th>Codigo</th>\n",
       "      <th>Descripcion</th>\n",
       "    </tr>\n",
       "  </thead>\n",
       "  <tbody>\n",
       "    <tr>\n",
       "      <th>0</th>\n",
       "      <td>1</td>\n",
       "      <td>Laura</td>\n",
       "      <td>ES</td>\n",
       "      <td>ES</td>\n",
       "      <td>España</td>\n",
       "    </tr>\n",
       "    <tr>\n",
       "      <th>1</th>\n",
       "      <td>3</td>\n",
       "      <td>Esteban</td>\n",
       "      <td>ES</td>\n",
       "      <td>ES</td>\n",
       "      <td>España</td>\n",
       "    </tr>\n",
       "    <tr>\n",
       "      <th>2</th>\n",
       "      <td>2</td>\n",
       "      <td>John</td>\n",
       "      <td>US</td>\n",
       "      <td>US</td>\n",
       "      <td>Estados Unidos de América</td>\n",
       "    </tr>\n",
       "    <tr>\n",
       "      <th>3</th>\n",
       "      <td>4</td>\n",
       "      <td>Catherine</td>\n",
       "      <td>UK</td>\n",
       "      <td>UK</td>\n",
       "      <td>Reino Unido</td>\n",
       "    </tr>\n",
       "  </tbody>\n",
       "</table>\n",
       "</div>"
      ],
      "text/plain": [
       "   ID     Nombre Nacionalidad Codigo                Descripcion\n",
       "0   1      Laura           ES     ES                     España\n",
       "1   3    Esteban           ES     ES                     España\n",
       "2   2       John           US     US  Estados Unidos de América\n",
       "3   4  Catherine           UK     UK                Reino Unido"
      ]
     },
     "execution_count": 8,
     "metadata": {},
     "output_type": "execute_result"
    }
   ],
   "source": [
    "pd.merge(personas, \n",
    "         paises, \n",
    "         left_on='Nacionalidad', \n",
    "         right_on='Codigo', \n",
    "         how='inner')"
   ]
  },
  {
   "cell_type": "code",
   "execution_count": 10,
   "id": "b380e105-a850-49ac-8f61-b9be817e7e8c",
   "metadata": {},
   "outputs": [
    {
     "data": {
      "text/html": [
       "<div>\n",
       "<style scoped>\n",
       "    .dataframe tbody tr th:only-of-type {\n",
       "        vertical-align: middle;\n",
       "    }\n",
       "\n",
       "    .dataframe tbody tr th {\n",
       "        vertical-align: top;\n",
       "    }\n",
       "\n",
       "    .dataframe thead th {\n",
       "        text-align: right;\n",
       "    }\n",
       "</style>\n",
       "<table border=\"1\" class=\"dataframe\">\n",
       "  <thead>\n",
       "    <tr style=\"text-align: right;\">\n",
       "      <th></th>\n",
       "      <th>ID</th>\n",
       "      <th>Nombre</th>\n",
       "      <th>Nacionalidad</th>\n",
       "      <th>Codigo</th>\n",
       "      <th>Descripcion</th>\n",
       "    </tr>\n",
       "  </thead>\n",
       "  <tbody>\n",
       "    <tr>\n",
       "      <th>0</th>\n",
       "      <td>1.0</td>\n",
       "      <td>Laura</td>\n",
       "      <td>ES</td>\n",
       "      <td>ES</td>\n",
       "      <td>España</td>\n",
       "    </tr>\n",
       "    <tr>\n",
       "      <th>1</th>\n",
       "      <td>3.0</td>\n",
       "      <td>Esteban</td>\n",
       "      <td>ES</td>\n",
       "      <td>ES</td>\n",
       "      <td>España</td>\n",
       "    </tr>\n",
       "    <tr>\n",
       "      <th>2</th>\n",
       "      <td>2.0</td>\n",
       "      <td>John</td>\n",
       "      <td>US</td>\n",
       "      <td>US</td>\n",
       "      <td>Estados Unidos de América</td>\n",
       "    </tr>\n",
       "    <tr>\n",
       "      <th>3</th>\n",
       "      <td>4.0</td>\n",
       "      <td>Catherine</td>\n",
       "      <td>UK</td>\n",
       "      <td>UK</td>\n",
       "      <td>Reino Unido</td>\n",
       "    </tr>\n",
       "    <tr>\n",
       "      <th>4</th>\n",
       "      <td>5.0</td>\n",
       "      <td>Ilayda</td>\n",
       "      <td>TR</td>\n",
       "      <td>NaN</td>\n",
       "      <td>NaN</td>\n",
       "    </tr>\n",
       "    <tr>\n",
       "      <th>5</th>\n",
       "      <td>6.0</td>\n",
       "      <td>Pierre</td>\n",
       "      <td>IT</td>\n",
       "      <td>NaN</td>\n",
       "      <td>NaN</td>\n",
       "    </tr>\n",
       "    <tr>\n",
       "      <th>6</th>\n",
       "      <td>NaN</td>\n",
       "      <td>NaN</td>\n",
       "      <td>NaN</td>\n",
       "      <td>DE</td>\n",
       "      <td>Alemania</td>\n",
       "    </tr>\n",
       "  </tbody>\n",
       "</table>\n",
       "</div>"
      ],
      "text/plain": [
       "    ID     Nombre Nacionalidad Codigo                Descripcion\n",
       "0  1.0      Laura           ES     ES                     España\n",
       "1  3.0    Esteban           ES     ES                     España\n",
       "2  2.0       John           US     US  Estados Unidos de América\n",
       "3  4.0  Catherine           UK     UK                Reino Unido\n",
       "4  5.0     Ilayda           TR    NaN                        NaN\n",
       "5  6.0     Pierre           IT    NaN                        NaN\n",
       "6  NaN        NaN          NaN     DE                   Alemania"
      ]
     },
     "execution_count": 10,
     "metadata": {},
     "output_type": "execute_result"
    }
   ],
   "source": [
    "pd.merge(personas, \n",
    "         paises, \n",
    "         left_on='Nacionalidad', \n",
    "         right_on='Codigo', \n",
    "         how='outer')"
   ]
  },
  {
   "cell_type": "markdown",
   "id": "626f17c8-7e05-46e0-a376-885a5a7d775f",
   "metadata": {},
   "source": [
    "*Outer*"
   ]
  },
  {
   "cell_type": "code",
   "execution_count": 162,
   "id": "a2891540-206a-4d3a-bd8e-0dbc4c374539",
   "metadata": {
    "tags": []
   },
   "outputs": [
    {
     "data": {
      "text/html": [
       "<div>\n",
       "<style scoped>\n",
       "    .dataframe tbody tr th:only-of-type {\n",
       "        vertical-align: middle;\n",
       "    }\n",
       "\n",
       "    .dataframe tbody tr th {\n",
       "        vertical-align: top;\n",
       "    }\n",
       "\n",
       "    .dataframe thead th {\n",
       "        text-align: right;\n",
       "    }\n",
       "</style>\n",
       "<table border=\"1\" class=\"dataframe\">\n",
       "  <thead>\n",
       "    <tr style=\"text-align: right;\">\n",
       "      <th></th>\n",
       "      <th>ID</th>\n",
       "      <th>Nombre</th>\n",
       "      <th>Nacionalidad</th>\n",
       "      <th>Codigo</th>\n",
       "      <th>Descripcion</th>\n",
       "    </tr>\n",
       "  </thead>\n",
       "  <tbody>\n",
       "    <tr>\n",
       "      <th>0</th>\n",
       "      <td>1.0</td>\n",
       "      <td>Laura</td>\n",
       "      <td>ES</td>\n",
       "      <td>ES</td>\n",
       "      <td>España</td>\n",
       "    </tr>\n",
       "    <tr>\n",
       "      <th>1</th>\n",
       "      <td>3.0</td>\n",
       "      <td>Esteban</td>\n",
       "      <td>ES</td>\n",
       "      <td>ES</td>\n",
       "      <td>España</td>\n",
       "    </tr>\n",
       "    <tr>\n",
       "      <th>2</th>\n",
       "      <td>2.0</td>\n",
       "      <td>John</td>\n",
       "      <td>US</td>\n",
       "      <td>US</td>\n",
       "      <td>Estados Unidos de América</td>\n",
       "    </tr>\n",
       "    <tr>\n",
       "      <th>3</th>\n",
       "      <td>4.0</td>\n",
       "      <td>Catherine</td>\n",
       "      <td>UK</td>\n",
       "      <td>UK</td>\n",
       "      <td>Reino Unido</td>\n",
       "    </tr>\n",
       "    <tr>\n",
       "      <th>4</th>\n",
       "      <td>5.0</td>\n",
       "      <td>Ilayda</td>\n",
       "      <td>TR</td>\n",
       "      <td>NaN</td>\n",
       "      <td>NaN</td>\n",
       "    </tr>\n",
       "    <tr>\n",
       "      <th>5</th>\n",
       "      <td>6.0</td>\n",
       "      <td>Pierre</td>\n",
       "      <td>IT</td>\n",
       "      <td>NaN</td>\n",
       "      <td>NaN</td>\n",
       "    </tr>\n",
       "    <tr>\n",
       "      <th>6</th>\n",
       "      <td>NaN</td>\n",
       "      <td>NaN</td>\n",
       "      <td>NaN</td>\n",
       "      <td>DE</td>\n",
       "      <td>Alemania</td>\n",
       "    </tr>\n",
       "  </tbody>\n",
       "</table>\n",
       "</div>"
      ],
      "text/plain": [
       "    ID     Nombre Nacionalidad Codigo                Descripcion\n",
       "0  1.0      Laura           ES     ES                     España\n",
       "1  3.0    Esteban           ES     ES                     España\n",
       "2  2.0       John           US     US  Estados Unidos de América\n",
       "3  4.0  Catherine           UK     UK                Reino Unido\n",
       "4  5.0     Ilayda           TR    NaN                        NaN\n",
       "5  6.0     Pierre           IT    NaN                        NaN\n",
       "6  NaN        NaN          NaN     DE                   Alemania"
      ]
     },
     "execution_count": 162,
     "metadata": {},
     "output_type": "execute_result"
    }
   ],
   "source": [
    "pd.merge(personas,\n",
    "         paises,\n",
    "         left_on='Nacionalidad',\n",
    "         right_on='Codigo', how='outer')"
   ]
  },
  {
   "cell_type": "markdown",
   "id": "c3250fbb-ad89-449d-8072-7c1848525293",
   "metadata": {},
   "source": [
    "## <font color='green'> 4. Visualización de datos </font>"
   ]
  },
  {
   "cell_type": "markdown",
   "id": "748a21ac-23ee-4f71-ab79-d74be85599df",
   "metadata": {},
   "source": [
    "Matplotlib es la librería base para gráficos en python. Por su parte, seaborn es una librería de alto nivel"
   ]
  },
  {
   "cell_type": "code",
   "execution_count": 163,
   "id": "4e919328-d018-4795-af40-8112edf6bfd1",
   "metadata": {
    "tags": []
   },
   "outputs": [],
   "source": [
    "import matplotlib.pyplot as plt\n",
    "import seaborn as sns\n",
    "import pandas as pd\n",
    "import numpy as np"
   ]
  },
  {
   "cell_type": "code",
   "execution_count": 164,
   "id": "717e4e6c-7c0a-4b4a-b456-0b207efec54c",
   "metadata": {
    "tags": []
   },
   "outputs": [
    {
     "name": "stdout",
     "output_type": "stream",
     "text": [
      "Pandas - 1.5.3\n",
      "Numpy - 1.24.3\n",
      "Seaborn - 0.12.2\n"
     ]
    }
   ],
   "source": [
    "print(f'Pandas - {pd.__version__}')\n",
    "print(f'Numpy - {np.__version__}')\n",
    "print(f'Seaborn - {sns.__version__}')"
   ]
  },
  {
   "cell_type": "code",
   "execution_count": 165,
   "id": "5c7f313c-c5fc-480b-8db5-f8b408aee24d",
   "metadata": {
    "tags": []
   },
   "outputs": [],
   "source": [
    "iris = pd.read_csv('iris.csv') "
   ]
  },
  {
   "cell_type": "code",
   "execution_count": 166,
   "id": "5e096371-e961-403b-b1d9-f6a110df9661",
   "metadata": {
    "tags": []
   },
   "outputs": [
    {
     "data": {
      "text/html": [
       "<div>\n",
       "<style scoped>\n",
       "    .dataframe tbody tr th:only-of-type {\n",
       "        vertical-align: middle;\n",
       "    }\n",
       "\n",
       "    .dataframe tbody tr th {\n",
       "        vertical-align: top;\n",
       "    }\n",
       "\n",
       "    .dataframe thead th {\n",
       "        text-align: right;\n",
       "    }\n",
       "</style>\n",
       "<table border=\"1\" class=\"dataframe\">\n",
       "  <thead>\n",
       "    <tr style=\"text-align: right;\">\n",
       "      <th></th>\n",
       "      <th>Id</th>\n",
       "      <th>SepalLengthCm</th>\n",
       "      <th>SepalWidthCm</th>\n",
       "      <th>PetalLengthCm</th>\n",
       "      <th>PetalWidthCm</th>\n",
       "      <th>Species</th>\n",
       "    </tr>\n",
       "  </thead>\n",
       "  <tbody>\n",
       "    <tr>\n",
       "      <th>0</th>\n",
       "      <td>1</td>\n",
       "      <td>5.1</td>\n",
       "      <td>3.5</td>\n",
       "      <td>1.4</td>\n",
       "      <td>0.2</td>\n",
       "      <td>Iris-setosa</td>\n",
       "    </tr>\n",
       "    <tr>\n",
       "      <th>1</th>\n",
       "      <td>2</td>\n",
       "      <td>4.9</td>\n",
       "      <td>3.0</td>\n",
       "      <td>1.4</td>\n",
       "      <td>0.2</td>\n",
       "      <td>Iris-setosa</td>\n",
       "    </tr>\n",
       "    <tr>\n",
       "      <th>2</th>\n",
       "      <td>3</td>\n",
       "      <td>4.7</td>\n",
       "      <td>3.2</td>\n",
       "      <td>1.3</td>\n",
       "      <td>0.2</td>\n",
       "      <td>Iris-setosa</td>\n",
       "    </tr>\n",
       "    <tr>\n",
       "      <th>3</th>\n",
       "      <td>4</td>\n",
       "      <td>4.6</td>\n",
       "      <td>3.1</td>\n",
       "      <td>1.5</td>\n",
       "      <td>0.2</td>\n",
       "      <td>Iris-setosa</td>\n",
       "    </tr>\n",
       "    <tr>\n",
       "      <th>4</th>\n",
       "      <td>5</td>\n",
       "      <td>5.0</td>\n",
       "      <td>3.6</td>\n",
       "      <td>1.4</td>\n",
       "      <td>0.2</td>\n",
       "      <td>Iris-setosa</td>\n",
       "    </tr>\n",
       "  </tbody>\n",
       "</table>\n",
       "</div>"
      ],
      "text/plain": [
       "   Id  SepalLengthCm  SepalWidthCm  PetalLengthCm  PetalWidthCm      Species\n",
       "0   1            5.1           3.5            1.4           0.2  Iris-setosa\n",
       "1   2            4.9           3.0            1.4           0.2  Iris-setosa\n",
       "2   3            4.7           3.2            1.3           0.2  Iris-setosa\n",
       "3   4            4.6           3.1            1.5           0.2  Iris-setosa\n",
       "4   5            5.0           3.6            1.4           0.2  Iris-setosa"
      ]
     },
     "execution_count": 166,
     "metadata": {},
     "output_type": "execute_result"
    }
   ],
   "source": [
    "iris.head()"
   ]
  },
  {
   "cell_type": "markdown",
   "id": "5126d1b0-8ee9-4bea-b7a6-eec920b1e510",
   "metadata": {},
   "source": [
    "- Gráfico de barras"
   ]
  },
  {
   "cell_type": "code",
   "execution_count": 167,
   "id": "879b0c8f-06f8-4e10-a7a6-fc2e52d15343",
   "metadata": {
    "tags": []
   },
   "outputs": [
    {
     "data": {
      "image/png": "[encoded data removed]",
      "text/plain": [
       "<Figure size 500x500 with 1 Axes>"
      ]
     },
     "metadata": {},
     "output_type": "display_data"
    }
   ],
   "source": [
    "sns.catplot(data=iris, x='Species', kind='count')\n",
    "plt.show()"
   ]
  },
  {
   "cell_type": "markdown",
   "id": "6c5e3cfa-32eb-402b-a592-fec50674e7c0",
   "metadata": {},
   "source": [
    "- Histograma"
   ]
  },
  {
   "cell_type": "code",
   "execution_count": 169,
   "id": "85ce4bf0-8aa5-48c3-b371-fc0ebdd88c10",
   "metadata": {
    "tags": []
   },
   "outputs": [
    {
     "data": {
      "image/png": "[encoded data removed]",
      "text/plain": [
       "<Figure size 640x480 with 1 Axes>"
      ]
     },
     "metadata": {},
     "output_type": "display_data"
    }
   ],
   "source": [
    "sns.histplot(data=iris, x='SepalLengthCm', kde=True)\n",
    "plt.show()"
   ]
  },
  {
   "cell_type": "code",
   "execution_count": 170,
   "id": "7499a15b-9971-4a56-8b64-268d6ecc855e",
   "metadata": {
    "tags": []
   },
   "outputs": [
    {
     "data": {
      "image/png": "[encoded data removed]",
      "text/plain": [
       "<Figure size 640x480 with 1 Axes>"
      ]
     },
     "metadata": {},
     "output_type": "display_data"
    }
   ],
   "source": [
    "sns.histplot(data=iris, x='SepalLengthCm', hue='Species')\n",
    "plt.show()"
   ]
  },
  {
   "cell_type": "code",
   "execution_count": 171,
   "id": "ad15c4b2-0fcb-444c-8ece-3026ed24360c",
   "metadata": {
    "tags": []
   },
   "outputs": [
    {
     "data": {
      "image/png": "[encoded data removed]",
      "text/plain": [
       "<Figure size 640x480 with 1 Axes>"
      ]
     },
     "metadata": {},
     "output_type": "display_data"
    }
   ],
   "source": [
    "sns.kdeplot(data=iris, x='SepalLengthCm', hue='Species')\n",
    "plt.show()"
   ]
  },
  {
   "cell_type": "markdown",
   "id": "4de83a0c-a31b-4fc0-b324-cec9b09aa3dd",
   "metadata": {},
   "source": [
    "- Gráfico de cajas"
   ]
  },
  {
   "cell_type": "code",
   "execution_count": 172,
   "id": "313dc7d1-f3c0-4097-92f3-641bc5117bea",
   "metadata": {
    "tags": []
   },
   "outputs": [
    {
     "data": {
      "image/png": "[encoded data removed]",
      "text/plain": [
       "<Figure size 640x480 with 1 Axes>"
      ]
     },
     "metadata": {},
     "output_type": "display_data"
    }
   ],
   "source": [
    "sns.boxplot(data=iris, x='SepalLengthCm')\n",
    "plt.show()"
   ]
  },
  {
   "cell_type": "code",
   "execution_count": 173,
   "id": "2a23e6c0-b5b1-494d-bde6-5ce58be3c4e6",
   "metadata": {
    "tags": []
   },
   "outputs": [
    {
     "data": {
      "image/png": "[encoded data removed]",
      "text/plain": [
       "<Figure size 640x480 with 1 Axes>"
      ]
     },
     "metadata": {},
     "output_type": "display_data"
    }
   ],
   "source": [
    "sns.boxplot(data=iris, x='SepalLengthCm', y='Species')\n",
    "plt.show()"
   ]
  },
  {
   "cell_type": "markdown",
   "id": "ec85197d-26db-48aa-ae82-0f9a3399b08f",
   "metadata": {},
   "source": [
    "- Gráficos de dispersión"
   ]
  },
  {
   "cell_type": "code",
   "execution_count": 174,
   "id": "d023cdc5-84f0-4a48-ba4f-3500e92b81eb",
   "metadata": {
    "tags": []
   },
   "outputs": [
    {
     "data": {
      "image/png": "[encoded data removed]",
      "text/plain": [
       "<Figure size 640x480 with 1 Axes>"
      ]
     },
     "metadata": {},
     "output_type": "display_data"
    }
   ],
   "source": [
    "sns.scatterplot(data=iris, x='SepalLengthCm', y='PetalLengthCm')\n",
    "plt.show()"
   ]
  },
  {
   "cell_type": "code",
   "execution_count": 8,
   "id": "4c5f6197-973a-481b-9b19-2ab0c4343a9a",
   "metadata": {},
   "outputs": [
    {
     "data": {
      "image/png": "[encoded data removed]",
      "text/plain": [
       "<Figure size 432x288 with 1 Axes>"
      ]
     },
     "metadata": {
      "needs_background": "light"
     },
     "output_type": "display_data"
    }
   ],
   "source": [
    "sns.scatterplot(data=iris, x='SepalLengthCm', y='PetalLengthCm', hue='Species')\n",
    "plt.show()"
   ]
  },
  {
   "cell_type": "code",
   "execution_count": 175,
   "id": "cd5ee41c-cf79-45af-85fa-6f80e427f197",
   "metadata": {
    "tags": []
   },
   "outputs": [
    {
     "data": {
      "image/png": "[encoded data removed]",
      "text/plain": [
       "<Figure size 500x500 with 1 Axes>"
      ]
     },
     "metadata": {},
     "output_type": "display_data"
    }
   ],
   "source": [
    "sns.lmplot(data=iris, x='SepalLengthCm', y='PetalLengthCm')\n",
    "plt.show()"
   ]
  },
  {
   "cell_type": "markdown",
   "id": "e751a614-9b87-4a51-9993-49b96185d566",
   "metadata": {},
   "source": [
    "- Gráfico de correlación"
   ]
  },
  {
   "cell_type": "code",
   "execution_count": 176,
   "id": "dc98be5b-4aa4-4e5b-9f30-ed1134649684",
   "metadata": {
    "tags": []
   },
   "outputs": [],
   "source": [
    "correlacion = iris[['SepalLengthCm','SepalWidthCm','PetalLengthCm','PetalWidthCm']].corr()"
   ]
  },
  {
   "cell_type": "code",
   "execution_count": 177,
   "id": "fd793b74-b665-4419-9e2a-923d7717b856",
   "metadata": {
    "tags": []
   },
   "outputs": [
    {
     "data": {
      "text/html": [
       "<div>\n",
       "<style scoped>\n",
       "    .dataframe tbody tr th:only-of-type {\n",
       "        vertical-align: middle;\n",
       "    }\n",
       "\n",
       "    .dataframe tbody tr th {\n",
       "        vertical-align: top;\n",
       "    }\n",
       "\n",
       "    .dataframe thead th {\n",
       "        text-align: right;\n",
       "    }\n",
       "</style>\n",
       "<table border=\"1\" class=\"dataframe\">\n",
       "  <thead>\n",
       "    <tr style=\"text-align: right;\">\n",
       "      <th></th>\n",
       "      <th>SepalLengthCm</th>\n",
       "      <th>SepalWidthCm</th>\n",
       "      <th>PetalLengthCm</th>\n",
       "      <th>PetalWidthCm</th>\n",
       "    </tr>\n",
       "  </thead>\n",
       "  <tbody>\n",
       "    <tr>\n",
       "      <th>SepalLengthCm</th>\n",
       "      <td>1.000000</td>\n",
       "      <td>-0.109369</td>\n",
       "      <td>0.871754</td>\n",
       "      <td>0.817954</td>\n",
       "    </tr>\n",
       "    <tr>\n",
       "      <th>SepalWidthCm</th>\n",
       "      <td>-0.109369</td>\n",
       "      <td>1.000000</td>\n",
       "      <td>-0.420516</td>\n",
       "      <td>-0.356544</td>\n",
       "    </tr>\n",
       "    <tr>\n",
       "      <th>PetalLengthCm</th>\n",
       "      <td>0.871754</td>\n",
       "      <td>-0.420516</td>\n",
       "      <td>1.000000</td>\n",
       "      <td>0.962757</td>\n",
       "    </tr>\n",
       "    <tr>\n",
       "      <th>PetalWidthCm</th>\n",
       "      <td>0.817954</td>\n",
       "      <td>-0.356544</td>\n",
       "      <td>0.962757</td>\n",
       "      <td>1.000000</td>\n",
       "    </tr>\n",
       "  </tbody>\n",
       "</table>\n",
       "</div>"
      ],
      "text/plain": [
       "               SepalLengthCm  SepalWidthCm  PetalLengthCm  PetalWidthCm\n",
       "SepalLengthCm       1.000000     -0.109369       0.871754      0.817954\n",
       "SepalWidthCm       -0.109369      1.000000      -0.420516     -0.356544\n",
       "PetalLengthCm       0.871754     -0.420516       1.000000      0.962757\n",
       "PetalWidthCm        0.817954     -0.356544       0.962757      1.000000"
      ]
     },
     "execution_count": 177,
     "metadata": {},
     "output_type": "execute_result"
    }
   ],
   "source": [
    "correlacion"
   ]
  },
  {
   "cell_type": "code",
   "execution_count": 15,
   "id": "9c734afa-89db-4695-87ed-491fd1d74544",
   "metadata": {},
   "outputs": [
    {
     "data": {
      "image/png": "[encoded data removed]",
      "text/plain": [
       "<Figure size 432x288 with 2 Axes>"
      ]
     },
     "metadata": {
      "needs_background": "light"
     },
     "output_type": "display_data"
    }
   ],
   "source": [
    "sns.heatmap(correlacion)\n",
    "plt.show()"
   ]
  },
  {
   "cell_type": "code",
   "execution_count": 178,
   "id": "a6b9702c-9b65-458e-a38d-99923b3544ac",
   "metadata": {
    "tags": []
   },
   "outputs": [
    {
     "data": {
      "image/png": "[encoded data removed]",
      "text/plain": [
       "<Figure size 640x480 with 2 Axes>"
      ]
     },
     "metadata": {},
     "output_type": "display_data"
    }
   ],
   "source": [
    "sns.heatmap(correlacion, cmap='RdYlGn', annot=True)\n",
    "plt.show()"
   ]
  },
  {
   "cell_type": "markdown",
   "id": "0d3aaca5-ba5b-45f3-9b73-2f095e1e4ba9",
   "metadata": {},
   "source": [
    "Como cor(x,x)=1 y cor(x,y)=cor(y,x) se puede disponer solo de la diagonal inferior."
   ]
  },
  {
   "cell_type": "code",
   "execution_count": 180,
   "id": "ce531d7e-3e04-40ad-864a-940a46471d6b",
   "metadata": {
    "tags": []
   },
   "outputs": [
    {
     "data": {
      "image/png": "[encoded data removed]",
      "text/plain": [
       "<Figure size 640x480 with 2 Axes>"
      ]
     },
     "metadata": {},
     "output_type": "display_data"
    }
   ],
   "source": [
    "#La siguiente función elimina la parte superior de la matriz de correlaciones\n",
    "mask = np.zeros(correlacion.shape, dtype=bool)\n",
    "mask[np.triu_indices(len(mask))] = True\n",
    "\n",
    "sns.heatmap(correlacion, annot = True, vmin = -1, vmax = 1, cmap = 'RdYlGn', mask=mask) \n",
    "#cmap para elegir la gama de colores y vmin y vmax identificar todo el espectro de valores de la correlación de pearson [-1,1]\n",
    "plt.show()"
   ]
  }
 ],
 "metadata": {
  "kernelspec": {
   "display_name": "Python 3 (ipykernel)",
   "language": "python",
   "name": "python3"
  },
  "language_info": {
   "codemirror_mode": {
    "name": "ipython",
    "version": 3
   },
   "file_extension": ".py",
   "mimetype": "text/x-python",
   "name": "python",
   "nbconvert_exporter": "python",
   "pygments_lexer": "ipython3",
   "version": "3.11.3"
  }
 },
 "nbformat": 4,
 "nbformat_minor": 5
}