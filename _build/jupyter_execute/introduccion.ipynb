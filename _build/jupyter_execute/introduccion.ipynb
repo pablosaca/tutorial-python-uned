{
 "cells": [
  {
   "cell_type": "markdown",
   "id": "91c6e86b-c3eb-4f4a-b3f4-2ece7977a572",
   "metadata": {},
   "source": [
    "# <font color='green'> Introducción a Python </font>"
   ]
  },
  {
   "cell_type": "markdown",
   "id": "e4e3b7ec-cbc9-4f3e-a8d3-f233df89aaf1",
   "metadata": {},
   "source": [
    "## <font color='green'> 1. Comenzando con Python... </font>"
   ]
  },
  {
   "cell_type": "code",
   "execution_count": 1,
   "id": "b6901a4b-88c0-46f0-84d9-9f4cd0a0dad3",
   "metadata": {},
   "outputs": [
    {
     "name": "stdout",
     "output_type": "stream",
     "text": [
      "Hola Mundo\n"
     ]
    }
   ],
   "source": [
    "print(\"Hola Mundo\")"
   ]
  },
  {
   "cell_type": "code",
   "execution_count": 2,
   "id": "49320ed5-8ed5-4181-b01a-aa6cc6d9dec2",
   "metadata": {},
   "outputs": [
    {
     "name": "stdout",
     "output_type": "stream",
     "text": [
      "Quiero aprender Python\n"
     ]
    }
   ],
   "source": [
    "print(\"Quiero aprender Python\")"
   ]
  },
  {
   "cell_type": "markdown",
   "id": "7f11576a-7f7f-4037-bd5d-9cd2c01127a7",
   "metadata": {},
   "source": [
    "## <font color='green'> 2. Tipado de datos </font>"
   ]
  },
  {
   "cell_type": "markdown",
   "id": "875d7773-335a-4ccf-b2eb-6a24d2080282",
   "metadata": {},
   "source": [
    "### <font color='green'> 2.1 Cadenas de caracteres </font>"
   ]
  },
  {
   "cell_type": "code",
   "execution_count": 3,
   "id": "7d75648f-84d3-4f35-bc59-30b9391f53ac",
   "metadata": {},
   "outputs": [],
   "source": [
    "cadena = \"Hola, estoy aprendiendo los tipos de datos en Python\""
   ]
  },
  {
   "cell_type": "code",
   "execution_count": 4,
   "id": "f010a1f3-5f25-422a-90d2-772ec8885553",
   "metadata": {},
   "outputs": [
    {
     "data": {
      "text/plain": [
       "'Hola, estoy aprendiendo los tipos de datos en Python'"
      ]
     },
     "execution_count": 4,
     "metadata": {},
     "output_type": "execute_result"
    }
   ],
   "source": [
    "cadena"
   ]
  },
  {
   "cell_type": "code",
   "execution_count": 5,
   "id": "c3ffd05b-93a5-4f0f-8747-1431ae7f416c",
   "metadata": {},
   "outputs": [
    {
     "name": "stdout",
     "output_type": "stream",
     "text": [
      "Hola, estoy aprendiendo los tipos de datos en Python\n"
     ]
    }
   ],
   "source": [
    "print(cadena)"
   ]
  },
  {
   "cell_type": "code",
   "execution_count": 6,
   "id": "e8473946-b079-494e-942d-32e620b0f81c",
   "metadata": {},
   "outputs": [
    {
     "data": {
      "text/plain": [
       "str"
      ]
     },
     "execution_count": 6,
     "metadata": {},
     "output_type": "execute_result"
    }
   ],
   "source": [
    "type(cadena)"
   ]
  },
  {
   "cell_type": "code",
   "execution_count": 7,
   "id": "bd0860ca-8bab-4909-aa09-c5f3a4ddf42d",
   "metadata": {
    "tags": []
   },
   "outputs": [
    {
     "data": {
      "text/plain": [
       "52"
      ]
     },
     "execution_count": 7,
     "metadata": {},
     "output_type": "execute_result"
    }
   ],
   "source": [
    "len(cadena)"
   ]
  },
  {
   "cell_type": "markdown",
   "id": "93cd7f06-92a1-485e-87fa-98b25171a70d",
   "metadata": {},
   "source": [
    "### <font color='green'> 2.2 Número de enteros </font>"
   ]
  },
  {
   "cell_type": "code",
   "execution_count": 8,
   "id": "5b42b62e-bc02-423c-9035-77b489c3298c",
   "metadata": {},
   "outputs": [],
   "source": [
    "num = 10"
   ]
  },
  {
   "cell_type": "code",
   "execution_count": 9,
   "id": "9c0f7969-ef2d-420b-9930-b280d39d9ce9",
   "metadata": {},
   "outputs": [
    {
     "data": {
      "text/plain": [
       "10"
      ]
     },
     "execution_count": 9,
     "metadata": {},
     "output_type": "execute_result"
    }
   ],
   "source": [
    "num"
   ]
  },
  {
   "cell_type": "code",
   "execution_count": 10,
   "id": "e16397de-1894-4a88-a1b4-d94a4febc050",
   "metadata": {},
   "outputs": [
    {
     "data": {
      "text/plain": [
       "int"
      ]
     },
     "execution_count": 10,
     "metadata": {},
     "output_type": "execute_result"
    }
   ],
   "source": [
    "type(num)"
   ]
  },
  {
   "cell_type": "code",
   "execution_count": 11,
   "id": "925b3785-52df-4952-b411-cdad91a9d4cb",
   "metadata": {},
   "outputs": [],
   "source": [
    "num2 = 10"
   ]
  },
  {
   "cell_type": "code",
   "execution_count": 12,
   "id": "89856bdb-329f-495b-83cb-2f7d4b160e70",
   "metadata": {},
   "outputs": [
    {
     "data": {
      "text/plain": [
       "100"
      ]
     },
     "execution_count": 12,
     "metadata": {},
     "output_type": "execute_result"
    }
   ],
   "source": [
    "num*num2"
   ]
  },
  {
   "cell_type": "code",
   "execution_count": 13,
   "id": "9b825b2d-080d-422d-bfc2-16872e8f1067",
   "metadata": {},
   "outputs": [],
   "source": [
    "num2 = 100"
   ]
  },
  {
   "cell_type": "code",
   "execution_count": 14,
   "id": "bc423bfd-8eeb-407a-8305-dbba6016b247",
   "metadata": {},
   "outputs": [
    {
     "data": {
      "text/plain": [
       "1000"
      ]
     },
     "execution_count": 14,
     "metadata": {},
     "output_type": "execute_result"
    }
   ],
   "source": [
    "num*num2"
   ]
  },
  {
   "cell_type": "code",
   "execution_count": 15,
   "id": "d7c9ec56-01ec-41ba-a17a-58748e2d5e7b",
   "metadata": {},
   "outputs": [],
   "source": [
    "num3 = num*num2"
   ]
  },
  {
   "cell_type": "code",
   "execution_count": 16,
   "id": "38254460-5371-42e9-a880-ef017d2a9082",
   "metadata": {},
   "outputs": [
    {
     "data": {
      "text/plain": [
       "1000"
      ]
     },
     "execution_count": 16,
     "metadata": {},
     "output_type": "execute_result"
    }
   ],
   "source": [
    "num3"
   ]
  },
  {
   "cell_type": "code",
   "execution_count": 17,
   "id": "640db021-dcb4-4d27-8cfe-d01240825b9f",
   "metadata": {},
   "outputs": [],
   "source": [
    "num4 = int(5)"
   ]
  },
  {
   "cell_type": "code",
   "execution_count": 18,
   "id": "b7d628b6-85c5-400d-acc7-0c331eff0e86",
   "metadata": {
    "tags": []
   },
   "outputs": [
    {
     "data": {
      "text/plain": [
       "5"
      ]
     },
     "execution_count": 18,
     "metadata": {},
     "output_type": "execute_result"
    }
   ],
   "source": [
    "num4"
   ]
  },
  {
   "cell_type": "markdown",
   "id": "3bf5b313-3b80-441c-960f-33fee7b859ed",
   "metadata": {},
   "source": [
    "### <font color='green'> 2.3 Números decimales </font>"
   ]
  },
  {
   "cell_type": "code",
   "execution_count": 19,
   "id": "986e5df6-8da9-49dd-8017-3ee917c6b716",
   "metadata": {
    "tags": []
   },
   "outputs": [],
   "source": [
    "num = 10.4"
   ]
  },
  {
   "cell_type": "code",
   "execution_count": 20,
   "id": "80de8e09-2126-44ee-ad8d-3f6ce8bf6846",
   "metadata": {
    "tags": []
   },
   "outputs": [
    {
     "data": {
      "text/plain": [
       "10.4"
      ]
     },
     "execution_count": 20,
     "metadata": {},
     "output_type": "execute_result"
    }
   ],
   "source": [
    "num"
   ]
  },
  {
   "cell_type": "code",
   "execution_count": 21,
   "id": "d376ecfa-3664-4b58-a17a-805642a03766",
   "metadata": {
    "tags": []
   },
   "outputs": [
    {
     "data": {
      "text/plain": [
       "float"
      ]
     },
     "execution_count": 21,
     "metadata": {},
     "output_type": "execute_result"
    }
   ],
   "source": [
    "type(num)"
   ]
  },
  {
   "cell_type": "code",
   "execution_count": 22,
   "id": "9d5b90f7-2e31-4606-ac51-c274cc5a23cc",
   "metadata": {
    "tags": []
   },
   "outputs": [],
   "source": [
    "num2 = float(num)"
   ]
  },
  {
   "cell_type": "code",
   "execution_count": 23,
   "id": "c1054714-705a-43d7-9a4a-ab4cfd9b60e0",
   "metadata": {
    "tags": []
   },
   "outputs": [
    {
     "data": {
      "text/plain": [
       "10.4"
      ]
     },
     "execution_count": 23,
     "metadata": {},
     "output_type": "execute_result"
    }
   ],
   "source": [
    "num2"
   ]
  },
  {
   "cell_type": "code",
   "execution_count": 24,
   "id": "98d31fda-43bb-4b48-a5a2-e13670af30dc",
   "metadata": {
    "tags": []
   },
   "outputs": [
    {
     "data": {
      "text/plain": [
       "float"
      ]
     },
     "execution_count": 24,
     "metadata": {},
     "output_type": "execute_result"
    }
   ],
   "source": [
    "type(num2)"
   ]
  },
  {
   "cell_type": "markdown",
   "id": "26c1b315-4b86-472e-8993-965c1b9d9b7a",
   "metadata": {},
   "source": [
    "### <font color='green'> 2.4 Booleanos </font>"
   ]
  },
  {
   "cell_type": "code",
   "execution_count": 25,
   "id": "711d23c7-2f3e-49e7-a7c9-36b6e8d92893",
   "metadata": {},
   "outputs": [],
   "source": [
    "a = True"
   ]
  },
  {
   "cell_type": "code",
   "execution_count": 26,
   "id": "38931441-a55f-4335-93c5-ebdd9c116926",
   "metadata": {},
   "outputs": [],
   "source": [
    "b = False"
   ]
  },
  {
   "cell_type": "code",
   "execution_count": 27,
   "id": "a4ff67f9-477a-40a6-b238-b5092dc64c20",
   "metadata": {},
   "outputs": [
    {
     "data": {
      "text/plain": [
       "bool"
      ]
     },
     "execution_count": 27,
     "metadata": {},
     "output_type": "execute_result"
    }
   ],
   "source": [
    "type(a)"
   ]
  },
  {
   "cell_type": "code",
   "execution_count": 28,
   "id": "7cf54b3f-72f7-4f0a-a1f0-ffebf6a4d1ae",
   "metadata": {},
   "outputs": [
    {
     "data": {
      "text/plain": [
       "bool"
      ]
     },
     "execution_count": 28,
     "metadata": {},
     "output_type": "execute_result"
    }
   ],
   "source": [
    "type(b)"
   ]
  },
  {
   "cell_type": "code",
   "execution_count": 29,
   "id": "ca8b4f18-0532-4b7a-aa12-5cb8a90b56dd",
   "metadata": {},
   "outputs": [
    {
     "data": {
      "text/plain": [
       "True"
      ]
     },
     "execution_count": 29,
     "metadata": {},
     "output_type": "execute_result"
    }
   ],
   "source": [
    "a|b"
   ]
  },
  {
   "cell_type": "code",
   "execution_count": 30,
   "id": "f704292b-b4f4-4159-9961-bd6505e6a6ee",
   "metadata": {
    "tags": []
   },
   "outputs": [
    {
     "data": {
      "text/plain": [
       "False"
      ]
     },
     "execution_count": 30,
     "metadata": {},
     "output_type": "execute_result"
    }
   ],
   "source": [
    "a&b"
   ]
  },
  {
   "cell_type": "markdown",
   "id": "f0b8e384-110a-4dd3-85f0-0e380b707afc",
   "metadata": {},
   "source": [
    "### <font color='green'> 2.5 Listas </font>\n",
    "\n",
    "Las listas son una colección ordenada y mutable de valores separados por comas y entre corchetes. Pueden estar compuestas de diferentes tipos de valores e, incluso, Python permite la creación de listas de listas.\n",
    "\n",
    "- Definición de una lista"
   ]
  },
  {
   "cell_type": "code",
   "execution_count": 31,
   "id": "547affef-180e-491c-b760-d14c65ead742",
   "metadata": {},
   "outputs": [],
   "source": [
    "lista = [cadena, num, num2, num3, a, b]"
   ]
  },
  {
   "cell_type": "code",
   "execution_count": 32,
   "id": "9e77743c-026a-400f-9d72-6aa0bd9309eb",
   "metadata": {},
   "outputs": [
    {
     "data": {
      "text/plain": [
       "['Hola, estoy aprendiendo los tipos de datos en Python',\n",
       " 10.4,\n",
       " 10.4,\n",
       " 1000,\n",
       " True,\n",
       " False]"
      ]
     },
     "execution_count": 32,
     "metadata": {},
     "output_type": "execute_result"
    }
   ],
   "source": [
    "lista"
   ]
  },
  {
   "cell_type": "code",
   "execution_count": 33,
   "id": "eeec9c6f-1e88-4763-90f2-f235f7adc7be",
   "metadata": {
    "tags": []
   },
   "outputs": [
    {
     "data": {
      "text/plain": [
       "6"
      ]
     },
     "execution_count": 33,
     "metadata": {},
     "output_type": "execute_result"
    }
   ],
   "source": [
    "len(lista) # nº elementos de la lista"
   ]
  },
  {
   "cell_type": "markdown",
   "id": "f8dfdff0-1ef4-42a7-86c7-2c60d09d6fc2",
   "metadata": {},
   "source": [
    "- Elementos de una lista"
   ]
  },
  {
   "cell_type": "code",
   "execution_count": 34,
   "id": "8c0df239-57a3-4711-8371-98f7a1c4b964",
   "metadata": {
    "tags": []
   },
   "outputs": [
    {
     "data": {
      "text/plain": [
       "'Hola, estoy aprendiendo los tipos de datos en Python'"
      ]
     },
     "execution_count": 34,
     "metadata": {},
     "output_type": "execute_result"
    }
   ],
   "source": [
    "lista[0] # primer elemento de la lista"
   ]
  },
  {
   "cell_type": "code",
   "execution_count": 35,
   "id": "2b03be74-bb8e-4fe1-b34b-2adc6300ab38",
   "metadata": {},
   "outputs": [
    {
     "data": {
      "text/plain": [
       "False"
      ]
     },
     "execution_count": 35,
     "metadata": {},
     "output_type": "execute_result"
    }
   ],
   "source": [
    "lista[5] # quinto elemento de la lista"
   ]
  },
  {
   "cell_type": "code",
   "execution_count": 36,
   "id": "f7dabe40-0956-4c19-8927-5856afc8cc17",
   "metadata": {
    "tags": []
   },
   "outputs": [
    {
     "data": {
      "text/plain": [
       "[10.4, 10.4]"
      ]
     },
     "execution_count": 36,
     "metadata": {},
     "output_type": "execute_result"
    }
   ],
   "source": [
    "lista[1:3] # segundo y tercer elemento de la lista"
   ]
  },
  {
   "cell_type": "code",
   "execution_count": 37,
   "id": "6e785e00-3143-4486-a1aa-36cb45b4034b",
   "metadata": {},
   "outputs": [
    {
     "data": {
      "text/plain": [
       "['Hola, estoy aprendiendo los tipos de datos en Python', 10.4]"
      ]
     },
     "execution_count": 37,
     "metadata": {},
     "output_type": "execute_result"
    }
   ],
   "source": [
    "lista[:2] # los dos primeros elementos de la lista"
   ]
  },
  {
   "cell_type": "code",
   "execution_count": 38,
   "id": "8973bf83-b2f0-41a6-b2c2-33ca3f1a46df",
   "metadata": {
    "tags": []
   },
   "outputs": [
    {
     "ename": "IndexError",
     "evalue": "list index out of range",
     "output_type": "error",
     "traceback": [
      "\u001b[1;31m---------------------------------------------------------------------------\u001b[0m",
      "\u001b[1;31mIndexError\u001b[0m                                Traceback (most recent call last)",
      "Cell \u001b[1;32mIn[38], line 1\u001b[0m\n\u001b[1;32m----> 1\u001b[0m lista[\u001b[38;5;241m6\u001b[39m]\n",
      "\u001b[1;31mIndexError\u001b[0m: list index out of range"
     ]
    }
   ],
   "source": [
    "lista[6]"
   ]
  },
  {
   "cell_type": "markdown",
   "id": "90f9b000-7937-4f4c-9def-7aa20140b85b",
   "metadata": {},
   "source": [
    "**Solo hay cinco elementos en la lista, por eso el error. Python empieza en cero!!**"
   ]
  },
  {
   "cell_type": "code",
   "execution_count": 37,
   "id": "a3fb1be8-3b98-4ae7-9fa3-7cc5d0b291ae",
   "metadata": {
    "tags": []
   },
   "outputs": [
    {
     "data": {
      "text/plain": [
       "['Hola, estoy aprendiendo los tipos de datos en Python', 10.4, True]"
      ]
     },
     "execution_count": 37,
     "metadata": {},
     "output_type": "execute_result"
    }
   ],
   "source": [
    "lista[::2] # elementos de la lista (1 salto)"
   ]
  },
  {
   "cell_type": "markdown",
   "id": "a53114d4-82ca-435f-8a91-0446ea4ebc35",
   "metadata": {},
   "source": [
    "- Copiar una lista en otra"
   ]
  },
  {
   "cell_type": "code",
   "execution_count": 38,
   "id": "b8874fba-809b-421b-a306-c18cfa6970d3",
   "metadata": {
    "tags": []
   },
   "outputs": [],
   "source": [
    "lista_copia = lista.copy() # muy útil cuando se quiere trabajar con listas que tienen elementos comunes"
   ]
  },
  {
   "cell_type": "code",
   "execution_count": 39,
   "id": "fd5e077f-b192-445f-86ae-fab2b7a037fb",
   "metadata": {
    "tags": []
   },
   "outputs": [
    {
     "data": {
      "text/plain": [
       "['Hola, estoy aprendiendo los tipos de datos en Python',\n",
       " 10.4,\n",
       " 10.4,\n",
       " 1000,\n",
       " True,\n",
       " False]"
      ]
     },
     "execution_count": 39,
     "metadata": {},
     "output_type": "execute_result"
    }
   ],
   "source": [
    "lista_copia"
   ]
  },
  {
   "cell_type": "code",
   "execution_count": 40,
   "id": "744618ed-635d-4b4d-a265-cbe896a507a3",
   "metadata": {
    "tags": []
   },
   "outputs": [],
   "source": [
    "prueba = lista"
   ]
  },
  {
   "cell_type": "code",
   "execution_count": 42,
   "id": "3999545b-99e5-4320-822f-f06122d00168",
   "metadata": {
    "tags": []
   },
   "outputs": [
    {
     "data": {
      "text/plain": [
       "['Hola, estoy aprendiendo los tipos de datos en Python',\n",
       " 10.4,\n",
       " 10.4,\n",
       " 1000,\n",
       " True,\n",
       " False]"
      ]
     },
     "execution_count": 42,
     "metadata": {},
     "output_type": "execute_result"
    }
   ],
   "source": [
    "prueba"
   ]
  },
  {
   "cell_type": "markdown",
   "id": "c6163570-708e-4a3c-a6e3-123acb62b2e8",
   "metadata": {},
   "source": [
    "**Crear un objeto como igual a otro no es adecuado, usar siempre *copy*** "
   ]
  },
  {
   "cell_type": "markdown",
   "id": "5e303fd9-3cdd-463f-923b-319be6a731c3",
   "metadata": {},
   "source": [
    "- Cambiar y agregar elementos a una lista"
   ]
  },
  {
   "cell_type": "code",
   "execution_count": 43,
   "id": "63c4bdbe-ee7b-438d-84d6-e440bb7cf804",
   "metadata": {
    "tags": []
   },
   "outputs": [],
   "source": [
    "lista_copia[0] = \"Ya sé algo de tipos de datos\" "
   ]
  },
  {
   "cell_type": "code",
   "execution_count": 44,
   "id": "4f932d9d-2a1b-4cd9-bfdd-c2745df60dcc",
   "metadata": {
    "tags": []
   },
   "outputs": [
    {
     "data": {
      "text/plain": [
       "['Ya sé algo de tipos de datos', 10.4, 10.4, 1000, True, False]"
      ]
     },
     "execution_count": 44,
     "metadata": {},
     "output_type": "execute_result"
    }
   ],
   "source": [
    "lista_copia"
   ]
  },
  {
   "cell_type": "code",
   "execution_count": 45,
   "id": "6b715513-e148-45f5-bbe9-f3b95c8cc85d",
   "metadata": {
    "tags": []
   },
   "outputs": [],
   "source": [
    "prueba[4] = \"Pablo\""
   ]
  },
  {
   "cell_type": "code",
   "execution_count": 46,
   "id": "269be808-4288-4061-ae4c-590589829fc0",
   "metadata": {
    "tags": []
   },
   "outputs": [
    {
     "data": {
      "text/plain": [
       "['Hola, estoy aprendiendo los tipos de datos en Python',\n",
       " 10.4,\n",
       " 10.4,\n",
       " 1000,\n",
       " 'Pablo',\n",
       " False]"
      ]
     },
     "execution_count": 46,
     "metadata": {},
     "output_type": "execute_result"
    }
   ],
   "source": [
    "prueba"
   ]
  },
  {
   "cell_type": "code",
   "execution_count": 47,
   "id": "4442ee7d-cee2-418b-8868-96d0bd5c5423",
   "metadata": {
    "tags": []
   },
   "outputs": [
    {
     "data": {
      "text/plain": [
       "['Hola, estoy aprendiendo los tipos de datos en Python',\n",
       " 10.4,\n",
       " 10.4,\n",
       " 1000,\n",
       " 'Pablo',\n",
       " False]"
      ]
     },
     "execution_count": 47,
     "metadata": {},
     "output_type": "execute_result"
    }
   ],
   "source": [
    "lista"
   ]
  },
  {
   "cell_type": "code",
   "execution_count": 48,
   "id": "2fb64844-ad7f-4b6b-b090-d3838eadc336",
   "metadata": {
    "tags": []
   },
   "outputs": [],
   "source": [
    "lista_copia.append(200)"
   ]
  },
  {
   "cell_type": "code",
   "execution_count": 49,
   "id": "2fb2ef4f-ad76-49a5-8f85-a4f8e203fa80",
   "metadata": {
    "tags": []
   },
   "outputs": [
    {
     "data": {
      "text/plain": [
       "['Ya sé algo de tipos de datos', 10.4, 10.4, 1000, True, False, 200]"
      ]
     },
     "execution_count": 49,
     "metadata": {},
     "output_type": "execute_result"
    }
   ],
   "source": [
    "lista_copia"
   ]
  },
  {
   "cell_type": "code",
   "execution_count": 50,
   "id": "2f0618b0-6a8a-4048-8a5b-2fd84c90811c",
   "metadata": {
    "tags": []
   },
   "outputs": [],
   "source": [
    "lista_2 = [0, \"Pablo\", \"curso UAH\", 25] # creación de una segunda lista"
   ]
  },
  {
   "cell_type": "code",
   "execution_count": 51,
   "id": "c0019cee-18c7-4eaf-b9e3-0b149f1ade6c",
   "metadata": {
    "tags": []
   },
   "outputs": [],
   "source": [
    "lista_copia.append(lista_2) # segunda lista añadida al último elemento de la lista inicial"
   ]
  },
  {
   "cell_type": "code",
   "execution_count": 52,
   "id": "93d5f2a2-f733-45c0-9d39-f6a297cb4bf7",
   "metadata": {
    "tags": []
   },
   "outputs": [
    {
     "data": {
      "text/plain": [
       "['Ya sé algo de tipos de datos',\n",
       " 10.4,\n",
       " 10.4,\n",
       " 1000,\n",
       " True,\n",
       " False,\n",
       " 200,\n",
       " [0, 'Pablo', 'curso UAH', 25]]"
      ]
     },
     "execution_count": 52,
     "metadata": {},
     "output_type": "execute_result"
    }
   ],
   "source": [
    "lista_copia"
   ]
  },
  {
   "cell_type": "code",
   "execution_count": 53,
   "id": "5eb03672-f43a-4b16-8731-2a85f09b36a5",
   "metadata": {
    "tags": []
   },
   "outputs": [
    {
     "data": {
      "text/plain": [
       "[0, 'Pablo', 'curso UAH', 25]"
      ]
     },
     "execution_count": 53,
     "metadata": {},
     "output_type": "execute_result"
    }
   ],
   "source": [
    "lista_copia[7]"
   ]
  },
  {
   "cell_type": "code",
   "execution_count": 54,
   "id": "7e7f6be7-5f09-4690-86cd-5bb1ee708cda",
   "metadata": {
    "tags": []
   },
   "outputs": [],
   "source": [
    "lista_copia.extend(lista_2) # se añade los elementos de la segunda lista a la lista inicial (copia)"
   ]
  },
  {
   "cell_type": "code",
   "execution_count": 55,
   "id": "8f2a7de1-dd3d-47d0-826e-f86e0b7c0e75",
   "metadata": {
    "tags": []
   },
   "outputs": [
    {
     "data": {
      "text/plain": [
       "['Ya sé algo de tipos de datos',\n",
       " 10.4,\n",
       " 10.4,\n",
       " 1000,\n",
       " True,\n",
       " False,\n",
       " 200,\n",
       " [0, 'Pablo', 'curso UAH', 25],\n",
       " 0,\n",
       " 'Pablo',\n",
       " 'curso UAH',\n",
       " 25]"
      ]
     },
     "execution_count": 55,
     "metadata": {},
     "output_type": "execute_result"
    }
   ],
   "source": [
    "lista_copia"
   ]
  },
  {
   "cell_type": "markdown",
   "id": "82d6e6b0-5ad1-4784-8701-5dffc97fdf10",
   "metadata": {},
   "source": [
    "- Eliminar elemento de la lista"
   ]
  },
  {
   "cell_type": "code",
   "execution_count": 56,
   "id": "75654351-5be4-4b6e-b443-70c831080008",
   "metadata": {
    "tags": []
   },
   "outputs": [
    {
     "data": {
      "text/plain": [
       "[0, 'Pablo', 'curso UAH', 25]"
      ]
     },
     "execution_count": 56,
     "metadata": {},
     "output_type": "execute_result"
    }
   ],
   "source": [
    "lista_copia.pop(7) # elimina el séptimo elemento de la lista"
   ]
  },
  {
   "cell_type": "code",
   "execution_count": 57,
   "id": "b4922c94-c5b0-4d97-952b-28e0bb433cd6",
   "metadata": {
    "tags": []
   },
   "outputs": [
    {
     "data": {
      "text/plain": [
       "['Ya sé algo de tipos de datos',\n",
       " 10.4,\n",
       " 10.4,\n",
       " 1000,\n",
       " True,\n",
       " False,\n",
       " 200,\n",
       " 0,\n",
       " 'Pablo',\n",
       " 'curso UAH',\n",
       " 25]"
      ]
     },
     "execution_count": 57,
     "metadata": {},
     "output_type": "execute_result"
    }
   ],
   "source": [
    "lista_copia"
   ]
  },
  {
   "cell_type": "code",
   "execution_count": 58,
   "id": "d330b783-ed88-448b-b730-630aba4cd658",
   "metadata": {
    "tags": []
   },
   "outputs": [
    {
     "data": {
      "text/plain": [
       "False"
      ]
     },
     "execution_count": 58,
     "metadata": {},
     "output_type": "execute_result"
    }
   ],
   "source": [
    "lista.pop() # elimina el último elemento de la lista"
   ]
  },
  {
   "cell_type": "code",
   "execution_count": 59,
   "id": "153f4b41-f815-49b1-9148-991f6e7b1375",
   "metadata": {
    "tags": []
   },
   "outputs": [
    {
     "data": {
      "text/plain": [
       "['Hola, estoy aprendiendo los tipos de datos en Python',\n",
       " 10.4,\n",
       " 10.4,\n",
       " 1000,\n",
       " 'Pablo']"
      ]
     },
     "execution_count": 59,
     "metadata": {},
     "output_type": "execute_result"
    }
   ],
   "source": [
    "lista"
   ]
  },
  {
   "cell_type": "markdown",
   "id": "c3f13e36-2b69-4135-a575-aa41b5e461f2",
   "metadata": {},
   "source": [
    "### <font color='green'> 2.6 Tuplas </font>\n",
    "\n",
    "Las tuplas son un tipo de objeto de Python muy similar a las listas. Se diferencian en su sintaxis (uso de paréntesis en vez de corchetes) y en que su contenido no puede ser modificado.\n",
    "\n",
    "- Definición de la tupla"
   ]
  },
  {
   "cell_type": "code",
   "execution_count": 60,
   "id": "496720a4-3f13-4473-9942-161b5f175471",
   "metadata": {
    "tags": []
   },
   "outputs": [],
   "source": [
    "tupla = (1,2,3,4,5,6,7,8,9)"
   ]
  },
  {
   "cell_type": "code",
   "execution_count": 61,
   "id": "998fd963-b678-472e-bc25-303958c736af",
   "metadata": {
    "tags": []
   },
   "outputs": [
    {
     "data": {
      "text/plain": [
       "(1, 2, 3, 4, 5, 6, 7, 8, 9)"
      ]
     },
     "execution_count": 61,
     "metadata": {},
     "output_type": "execute_result"
    }
   ],
   "source": [
    "tupla"
   ]
  },
  {
   "cell_type": "code",
   "execution_count": 62,
   "id": "c52d307f-039a-498c-a995-14b1e0dec437",
   "metadata": {
    "tags": []
   },
   "outputs": [
    {
     "data": {
      "text/plain": [
       "9"
      ]
     },
     "execution_count": 62,
     "metadata": {},
     "output_type": "execute_result"
    }
   ],
   "source": [
    "len(tupla)"
   ]
  },
  {
   "cell_type": "markdown",
   "id": "3f9ee100-69cc-4d0d-b9c9-9e5f8d1b28ae",
   "metadata": {},
   "source": [
    "- Elementos de la tupla"
   ]
  },
  {
   "cell_type": "code",
   "execution_count": 63,
   "id": "2141e088-badd-42ce-8ca9-aed4b0cdd66a",
   "metadata": {
    "tags": []
   },
   "outputs": [
    {
     "data": {
      "text/plain": [
       "1"
      ]
     },
     "execution_count": 63,
     "metadata": {},
     "output_type": "execute_result"
    }
   ],
   "source": [
    "tupla[0]"
   ]
  },
  {
   "cell_type": "code",
   "execution_count": 64,
   "id": "17ec67c4-4ab2-43df-81da-258304960862",
   "metadata": {
    "tags": []
   },
   "outputs": [
    {
     "data": {
      "text/plain": [
       "2"
      ]
     },
     "execution_count": 64,
     "metadata": {},
     "output_type": "execute_result"
    }
   ],
   "source": [
    "tupla.index(3)  "
   ]
  },
  {
   "cell_type": "markdown",
   "id": "771cbf52-186c-40c5-aca8-d6c337755fb3",
   "metadata": {},
   "source": [
    "- Cambiar elemento de la tupla"
   ]
  },
  {
   "cell_type": "code",
   "execution_count": 65,
   "id": "597c576d-e9a3-4c09-97f7-96b098f5af9a",
   "metadata": {
    "tags": []
   },
   "outputs": [
    {
     "ename": "TypeError",
     "evalue": "'tuple' object does not support item assignment",
     "output_type": "error",
     "traceback": [
      "\u001b[1;31m---------------------------------------------------------------------------\u001b[0m",
      "\u001b[1;31mTypeError\u001b[0m                                 Traceback (most recent call last)",
      "Cell \u001b[1;32mIn[65], line 1\u001b[0m\n\u001b[1;32m----> 1\u001b[0m tupla[\u001b[38;5;241m0\u001b[39m]\u001b[38;5;241m=\u001b[39m\u001b[38;5;124m\"\u001b[39m\u001b[38;5;124mHola\u001b[39m\u001b[38;5;124m\"\u001b[39m\n",
      "\u001b[1;31mTypeError\u001b[0m: 'tuple' object does not support item assignment"
     ]
    }
   ],
   "source": [
    "tupla[0] = \"Hola\""
   ]
  },
  {
   "cell_type": "markdown",
   "id": "8f7d1cdc-013f-4132-a020-bdf7c9d04fe8",
   "metadata": {},
   "source": [
    "**El error se debe a que las tuplas son inmutables**"
   ]
  },
  {
   "cell_type": "markdown",
   "id": "a8bfabaf-ff57-4186-84bf-d4121d7b6a79",
   "metadata": {},
   "source": [
    "### <font color='green'> 2.7 Diccionarios </font>\n",
    "\n",
    "Los diccionarios son una colección desordenada, mutable e indexada de un par clave-valor; esto es, representan un *array* asociativo con el que representar con una clavea un determinado valor. \n",
    "\n",
    "- Definición de un diccionario"
   ]
  },
  {
   "cell_type": "code",
   "execution_count": 66,
   "id": "e2e1659f-53c9-467c-9677-1600cb0078e2",
   "metadata": {
    "tags": []
   },
   "outputs": [],
   "source": [
    "diccionario = {\"cadena\": cadena, \"entero\": num3, \"decimal\": num, \"booleano\": a, \"lista\": lista}"
   ]
  },
  {
   "cell_type": "code",
   "execution_count": 67,
   "id": "c400c4fb-6a92-43c9-aaaf-eb20dd71863e",
   "metadata": {
    "tags": []
   },
   "outputs": [
    {
     "data": {
      "text/plain": [
       "{'cadena': 'Hola, estoy aprendiendo los tipos de datos en Python',\n",
       " 'entero': 1000,\n",
       " 'decimal': 10.4,\n",
       " 'booleano': True,\n",
       " 'lista': ['Hola, estoy aprendiendo los tipos de datos en Python',\n",
       "  10.4,\n",
       "  10.4,\n",
       "  1000,\n",
       "  'Pablo']}"
      ]
     },
     "execution_count": 67,
     "metadata": {},
     "output_type": "execute_result"
    }
   ],
   "source": [
    "diccionario"
   ]
  },
  {
   "cell_type": "markdown",
   "id": "0cc246fd-cd62-422b-8689-1e1ba19b2ce0",
   "metadata": {},
   "source": [
    "- Elemento de un diccionario"
   ]
  },
  {
   "cell_type": "code",
   "execution_count": 68,
   "id": "0e1e04fe-12c9-496d-873e-46ca44ef3dd7",
   "metadata": {
    "tags": []
   },
   "outputs": [
    {
     "data": {
      "text/plain": [
       "10.4"
      ]
     },
     "execution_count": 68,
     "metadata": {},
     "output_type": "execute_result"
    }
   ],
   "source": [
    "diccionario['decimal'] # a partir de la clave se obtine el valor"
   ]
  },
  {
   "cell_type": "code",
   "execution_count": 69,
   "id": "f300fc90-dfca-468e-915e-ebcf740398e9",
   "metadata": {
    "tags": []
   },
   "outputs": [
    {
     "data": {
      "text/plain": [
       "10.4"
      ]
     },
     "execution_count": 69,
     "metadata": {},
     "output_type": "execute_result"
    }
   ],
   "source": [
    "diccionario.get(\"decimal\") # también se puede usar el método get"
   ]
  },
  {
   "cell_type": "markdown",
   "id": "43bd18e1-3996-4ef8-ba19-f60d3117ffff",
   "metadata": {},
   "source": [
    "- Clave y valor de un diccionario"
   ]
  },
  {
   "cell_type": "code",
   "execution_count": 73,
   "id": "00e0ea67-b423-45c4-8e67-1492695cc9d4",
   "metadata": {
    "tags": []
   },
   "outputs": [
    {
     "data": {
      "text/plain": [
       "['cadena', 'entero', 'decimal', 'booleano', 'lista']"
      ]
     },
     "execution_count": 73,
     "metadata": {},
     "output_type": "execute_result"
    }
   ],
   "source": [
    "list(diccionario.keys())"
   ]
  },
  {
   "cell_type": "code",
   "execution_count": 74,
   "id": "fe0172db-c318-4f7e-be73-a7428e90c47e",
   "metadata": {
    "tags": []
   },
   "outputs": [
    {
     "data": {
      "text/plain": [
       "['Hola, estoy aprendiendo los tipos de datos en Python',\n",
       " 1000,\n",
       " 10.4,\n",
       " True,\n",
       " ['Hola, estoy aprendiendo los tipos de datos en Python',\n",
       "  10.4,\n",
       "  10.4,\n",
       "  1000,\n",
       "  'Pablo']]"
      ]
     },
     "execution_count": 74,
     "metadata": {},
     "output_type": "execute_result"
    }
   ],
   "source": [
    "list(diccionario.values())"
   ]
  },
  {
   "cell_type": "code",
   "execution_count": 75,
   "id": "7bfd8d97-240d-4505-abc5-9964bdb01937",
   "metadata": {
    "tags": []
   },
   "outputs": [
    {
     "data": {
      "text/plain": [
       "dict_items([('cadena', 'Hola, estoy aprendiendo los tipos de datos en Python'), ('entero', 1000), ('decimal', 10.4), ('booleano', True), ('lista', ['Hola, estoy aprendiendo los tipos de datos en Python', 10.4, 10.4, 1000, 'Pablo'])])"
      ]
     },
     "execution_count": 75,
     "metadata": {},
     "output_type": "execute_result"
    }
   ],
   "source": [
    "diccionario.items() # también items "
   ]
  },
  {
   "cell_type": "markdown",
   "id": "b909ffbf-c3a9-4be8-8aec-87eded43e563",
   "metadata": {},
   "source": [
    "- Añadir y eliminar elementos de un diccionario"
   ]
  },
  {
   "cell_type": "code",
   "execution_count": 76,
   "id": "e37a05bc-1d03-46b3-ae71-05aec844179c",
   "metadata": {
    "tags": []
   },
   "outputs": [],
   "source": [
    "diccionario[\"final\"] = \"Fin del diccionario\""
   ]
  },
  {
   "cell_type": "code",
   "execution_count": 77,
   "id": "771918d7-0e28-4b0e-9f0b-a5bf2a72aa94",
   "metadata": {
    "tags": []
   },
   "outputs": [
    {
     "data": {
      "text/plain": [
       "{'cadena': 'Hola, estoy aprendiendo los tipos de datos en Python',\n",
       " 'entero': 1000,\n",
       " 'decimal': 10.4,\n",
       " 'booleano': True,\n",
       " 'lista': ['Hola, estoy aprendiendo los tipos de datos en Python',\n",
       "  10.4,\n",
       "  10.4,\n",
       "  1000,\n",
       "  'Pablo'],\n",
       " 'final': 'Fin del diccionario'}"
      ]
     },
     "execution_count": 77,
     "metadata": {},
     "output_type": "execute_result"
    }
   ],
   "source": [
    "diccionario"
   ]
  },
  {
   "cell_type": "code",
   "execution_count": 78,
   "id": "8f0c6c58-5072-4c10-8d8a-d29145e6337d",
   "metadata": {
    "tags": []
   },
   "outputs": [
    {
     "data": {
      "text/plain": [
       "'Fin del diccionario'"
      ]
     },
     "execution_count": 78,
     "metadata": {},
     "output_type": "execute_result"
    }
   ],
   "source": [
    "diccionario.pop(\"final\")"
   ]
  },
  {
   "cell_type": "code",
   "execution_count": 79,
   "id": "5f26a9c1-57f1-4cfb-8dbb-86c8d17ebef4",
   "metadata": {
    "tags": []
   },
   "outputs": [
    {
     "data": {
      "text/plain": [
       "{'cadena': 'Hola, estoy aprendiendo los tipos de datos en Python',\n",
       " 'entero': 1000,\n",
       " 'decimal': 10.4,\n",
       " 'booleano': True,\n",
       " 'lista': ['Hola, estoy aprendiendo los tipos de datos en Python',\n",
       "  10.4,\n",
       "  10.4,\n",
       "  1000,\n",
       "  'Pablo']}"
      ]
     },
     "execution_count": 79,
     "metadata": {},
     "output_type": "execute_result"
    }
   ],
   "source": [
    "diccionario"
   ]
  },
  {
   "cell_type": "code",
   "execution_count": 80,
   "id": "b1b61b8f-c29a-4c67-a7dd-a5b9e51fa9a6",
   "metadata": {
    "tags": []
   },
   "outputs": [
    {
     "data": {
      "text/plain": [
       "['Hola, estoy aprendiendo los tipos de datos en Python',\n",
       " 10.4,\n",
       " 10.4,\n",
       " 1000,\n",
       " 'Pablo']"
      ]
     },
     "execution_count": 80,
     "metadata": {},
     "output_type": "execute_result"
    }
   ],
   "source": [
    "diccionario.pop(\"lista\")"
   ]
  },
  {
   "cell_type": "code",
   "execution_count": 81,
   "id": "7303ac6d-1956-4557-a3d7-ad971c90cd30",
   "metadata": {
    "tags": []
   },
   "outputs": [
    {
     "data": {
      "text/plain": [
       "{'cadena': 'Hola, estoy aprendiendo los tipos de datos en Python',\n",
       " 'entero': 1000,\n",
       " 'decimal': 10.4,\n",
       " 'booleano': True}"
      ]
     },
     "execution_count": 81,
     "metadata": {},
     "output_type": "execute_result"
    }
   ],
   "source": [
    "diccionario"
   ]
  },
  {
   "cell_type": "markdown",
   "id": "402c8ce3-48c4-4f37-bb59-f896af280766",
   "metadata": {},
   "source": [
    "## <font color='green'> 3. Estructuras de flujo </font>"
   ]
  },
  {
   "cell_type": "markdown",
   "id": "9e65bc3a-46ab-4aa6-8bc0-3d2d1bf196b2",
   "metadata": {},
   "source": [
    "### <font color='green'> 3.1 Sentencias condicionales </font>\n",
    "\n",
    "Permite trabajar con diferentes condiciones (if, elif o else) de forma que, en base a la evaluación de la sentencia, se llevará a cabo la ejecución correspondiente. \n",
    "\n",
    "Se presentan varios ejemplos de uso:"
   ]
  },
  {
   "cell_type": "code",
   "execution_count": 82,
   "id": "547c82b1-cb78-4626-b914-e523eb09af8f",
   "metadata": {},
   "outputs": [],
   "source": [
    "a = 20\n",
    "b = 10"
   ]
  },
  {
   "cell_type": "code",
   "execution_count": 83,
   "id": "3c0f6bfe-aa1f-42c5-9ce6-0eeeffa3e5a1",
   "metadata": {},
   "outputs": [
    {
     "data": {
      "text/plain": [
       "True"
      ]
     },
     "execution_count": 83,
     "metadata": {},
     "output_type": "execute_result"
    }
   ],
   "source": [
    "a>b"
   ]
  },
  {
   "cell_type": "code",
   "execution_count": 84,
   "id": "565e8093-6642-45c2-9f89-3dd0e248ce48",
   "metadata": {},
   "outputs": [
    {
     "data": {
      "text/plain": [
       "False"
      ]
     },
     "execution_count": 84,
     "metadata": {},
     "output_type": "execute_result"
    }
   ],
   "source": [
    "a<b"
   ]
  },
  {
   "cell_type": "code",
   "execution_count": 85,
   "id": "ae513c17-4cf1-4068-84c4-26b252396abf",
   "metadata": {},
   "outputs": [
    {
     "data": {
      "text/plain": [
       "False"
      ]
     },
     "execution_count": 85,
     "metadata": {},
     "output_type": "execute_result"
    }
   ],
   "source": [
    "a==b"
   ]
  },
  {
   "cell_type": "code",
   "execution_count": 86,
   "id": "887d239c-4dda-4817-a4ce-8e13a338bd1f",
   "metadata": {
    "tags": []
   },
   "outputs": [
    {
     "data": {
      "text/plain": [
       "True"
      ]
     },
     "execution_count": 86,
     "metadata": {},
     "output_type": "execute_result"
    }
   ],
   "source": [
    "a!=b"
   ]
  },
  {
   "cell_type": "code",
   "execution_count": 87,
   "id": "0a9e84fe-360e-4ba9-8d1b-f806a9caf55a",
   "metadata": {
    "tags": []
   },
   "outputs": [
    {
     "ename": "TypeError",
     "evalue": "can only concatenate str (not \"int\") to str",
     "output_type": "error",
     "traceback": [
      "\u001b[1;31m---------------------------------------------------------------------------\u001b[0m",
      "\u001b[1;31mTypeError\u001b[0m                                 Traceback (most recent call last)",
      "Cell \u001b[1;32mIn[87], line 1\u001b[0m\n\u001b[1;32m----> 1\u001b[0m \u001b[38;5;28mprint\u001b[39m(\u001b[38;5;124m\"\u001b[39m\u001b[38;5;124ma=\u001b[39m\u001b[38;5;124m\"\u001b[39m \u001b[38;5;241m+\u001b[39m a)\n",
      "\u001b[1;31mTypeError\u001b[0m: can only concatenate str (not \"int\") to str"
     ]
    }
   ],
   "source": [
    "print(\"a=\" + a)"
   ]
  },
  {
   "cell_type": "code",
   "execution_count": 88,
   "id": "3f1db6ae-a083-4995-8edc-c3fbf0c8d9c3",
   "metadata": {
    "tags": []
   },
   "outputs": [
    {
     "data": {
      "text/plain": [
       "int"
      ]
     },
     "execution_count": 88,
     "metadata": {},
     "output_type": "execute_result"
    }
   ],
   "source": [
    "type(a)"
   ]
  },
  {
   "cell_type": "code",
   "execution_count": 89,
   "id": "6cbbd807-a2e2-4b5b-a7ff-c585f6a83c16",
   "metadata": {
    "tags": []
   },
   "outputs": [
    {
     "data": {
      "text/plain": [
       "'20'"
      ]
     },
     "execution_count": 89,
     "metadata": {},
     "output_type": "execute_result"
    }
   ],
   "source": [
    "str(a)"
   ]
  },
  {
   "cell_type": "code",
   "execution_count": 90,
   "id": "1b59d816-6d13-4215-be28-b68b8aee7bb7",
   "metadata": {
    "tags": []
   },
   "outputs": [
    {
     "name": "stdout",
     "output_type": "stream",
     "text": [
      "a=_20\n"
     ]
    }
   ],
   "source": [
    "print(\"a=\" + '_' + str(a))"
   ]
  },
  {
   "cell_type": "markdown",
   "id": "01a33311-b21d-4414-a7d3-769cb75f6266",
   "metadata": {},
   "source": [
    "- Ejemplo 1: ¿Cómo es un número en relación a otro?"
   ]
  },
  {
   "cell_type": "code",
   "execution_count": 91,
   "id": "277ddb1c-c45e-4952-b82b-5c6d4b08d5a6",
   "metadata": {
    "tags": []
   },
   "outputs": [
    {
     "name": "stdout",
     "output_type": "stream",
     "text": [
      "a=20; b=10\n",
      "El mayor es 20\n"
     ]
    }
   ],
   "source": [
    "print(\"a=\" + str(a) + \"; b=\" + str(b))\n",
    "if a>b:\n",
    "    print(\"El mayor es \" + str(a))\n",
    "elif a==b:\n",
    "    print(\"Son iguales\")\n",
    "else:\n",
    "    print(\"El mayor es \" + str(b))"
   ]
  },
  {
   "cell_type": "markdown",
   "id": "f2fe8dfe-6b46-476c-adb2-3765dad64f41",
   "metadata": {},
   "source": [
    "- Ejemplo 2: ¿Positivo, negativo o neutro?"
   ]
  },
  {
   "cell_type": "code",
   "execution_count": 92,
   "id": "1f97de83-92d8-4a72-8779-3b32433587ef",
   "metadata": {
    "tags": []
   },
   "outputs": [
    {
     "name": "stdout",
     "output_type": "stream",
     "text": [
      "El número es positivo\n"
     ]
    }
   ],
   "source": [
    "x = 3\n",
    "if x > 0: # importante la identación en python\n",
    "    print('El número es positivo')\n",
    "elif x == 0:\n",
    "    print('Es igual a cero')\n",
    "else:\n",
    "    print('El número es negativo')"
   ]
  },
  {
   "cell_type": "markdown",
   "id": "bcb47898-f42c-428f-b2da-a2c5737660d8",
   "metadata": {},
   "source": [
    "### <font color='green'> 3.2 Bucles <font>\n",
    "\n",
    "Los bucles son utilizados cuando un mismo bloque del código tiene que ser ejecutado un número \"x\" de veces. Los dos bucles más destacados en Pyhton son:\n",
    "- For: permite iterar sobre una colección de valores (listas, tuplas, diccionarios, etc.)\n",
    "- While: funciona repetidamente mientras que la condición que lo controla sea cierta"
   ]
  },
  {
   "cell_type": "markdown",
   "id": "f83b0f6e-3bf9-494a-93ff-338931375c03",
   "metadata": {},
   "source": [
    "#### <font color='green'> For <font> \n",
    "\n",
    "- Uso de la función *range*"
   ]
  },
  {
   "cell_type": "code",
   "execution_count": 94,
   "id": "9937aaba-8552-4272-ae28-3041841bc03f",
   "metadata": {
    "tags": []
   },
   "outputs": [
    {
     "name": "stdout",
     "output_type": "stream",
     "text": [
      "1\n",
      "2\n",
      "3\n",
      "4\n",
      "5\n",
      "6\n",
      "7\n",
      "8\n",
      "9\n",
      "10\n"
     ]
    }
   ],
   "source": [
    "# Pintar números desde 1 a 10\n",
    "for i in range(1,11):\n",
    "    print(i)"
   ]
  },
  {
   "cell_type": "code",
   "execution_count": 95,
   "id": "73d17251-2019-438f-977a-2d45f53e16a2",
   "metadata": {
    "tags": []
   },
   "outputs": [
    {
     "name": "stdout",
     "output_type": "stream",
     "text": [
      "55\n"
     ]
    }
   ],
   "source": [
    "suma=0\n",
    "for i in range(1,11):\n",
    "    suma = suma+i\n",
    "print(suma)"
   ]
  },
  {
   "cell_type": "code",
   "execution_count": 97,
   "id": "c5d76ac7-facf-4d7c-81d1-9d786339244a",
   "metadata": {
    "tags": []
   },
   "outputs": [
    {
     "name": "stdout",
     "output_type": "stream",
     "text": [
      "1\n",
      "3\n",
      "5\n",
      "7\n",
      "9\n"
     ]
    }
   ],
   "source": [
    "# Pintar números impares (1 a 10)\n",
    "for i in range(1,11,2): \n",
    "    print(i)"
   ]
  },
  {
   "cell_type": "code",
   "execution_count": 98,
   "id": "b6c90fb6-24e6-4369-a17b-74fbd128d51b",
   "metadata": {
    "tags": []
   },
   "outputs": [
    {
     "name": "stdout",
     "output_type": "stream",
     "text": [
      "Tabla del 1\n",
      "1*1=1\n",
      "1*2=2\n",
      "1*3=3\n",
      "1*4=4\n",
      "1*5=5\n",
      "1*6=6\n",
      "1*7=7\n",
      "1*8=8\n",
      "1*9=9\n",
      "1*10=10\n",
      "Tabla del 2\n",
      "2*1=2\n",
      "2*2=4\n",
      "2*3=6\n",
      "2*4=8\n",
      "2*5=10\n",
      "2*6=12\n",
      "2*7=14\n",
      "2*8=16\n",
      "2*9=18\n",
      "2*10=20\n",
      "Tabla del 3\n",
      "3*1=3\n",
      "3*2=6\n",
      "3*3=9\n",
      "3*4=12\n",
      "3*5=15\n",
      "3*6=18\n",
      "3*7=21\n",
      "3*8=24\n",
      "3*9=27\n",
      "3*10=30\n",
      "Tabla del 4\n",
      "4*1=4\n",
      "4*2=8\n",
      "4*3=12\n",
      "4*4=16\n",
      "4*5=20\n",
      "4*6=24\n",
      "4*7=28\n",
      "4*8=32\n",
      "4*9=36\n",
      "4*10=40\n",
      "Tabla del 5\n",
      "5*1=5\n",
      "5*2=10\n",
      "5*3=15\n",
      "5*4=20\n",
      "5*5=25\n",
      "5*6=30\n",
      "5*7=35\n",
      "5*8=40\n",
      "5*9=45\n",
      "5*10=50\n"
     ]
    }
   ],
   "source": [
    "# Tablas de multiplicar\n",
    "total = 10\n",
    "hasta = 5\n",
    "\n",
    "for i in range(1,hasta+1):\n",
    "    print(f'Tabla del {i}')\n",
    "    for j in range(1, total+1):\n",
    "        print(f'{i}*{j}={i*j}')"
   ]
  },
  {
   "cell_type": "markdown",
   "id": "9f8f4553-f3b7-4602-9eda-471d771a4ebe",
   "metadata": {},
   "source": [
    "- Iteracción sobre una lista "
   ]
  },
  {
   "cell_type": "code",
   "execution_count": 99,
   "id": "e157c25a-6159-46e1-bcd0-8f5c4435cb15",
   "metadata": {
    "tags": []
   },
   "outputs": [
    {
     "name": "stdout",
     "output_type": "stream",
     "text": [
      "NARANJA\n",
      "MANZANA\n",
      "FRESA\n",
      "UVA\n",
      "CEREZA\n",
      "PLÁTANO\n"
     ]
    }
   ],
   "source": [
    "# Presentación de elementos de la lista en Mayúsculas\n",
    "fruta = ['naranja', 'manzana', 'fresa', 'uva', 'cereza', 'plátano']\n",
    "for i in fruta:\n",
    "    print(i.upper())"
   ]
  },
  {
   "cell_type": "markdown",
   "id": "df9796cf-bd3e-49d2-9afc-ac469000fabb",
   "metadata": {},
   "source": [
    "- Uso de la función **enumerate**"
   ]
  },
  {
   "cell_type": "code",
   "execution_count": 100,
   "id": "3fb28e46-5b13-45cf-acc8-3cb891501bfc",
   "metadata": {
    "tags": []
   },
   "outputs": [
    {
     "name": "stdout",
     "output_type": "stream",
     "text": [
      "(0, 'Pablo')\n",
      "(1, 'David')\n",
      "(2, 'María')\n",
      "(3, 'Lucía')\n",
      "(4, 'Roberto')\n",
      "(5, 'Paula')\n"
     ]
    }
   ],
   "source": [
    "nombres = ['Pablo', 'David', 'María', 'Lucía', 'Roberto', 'Paula']\n",
    "for i in enumerate(nombres):\n",
    "    print(i)"
   ]
  },
  {
   "cell_type": "markdown",
   "id": "e5ecce6f-2ed9-44c2-928e-cc1ceb169efc",
   "metadata": {},
   "source": [
    "- Uso de la función **zip**"
   ]
  },
  {
   "cell_type": "code",
   "execution_count": 101,
   "id": "a939df4d-fb8c-4465-b1d5-22fefd41d4ab",
   "metadata": {
    "tags": []
   },
   "outputs": [
    {
     "name": "stdout",
     "output_type": "stream",
     "text": [
      "Pablo naranja\n",
      "David manzana\n",
      "María fresa\n",
      "Lucía uva\n",
      "Roberto cereza\n",
      "Paula plátano\n"
     ]
    }
   ],
   "source": [
    "for i,j in zip(nombres, fruta):\n",
    "    print(i,j)"
   ]
  },
  {
   "cell_type": "code",
   "execution_count": 102,
   "id": "e8abc2af-49b7-4e30-9f19-54011b23a469",
   "metadata": {
    "tags": []
   },
   "outputs": [
    {
     "name": "stdout",
     "output_type": "stream",
     "text": [
      "Pablo Madrid\n",
      "David León\n",
      "María Barcelona\n",
      "Lucía Toledo\n"
     ]
    }
   ],
   "source": [
    "ciudad = ['Madrid', 'León', 'Barcelona', 'Toledo']\n",
    "for i,j in zip(nombres, ciudad):\n",
    "    print(i,j)"
   ]
  },
  {
   "cell_type": "markdown",
   "id": "f96d4d4b-e70b-4cea-9a0b-3829be992b0c",
   "metadata": {},
   "source": [
    "- Uso de las **list Comprehension**"
   ]
  },
  {
   "cell_type": "code",
   "execution_count": 117,
   "id": "5d7c69c0-2406-44af-8c8c-1ca24e4ac9cc",
   "metadata": {
    "tags": []
   },
   "outputs": [
    {
     "data": {
      "text/plain": [
       "[1, 2, 3, 4, 5, 6, 7, 8, 9, 10]"
      ]
     },
     "execution_count": 117,
     "metadata": {},
     "output_type": "execute_result"
    }
   ],
   "source": [
    "[i for i in range(1,11)]"
   ]
  },
  {
   "cell_type": "code",
   "execution_count": 104,
   "id": "7a84bd17-5e3e-4016-adb0-4a892a1445ed",
   "metadata": {
    "tags": []
   },
   "outputs": [
    {
     "data": {
      "text/plain": [
       "['NARANJA', 'MANZANA', 'FRESA', 'UVA', 'CEREZA', 'PLÁTANO']"
      ]
     },
     "execution_count": 104,
     "metadata": {},
     "output_type": "execute_result"
    }
   ],
   "source": [
    "fruta = ['naranja', 'manzana', 'fresa', 'uva', 'cereza', 'plátano']\n",
    "[i.upper() for i in fruta]"
   ]
  },
  {
   "cell_type": "code",
   "execution_count": 105,
   "id": "086683f8-60ab-4a4e-83fe-5cec0ea3a7d6",
   "metadata": {
    "tags": []
   },
   "outputs": [
    {
     "data": {
      "text/plain": [
       "['León']"
      ]
     },
     "execution_count": 105,
     "metadata": {},
     "output_type": "execute_result"
    }
   ],
   "source": [
    "ciudad_2 = ['León', 'Ávila', 'Salamanca', 'Zamora', 'Palencia', 'Burgos', 'Valladolid', 'Soria', 'Segovia']\n",
    "\n",
    "[i for i in ciudad if i in ciudad_2]"
   ]
  },
  {
   "cell_type": "code",
   "execution_count": 106,
   "id": "f5919d9a-d211-4386-9eef-cd20d0e496c2",
   "metadata": {
    "tags": []
   },
   "outputs": [
    {
     "data": {
      "text/plain": [
       "[0, 2, 4, 6, 8]"
      ]
     },
     "execution_count": 106,
     "metadata": {},
     "output_type": "execute_result"
    }
   ],
   "source": [
    "[n for n in range(10) if n % 2 == 0]"
   ]
  },
  {
   "cell_type": "markdown",
   "id": "e3181050-2be0-48d3-aeb9-2f12aefc8b0d",
   "metadata": {},
   "source": [
    "- Iteracción sobre un diccionario"
   ]
  },
  {
   "cell_type": "code",
   "execution_count": 109,
   "id": "1461ad17-2f61-420e-9896-03d90e95f73c",
   "metadata": {
    "tags": []
   },
   "outputs": [],
   "source": [
    "datos = {'Nombre': 'Pablo', 'Apellido': 'Sánchez', 'Estudios': 'Máster Universitario', 'Profesion':'Data Scientist'}"
   ]
  },
  {
   "cell_type": "code",
   "execution_count": 110,
   "id": "ee216461-e781-4842-a775-6b3dab423809",
   "metadata": {
    "tags": []
   },
   "outputs": [
    {
     "name": "stdout",
     "output_type": "stream",
     "text": [
      "Nombre\n",
      "Apellido\n",
      "Estudios\n",
      "Profesion\n"
     ]
    }
   ],
   "source": [
    "# solo las claves del diccionario\n",
    "for i in datos.keys():\n",
    "    print(i)"
   ]
  },
  {
   "cell_type": "code",
   "execution_count": 111,
   "id": "674d9b27-0a6c-432d-950d-0e3b62e867ea",
   "metadata": {
    "tags": []
   },
   "outputs": [
    {
     "name": "stdout",
     "output_type": "stream",
     "text": [
      "Pablo\n",
      "Sánchez\n",
      "Máster Universitario\n",
      "Data Scientist\n"
     ]
    }
   ],
   "source": [
    "# solo los valores del diccionario\n",
    "for i in datos.values():\n",
    "    print(i)"
   ]
  },
  {
   "cell_type": "code",
   "execution_count": 112,
   "id": "5e228bb4-cf09-4fbc-9096-6dc882c44dbe",
   "metadata": {
    "tags": []
   },
   "outputs": [
    {
     "name": "stdout",
     "output_type": "stream",
     "text": [
      "Nombre: Pablo\n",
      "Apellido: Sánchez\n",
      "Estudios: Máster Universitario\n",
      "Profesion: Data Scientist\n"
     ]
    }
   ],
   "source": [
    "for i, j in zip(datos.keys(), datos.values()):\n",
    "    print(f'{i}: {j}')"
   ]
  },
  {
   "cell_type": "code",
   "execution_count": 115,
   "id": "a7e62bca-45fb-493d-af8e-c14fbdac1fb7",
   "metadata": {
    "tags": []
   },
   "outputs": [
    {
     "name": "stdout",
     "output_type": "stream",
     "text": [
      "('Nombre', 'Pablo')\n",
      "('Apellido', 'Sánchez')\n",
      "('Estudios', 'Máster Universitario')\n",
      "('Profesion', 'Data Scientist')\n"
     ]
    }
   ],
   "source": [
    "# salida en formato tupla\n",
    "for i in datos.items():\n",
    "    print(i)"
   ]
  },
  {
   "cell_type": "code",
   "execution_count": 116,
   "id": "3789524c-ad99-4b71-a07b-6c114d46415c",
   "metadata": {
    "tags": []
   },
   "outputs": [
    {
     "name": "stdout",
     "output_type": "stream",
     "text": [
      "Nombre: Pablo\n",
      "Apellido: Sánchez\n",
      "Estudios: Máster Universitario\n",
      "Profesion: Data Scientist\n"
     ]
    }
   ],
   "source": [
    "for i,j in datos.items():\n",
    "    print(f'{i}: {j}')"
   ]
  },
  {
   "cell_type": "markdown",
   "id": "d8dce5aa-998d-49fc-a6ed-f5df6af5daad",
   "metadata": {},
   "source": [
    "#### <font color='green'> While <font> "
   ]
  },
  {
   "cell_type": "code",
   "execution_count": 125,
   "id": "cde62a5f-d425-4910-8061-4843e2acbada",
   "metadata": {
    "tags": []
   },
   "outputs": [
    {
     "name": "stdout",
     "output_type": "stream",
     "text": [
      "1\n",
      "2\n",
      "3\n",
      "4\n",
      "5\n",
      "6\n",
      "7\n",
      "8\n",
      "9\n",
      "10\n"
     ]
    }
   ],
   "source": [
    "i = 1\n",
    "while i <= 10:\n",
    "    print(i)\n",
    "    i = i + 1"
   ]
  },
  {
   "cell_type": "code",
   "execution_count": 120,
   "id": "2443b305-dcf7-4484-8f5b-d7d821be9cf8",
   "metadata": {
    "tags": []
   },
   "outputs": [
    {
     "name": "stdout",
     "output_type": "stream",
     "text": [
      "55\n"
     ]
    }
   ],
   "source": [
    "i=1\n",
    "suma=0\n",
    "while i <= 10:\n",
    "    suma = suma+i\n",
    "    i = i+1\n",
    "print(suma)"
   ]
  },
  {
   "cell_type": "code",
   "execution_count": 124,
   "id": "2c86bd7c-94d3-4888-8b59-4af86d486316",
   "metadata": {
    "tags": []
   },
   "outputs": [
    {
     "name": "stdout",
     "output_type": "stream",
     "text": [
      "Tabla de 1\n",
      "1*1=1\n",
      "1*2=2\n",
      "1*3=3\n",
      "1*4=4\n",
      "1*5=5\n",
      "1*6=6\n",
      "1*7=7\n",
      "1*8=8\n",
      "1*9=9\n",
      "1*10=10\n",
      "Tabla de 2\n",
      "2*1=2\n",
      "2*2=4\n",
      "2*3=6\n",
      "2*4=8\n",
      "2*5=10\n",
      "2*6=12\n",
      "2*7=14\n",
      "2*8=16\n",
      "2*9=18\n",
      "2*10=20\n",
      "Tabla de 3\n",
      "3*1=3\n",
      "3*2=6\n",
      "3*3=9\n",
      "3*4=12\n",
      "3*5=15\n",
      "3*6=18\n",
      "3*7=21\n",
      "3*8=24\n",
      "3*9=27\n",
      "3*10=30\n",
      "Tabla de 4\n",
      "4*1=4\n",
      "4*2=8\n",
      "4*3=12\n",
      "4*4=16\n",
      "4*5=20\n",
      "4*6=24\n",
      "4*7=28\n",
      "4*8=32\n",
      "4*9=36\n",
      "4*10=40\n",
      "Tabla de 5\n",
      "5*1=5\n",
      "5*2=10\n",
      "5*3=15\n",
      "5*4=20\n",
      "5*5=25\n",
      "5*6=30\n",
      "5*7=35\n",
      "5*8=40\n",
      "5*9=45\n",
      "5*10=50\n"
     ]
    }
   ],
   "source": [
    "total = 10 \n",
    "hasta = 5\n",
    "\n",
    "i = 1\n",
    "while( i<= 5):\n",
    "    print(f'Tabla de {i}')\n",
    "    j = 1\n",
    "    while( j<= 10):\n",
    "        print(f'{i}*{j}={i*j}')\n",
    "        j = j+1\n",
    "    i=i+1"
   ]
  },
  {
   "cell_type": "markdown",
   "id": "82f04c3e-2998-4d7a-accc-77c2aebc89fe",
   "metadata": {},
   "source": [
    "## <font color='green'> 4. Funciones </font>\n",
    "\n",
    "Las funciones permiten aislar partes específicas del código y reutilizarlas en cualquier lugar. Para definir una función Python tiene la palabra reservada **def**.\n",
    "\n",
    "### <font color='green'> 4.1 Funciones estándar </font>\n",
    "\n",
    "Se presentan algunos ejemplos para ilustrar su sintaxis:\n",
    "\n",
    "- Un número es mayor que otro"
   ]
  },
  {
   "cell_type": "code",
   "execution_count": 1,
   "id": "cf4485a9-09aa-4197-bea7-b501d01c1c98",
   "metadata": {},
   "outputs": [],
   "source": [
    "def Mayor(a, b):\n",
    "    if a>b:\n",
    "        return a\n",
    "    else:\n",
    "        return b"
   ]
  },
  {
   "cell_type": "code",
   "execution_count": 2,
   "id": "f5be982a-4f88-4976-8b9d-8588c0376a12",
   "metadata": {},
   "outputs": [
    {
     "name": "stdout",
     "output_type": "stream",
     "text": [
      "7\n"
     ]
    }
   ],
   "source": [
    "n = Mayor(3, 7) \n",
    "print(n)"
   ]
  },
  {
   "cell_type": "code",
   "execution_count": 3,
   "id": "dd55c51c-14d0-4109-8617-f02e6845ac9a",
   "metadata": {},
   "outputs": [
    {
     "name": "stdout",
     "output_type": "stream",
     "text": [
      "10\n"
     ]
    }
   ],
   "source": [
    "n = Mayor(10, 2)\n",
    "print(n)"
   ]
  },
  {
   "cell_type": "code",
   "execution_count": 4,
   "id": "8bb83657-2283-4ce7-a886-a0dfb3a3f40b",
   "metadata": {},
   "outputs": [
    {
     "name": "stdout",
     "output_type": "stream",
     "text": [
      "40\n"
     ]
    }
   ],
   "source": [
    "n = Mayor(40,40)\n",
    "print(n)"
   ]
  },
  {
   "cell_type": "markdown",
   "id": "2faeef67-d9f9-4715-bfa4-e7cbe70ee6bc",
   "metadata": {},
   "source": [
    "- Sumar dos números cualesquiera"
   ]
  },
  {
   "cell_type": "code",
   "execution_count": 5,
   "id": "921f639b-9e20-45e3-91f1-78a1ee39c8d6",
   "metadata": {},
   "outputs": [],
   "source": [
    "def Sumar(x,y):\n",
    "    return x+y"
   ]
  },
  {
   "cell_type": "code",
   "execution_count": 6,
   "id": "79edd1b3-2719-4973-89ea-a6052a3556f1",
   "metadata": {},
   "outputs": [
    {
     "data": {
      "text/plain": [
       "8"
      ]
     },
     "execution_count": 6,
     "metadata": {},
     "output_type": "execute_result"
    }
   ],
   "source": [
    "Sumar(3, 5)"
   ]
  },
  {
   "cell_type": "code",
   "execution_count": 7,
   "id": "efa1b674-e173-43c7-a4a9-ee48aecbebe4",
   "metadata": {},
   "outputs": [
    {
     "data": {
      "text/plain": [
       "-9"
      ]
     },
     "execution_count": 7,
     "metadata": {},
     "output_type": "execute_result"
    }
   ],
   "source": [
    "Sumar(-2,-7)"
   ]
  },
  {
   "cell_type": "markdown",
   "id": "f696fd47-2f77-493f-a096-701d8c966584",
   "metadata": {},
   "source": [
    "- Sumar todos los números existentes en un intervalo"
   ]
  },
  {
   "cell_type": "code",
   "execution_count": 8,
   "id": "a0967b24-6677-4e8a-8662-c70e5da05128",
   "metadata": {},
   "outputs": [],
   "source": [
    "def SumaEntre(a, b):\n",
    "    \n",
    "    suma = 0\n",
    "    for i in range(a, b+1): # b+1 para que el intervalo sea cerrado (contenga el valor b)\n",
    "        suma = suma + i \n",
    "    return suma"
   ]
  },
  {
   "cell_type": "code",
   "execution_count": 9,
   "id": "358a0775-bdab-4617-b037-cbc45afb336d",
   "metadata": {},
   "outputs": [
    {
     "name": "stdout",
     "output_type": "stream",
     "text": [
      "15\n"
     ]
    }
   ],
   "source": [
    "valor = SumaEntre(1, 5)\n",
    "print(valor)"
   ]
  },
  {
   "cell_type": "markdown",
   "id": "9870af76-1119-45ed-a15a-b8e486d2f113",
   "metadata": {},
   "source": [
    "- Funciones con más de una salida"
   ]
  },
  {
   "cell_type": "code",
   "execution_count": 10,
   "id": "fbd0b905-5fd7-4d68-aad9-8859393d00d9",
   "metadata": {},
   "outputs": [],
   "source": [
    "def Operacion_Basica(a,b):\n",
    "    return a+b, a-b"
   ]
  },
  {
   "cell_type": "code",
   "execution_count": 11,
   "id": "3d33e8fe-3ba8-4294-a300-38e4d5151dc2",
   "metadata": {},
   "outputs": [
    {
     "data": {
      "text/plain": [
       "(8, 2)"
      ]
     },
     "execution_count": 11,
     "metadata": {},
     "output_type": "execute_result"
    }
   ],
   "source": [
    "Operacion_Basica(5,3)"
   ]
  },
  {
   "cell_type": "code",
   "execution_count": 12,
   "id": "9bc4d7c2-7f9f-49b6-aa71-49db7fb66e57",
   "metadata": {},
   "outputs": [],
   "source": [
    "suma, resta = Operacion_Basica(5,3)"
   ]
  },
  {
   "cell_type": "code",
   "execution_count": 13,
   "id": "39c0d0ef-8ca1-4bcb-8992-567a7154110f",
   "metadata": {},
   "outputs": [
    {
     "name": "stdout",
     "output_type": "stream",
     "text": [
      "8\n",
      "2\n"
     ]
    }
   ],
   "source": [
    "print(suma)\n",
    "print(resta)"
   ]
  },
  {
   "cell_type": "code",
   "execution_count": 14,
   "id": "dbdd1417-d623-4791-8b7c-5745cae6576e",
   "metadata": {},
   "outputs": [],
   "source": [
    "suma, _ = Operacion_Basica(6,9)\n",
    "\n",
    "_, resta = Operacion_Basica(6,9)"
   ]
  },
  {
   "cell_type": "code",
   "execution_count": 15,
   "id": "e068fbc8-7d89-44e5-9579-c91ca69862da",
   "metadata": {},
   "outputs": [
    {
     "data": {
      "text/plain": [
       "15"
      ]
     },
     "execution_count": 15,
     "metadata": {},
     "output_type": "execute_result"
    }
   ],
   "source": [
    "suma"
   ]
  },
  {
   "cell_type": "code",
   "execution_count": 16,
   "id": "a88752cc-f8e7-4271-b6c9-b499f5796942",
   "metadata": {},
   "outputs": [
    {
     "data": {
      "text/plain": [
       "-3"
      ]
     },
     "execution_count": 16,
     "metadata": {},
     "output_type": "execute_result"
    }
   ],
   "source": [
    "resta"
   ]
  },
  {
   "cell_type": "markdown",
   "id": "a805528c-b5dd-4ffa-8d1c-1f24719df092",
   "metadata": {},
   "source": [
    "### <font color='green'> 4.2 Funciones anónimas </font>"
   ]
  },
  {
   "cell_type": "markdown",
   "id": "ddc19b0b-875d-46ed-b42c-9e0b0fa5a524",
   "metadata": {},
   "source": [
    "- Uso de funciones **lambda**"
   ]
  },
  {
   "cell_type": "markdown",
   "id": "6577d604-e691-4ae9-aaf6-22a43bd2fd9f",
   "metadata": {},
   "source": [
    "En algunos casos, pueden definirse funciones a través de la sentencia **lambda**. Esta palabra se reserva para la construcción de funciones \"anónimas\" en Python."
   ]
  },
  {
   "cell_type": "code",
   "execution_count": 126,
   "id": "c15e2192-2027-4450-9ac2-c3d501836de0",
   "metadata": {},
   "outputs": [],
   "source": [
    "Sumar_2 = lambda x,y: x+y"
   ]
  },
  {
   "cell_type": "code",
   "execution_count": 127,
   "id": "450f2978-9299-4a06-b373-1a950beadfd7",
   "metadata": {},
   "outputs": [
    {
     "data": {
      "text/plain": [
       "8"
      ]
     },
     "execution_count": 127,
     "metadata": {},
     "output_type": "execute_result"
    }
   ],
   "source": [
    "Sumar_2(3, 5)"
   ]
  },
  {
   "cell_type": "code",
   "execution_count": 128,
   "id": "ee65c8f3-7c48-454a-b8a2-73f673951fea",
   "metadata": {
    "tags": []
   },
   "outputs": [
    {
     "data": {
      "text/plain": [
       "-9"
      ]
     },
     "execution_count": 128,
     "metadata": {},
     "output_type": "execute_result"
    }
   ],
   "source": [
    "Sumar_2(-2,-7)"
   ]
  },
  {
   "cell_type": "markdown",
   "id": "e3fa4826-ebc4-4ea9-89cb-7e04c4c23877",
   "metadata": {},
   "source": [
    "## <font color='green'> 5. Excepciones </font>\n",
    "\n",
    "Las excepciones son una forma de trabajo que disponen los lenguajes de programación para encapsular posibles errores en el código.\n",
    "\n",
    "A la hora de definir una excepción se utilizan las sentencias *try* y *except* (aunque también puede haber otras cláusulas como *finally* o *else*). \n",
    "\n",
    "Las excepciones pueden ser utilizadas en cualquier parte de nuestro código.\n",
    "\n",
    "### <font color='green'> 5.1 Excepciones básicas </font>"
   ]
  },
  {
   "cell_type": "markdown",
   "id": "a6bbd0c5-7428-4469-8e50-282c3dad3ee9",
   "metadata": {},
   "source": [
    "- Divisible entre cero"
   ]
  },
  {
   "cell_type": "code",
   "execution_count": 129,
   "id": "d16674a2-9182-4a00-bed8-f2ae75dc4d00",
   "metadata": {},
   "outputs": [
    {
     "ename": "ZeroDivisionError",
     "evalue": "division by zero",
     "output_type": "error",
     "traceback": [
      "\u001b[1;31m---------------------------------------------------------------------------\u001b[0m",
      "\u001b[1;31mZeroDivisionError\u001b[0m                         Traceback (most recent call last)",
      "Cell \u001b[1;32mIn[129], line 4\u001b[0m\n\u001b[0;32m      1\u001b[0m a\u001b[38;5;241m=\u001b[39m\u001b[38;5;241m5\u001b[39m\n\u001b[0;32m      2\u001b[0m b\u001b[38;5;241m=\u001b[39m\u001b[38;5;241m0\u001b[39m\n\u001b[1;32m----> 4\u001b[0m a\u001b[38;5;241m/\u001b[39mb\n",
      "\u001b[1;31mZeroDivisionError\u001b[0m: division by zero"
     ]
    }
   ],
   "source": [
    "a=5\n",
    "b=0\n",
    "\n",
    "a/b"
   ]
  },
  {
   "cell_type": "code",
   "execution_count": 130,
   "id": "ab149e27-073c-4590-9ee9-4e1035d7aba5",
   "metadata": {},
   "outputs": [
    {
     "name": "stdout",
     "output_type": "stream",
     "text": [
      "division by zero\n"
     ]
    }
   ],
   "source": [
    "try:\n",
    "    a/b\n",
    "except Exception as e:\n",
    "    print(e)"
   ]
  },
  {
   "cell_type": "markdown",
   "id": "944bfb2e-01b4-4882-9acc-82902f2cbecb",
   "metadata": {},
   "source": [
    "- Fuera de rango"
   ]
  },
  {
   "cell_type": "code",
   "execution_count": 131,
   "id": "b174e278-4566-41d1-893d-a1026e6144a3",
   "metadata": {},
   "outputs": [],
   "source": [
    "lista = [1,2,3,4,5]"
   ]
  },
  {
   "cell_type": "code",
   "execution_count": 132,
   "id": "a6e18f3f-fd24-4343-8712-031e3f639c80",
   "metadata": {},
   "outputs": [
    {
     "name": "stdout",
     "output_type": "stream",
     "text": [
      "list index out of range\n"
     ]
    }
   ],
   "source": [
    "a = len(lista)\n",
    "try:\n",
    "    print(lista[a+1])\n",
    "except Exception as e:\n",
    "    print(e)"
   ]
  },
  {
   "cell_type": "markdown",
   "id": "f3636b02-6470-4cbd-909a-47ecbf25a22e",
   "metadata": {},
   "source": [
    "-  Conversión a mayúsculas de un caracter o palabra"
   ]
  },
  {
   "cell_type": "code",
   "execution_count": 133,
   "id": "33c6a632-f5a1-44be-8ac8-f4f798ac6326",
   "metadata": {},
   "outputs": [],
   "source": [
    "def mayuscula(nombre):\n",
    "\n",
    "    try:\n",
    "        print(nombre.upper())\n",
    "    except Exception as e:\n",
    "        print(e)\n",
    "    finally: \n",
    "        print(\"Ejecución realizada\")"
   ]
  },
  {
   "cell_type": "code",
   "execution_count": 134,
   "id": "de20fd16-1ffe-4c41-9b06-807cd43eda23",
   "metadata": {},
   "outputs": [
    {
     "name": "stdout",
     "output_type": "stream",
     "text": [
      "HOLA\n",
      "Ejecución realizada\n"
     ]
    }
   ],
   "source": [
    "mayuscula(\"hola\")"
   ]
  },
  {
   "cell_type": "code",
   "execution_count": 135,
   "id": "d5857555-a694-4a49-bc44-dc6ad5ad14dc",
   "metadata": {},
   "outputs": [
    {
     "name": "stdout",
     "output_type": "stream",
     "text": [
      "'int' object has no attribute 'upper'\n",
      "Ejecución realizada\n"
     ]
    }
   ],
   "source": [
    "mayuscula(5)"
   ]
  },
  {
   "cell_type": "code",
   "execution_count": 136,
   "id": "e70f879c-de3c-4f66-a90f-fb3b5e94a0ec",
   "metadata": {},
   "outputs": [],
   "source": [
    "def mayuscula2(nombre):\n",
    "\n",
    "    try:\n",
    "        print(nombre.upper())\n",
    "    except:\n",
    "        print(\"Por favor, revisa que se ha introducido una cadena de caracteres\")\n",
    "    finally: \n",
    "        print(\"Ejecución realizada\")"
   ]
  },
  {
   "cell_type": "code",
   "execution_count": 137,
   "id": "1fa8a942-3578-442a-94d4-0e318fb98bd6",
   "metadata": {},
   "outputs": [
    {
     "name": "stdout",
     "output_type": "stream",
     "text": [
      "3\n",
      "Ejecución realizada\n"
     ]
    }
   ],
   "source": [
    "mayuscula2(\"3\")"
   ]
  },
  {
   "cell_type": "markdown",
   "id": "19e64cda-705a-4559-93bf-7527e59ed904",
   "metadata": {},
   "source": [
    "- Cálculo de raíz cuadra y cuadrado de un número"
   ]
  },
  {
   "cell_type": "code",
   "execution_count": 138,
   "id": "6ba4bf04-868c-4679-98e1-4de9c00dc92e",
   "metadata": {},
   "outputs": [],
   "source": [
    "import math\n",
    "\n",
    "def operacion_matematica(numero):\n",
    "\n",
    "    try: \n",
    "        print(f'La raiz cuadra de {numero} es {math.sqrt(numero)}')\n",
    "    except Exception as e:\n",
    "        print(e)\n",
    "    else:\n",
    "        print(f'El cuadrado de {numero} es {numero*numero}')\n"
   ]
  },
  {
   "cell_type": "code",
   "execution_count": 139,
   "id": "f5817592-4871-4a06-a819-cb8595f3a41b",
   "metadata": {},
   "outputs": [
    {
     "name": "stdout",
     "output_type": "stream",
     "text": [
      "La raiz cuadra de 5 es 2.23606797749979\n",
      "El cuadrado de 5 es 25\n"
     ]
    }
   ],
   "source": [
    "operacion_matematica(5)"
   ]
  },
  {
   "cell_type": "code",
   "execution_count": 140,
   "id": "55db7e51-6e1b-47d0-8fe9-c3a556193c45",
   "metadata": {},
   "outputs": [
    {
     "name": "stdout",
     "output_type": "stream",
     "text": [
      "math domain error\n"
     ]
    }
   ],
   "source": [
    "operacion_matematica(-1)"
   ]
  },
  {
   "cell_type": "markdown",
   "id": "e9f3ffd4-ed7b-4983-a1c4-a4b9a917e3dc",
   "metadata": {},
   "source": [
    "### <font color='green'> 5.2 Excepciones personalizadas <font>\n",
    "\n",
    "\n",
    "Este tipo de excepciones son específicas de nuestro código. Se usa la cláusula *raise*.\n",
    "    \n",
    "- Ejemplo 1"
   ]
  },
  {
   "cell_type": "code",
   "execution_count": 154,
   "id": "7cd79fb3-10f4-49e9-b953-077a5002a109",
   "metadata": {
    "tags": []
   },
   "outputs": [],
   "source": [
    "def profesiones_data(profesion):\n",
    "    lista_profesiones = [\"data-scientist\", \"data-engineer\", \"machine-learning engineer\", \"data-analyst\"]\n",
    "    profesion = profesion.lower()\n",
    "    if profesion not in lista_profesiones:\n",
    "        raise ValueError(f\"{profesion} no es compatible. Solo disponible {lista_profesiones}\")\n",
    "    return profesion"
   ]
  },
  {
   "cell_type": "code",
   "execution_count": 155,
   "id": "6b89a676-ae43-4285-a2d0-40a578611598",
   "metadata": {
    "tags": []
   },
   "outputs": [
    {
     "data": {
      "text/plain": [
       "'data-scientist'"
      ]
     },
     "execution_count": 155,
     "metadata": {},
     "output_type": "execute_result"
    }
   ],
   "source": [
    "profesiones_data(\"DATA-scientist\")"
   ]
  },
  {
   "cell_type": "code",
   "execution_count": 157,
   "id": "277b4d9e-3b4f-43ea-8a19-81496d4b4323",
   "metadata": {
    "tags": []
   },
   "outputs": [
    {
     "data": {
      "text/plain": [
       "'data-scientist'"
      ]
     },
     "execution_count": 157,
     "metadata": {},
     "output_type": "execute_result"
    }
   ],
   "source": [
    "profesiones_data(\"data-SCIENTIST\")"
   ]
  },
  {
   "cell_type": "code",
   "execution_count": 158,
   "id": "d5b96c20-6c1b-4b93-91d2-f7922cecbd87",
   "metadata": {
    "tags": []
   },
   "outputs": [
    {
     "ename": "ValueError",
     "evalue": "data scientist no es compatible. Solo disponible ['data-scientist', 'data-engineer', 'machine-learning engineer', 'data-analyst']",
     "output_type": "error",
     "traceback": [
      "\u001b[1;31m---------------------------------------------------------------------------\u001b[0m",
      "\u001b[1;31mValueError\u001b[0m                                Traceback (most recent call last)",
      "Cell \u001b[1;32mIn[158], line 1\u001b[0m\n\u001b[1;32m----> 1\u001b[0m profesiones_data(\u001b[38;5;124m\"\u001b[39m\u001b[38;5;124mdata SCIENTIST\u001b[39m\u001b[38;5;124m\"\u001b[39m)\n",
      "Cell \u001b[1;32mIn[154], line 5\u001b[0m, in \u001b[0;36mprofesiones_data\u001b[1;34m(profesion)\u001b[0m\n\u001b[0;32m      3\u001b[0m profesion \u001b[38;5;241m=\u001b[39m profesion\u001b[38;5;241m.\u001b[39mlower()\n\u001b[0;32m      4\u001b[0m \u001b[38;5;28;01mif\u001b[39;00m profesion \u001b[38;5;129;01mnot\u001b[39;00m \u001b[38;5;129;01min\u001b[39;00m lista_profesiones:\n\u001b[1;32m----> 5\u001b[0m     \u001b[38;5;28;01mraise\u001b[39;00m \u001b[38;5;167;01mValueError\u001b[39;00m(\u001b[38;5;124mf\u001b[39m\u001b[38;5;124m\"\u001b[39m\u001b[38;5;132;01m{\u001b[39;00mprofesion\u001b[38;5;132;01m}\u001b[39;00m\u001b[38;5;124m no es compatible. Solo disponible \u001b[39m\u001b[38;5;132;01m{\u001b[39;00mlista_profesiones\u001b[38;5;132;01m}\u001b[39;00m\u001b[38;5;124m\"\u001b[39m)\n\u001b[0;32m      6\u001b[0m \u001b[38;5;28;01mreturn\u001b[39;00m profesion\n",
      "\u001b[1;31mValueError\u001b[0m: data scientist no es compatible. Solo disponible ['data-scientist', 'data-engineer', 'machine-learning engineer', 'data-analyst']"
     ]
    }
   ],
   "source": [
    "profesiones_data(\"data SCIENTIST\")"
   ]
  },
  {
   "cell_type": "markdown",
   "id": "88bd0d63-8f6c-459a-85ab-adf30866907b",
   "metadata": {
    "tags": []
   },
   "source": [
    "- Ejemplo 2"
   ]
  },
  {
   "cell_type": "code",
   "execution_count": 160,
   "id": "4c72c152-2d60-49b4-8162-b6a8e31ccaae",
   "metadata": {},
   "outputs": [],
   "source": [
    "def interes_simple(cantidad, anio, tasa):\n",
    "\n",
    "    tasa_porcentaje = tasa/100\n",
    "\n",
    "    try:\n",
    "        if tasa_porcentaje >1:\n",
    "            raise ValueError(tasa_porcentaje)\n",
    "        interes = (cantidad * anio * tasa_porcentaje)\n",
    "        print(f'La cantidad percibida es de {interes}')\n",
    "        return interes\n",
    "    except ValueError:\n",
    "        print('Tasa de interés fuera de rango')"
   ]
  },
  {
   "cell_type": "code",
   "execution_count": 161,
   "id": "6178ba30-286b-46a1-8073-b5804e840937",
   "metadata": {},
   "outputs": [
    {
     "name": "stdout",
     "output_type": "stream",
     "text": [
      "La cantidad percibida es de 160.0\n"
     ]
    },
    {
     "data": {
      "text/plain": [
       "160.0"
      ]
     },
     "execution_count": 161,
     "metadata": {},
     "output_type": "execute_result"
    }
   ],
   "source": [
    "interes_simple(1000, 2, 8)"
   ]
  },
  {
   "cell_type": "code",
   "execution_count": 162,
   "id": "8ed1c8c6-3355-4bf4-af3b-dff739798e95",
   "metadata": {},
   "outputs": [
    {
     "name": "stdout",
     "output_type": "stream",
     "text": [
      "La cantidad percibida es de 240.0\n"
     ]
    },
    {
     "data": {
      "text/plain": [
       "240.0"
      ]
     },
     "execution_count": 162,
     "metadata": {},
     "output_type": "execute_result"
    }
   ],
   "source": [
    "interes_simple(1000, 2, 12)"
   ]
  },
  {
   "cell_type": "code",
   "execution_count": 163,
   "id": "ee84c9c9-24e2-4f5a-ac12-c4ed7168314b",
   "metadata": {},
   "outputs": [
    {
     "name": "stdout",
     "output_type": "stream",
     "text": [
      "Tasa de interés fuera de rango\n"
     ]
    }
   ],
   "source": [
    "interes_simple(1000, 2, 150)"
   ]
  },
  {
   "cell_type": "markdown",
   "id": "de5bcdac-d2b4-4cae-87c6-e2cbcea6803a",
   "metadata": {},
   "source": [
    "## <font color='green'> 6. Clases </font>\n",
    "\n",
    "Las clases son constructoras de objetos y constituyen una parte esencial en la programación orientada a objetos. \n",
    "Las clases se componenten de métodos que definen la clase y sus operaciones. \n",
    "\n",
    "Una clase se define con la instrucción **class** y se inicia con la sentencia *_init_* que es el constructor de la misma. Por su parte, los métodos se inician con la instrucción *self* (en general).\n",
    "\n",
    "\n",
    "Veamos algunos ejemplos para ilustrar el uso de una Clase\n",
    "\n"
   ]
  },
  {
   "cell_type": "markdown",
   "id": "2cc468b9-a65b-47f1-b311-1989aff07d0f",
   "metadata": {},
   "source": [
    "- Operaciones matemáticas"
   ]
  },
  {
   "cell_type": "code",
   "execution_count": 165,
   "id": "e63d01d7-1fb7-4437-812f-e50c653b0c49",
   "metadata": {},
   "outputs": [],
   "source": [
    "class Calculadora_basica:\n",
    "\n",
    "    def __init__(self, a, b):\n",
    "        self.a = a\n",
    "        self.b = b\n",
    "    \n",
    "    def suma(self):\n",
    "        return self.a + self.b\n",
    "    \n",
    "    def resta(self):\n",
    "        return self.a - self.b\n",
    "\n",
    "    def producto(self):\n",
    "        return self.a*self.b\n",
    "    \n",
    "    def division(self):\n",
    "        return self.a/self.b"
   ]
  },
  {
   "cell_type": "markdown",
   "id": "7e410870-d50a-4b48-b648-364acd495fad",
   "metadata": {},
   "source": [
    "Se llama a la clase para definir el objeto y, posteriormente, a los respectivos métodos"
   ]
  },
  {
   "cell_type": "code",
   "execution_count": 166,
   "id": "b9f8a75c-a7be-4d87-b556-19a3de014844",
   "metadata": {},
   "outputs": [],
   "source": [
    "operaciones = Calculadora_basica(5, 8)  # argumentos de entrada (números 5, 8)"
   ]
  },
  {
   "cell_type": "markdown",
   "id": "aa6485b0-7a0b-4e4d-9277-d9f9239b2b05",
   "metadata": {},
   "source": [
    "El objeto *operaciones* dispondrá de la funcionalidad necesaria para realizar las operaciones básicas (5,8)"
   ]
  },
  {
   "cell_type": "code",
   "execution_count": 181,
   "id": "7190cf27-b064-4e3f-bff9-c6242eecbd04",
   "metadata": {},
   "outputs": [
    {
     "name": "stdout",
     "output_type": "stream",
     "text": [
      "Operaciones básicas - datos de entrada: 5 y 8\n",
      "\n",
      " Suma: 13\n",
      "\n",
      " Resta: -3\n",
      "\n",
      " Producto: 40\n",
      "\n",
      " Cociente: 0.625\n"
     ]
    }
   ],
   "source": [
    "# se llama a los respectivos métodos\n",
    "print(f'Operaciones básicas - datos de entrada: {operaciones.a} y {operaciones.b}')\n",
    "print(f'\\n Suma: {operaciones.suma()}')\n",
    "print(f'\\n Resta: {operaciones.resta()}')\n",
    "print(f'\\n Producto: {operaciones.producto()}')\n",
    "print(f'\\n Cociente: {operaciones.division()}')"
   ]
  },
  {
   "cell_type": "markdown",
   "id": "0f3aae29-3999-47e3-9cec-9f7c141a1a3f",
   "metadata": {},
   "source": [
    "- Cálculo Área (circunferencia, cuadrado, rectángulo y triángulo equilátero)\n",
    "\n",
    "La siguiente clase define una estructura para calcular el área de diferentes figuras geométricas"
   ]
  },
  {
   "cell_type": "code",
   "execution_count": 168,
   "id": "29bc9317-6342-44da-b72e-4532487a6320",
   "metadata": {},
   "outputs": [],
   "source": [
    "class Area:\n",
    "\n",
    "    def __init__(self, r, l, b, a):\n",
    "        self.r = r\n",
    "        self.l = l\n",
    "        self.b = b\n",
    "        self.a = a\n",
    "\n",
    "    def circunferencia(self, pi):\n",
    "        return pi*self.r**2\n",
    "    \n",
    "    def cuadrado(self):\n",
    "        return self.l**2\n",
    "\n",
    "    def rectangulo(self):\n",
    "        return self.b*self.a\n",
    "    \n",
    "    def triangulo_equilatero(self):\n",
    "        return self.b*self.a/2\n"
   ]
  },
  {
   "cell_type": "markdown",
   "id": "8884b903-8307-4fda-9bf4-debbc7b40aa4",
   "metadata": {},
   "source": [
    "Se llama a la clase y se define el objeto en cuestión"
   ]
  },
  {
   "cell_type": "code",
   "execution_count": 169,
   "id": "8b50bb77-7d4f-4791-b453-eaa72fa401be",
   "metadata": {},
   "outputs": [],
   "source": [
    "calculo_area = Area(r=4, l=5, b=6, a=3)"
   ]
  },
  {
   "cell_type": "code",
   "execution_count": 171,
   "id": "04e33501-98c7-476b-8d2d-3a39504d8175",
   "metadata": {},
   "outputs": [
    {
     "name": "stdout",
     "output_type": "stream",
     "text": [
      "Cálculo del área de diferentes figuras geométricas\n",
      "\n",
      " Circunferencia de radio 4: 50.26548245743669\n",
      "\n",
      " Cuadrado de lado 5: 25\n",
      "\n",
      " Rectángulo de base 6 y lado 3: 18\n",
      "\n",
      " Triángulo equilátero de base 6 y lado 3: 9.0\n"
     ]
    }
   ],
   "source": [
    "from math import pi\n",
    "\n",
    "print(\"Cálculo del área de diferentes figuras geométricas\")\n",
    "print(f'\\n Circunferencia de radio {calculo_area.r}: {calculo_area.circunferencia(pi)}')\n",
    "\n",
    "print(f'\\n Cuadrado de lado {calculo_area.l}: {calculo_area.cuadrado()}')\n",
    "\n",
    "print(f'\\n Rectángulo de base {calculo_area.b} y lado {calculo_area.a}: {calculo_area.rectangulo()}')\n",
    "\n",
    "print(f'\\n Triángulo equilátero de base {calculo_area.b} y lado {calculo_area.a}: {calculo_area.triangulo_equilatero()}')\n"
   ]
  },
  {
   "cell_type": "markdown",
   "id": "2a8a5f8f-0221-4c5e-9674-39820696bb22",
   "metadata": {},
   "source": [
    "Las Clases también pueden contener *métodos privados*. Un método privado es aquel método al que no se puede acceder fuera de la clase en la que están declarados ni de ninguna otra clase base. Este tipo de métodos se declaran mediante guiones bajos dobles al principio del nombre."
   ]
  },
  {
   "cell_type": "markdown",
   "id": "e68710e3-01b1-4679-b164-5af58bb73cb8",
   "metadata": {},
   "source": [
    "- Información Personal"
   ]
  },
  {
   "cell_type": "code",
   "execution_count": 172,
   "id": "cae2c58c-2fbd-4cf1-a217-25ad15d11054",
   "metadata": {},
   "outputs": [],
   "source": [
    "class Info_persona:\n",
    "\n",
    "    def __init__(self, nombre, edad, provincia, trabajo):\n",
    "        self.nombre = nombre\n",
    "        self.edad = edad\n",
    "        self.provincia = provincia\n",
    "        self.trabajo = trabajo\n",
    "\n",
    "    def __tiempo_jubilacion(self):\n",
    "        return 65-self.edad\n",
    "    \n",
    "    def info(self):\n",
    "        print(f'Nombre: {self.nombre}, Edad: {self.edad}, Provincia: {self.provincia}, Trabajo: {self.trabajo}, Años hasta la jubilacion: {self.__tiempo_jubilacion()}')"
   ]
  },
  {
   "cell_type": "code",
   "execution_count": 173,
   "id": "0012c3d8-1486-4ef0-8995-e6da057c8c0a",
   "metadata": {},
   "outputs": [
    {
     "name": "stdout",
     "output_type": "stream",
     "text": [
      "Nombre: Pablo, Edad: 28, Provincia: Avila, Trabajo: DS, Años hasta la jubilacion: 37\n"
     ]
    }
   ],
   "source": [
    "persona_1 = Info_persona(nombre=\"Pablo\", edad=28, provincia=\"Avila\", trabajo=\"DS\")\n",
    "persona_1.info()"
   ]
  },
  {
   "cell_type": "code",
   "execution_count": 174,
   "id": "e9980a70-5772-484e-989c-4d227e454b40",
   "metadata": {},
   "outputs": [
    {
     "name": "stdout",
     "output_type": "stream",
     "text": [
      "Nombre: Luis, Edad: 33, Provincia: Madrid, Trabajo: BA, Años hasta la jubilacion: 32\n"
     ]
    }
   ],
   "source": [
    "persona_2 = Info_persona(nombre=\"Luis\", edad=33, provincia=\"Madrid\", trabajo=\"BA\")\n",
    "persona_2.info()"
   ]
  },
  {
   "cell_type": "code",
   "execution_count": 175,
   "id": "911b0c32-0b2a-4fe4-b9c8-e277c3615ea5",
   "metadata": {},
   "outputs": [
    {
     "ename": "AttributeError",
     "evalue": "'Info_persona' object has no attribute '__tiempo_jubilacion'",
     "output_type": "error",
     "traceback": [
      "\u001b[1;31m---------------------------------------------------------------------------\u001b[0m",
      "\u001b[1;31mAttributeError\u001b[0m                            Traceback (most recent call last)",
      "Cell \u001b[1;32mIn[175], line 1\u001b[0m\n\u001b[1;32m----> 1\u001b[0m persona_2\u001b[38;5;241m.\u001b[39m__tiempo_jubilacion()\n",
      "\u001b[1;31mAttributeError\u001b[0m: 'Info_persona' object has no attribute '__tiempo_jubilacion'"
     ]
    }
   ],
   "source": [
    "persona_2.__tiempo_jubilacion()"
   ]
  },
  {
   "cell_type": "markdown",
   "id": "523c05ec-6ff8-438e-93d2-8915501b9b46",
   "metadata": {
    "tags": []
   },
   "source": [
    "**Estos métodos no pueden invocarse en la clase instanciada. Son métodos ocultos**"
   ]
  },
  {
   "cell_type": "markdown",
   "id": "53e4a564-f134-4353-b971-d2b2006f793a",
   "metadata": {},
   "source": [
    "### <font color='green'> 6.1 Herencia </font>"
   ]
  },
  {
   "cell_type": "markdown",
   "id": "f7d9bb40-2630-45c4-8fee-8f0cd3e6f705",
   "metadata": {},
   "source": [
    "Se puede definir una clase a partir de una o más clases ya existentes. Este hecho se conoce como **Herencia**. \n",
    "\n",
    "Es importante destacar que las clases hijas no pueden acceder a los métodos privados de la clase padre.\n",
    "\n",
    "- Más funcionalidades a la calculadora...\n",
    "\n"
   ]
  },
  {
   "cell_type": "code",
   "execution_count": 178,
   "id": "b94c9b43-6bbe-4be5-8466-ee633676e492",
   "metadata": {},
   "outputs": [],
   "source": [
    "class Calculadora_compleja(Calculadora_basica):\n",
    "\n",
    "    def mayor_menor(self):\n",
    "        if self.a > self.b:\n",
    "            return self.a\n",
    "        elif self.a == self.b:\n",
    "            return self.a\n",
    "        else:\n",
    "            return self.b\n",
    "\n",
    "    def resto(self):\n",
    "        return self.a % self.b\n"
   ]
  },
  {
   "cell_type": "markdown",
   "id": "74140202-9287-452f-aefd-e7ae7cf29c22",
   "metadata": {},
   "source": [
    "Se define un nuevo objeto que permite realizar, además de las operaciones básicas a partir de dos números, otros funcionalidades"
   ]
  },
  {
   "cell_type": "code",
   "execution_count": 180,
   "id": "7df9dbe6-4e31-44c9-b85f-5460f8e2ae3c",
   "metadata": {},
   "outputs": [
    {
     "name": "stdout",
     "output_type": "stream",
     "text": [
      "Operaciones básicas - datos de entrada: 2 y 6\n",
      "\n",
      " Suma: 8\n",
      "\n",
      " Resta: -4\n",
      "\n",
      " Producto: 12\n",
      "\n",
      " Cociente: 0.3333333333333333\n",
      "\n",
      " Resto: 2\n",
      "\n",
      " Número más alto: 6\n"
     ]
    }
   ],
   "source": [
    "operaciones2 = Calculadora_compleja(2, 6)\n",
    "\n",
    "print(f'Operaciones básicas - datos de entrada: {operaciones2.a} y {operaciones2.b}')\n",
    "print(f'\\n Suma: {operaciones2.suma()}')\n",
    "print(f'\\n Resta: {operaciones2.resta()}')\n",
    "print(f'\\n Producto: {operaciones2.producto()}')\n",
    "print(f'\\n Cociente: {operaciones2.division()}')\n",
    "print(f'\\n Resto: {operaciones2.resto()}')\n",
    "print(f'\\n Número más alto: {operaciones2.mayor_menor()}')"
   ]
  },
  {
   "cell_type": "markdown",
   "id": "be861055-3985-4520-8521-1dacf6d19292",
   "metadata": {},
   "source": [
    "Puede ser que, en la clase hija se necesiten nuevos parámetros. En este caso, es necesario utilizar el constructor *init*.\n",
    "\n"
   ]
  },
  {
   "cell_type": "code",
   "execution_count": 182,
   "id": "b9f4ca5b-dc41-4de2-aaf2-da7121829c6d",
   "metadata": {},
   "outputs": [],
   "source": [
    "class Sumar_numeros_divisibles(Calculadora_basica):\n",
    "\n",
    "    def __init__(self, a, b, c):\n",
    "        Calculadora_basica.__init__(self, a, b)\n",
    "        self.c = c\n",
    "\n",
    "    def suma_divisibles(self):\n",
    "        suma= 0\n",
    "        for i in range(self.a, self.b):\n",
    "            if not i%self.c==0:\n",
    "                suma = suma + i\n",
    "        return suma\n",
    "\n",
    "    def mayor_menor(self):\n",
    "        if self.a>self.b:\n",
    "            return self.a\n",
    "\n",
    "        elif self.a==self.b:\n",
    "            return self.a\n",
    "        else:\n",
    "            return self.b\n",
    "\n",
    "    def resto(self):\n",
    "        return self.a%self.b"
   ]
  },
  {
   "cell_type": "code",
   "execution_count": 183,
   "id": "96010434-5bee-4bfa-8fff-02036defb1b9",
   "metadata": {},
   "outputs": [
    {
     "name": "stdout",
     "output_type": "stream",
     "text": [
      "Operaciones básicas - datos de entrada: 1 y 11\n",
      "\n",
      " Suma: 12\n",
      "\n",
      " Resta: -10\n",
      "\n",
      " Producto: 11\n",
      "\n",
      " Cociente: 0.09090909090909091\n",
      "\n",
      " Resto: 1\n",
      "\n",
      " Número más alto: 11\n",
      "\n",
      " Suma intervalo no divisibles por 2: 25\n"
     ]
    }
   ],
   "source": [
    "operaciones3 = Sumar_numeros_divisibles(1, 11, 2)\n",
    "\n",
    "print(f'Operaciones básicas - datos de entrada: {operaciones3.a} y {operaciones3.b}')\n",
    "print(f'\\n Suma: {operaciones3.suma()}')\n",
    "print(f'\\n Resta: {operaciones3.resta()}')\n",
    "print(f'\\n Producto: {operaciones3.producto()}')\n",
    "print(f'\\n Cociente: {operaciones3.division()}')\n",
    "print(f'\\n Resto: {operaciones3.resto()}')\n",
    "print(f'\\n Número más alto: {operaciones3.mayor_menor()}')\n",
    "print(f'\\n Suma intervalo no divisibles por {operaciones3.c}: {operaciones3.suma_divisibles()}')"
   ]
  },
  {
   "cell_type": "markdown",
   "id": "8556be61-a770-4e5d-a960-39da6a4502b5",
   "metadata": {},
   "source": [
    "### <font color='green'> 6.2 Tipos de Métodos (instancia, clase y estático) </font>\n",
    "\n",
    "#### <font color='green'> Ejemplo de método de clase </font>\n",
    "\n",
    "- Área rectángulo y cuadrado:"
   ]
  },
  {
   "cell_type": "code",
   "execution_count": 184,
   "id": "d3701607-8b1b-435b-aae7-27b2f7e17a4f",
   "metadata": {},
   "outputs": [],
   "source": [
    "class Rectangulo_area:\n",
    "\n",
    "    def __init__(self, ancho, largo):\n",
    "        self.ancho = ancho\n",
    "        self.largo = largo\n",
    "\n",
    "    def area(self):\n",
    "        return self.ancho*self.largo\n",
    "    \n",
    "    @classmethod\n",
    "    def cuadrado(cls, lado):\n",
    "        return cls(lado, lado)\n"
   ]
  },
  {
   "cell_type": "markdown",
   "id": "5d651237-b201-4f15-8322-7c1b84a5281c",
   "metadata": {},
   "source": [
    "Se define un objeto \"rectángulo\" y se calcula su área"
   ]
  },
  {
   "cell_type": "code",
   "execution_count": 185,
   "id": "6dc6f5fc-c787-47a6-89cd-9820dfe8e5c3",
   "metadata": {},
   "outputs": [
    {
     "name": "stdout",
     "output_type": "stream",
     "text": [
      "Área del rectángulo de base 2 y altura 3: 6\n"
     ]
    }
   ],
   "source": [
    "rectangulo = Rectangulo_area(ancho=2, largo=3)\n",
    "print(f'Área del rectángulo de base {rectangulo.ancho} y altura {rectangulo.largo}: {rectangulo.area()}')"
   ]
  },
  {
   "cell_type": "markdown",
   "id": "34a8d072-7f1c-4698-9857-32d0b7fa93f7",
   "metadata": {},
   "source": [
    "Uso del método de clase para calcular un objeto que obtenga el área de un cuadrado (ancho=largo)"
   ]
  },
  {
   "cell_type": "code",
   "execution_count": 186,
   "id": "013035b9-7c94-41ac-b348-d453475230f1",
   "metadata": {},
   "outputs": [
    {
     "name": "stdout",
     "output_type": "stream",
     "text": [
      "Área del cuadrado de lado 2: 4\n"
     ]
    }
   ],
   "source": [
    "cuadrado = Rectangulo_area.cuadrado(2)\n",
    "print(f'Área del cuadrado de lado {cuadrado.ancho}: {cuadrado.area()}')"
   ]
  },
  {
   "cell_type": "markdown",
   "id": "3034d7f2-c91e-4711-b497-d71502f3fd45",
   "metadata": {},
   "source": [
    "#### <font color='green'> Ejemplo de método de clase y estático </font> "
   ]
  },
  {
   "cell_type": "markdown",
   "id": "6ff31de8-4cfc-4032-a20d-bc3bdb7c7e2b",
   "metadata": {},
   "source": [
    "- Menú del día"
   ]
  },
  {
   "cell_type": "code",
   "execution_count": 191,
   "id": "98e8ca61-ae2b-4567-8a83-76205cb17520",
   "metadata": {},
   "outputs": [],
   "source": [
    "class Alimento:\n",
    "\n",
    "    def __init__(self, tipo):\n",
    "        self.tipo = tipo\n",
    "    \n",
    "    @staticmethod\n",
    "    def caliente_frio(temperatura):\n",
    "\n",
    "        if temperatura > 30:\n",
    "            print(\"\\n Se sirve: caliente\")\n",
    "        elif temperatura > 10:\n",
    "            print(\"\\n Se sirve: normal\")\n",
    "        elif temperatura > 0:\n",
    "            print(\"\\n Se sirve: frío\")\n",
    "        else:\n",
    "            print(\"\\n Se sirve: helado\")\n",
    "\n",
    "    @classmethod\n",
    "    def add_alimento(cls, tipo):\n",
    "        return cls(tipo)\n",
    "\n",
    "    def nombre(self):\n",
    "        return self.tipo\n"
   ]
  },
  {
   "cell_type": "markdown",
   "id": "f6833c09-51b4-4d3e-a19f-9e6f44c1a1c2",
   "metadata": {},
   "source": [
    "Creamos un objeto para cada pantalla y presentamos el menú para hoy"
   ]
  },
  {
   "cell_type": "code",
   "execution_count": 194,
   "id": "e4965ec0-fbb2-4c62-9cc1-be105c2eec9d",
   "metadata": {},
   "outputs": [
    {
     "name": "stdout",
     "output_type": "stream",
     "text": [
      "### MENÚ DEL DÍA ###\n",
      "\n",
      " Primeros: Sopa de marisco\n",
      "\n",
      " Se sirve: caliente\n",
      "\n",
      " Segundos: Filete de ternera\n",
      "\n",
      " Se sirve: normal\n",
      "\n",
      " Postre: helado de chocolate\n",
      "\n",
      " Se sirve: helado\n",
      "\n",
      " Bebida: agua\n",
      "\n",
      " Se sirve: caliente\n",
      "\n",
      " Sobremesa (I): café con leche\n",
      "\n",
      " Se sirve: normal\n",
      "\n",
      " Sobremesa (II): chupito de hierbas\n",
      "\n",
      " Se sirve: frío\n"
     ]
    }
   ],
   "source": [
    "sopa = Alimento(\"Sopa de marisco\")\n",
    "filete = Alimento.add_alimento(\"Filete de ternera\")\n",
    "helado = Alimento.add_alimento(\"helado de chocolate\")\n",
    "agua = Alimento.add_alimento(\"agua\")\n",
    "cafe = Alimento.add_alimento(\"café con leche\")\n",
    "chupito = Alimento.add_alimento(\"chupito de hierbas\")\n",
    "\n",
    "\n",
    "print(\"### MENÚ DEL DÍA ###\")\n",
    "\n",
    "print(f'\\n Primeros: {sopa.nombre()}') # indicar nombre\n",
    "sopa.caliente_frio(36) # indicar bucket temperatura\n",
    "\n",
    "print(f'\\n Segundos: {filete.nombre()}') # indicar nombre\n",
    "filete.caliente_frio(21) # indicar bucket temperatura\n",
    "\n",
    "print(f'\\n Postre: {helado.nombre()}') # indicar nombre\n",
    "helado.caliente_frio(-5) # checkear temperatura\n",
    "\n",
    "print(f'\\n Bebida: {agua.nombre()}') # indicar nombre\n",
    "agua.caliente_frio(32) # checkear temperatura\n",
    "\n",
    "print(f'\\n Sobremesa (I): {cafe.nombre()}') # indicar nombre\n",
    "cafe.caliente_frio(16) # checkear temperatura\n",
    "\n",
    "print(f'\\n Sobremesa (II): {chupito.nombre()}') # indicar nombre\n",
    "chupito.caliente_frio(7) # checkear temperatura"
   ]
  }
 ],
 "metadata": {
  "kernelspec": {
   "display_name": "Python 3 (ipykernel)",
   "language": "python",
   "name": "python3"
  },
  "language_info": {
   "codemirror_mode": {
    "name": "ipython",
    "version": 3
   },
   "file_extension": ".py",
   "mimetype": "text/x-python",
   "name": "python",
   "nbconvert_exporter": "python",
   "pygments_lexer": "ipython3",
   "version": "3.11.3"
  }
 },
 "nbformat": 4,
 "nbformat_minor": 5
}