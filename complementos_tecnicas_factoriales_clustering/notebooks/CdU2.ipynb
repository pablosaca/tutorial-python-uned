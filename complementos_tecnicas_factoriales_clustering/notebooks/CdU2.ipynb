{
 "cells": [
  {
   "cell_type": "markdown",
   "id": "155e9398-c45e-4a87-a939-141a88500367",
   "metadata": {},
   "source": [
    "# Agrupamiento - Caso de uso\n",
    "\n",
    "## Realizado por: Pablo Sánchez Cabrera"
   ]
  },
  {
   "cell_type": "markdown",
   "id": "5d089eba-1d68-4096-b7e8-72992ef865ed",
   "metadata": {},
   "source": [
    "Se lleva a cabo un proceso proceso común a ambos ejercicios (limpieza de datos y análisis de las variables) así como el estudio de la utilidad del uso de este tipo técnicas en el dataset de Boston Housing."
   ]
  },
  {
   "cell_type": "code",
   "execution_count": 62,
   "id": "e59f1dc4-8176-4ca1-8e9b-17ac916194d3",
   "metadata": {},
   "outputs": [],
   "source": [
    "import numpy as np\n",
    "import pandas as pd\n",
    "import seaborn as sns\n",
    "import matplotlib.pyplot as plt\n",
    "import scipy.stats as stats\n",
    "\n",
    "import statsmodels.api as sm\n",
    "import statsmodels.formula.api as smf  #sintáxis análoga a R\n",
    "\n",
    "from sklearn import datasets\n",
    "from sklearn.cluster import KMeans"
   ]
  },
  {
   "cell_type": "markdown",
   "id": "35e7a04f-ff0d-412f-b24c-cc3826aa76e5",
   "metadata": {},
   "source": [
    "Se cargan los datos"
   ]
  },
  {
   "cell_type": "code",
   "execution_count": 2,
   "id": "89a1959a-70f8-44e0-8154-f9ebc0978877",
   "metadata": {},
   "outputs": [],
   "source": [
    "data = pd.read_csv(\"../data/HousingData.csv\")\n",
    "data = data.dropna() # se eliminan valores nulos existenten en el dataset"
   ]
  },
  {
   "cell_type": "markdown",
   "id": "d507498c-a5d5-4637-ab4a-932f5eebc89c",
   "metadata": {},
   "source": [
    "Se excluyen las variables `chas` y `rad` al ser variables categóricas. Asimismo, el target `medv` también será excluido"
   ]
  },
  {
   "cell_type": "code",
   "execution_count": 3,
   "id": "e8f07d68-426b-4633-bb46-85e9bd177cc0",
   "metadata": {
    "scrolled": true
   },
   "outputs": [
    {
     "data": {
      "text/html": [
       "<div>\n",
       "<style scoped>\n",
       "    .dataframe tbody tr th:only-of-type {\n",
       "        vertical-align: middle;\n",
       "    }\n",
       "\n",
       "    .dataframe tbody tr th {\n",
       "        vertical-align: top;\n",
       "    }\n",
       "\n",
       "    .dataframe thead th {\n",
       "        text-align: right;\n",
       "    }\n",
       "</style>\n",
       "<table border=\"1\" class=\"dataframe\">\n",
       "  <thead>\n",
       "    <tr style=\"text-align: right;\">\n",
       "      <th></th>\n",
       "      <th>CRIM</th>\n",
       "      <th>ZN</th>\n",
       "      <th>INDUS</th>\n",
       "      <th>NOX</th>\n",
       "      <th>RM</th>\n",
       "      <th>AGE</th>\n",
       "      <th>DIS</th>\n",
       "      <th>TAX</th>\n",
       "      <th>PTRATIO</th>\n",
       "      <th>B</th>\n",
       "      <th>LSTAT</th>\n",
       "    </tr>\n",
       "  </thead>\n",
       "  <tbody>\n",
       "    <tr>\n",
       "      <th>count</th>\n",
       "      <td>394.000000</td>\n",
       "      <td>394.000000</td>\n",
       "      <td>394.000000</td>\n",
       "      <td>394.000000</td>\n",
       "      <td>394.000000</td>\n",
       "      <td>394.000000</td>\n",
       "      <td>394.000000</td>\n",
       "      <td>394.000000</td>\n",
       "      <td>394.000000</td>\n",
       "      <td>394.000000</td>\n",
       "      <td>394.000000</td>\n",
       "    </tr>\n",
       "    <tr>\n",
       "      <th>mean</th>\n",
       "      <td>3.690136</td>\n",
       "      <td>11.460660</td>\n",
       "      <td>11.000863</td>\n",
       "      <td>0.553215</td>\n",
       "      <td>6.280015</td>\n",
       "      <td>68.932741</td>\n",
       "      <td>3.805268</td>\n",
       "      <td>406.431472</td>\n",
       "      <td>18.537563</td>\n",
       "      <td>358.490939</td>\n",
       "      <td>12.769112</td>\n",
       "    </tr>\n",
       "    <tr>\n",
       "      <th>std</th>\n",
       "      <td>9.202423</td>\n",
       "      <td>23.954082</td>\n",
       "      <td>6.908364</td>\n",
       "      <td>0.113112</td>\n",
       "      <td>0.697985</td>\n",
       "      <td>27.888705</td>\n",
       "      <td>2.098571</td>\n",
       "      <td>168.312419</td>\n",
       "      <td>2.166460</td>\n",
       "      <td>89.283295</td>\n",
       "      <td>7.308430</td>\n",
       "    </tr>\n",
       "    <tr>\n",
       "      <th>min</th>\n",
       "      <td>0.006320</td>\n",
       "      <td>0.000000</td>\n",
       "      <td>0.460000</td>\n",
       "      <td>0.389000</td>\n",
       "      <td>3.561000</td>\n",
       "      <td>2.900000</td>\n",
       "      <td>1.129600</td>\n",
       "      <td>187.000000</td>\n",
       "      <td>12.600000</td>\n",
       "      <td>2.600000</td>\n",
       "      <td>1.730000</td>\n",
       "    </tr>\n",
       "    <tr>\n",
       "      <th>25%</th>\n",
       "      <td>0.081955</td>\n",
       "      <td>0.000000</td>\n",
       "      <td>5.130000</td>\n",
       "      <td>0.453000</td>\n",
       "      <td>5.879250</td>\n",
       "      <td>45.475000</td>\n",
       "      <td>2.110100</td>\n",
       "      <td>280.250000</td>\n",
       "      <td>17.400000</td>\n",
       "      <td>376.707500</td>\n",
       "      <td>7.125000</td>\n",
       "    </tr>\n",
       "    <tr>\n",
       "      <th>50%</th>\n",
       "      <td>0.268880</td>\n",
       "      <td>0.000000</td>\n",
       "      <td>8.560000</td>\n",
       "      <td>0.538000</td>\n",
       "      <td>6.201500</td>\n",
       "      <td>77.700000</td>\n",
       "      <td>3.199200</td>\n",
       "      <td>330.000000</td>\n",
       "      <td>19.100000</td>\n",
       "      <td>392.190000</td>\n",
       "      <td>11.300000</td>\n",
       "    </tr>\n",
       "    <tr>\n",
       "      <th>75%</th>\n",
       "      <td>3.435973</td>\n",
       "      <td>12.500000</td>\n",
       "      <td>18.100000</td>\n",
       "      <td>0.624000</td>\n",
       "      <td>6.605500</td>\n",
       "      <td>94.250000</td>\n",
       "      <td>5.116700</td>\n",
       "      <td>666.000000</td>\n",
       "      <td>20.200000</td>\n",
       "      <td>396.900000</td>\n",
       "      <td>17.117500</td>\n",
       "    </tr>\n",
       "    <tr>\n",
       "      <th>max</th>\n",
       "      <td>88.976200</td>\n",
       "      <td>100.000000</td>\n",
       "      <td>27.740000</td>\n",
       "      <td>0.871000</td>\n",
       "      <td>8.780000</td>\n",
       "      <td>100.000000</td>\n",
       "      <td>12.126500</td>\n",
       "      <td>711.000000</td>\n",
       "      <td>22.000000</td>\n",
       "      <td>396.900000</td>\n",
       "      <td>37.970000</td>\n",
       "    </tr>\n",
       "  </tbody>\n",
       "</table>\n",
       "</div>"
      ],
      "text/plain": [
       "             CRIM          ZN       INDUS         NOX          RM         AGE  \\\n",
       "count  394.000000  394.000000  394.000000  394.000000  394.000000  394.000000   \n",
       "mean     3.690136   11.460660   11.000863    0.553215    6.280015   68.932741   \n",
       "std      9.202423   23.954082    6.908364    0.113112    0.697985   27.888705   \n",
       "min      0.006320    0.000000    0.460000    0.389000    3.561000    2.900000   \n",
       "25%      0.081955    0.000000    5.130000    0.453000    5.879250   45.475000   \n",
       "50%      0.268880    0.000000    8.560000    0.538000    6.201500   77.700000   \n",
       "75%      3.435973   12.500000   18.100000    0.624000    6.605500   94.250000   \n",
       "max     88.976200  100.000000   27.740000    0.871000    8.780000  100.000000   \n",
       "\n",
       "              DIS         TAX     PTRATIO           B       LSTAT  \n",
       "count  394.000000  394.000000  394.000000  394.000000  394.000000  \n",
       "mean     3.805268  406.431472   18.537563  358.490939   12.769112  \n",
       "std      2.098571  168.312419    2.166460   89.283295    7.308430  \n",
       "min      1.129600  187.000000   12.600000    2.600000    1.730000  \n",
       "25%      2.110100  280.250000   17.400000  376.707500    7.125000  \n",
       "50%      3.199200  330.000000   19.100000  392.190000   11.300000  \n",
       "75%      5.116700  666.000000   20.200000  396.900000   17.117500  \n",
       "max     12.126500  711.000000   22.000000  396.900000   37.970000  "
      ]
     },
     "execution_count": 3,
     "metadata": {},
     "output_type": "execute_result"
    }
   ],
   "source": [
    "cat=[\"CHAS\", \"RAD\"]\n",
    "data_cat = data[cat]\n",
    "data = data.drop(cat, axis=1)\n",
    "\n",
    "y = data[\"MEDV\"] # target\n",
    "data = data.drop(columns=\"MEDV\")\n",
    "\n",
    "data.describe() #summary de los datos"
   ]
  },
  {
   "cell_type": "markdown",
   "id": "be8f9430-9757-4e2a-ac19-06b28c5e05db",
   "metadata": {},
   "source": [
    "Como existe mucha variabilidad entre las variables que componen el dataset se normalizan los datos"
   ]
  },
  {
   "cell_type": "code",
   "execution_count": 4,
   "id": "01ed7ce8-f1c5-4b85-ba8d-76b1c099f91c",
   "metadata": {},
   "outputs": [
    {
     "data": {
      "text/html": [
       "<div>\n",
       "<style scoped>\n",
       "    .dataframe tbody tr th:only-of-type {\n",
       "        vertical-align: middle;\n",
       "    }\n",
       "\n",
       "    .dataframe tbody tr th {\n",
       "        vertical-align: top;\n",
       "    }\n",
       "\n",
       "    .dataframe thead th {\n",
       "        text-align: right;\n",
       "    }\n",
       "</style>\n",
       "<table border=\"1\" class=\"dataframe\">\n",
       "  <thead>\n",
       "    <tr style=\"text-align: right;\">\n",
       "      <th></th>\n",
       "      <th>CRIM</th>\n",
       "      <th>ZN</th>\n",
       "      <th>INDUS</th>\n",
       "      <th>NOX</th>\n",
       "      <th>RM</th>\n",
       "      <th>AGE</th>\n",
       "      <th>DIS</th>\n",
       "      <th>TAX</th>\n",
       "      <th>PTRATIO</th>\n",
       "      <th>B</th>\n",
       "      <th>LSTAT</th>\n",
       "    </tr>\n",
       "  </thead>\n",
       "  <tbody>\n",
       "    <tr>\n",
       "      <th>count</th>\n",
       "      <td>3.940000e+02</td>\n",
       "      <td>3.940000e+02</td>\n",
       "      <td>3.940000e+02</td>\n",
       "      <td>3.940000e+02</td>\n",
       "      <td>3.940000e+02</td>\n",
       "      <td>3.940000e+02</td>\n",
       "      <td>3.940000e+02</td>\n",
       "      <td>3.940000e+02</td>\n",
       "      <td>3.940000e+02</td>\n",
       "      <td>3.940000e+02</td>\n",
       "      <td>3.940000e+02</td>\n",
       "    </tr>\n",
       "    <tr>\n",
       "      <th>mean</th>\n",
       "      <td>-1.803408e-16</td>\n",
       "      <td>2.930538e-17</td>\n",
       "      <td>-5.410224e-17</td>\n",
       "      <td>5.410224e-16</td>\n",
       "      <td>3.020708e-16</td>\n",
       "      <td>-1.442726e-16</td>\n",
       "      <td>9.017040e-18</td>\n",
       "      <td>3.606816e-17</td>\n",
       "      <td>3.967498e-16</td>\n",
       "      <td>-9.017040e-17</td>\n",
       "      <td>-3.967498e-16</td>\n",
       "    </tr>\n",
       "    <tr>\n",
       "      <th>std</th>\n",
       "      <td>1.001271e+00</td>\n",
       "      <td>1.001271e+00</td>\n",
       "      <td>1.001271e+00</td>\n",
       "      <td>1.001271e+00</td>\n",
       "      <td>1.001271e+00</td>\n",
       "      <td>1.001271e+00</td>\n",
       "      <td>1.001271e+00</td>\n",
       "      <td>1.001271e+00</td>\n",
       "      <td>1.001271e+00</td>\n",
       "      <td>1.001271e+00</td>\n",
       "      <td>1.001271e+00</td>\n",
       "    </tr>\n",
       "    <tr>\n",
       "      <th>min</th>\n",
       "      <td>-4.008184e-01</td>\n",
       "      <td>-4.790512e-01</td>\n",
       "      <td>-1.527752e+00</td>\n",
       "      <td>-1.453635e+00</td>\n",
       "      <td>-3.900475e+00</td>\n",
       "      <td>-2.370734e+00</td>\n",
       "      <td>-1.276616e+00</td>\n",
       "      <td>-1.305373e+00</td>\n",
       "      <td>-2.744160e+00</td>\n",
       "      <td>-3.991155e+00</td>\n",
       "      <td>-1.512383e+00</td>\n",
       "    </tr>\n",
       "    <tr>\n",
       "      <th>25%</th>\n",
       "      <td>-3.925889e-01</td>\n",
       "      <td>-4.790512e-01</td>\n",
       "      <td>-8.509001e-01</td>\n",
       "      <td>-8.871071e-01</td>\n",
       "      <td>-5.749047e-01</td>\n",
       "      <td>-8.421892e-01</td>\n",
       "      <td>-8.087995e-01</td>\n",
       "      <td>-7.506392e-01</td>\n",
       "      <td>-5.257471e-01</td>\n",
       "      <td>2.042904e-01</td>\n",
       "      <td>-7.732560e-01</td>\n",
       "    </tr>\n",
       "    <tr>\n",
       "      <th>50%</th>\n",
       "      <td>-3.722505e-01</td>\n",
       "      <td>-4.790512e-01</td>\n",
       "      <td>-3.537692e-01</td>\n",
       "      <td>-1.346874e-01</td>\n",
       "      <td>-1.126315e-01</td>\n",
       "      <td>3.147656e-01</td>\n",
       "      <td>-2.891675e-01</td>\n",
       "      <td>-4.546821e-01</td>\n",
       "      <td>2.599410e-01</td>\n",
       "      <td>3.779196e-01</td>\n",
       "      <td>-2.012716e-01</td>\n",
       "    </tr>\n",
       "    <tr>\n",
       "      <th>75%</th>\n",
       "      <td>-2.765433e-02</td>\n",
       "      <td>4.344402e-02</td>\n",
       "      <td>1.028921e+00</td>\n",
       "      <td>6.265843e-01</td>\n",
       "      <td>4.669136e-01</td>\n",
       "      <td>9.089504e-01</td>\n",
       "      <td>6.257112e-01</td>\n",
       "      <td>1.544144e+00</td>\n",
       "      <td>7.683274e-01</td>\n",
       "      <td>4.307401e-01</td>\n",
       "      <td>5.957390e-01</td>\n",
       "    </tr>\n",
       "    <tr>\n",
       "      <th>max</th>\n",
       "      <td>9.279567e+00</td>\n",
       "      <td>3.700910e+00</td>\n",
       "      <td>2.426106e+00</td>\n",
       "      <td>2.813028e+00</td>\n",
       "      <td>3.586272e+00</td>\n",
       "      <td>1.115389e+00</td>\n",
       "      <td>3.970231e+00</td>\n",
       "      <td>1.811844e+00</td>\n",
       "      <td>1.600232e+00</td>\n",
       "      <td>4.307401e-01</td>\n",
       "      <td>3.452579e+00</td>\n",
       "    </tr>\n",
       "  </tbody>\n",
       "</table>\n",
       "</div>"
      ],
      "text/plain": [
       "               CRIM            ZN         INDUS           NOX            RM  \\\n",
       "count  3.940000e+02  3.940000e+02  3.940000e+02  3.940000e+02  3.940000e+02   \n",
       "mean  -1.803408e-16  2.930538e-17 -5.410224e-17  5.410224e-16  3.020708e-16   \n",
       "std    1.001271e+00  1.001271e+00  1.001271e+00  1.001271e+00  1.001271e+00   \n",
       "min   -4.008184e-01 -4.790512e-01 -1.527752e+00 -1.453635e+00 -3.900475e+00   \n",
       "25%   -3.925889e-01 -4.790512e-01 -8.509001e-01 -8.871071e-01 -5.749047e-01   \n",
       "50%   -3.722505e-01 -4.790512e-01 -3.537692e-01 -1.346874e-01 -1.126315e-01   \n",
       "75%   -2.765433e-02  4.344402e-02  1.028921e+00  6.265843e-01  4.669136e-01   \n",
       "max    9.279567e+00  3.700910e+00  2.426106e+00  2.813028e+00  3.586272e+00   \n",
       "\n",
       "                AGE           DIS           TAX       PTRATIO             B  \\\n",
       "count  3.940000e+02  3.940000e+02  3.940000e+02  3.940000e+02  3.940000e+02   \n",
       "mean  -1.442726e-16  9.017040e-18  3.606816e-17  3.967498e-16 -9.017040e-17   \n",
       "std    1.001271e+00  1.001271e+00  1.001271e+00  1.001271e+00  1.001271e+00   \n",
       "min   -2.370734e+00 -1.276616e+00 -1.305373e+00 -2.744160e+00 -3.991155e+00   \n",
       "25%   -8.421892e-01 -8.087995e-01 -7.506392e-01 -5.257471e-01  2.042904e-01   \n",
       "50%    3.147656e-01 -2.891675e-01 -4.546821e-01  2.599410e-01  3.779196e-01   \n",
       "75%    9.089504e-01  6.257112e-01  1.544144e+00  7.683274e-01  4.307401e-01   \n",
       "max    1.115389e+00  3.970231e+00  1.811844e+00  1.600232e+00  4.307401e-01   \n",
       "\n",
       "              LSTAT  \n",
       "count  3.940000e+02  \n",
       "mean  -3.967498e-16  \n",
       "std    1.001271e+00  \n",
       "min   -1.512383e+00  \n",
       "25%   -7.732560e-01  \n",
       "50%   -2.012716e-01  \n",
       "75%    5.957390e-01  \n",
       "max    3.452579e+00  "
      ]
     },
     "execution_count": 4,
     "metadata": {},
     "output_type": "execute_result"
    }
   ],
   "source": [
    "data_esc=StandardScaler().fit_transform(data)\n",
    "data_esc=pd.DataFrame(data_esc, columns=data.columns)\n",
    "\n",
    "data_esc.describe()"
   ]
  },
  {
   "cell_type": "markdown",
   "id": "5d6a61e3-454b-4193-8466-a2f4a10f508e",
   "metadata": {},
   "source": [
    "Se realiza un breve `análisis descriptivo` empleando la `matriz de correlaciones de Pearson` "
   ]
  },
  {
   "cell_type": "code",
   "execution_count": 5,
   "id": "27e44e42-8b45-4bdf-80b4-f4a32a253cce",
   "metadata": {},
   "outputs": [
    {
     "data": {
      "image/png": "[encoded data removed]",
      "text/plain": [
       "<Figure size 1000x500 with 2 Axes>"
      ]
     },
     "metadata": {},
     "output_type": "display_data"
    }
   ],
   "source": [
    "matriz_cor=data.corr('pearson')  #correlación de pearson\n",
    "\n",
    "#como cor(x,x)=1 y cor(x,y)=cor(y,x) se puede disponer solo de la diagonal inferior. \n",
    "#La siguiente función elimina la parte superior de la matriz de correlaciones\n",
    "mask = np.zeros(matriz_cor.shape, dtype=bool)\n",
    "mask[np.triu_indices(len(mask))] = True\n",
    "\n",
    "plt.figure(figsize=(10,5))\n",
    "\n",
    "sns.heatmap(matriz_cor, annot = True, vmin = -1, vmax = 1, cmap = 'coolwarm', mask=mask) \n",
    "#cmap para elegir la gama de colores y vmin y vmax identificar todo el espectro de valores de la correlación de pearson [-1,1]\n",
    "plt.title('Matriz de correlaciones')\n",
    "plt.show()"
   ]
  },
  {
   "cell_type": "markdown",
   "id": "bf6c7ff1-768d-4e69-b210-2c1b58c8dd4f",
   "metadata": {},
   "source": [
    "## Análisis Cluster - Algoritmo Kmeans"
   ]
  },
  {
   "cell_type": "markdown",
   "id": "a52e894e-81e0-48fc-9c27-142504dfc80c",
   "metadata": {},
   "source": [
    "El análisis cluster pretende agrupar instancias según sus propias características de forma que, a priori, no se conoce una clasficación inicial (al contrario que en el Análisis Discriminante). El algoritmo kmeans es una de las técnicas de aprendizaje no supervisado"
   ]
  },
  {
   "cell_type": "markdown",
   "id": "bc5f68bf-2c3a-4a0e-a845-4c252e0e574b",
   "metadata": {},
   "source": [
    "K-Means necesita que el usuario proporcione un conjunto de clusters a priori. \n",
    "Como no nos es sabido, se emplea el `gráfico del codo` para la elección del número de grupos (medida de bondad del modelo)"
   ]
  },
  {
   "cell_type": "code",
   "execution_count": 8,
   "id": "24bfb1bd-d4d8-4e49-8e46-e002e289164b",
   "metadata": {},
   "outputs": [
    {
     "data": {
      "image/png": "[encoded data removed]",
      "text/plain": [
       "<Figure size 640x480 with 1 Axes>"
      ]
     },
     "metadata": {},
     "output_type": "display_data"
    }
   ],
   "source": [
    "withniss=[]\n",
    "for i in range(1, 11):\n",
    "    kmeans = KMeans(n_clusters=i, init='k-means++', n_init=10, max_iter=300, random_state=0) #definición del modelo\n",
    "    kmeans.fit(data) #aplicación a la muestra\n",
    "    \n",
    "    withniss.append(kmeans.inertia_)  # \"inertia_\" contiene el valor del SSE dentro del grupo (withniss)\n",
    "    \n",
    "plt.plot(range(1,11), withniss, marker='o') \n",
    "plt.xlabel('Número de clusters')\n",
    "plt.ylabel('Witniss')\n",
    "plt.title('Scree Plot: Elección de Grupos')\n",
    "plt.show()"
   ]
  },
  {
   "cell_type": "markdown",
   "id": "f39770c7-6711-4ad4-8cfe-b3b9b9e54673",
   "metadata": {},
   "source": [
    "Teniendo en cuenta el gráfico anterior se eligen 4 grupos"
   ]
  },
  {
   "cell_type": "code",
   "execution_count": 9,
   "id": "e1d27774-2389-481e-905b-c20ec2cd31f6",
   "metadata": {},
   "outputs": [],
   "source": [
    "n = 4 # a la vist del gráfico anterior, se eligen 4 grupos\n",
    "kmeans = KMeans(n_clusters=n, init='k-means++', n_init=10, max_iter=300, random_state=0)\n",
    "kmeans = kmeans.fit(data)"
   ]
  },
  {
   "cell_type": "markdown",
   "id": "b570a3e2-7cf8-449c-b4ef-9827d954bb3e",
   "metadata": {},
   "source": [
    "`Centroides`"
   ]
  },
  {
   "cell_type": "code",
   "execution_count": 10,
   "id": "d647d947-c629-4810-b56e-ceb0c9857b5d",
   "metadata": {},
   "outputs": [
    {
     "data": {
      "text/html": [
       "<div>\n",
       "<style scoped>\n",
       "    .dataframe tbody tr th:only-of-type {\n",
       "        vertical-align: middle;\n",
       "    }\n",
       "\n",
       "    .dataframe tbody tr th {\n",
       "        vertical-align: top;\n",
       "    }\n",
       "\n",
       "    .dataframe thead th {\n",
       "        text-align: right;\n",
       "    }\n",
       "</style>\n",
       "<table border=\"1\" class=\"dataframe\">\n",
       "  <thead>\n",
       "    <tr style=\"text-align: right;\">\n",
       "      <th></th>\n",
       "      <th>CRIM</th>\n",
       "      <th>ZN</th>\n",
       "      <th>INDUS</th>\n",
       "      <th>NOX</th>\n",
       "      <th>RM</th>\n",
       "      <th>AGE</th>\n",
       "      <th>DIS</th>\n",
       "      <th>TAX</th>\n",
       "      <th>PTRATIO</th>\n",
       "      <th>B</th>\n",
       "      <th>LSTAT</th>\n",
       "    </tr>\n",
       "  </thead>\n",
       "  <tbody>\n",
       "    <tr>\n",
       "      <th>0</th>\n",
       "      <td>0.687931</td>\n",
       "      <td>1.346386e+01</td>\n",
       "      <td>12.171687</td>\n",
       "      <td>0.562976</td>\n",
       "      <td>6.211759</td>\n",
       "      <td>70.722892</td>\n",
       "      <td>3.633152</td>\n",
       "      <td>400.915663</td>\n",
       "      <td>17.842169</td>\n",
       "      <td>376.022771</td>\n",
       "      <td>12.391084</td>\n",
       "    </tr>\n",
       "    <tr>\n",
       "      <th>1</th>\n",
       "      <td>16.483739</td>\n",
       "      <td>0.000000e+00</td>\n",
       "      <td>17.812143</td>\n",
       "      <td>0.678357</td>\n",
       "      <td>6.073250</td>\n",
       "      <td>91.117857</td>\n",
       "      <td>1.998871</td>\n",
       "      <td>646.535714</td>\n",
       "      <td>20.028571</td>\n",
       "      <td>56.592857</td>\n",
       "      <td>21.396786</td>\n",
       "    </tr>\n",
       "    <tr>\n",
       "      <th>2</th>\n",
       "      <td>11.143553</td>\n",
       "      <td>-1.776357e-15</td>\n",
       "      <td>18.710127</td>\n",
       "      <td>0.668443</td>\n",
       "      <td>5.928772</td>\n",
       "      <td>89.531646</td>\n",
       "      <td>2.103697</td>\n",
       "      <td>668.848101</td>\n",
       "      <td>20.193671</td>\n",
       "      <td>372.660633</td>\n",
       "      <td>18.393291</td>\n",
       "    </tr>\n",
       "    <tr>\n",
       "      <th>3</th>\n",
       "      <td>0.269265</td>\n",
       "      <td>1.665686e+01</td>\n",
       "      <td>6.604167</td>\n",
       "      <td>0.487446</td>\n",
       "      <td>6.472186</td>\n",
       "      <td>57.182353</td>\n",
       "      <td>4.782174</td>\n",
       "      <td>274.098039</td>\n",
       "      <td>17.974510</td>\n",
       "      <td>387.307598</td>\n",
       "      <td>9.560735</td>\n",
       "    </tr>\n",
       "  </tbody>\n",
       "</table>\n",
       "</div>"
      ],
      "text/plain": [
       "        CRIM            ZN      INDUS       NOX        RM        AGE  \\\n",
       "0   0.687931  1.346386e+01  12.171687  0.562976  6.211759  70.722892   \n",
       "1  16.483739  0.000000e+00  17.812143  0.678357  6.073250  91.117857   \n",
       "2  11.143553 -1.776357e-15  18.710127  0.668443  5.928772  89.531646   \n",
       "3   0.269265  1.665686e+01   6.604167  0.487446  6.472186  57.182353   \n",
       "\n",
       "        DIS         TAX    PTRATIO           B      LSTAT  \n",
       "0  3.633152  400.915663  17.842169  376.022771  12.391084  \n",
       "1  1.998871  646.535714  20.028571   56.592857  21.396786  \n",
       "2  2.103697  668.848101  20.193671  372.660633  18.393291  \n",
       "3  4.782174  274.098039  17.974510  387.307598   9.560735  "
      ]
     },
     "execution_count": 10,
     "metadata": {},
     "output_type": "execute_result"
    }
   ],
   "source": [
    "centroide = kmeans.cluster_centers_ #centroides\n",
    "df = pd.DataFrame(centroide, columns=data.columns) #dataframe\n",
    "df"
   ]
  },
  {
   "cell_type": "markdown",
   "id": "2e5f1d04-a0c9-484a-93d9-686b25e34dd6",
   "metadata": {},
   "source": [
    "De los centroides se puede interprestar que el \"cluster 4\" toma bajos valores en las variables. Por su parte, el \"grupo 2\" es el que, en general, toma valores más altos en las variables de interés"
   ]
  },
  {
   "cell_type": "markdown",
   "id": "e3e52edc-8a5b-470c-a37f-9b9e7e046ca3",
   "metadata": {},
   "source": [
    "Una vez se tienen categorizadas las viviendas en diferentes grupos nos preguntamos si existen diferencias en términos del precio en cada uno de ellos. Para esto, realizamos un `Análisis de la Varianza` sobre `MEDV`"
   ]
  },
  {
   "cell_type": "markdown",
   "id": "511e6223-3a47-44a7-ad4a-796fddbaa4f3",
   "metadata": {},
   "source": [
    "Como tenemos los índices y las etiquetas de los grupos se define un diccionario con:\n",
    "- Clave: el nombre de los estados\n",
    "- Valor: el id del cluster"
   ]
  },
  {
   "cell_type": "code",
   "execution_count": 17,
   "id": "3050d100-75c7-42a1-bb35-4dcb14bfa50a",
   "metadata": {},
   "outputs": [],
   "source": [
    "viviendas_cluster = {}\n",
    "for cluster, nombre in zip(kmeans.labels_, data.index):\n",
    "    viviendas_cluster[nombre] = cluster"
   ]
  },
  {
   "cell_type": "code",
   "execution_count": 24,
   "id": "4806fd0e-d8c1-41d3-87cb-8d7cbe5a0076",
   "metadata": {},
   "outputs": [
    {
     "data": {
      "text/plain": [
       "cluster\n",
       "3          0.517766\n",
       "0          0.210660\n",
       "2          0.200508\n",
       "1          0.071066\n",
       "Name: proportion, dtype: float64"
      ]
     },
     "execution_count": 24,
     "metadata": {},
     "output_type": "execute_result"
    }
   ],
   "source": [
    "cluster_df = pd.DataFrame(viviendas_cluster, index=[0]).rename(index={0: \"cluster\"}).T\n",
    "cluster_df.value_counts(normalize=True)"
   ]
  },
  {
   "cell_type": "markdown",
   "id": "e19f1eb2-cc37-46e8-96e0-ae78d023d80a",
   "metadata": {},
   "source": [
    "Como podemos ver, más de la mitad del total de las viviendas se han agrupado en un único cluster. "
   ]
  },
  {
   "cell_type": "markdown",
   "id": "8e0f7c77-bf26-4fea-981c-d8364b7c2974",
   "metadata": {},
   "source": [
    "`Boxplot \"MEDV\" en función de los grupos`"
   ]
  },
  {
   "cell_type": "code",
   "execution_count": 31,
   "id": "768fa355-a323-490f-abae-728b19997cd4",
   "metadata": {},
   "outputs": [
    {
     "data": {
      "text/plain": [
       "<Axes: xlabel='cluster', ylabel='MEDV'>"
      ]
     },
     "execution_count": 31,
     "metadata": {},
     "output_type": "execute_result"
    },
    {
     "data": {
      "image/png": "[encoded data removed]",
      "text/plain": [
       "<Figure size 640x480 with 1 Axes>"
      ]
     },
     "metadata": {},
     "output_type": "display_data"
    }
   ],
   "source": [
    "cluster_medv_df = pd.concat([cluster_df, y], axis=1)\n",
    "cluster_medv_df[\"cluster\"] = cluster_medv_df[\"cluster\"].astype(\"category\")\n",
    "\n",
    "sns.boxplot(cluster_medv_df, x=\"cluster\", y=\"MEDV\")"
   ]
  },
  {
   "cell_type": "markdown",
   "id": "e7fc2ff9-1c58-425a-bc3a-d583f05101f9",
   "metadata": {},
   "source": [
    "A simple vista se observa que las medianas de los grupos son muy diferentes entre sí (además de diferente volatilidad del precio entre los grupos).\n",
    "Puede verse también la existencia de valores atípicos en los grupos más numerosos."
   ]
  },
  {
   "cell_type": "markdown",
   "id": "0cf214e4-1a5d-464e-b16f-a889d9e6750f",
   "metadata": {},
   "source": [
    "Por otro lado, analizamos la variable \"MEDV\" y su comportamiento"
   ]
  },
  {
   "cell_type": "code",
   "execution_count": 33,
   "id": "82f3e17d-7f7a-43ff-9f7d-df3fae1414b6",
   "metadata": {},
   "outputs": [
    {
     "data": {
      "image/png": "[encoded data removed]",
      "text/plain": [
       "<Figure size 640x480 with 1 Axes>"
      ]
     },
     "metadata": {},
     "output_type": "display_data"
    }
   ],
   "source": [
    "cluster_medv_df[\"MEDV\"].hist()\n",
    "plt.show()"
   ]
  },
  {
   "cell_type": "markdown",
   "id": "f604e752-488c-4fe2-87ad-b39d46e2e231",
   "metadata": {},
   "source": [
    "A partir del resultado del histograma, se considera más adecuado `tomar logaritmos` sobre el target previo a realizar el `análisis de la varianza`"
   ]
  },
  {
   "cell_type": "code",
   "execution_count": 42,
   "id": "5306f811-3c7d-46a9-9d07-158c12895098",
   "metadata": {},
   "outputs": [],
   "source": [
    "cluster_medv_df[\"MEDV_log\"] = np.log(cluster_medv_df[\"MEDV\"])\n",
    "\n",
    "sns.boxplot(cluster_medv_df, x=\"cluster\", y=\"MEDV_log\")"
   ]
  },
  {
   "cell_type": "code",
   "execution_count": 47,
   "id": "600e4c48-859f-4dca-83cb-a6eb86d9af5f",
   "metadata": {},
   "outputs": [
    {
     "name": "stdout",
     "output_type": "stream",
     "text": [
      "                            OLS Regression Results                            \n",
      "==============================================================================\n",
      "Dep. Variable:               MEDV_log   R-squared:                       0.349\n",
      "Model:                            OLS   Adj. R-squared:                  0.344\n",
      "Method:                 Least Squares   F-statistic:                     69.79\n",
      "Date:                Thu, 02 May 2024   Prob (F-statistic):           3.79e-36\n",
      "Time:                        16:19:40   Log-Likelihood:                -127.69\n",
      "No. Observations:                 394   AIC:                             263.4\n",
      "Df Residuals:                     390   BIC:                             279.3\n",
      "Df Model:                           3                                         \n",
      "Covariance Type:            nonrobust                                         \n",
      "=================================================================================\n",
      "                    coef    std err          t      P>|t|      [0.025      0.975]\n",
      "---------------------------------------------------------------------------------\n",
      "C(cluster)[0]     3.0592      0.037     82.876      0.000       2.987       3.132\n",
      "C(cluster)[1]     2.4618      0.064     38.736      0.000       2.337       2.587\n",
      "C(cluster)[2]     2.7121      0.038     71.680      0.000       2.638       2.787\n",
      "C(cluster)[3]     3.2098      0.024    136.324      0.000       3.164       3.256\n",
      "==============================================================================\n",
      "Omnibus:                       14.851   Durbin-Watson:                   0.674\n",
      "Prob(Omnibus):                  0.001   Jarque-Bera (JB):               25.504\n",
      "Skew:                           0.232   Prob(JB):                     2.90e-06\n",
      "Kurtosis:                       4.157   Cond. No.                         2.70\n",
      "==============================================================================\n",
      "\n",
      "Notes:\n",
      "[1] Standard Errors assume that the covariance matrix of the errors is correctly specified.\n"
     ]
    }
   ],
   "source": [
    "anova = smf.ols('MEDV_log ~ 0 + C(cluster)', data=cluster_medv_df).fit()  #C para identificar el factor\n",
    "print(anova.summary())"
   ]
  },
  {
   "cell_type": "markdown",
   "id": "802eca00-6d1a-4e86-97a8-36b65c01ff8b",
   "metadata": {},
   "source": [
    "A partir del modelo lineal se observa la diferencia existente que existe en el precio de la vivienda entre los diferentes grupos"
   ]
  }
 ],
 "metadata": {
  "kernelspec": {
   "display_name": "Python 3 (ipykernel)",
   "language": "python",
   "name": "python3"
  },
  "language_info": {
   "codemirror_mode": {
    "name": "ipython",
    "version": 3
   },
   "file_extension": ".py",
   "mimetype": "text/x-python",
   "name": "python",
   "nbconvert_exporter": "python",
   "pygments_lexer": "ipython3",
   "version": "3.10.14"
  }
 },
 "nbformat": 4,
 "nbformat_minor": 5
}
