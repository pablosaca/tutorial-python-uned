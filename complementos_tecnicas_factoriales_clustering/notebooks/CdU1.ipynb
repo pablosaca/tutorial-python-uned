{
 "cells": [
  {
   "cell_type": "markdown",
   "id": "51fca025-f22b-4505-b425-44cb4c2d66d8",
   "metadata": {},
   "source": [
    "# Reducción de la dimensionalidad - Caso de uso\n",
    "\n",
    "## Realizado por: Pablo Sánchez Cabrera"
   ]
  },
  {
   "cell_type": "markdown",
   "id": "5ac3c492-0447-4541-9d1a-199fcbbf3097",
   "metadata": {},
   "source": [
    "Se lleva a cabo un proceso proceso común a ambos ejercicios (limpieza de datos y análisis de las variables) así como el estudio de la utilidad del uso de este tipo técnicas en el dataset de Boston Housing."
   ]
  },
  {
   "cell_type": "markdown",
   "id": "0749c76d-073a-4153-b88a-add642f69962",
   "metadata": {},
   "source": [
    "Se cargan las librerías"
   ]
  },
  {
   "cell_type": "code",
   "execution_count": 20,
   "id": "e59f1dc4-8176-4ca1-8e9b-17ac916194d3",
   "metadata": {},
   "outputs": [],
   "source": [
    "import numpy as np\n",
    "import pandas as pd\n",
    "import seaborn as sns\n",
    "import matplotlib.pyplot as plt\n",
    "\n",
    "from sklearn.decomposition import PCA\n",
    "from sklearn.linear_model import LinearRegression\n",
    "from sklearn import datasets\n",
    "from sklearn.preprocessing import StandardScaler\n",
    "\n",
    "from factor_analyzer import FactorAnalyzer\n",
    "from factor_analyzer.factor_analyzer import calculate_bartlett_sphericity\n",
    "from factor_analyzer.factor_analyzer import calculate_kmo"
   ]
  },
  {
   "cell_type": "markdown",
   "id": "0f8ef02d-134d-412d-8556-aad927cbb205",
   "metadata": {},
   "source": [
    "Se cargan los datos"
   ]
  },
  {
   "cell_type": "code",
   "execution_count": 42,
   "id": "89a1959a-70f8-44e0-8154-f9ebc0978877",
   "metadata": {},
   "outputs": [],
   "source": [
    "data = pd.read_csv(\"../data/HousingData.csv\")\n",
    "data = data.dropna() # se eliminan valores nulos existenten en el dataset"
   ]
  },
  {
   "cell_type": "markdown",
   "id": "4ac7094a-63da-49e5-a5a3-27aeaf347b19",
   "metadata": {},
   "source": [
    "Se excluyen las variables `chas` y `rad` al ser variables categóricas. Asimismo, el target `medv` también será excluido"
   ]
  },
  {
   "cell_type": "code",
   "execution_count": 43,
   "id": "e8f07d68-426b-4633-bb46-85e9bd177cc0",
   "metadata": {
    "scrolled": true
   },
   "outputs": [
    {
     "data": {
      "text/html": [
       "<div>\n",
       "<style scoped>\n",
       "    .dataframe tbody tr th:only-of-type {\n",
       "        vertical-align: middle;\n",
       "    }\n",
       "\n",
       "    .dataframe tbody tr th {\n",
       "        vertical-align: top;\n",
       "    }\n",
       "\n",
       "    .dataframe thead th {\n",
       "        text-align: right;\n",
       "    }\n",
       "</style>\n",
       "<table border=\"1\" class=\"dataframe\">\n",
       "  <thead>\n",
       "    <tr style=\"text-align: right;\">\n",
       "      <th></th>\n",
       "      <th>CRIM</th>\n",
       "      <th>ZN</th>\n",
       "      <th>INDUS</th>\n",
       "      <th>NOX</th>\n",
       "      <th>RM</th>\n",
       "      <th>AGE</th>\n",
       "      <th>DIS</th>\n",
       "      <th>TAX</th>\n",
       "      <th>PTRATIO</th>\n",
       "      <th>B</th>\n",
       "      <th>LSTAT</th>\n",
       "    </tr>\n",
       "  </thead>\n",
       "  <tbody>\n",
       "    <tr>\n",
       "      <th>count</th>\n",
       "      <td>394.000000</td>\n",
       "      <td>394.000000</td>\n",
       "      <td>394.000000</td>\n",
       "      <td>394.000000</td>\n",
       "      <td>394.000000</td>\n",
       "      <td>394.000000</td>\n",
       "      <td>394.000000</td>\n",
       "      <td>394.000000</td>\n",
       "      <td>394.000000</td>\n",
       "      <td>394.000000</td>\n",
       "      <td>394.000000</td>\n",
       "    </tr>\n",
       "    <tr>\n",
       "      <th>mean</th>\n",
       "      <td>3.690136</td>\n",
       "      <td>11.460660</td>\n",
       "      <td>11.000863</td>\n",
       "      <td>0.553215</td>\n",
       "      <td>6.280015</td>\n",
       "      <td>68.932741</td>\n",
       "      <td>3.805268</td>\n",
       "      <td>406.431472</td>\n",
       "      <td>18.537563</td>\n",
       "      <td>358.490939</td>\n",
       "      <td>12.769112</td>\n",
       "    </tr>\n",
       "    <tr>\n",
       "      <th>std</th>\n",
       "      <td>9.202423</td>\n",
       "      <td>23.954082</td>\n",
       "      <td>6.908364</td>\n",
       "      <td>0.113112</td>\n",
       "      <td>0.697985</td>\n",
       "      <td>27.888705</td>\n",
       "      <td>2.098571</td>\n",
       "      <td>168.312419</td>\n",
       "      <td>2.166460</td>\n",
       "      <td>89.283295</td>\n",
       "      <td>7.308430</td>\n",
       "    </tr>\n",
       "    <tr>\n",
       "      <th>min</th>\n",
       "      <td>0.006320</td>\n",
       "      <td>0.000000</td>\n",
       "      <td>0.460000</td>\n",
       "      <td>0.389000</td>\n",
       "      <td>3.561000</td>\n",
       "      <td>2.900000</td>\n",
       "      <td>1.129600</td>\n",
       "      <td>187.000000</td>\n",
       "      <td>12.600000</td>\n",
       "      <td>2.600000</td>\n",
       "      <td>1.730000</td>\n",
       "    </tr>\n",
       "    <tr>\n",
       "      <th>25%</th>\n",
       "      <td>0.081955</td>\n",
       "      <td>0.000000</td>\n",
       "      <td>5.130000</td>\n",
       "      <td>0.453000</td>\n",
       "      <td>5.879250</td>\n",
       "      <td>45.475000</td>\n",
       "      <td>2.110100</td>\n",
       "      <td>280.250000</td>\n",
       "      <td>17.400000</td>\n",
       "      <td>376.707500</td>\n",
       "      <td>7.125000</td>\n",
       "    </tr>\n",
       "    <tr>\n",
       "      <th>50%</th>\n",
       "      <td>0.268880</td>\n",
       "      <td>0.000000</td>\n",
       "      <td>8.560000</td>\n",
       "      <td>0.538000</td>\n",
       "      <td>6.201500</td>\n",
       "      <td>77.700000</td>\n",
       "      <td>3.199200</td>\n",
       "      <td>330.000000</td>\n",
       "      <td>19.100000</td>\n",
       "      <td>392.190000</td>\n",
       "      <td>11.300000</td>\n",
       "    </tr>\n",
       "    <tr>\n",
       "      <th>75%</th>\n",
       "      <td>3.435973</td>\n",
       "      <td>12.500000</td>\n",
       "      <td>18.100000</td>\n",
       "      <td>0.624000</td>\n",
       "      <td>6.605500</td>\n",
       "      <td>94.250000</td>\n",
       "      <td>5.116700</td>\n",
       "      <td>666.000000</td>\n",
       "      <td>20.200000</td>\n",
       "      <td>396.900000</td>\n",
       "      <td>17.117500</td>\n",
       "    </tr>\n",
       "    <tr>\n",
       "      <th>max</th>\n",
       "      <td>88.976200</td>\n",
       "      <td>100.000000</td>\n",
       "      <td>27.740000</td>\n",
       "      <td>0.871000</td>\n",
       "      <td>8.780000</td>\n",
       "      <td>100.000000</td>\n",
       "      <td>12.126500</td>\n",
       "      <td>711.000000</td>\n",
       "      <td>22.000000</td>\n",
       "      <td>396.900000</td>\n",
       "      <td>37.970000</td>\n",
       "    </tr>\n",
       "  </tbody>\n",
       "</table>\n",
       "</div>"
      ],
      "text/plain": [
       "             CRIM          ZN       INDUS         NOX          RM         AGE  \\\n",
       "count  394.000000  394.000000  394.000000  394.000000  394.000000  394.000000   \n",
       "mean     3.690136   11.460660   11.000863    0.553215    6.280015   68.932741   \n",
       "std      9.202423   23.954082    6.908364    0.113112    0.697985   27.888705   \n",
       "min      0.006320    0.000000    0.460000    0.389000    3.561000    2.900000   \n",
       "25%      0.081955    0.000000    5.130000    0.453000    5.879250   45.475000   \n",
       "50%      0.268880    0.000000    8.560000    0.538000    6.201500   77.700000   \n",
       "75%      3.435973   12.500000   18.100000    0.624000    6.605500   94.250000   \n",
       "max     88.976200  100.000000   27.740000    0.871000    8.780000  100.000000   \n",
       "\n",
       "              DIS         TAX     PTRATIO           B       LSTAT  \n",
       "count  394.000000  394.000000  394.000000  394.000000  394.000000  \n",
       "mean     3.805268  406.431472   18.537563  358.490939   12.769112  \n",
       "std      2.098571  168.312419    2.166460   89.283295    7.308430  \n",
       "min      1.129600  187.000000   12.600000    2.600000    1.730000  \n",
       "25%      2.110100  280.250000   17.400000  376.707500    7.125000  \n",
       "50%      3.199200  330.000000   19.100000  392.190000   11.300000  \n",
       "75%      5.116700  666.000000   20.200000  396.900000   17.117500  \n",
       "max     12.126500  711.000000   22.000000  396.900000   37.970000  "
      ]
     },
     "execution_count": 43,
     "metadata": {},
     "output_type": "execute_result"
    }
   ],
   "source": [
    "cat=[\"CHAS\", \"RAD\"]\n",
    "data_cat = data[cat]\n",
    "data=data.drop(cat, axis=1)\n",
    "\n",
    "y = data[\"MEDV\"] # target\n",
    "data = data.drop(columns=\"MEDV\")\n",
    "\n",
    "data.describe() #summary de los datos"
   ]
  },
  {
   "cell_type": "markdown",
   "id": "86a79714-91b4-4714-8608-9db82afe6c7d",
   "metadata": {},
   "source": [
    "Como existe mucha variabilidad entre las variables que componen el dataset se normalizan los datos"
   ]
  },
  {
   "cell_type": "code",
   "execution_count": 44,
   "id": "01ed7ce8-f1c5-4b85-ba8d-76b1c099f91c",
   "metadata": {},
   "outputs": [
    {
     "data": {
      "text/html": [
       "<div>\n",
       "<style scoped>\n",
       "    .dataframe tbody tr th:only-of-type {\n",
       "        vertical-align: middle;\n",
       "    }\n",
       "\n",
       "    .dataframe tbody tr th {\n",
       "        vertical-align: top;\n",
       "    }\n",
       "\n",
       "    .dataframe thead th {\n",
       "        text-align: right;\n",
       "    }\n",
       "</style>\n",
       "<table border=\"1\" class=\"dataframe\">\n",
       "  <thead>\n",
       "    <tr style=\"text-align: right;\">\n",
       "      <th></th>\n",
       "      <th>CRIM</th>\n",
       "      <th>ZN</th>\n",
       "      <th>INDUS</th>\n",
       "      <th>NOX</th>\n",
       "      <th>RM</th>\n",
       "      <th>AGE</th>\n",
       "      <th>DIS</th>\n",
       "      <th>TAX</th>\n",
       "      <th>PTRATIO</th>\n",
       "      <th>B</th>\n",
       "      <th>LSTAT</th>\n",
       "    </tr>\n",
       "  </thead>\n",
       "  <tbody>\n",
       "    <tr>\n",
       "      <th>count</th>\n",
       "      <td>3.940000e+02</td>\n",
       "      <td>3.940000e+02</td>\n",
       "      <td>3.940000e+02</td>\n",
       "      <td>3.940000e+02</td>\n",
       "      <td>3.940000e+02</td>\n",
       "      <td>3.940000e+02</td>\n",
       "      <td>3.940000e+02</td>\n",
       "      <td>3.940000e+02</td>\n",
       "      <td>3.940000e+02</td>\n",
       "      <td>3.940000e+02</td>\n",
       "      <td>3.940000e+02</td>\n",
       "    </tr>\n",
       "    <tr>\n",
       "      <th>mean</th>\n",
       "      <td>-1.803408e-16</td>\n",
       "      <td>2.930538e-17</td>\n",
       "      <td>-5.410224e-17</td>\n",
       "      <td>5.410224e-16</td>\n",
       "      <td>3.020708e-16</td>\n",
       "      <td>-1.442726e-16</td>\n",
       "      <td>9.017040e-18</td>\n",
       "      <td>3.606816e-17</td>\n",
       "      <td>3.967498e-16</td>\n",
       "      <td>-9.017040e-17</td>\n",
       "      <td>-3.967498e-16</td>\n",
       "    </tr>\n",
       "    <tr>\n",
       "      <th>std</th>\n",
       "      <td>1.001271e+00</td>\n",
       "      <td>1.001271e+00</td>\n",
       "      <td>1.001271e+00</td>\n",
       "      <td>1.001271e+00</td>\n",
       "      <td>1.001271e+00</td>\n",
       "      <td>1.001271e+00</td>\n",
       "      <td>1.001271e+00</td>\n",
       "      <td>1.001271e+00</td>\n",
       "      <td>1.001271e+00</td>\n",
       "      <td>1.001271e+00</td>\n",
       "      <td>1.001271e+00</td>\n",
       "    </tr>\n",
       "    <tr>\n",
       "      <th>min</th>\n",
       "      <td>-4.008184e-01</td>\n",
       "      <td>-4.790512e-01</td>\n",
       "      <td>-1.527752e+00</td>\n",
       "      <td>-1.453635e+00</td>\n",
       "      <td>-3.900475e+00</td>\n",
       "      <td>-2.370734e+00</td>\n",
       "      <td>-1.276616e+00</td>\n",
       "      <td>-1.305373e+00</td>\n",
       "      <td>-2.744160e+00</td>\n",
       "      <td>-3.991155e+00</td>\n",
       "      <td>-1.512383e+00</td>\n",
       "    </tr>\n",
       "    <tr>\n",
       "      <th>25%</th>\n",
       "      <td>-3.925889e-01</td>\n",
       "      <td>-4.790512e-01</td>\n",
       "      <td>-8.509001e-01</td>\n",
       "      <td>-8.871071e-01</td>\n",
       "      <td>-5.749047e-01</td>\n",
       "      <td>-8.421892e-01</td>\n",
       "      <td>-8.087995e-01</td>\n",
       "      <td>-7.506392e-01</td>\n",
       "      <td>-5.257471e-01</td>\n",
       "      <td>2.042904e-01</td>\n",
       "      <td>-7.732560e-01</td>\n",
       "    </tr>\n",
       "    <tr>\n",
       "      <th>50%</th>\n",
       "      <td>-3.722505e-01</td>\n",
       "      <td>-4.790512e-01</td>\n",
       "      <td>-3.537692e-01</td>\n",
       "      <td>-1.346874e-01</td>\n",
       "      <td>-1.126315e-01</td>\n",
       "      <td>3.147656e-01</td>\n",
       "      <td>-2.891675e-01</td>\n",
       "      <td>-4.546821e-01</td>\n",
       "      <td>2.599410e-01</td>\n",
       "      <td>3.779196e-01</td>\n",
       "      <td>-2.012716e-01</td>\n",
       "    </tr>\n",
       "    <tr>\n",
       "      <th>75%</th>\n",
       "      <td>-2.765433e-02</td>\n",
       "      <td>4.344402e-02</td>\n",
       "      <td>1.028921e+00</td>\n",
       "      <td>6.265843e-01</td>\n",
       "      <td>4.669136e-01</td>\n",
       "      <td>9.089504e-01</td>\n",
       "      <td>6.257112e-01</td>\n",
       "      <td>1.544144e+00</td>\n",
       "      <td>7.683274e-01</td>\n",
       "      <td>4.307401e-01</td>\n",
       "      <td>5.957390e-01</td>\n",
       "    </tr>\n",
       "    <tr>\n",
       "      <th>max</th>\n",
       "      <td>9.279567e+00</td>\n",
       "      <td>3.700910e+00</td>\n",
       "      <td>2.426106e+00</td>\n",
       "      <td>2.813028e+00</td>\n",
       "      <td>3.586272e+00</td>\n",
       "      <td>1.115389e+00</td>\n",
       "      <td>3.970231e+00</td>\n",
       "      <td>1.811844e+00</td>\n",
       "      <td>1.600232e+00</td>\n",
       "      <td>4.307401e-01</td>\n",
       "      <td>3.452579e+00</td>\n",
       "    </tr>\n",
       "  </tbody>\n",
       "</table>\n",
       "</div>"
      ],
      "text/plain": [
       "               CRIM            ZN         INDUS           NOX            RM  \\\n",
       "count  3.940000e+02  3.940000e+02  3.940000e+02  3.940000e+02  3.940000e+02   \n",
       "mean  -1.803408e-16  2.930538e-17 -5.410224e-17  5.410224e-16  3.020708e-16   \n",
       "std    1.001271e+00  1.001271e+00  1.001271e+00  1.001271e+00  1.001271e+00   \n",
       "min   -4.008184e-01 -4.790512e-01 -1.527752e+00 -1.453635e+00 -3.900475e+00   \n",
       "25%   -3.925889e-01 -4.790512e-01 -8.509001e-01 -8.871071e-01 -5.749047e-01   \n",
       "50%   -3.722505e-01 -4.790512e-01 -3.537692e-01 -1.346874e-01 -1.126315e-01   \n",
       "75%   -2.765433e-02  4.344402e-02  1.028921e+00  6.265843e-01  4.669136e-01   \n",
       "max    9.279567e+00  3.700910e+00  2.426106e+00  2.813028e+00  3.586272e+00   \n",
       "\n",
       "                AGE           DIS           TAX       PTRATIO             B  \\\n",
       "count  3.940000e+02  3.940000e+02  3.940000e+02  3.940000e+02  3.940000e+02   \n",
       "mean  -1.442726e-16  9.017040e-18  3.606816e-17  3.967498e-16 -9.017040e-17   \n",
       "std    1.001271e+00  1.001271e+00  1.001271e+00  1.001271e+00  1.001271e+00   \n",
       "min   -2.370734e+00 -1.276616e+00 -1.305373e+00 -2.744160e+00 -3.991155e+00   \n",
       "25%   -8.421892e-01 -8.087995e-01 -7.506392e-01 -5.257471e-01  2.042904e-01   \n",
       "50%    3.147656e-01 -2.891675e-01 -4.546821e-01  2.599410e-01  3.779196e-01   \n",
       "75%    9.089504e-01  6.257112e-01  1.544144e+00  7.683274e-01  4.307401e-01   \n",
       "max    1.115389e+00  3.970231e+00  1.811844e+00  1.600232e+00  4.307401e-01   \n",
       "\n",
       "              LSTAT  \n",
       "count  3.940000e+02  \n",
       "mean  -3.967498e-16  \n",
       "std    1.001271e+00  \n",
       "min   -1.512383e+00  \n",
       "25%   -7.732560e-01  \n",
       "50%   -2.012716e-01  \n",
       "75%    5.957390e-01  \n",
       "max    3.452579e+00  "
      ]
     },
     "execution_count": 44,
     "metadata": {},
     "output_type": "execute_result"
    }
   ],
   "source": [
    "data_esc=StandardScaler().fit_transform(data)\n",
    "data_esc=pd.DataFrame(data_esc, columns=data.columns)\n",
    "\n",
    "data_esc.describe()"
   ]
  },
  {
   "cell_type": "markdown",
   "id": "32479d98-5747-4693-a8dc-14603b103616",
   "metadata": {},
   "source": [
    "Se realiza un breve `análisis descriptivo` empleando la `matriz de correlaciones de Pearson` "
   ]
  },
  {
   "cell_type": "code",
   "execution_count": 45,
   "id": "27e44e42-8b45-4bdf-80b4-f4a32a253cce",
   "metadata": {},
   "outputs": [
    {
     "data": {
      "image/png": "[encoded data removed]",
      "text/plain": [
       "<Figure size 1000x500 with 2 Axes>"
      ]
     },
     "metadata": {},
     "output_type": "display_data"
    }
   ],
   "source": [
    "matriz_cor=data.corr('pearson')  #correlación de pearson\n",
    "\n",
    "#como cor(x,x)=1 y cor(x,y)=cor(y,x) se puede disponer solo de la diagonal inferior. \n",
    "#La siguiente función elimina la parte superior de la matriz de correlaciones\n",
    "mask = np.zeros(matriz_cor.shape, dtype=bool)\n",
    "mask[np.triu_indices(len(mask))] = True\n",
    "\n",
    "plt.figure(figsize=(10,5))\n",
    "\n",
    "sns.heatmap(matriz_cor, annot = True, vmin = -1, vmax = 1, cmap = 'coolwarm', mask=mask) \n",
    "#cmap para elegir la gama de colores y vmin y vmax identificar todo el espectro de valores de la correlación de pearson [-1,1]\n",
    "plt.title('Matriz de correlaciones')\n",
    "plt.show()"
   ]
  },
  {
   "cell_type": "markdown",
   "id": "70403ad3-a9bb-4bc3-abe8-59f26610c539",
   "metadata": {},
   "source": [
    "`Análisis utilidad técnicas de reducción de la dimensión`\n",
    "\n",
    "Se emplean tanto el `test de Barlett` como el `índice KMO`"
   ]
  },
  {
   "cell_type": "code",
   "execution_count": 46,
   "id": "3bce32c7-9a38-48a1-909c-0a05a4b54263",
   "metadata": {},
   "outputs": [
    {
     "name": "stdout",
     "output_type": "stream",
     "text": [
      "Barlett_Test: 2695.501\n",
      "p-value: 0.0\n"
     ]
    }
   ],
   "source": [
    "# Test de Barlett\n",
    "barlett, pvalue = calculate_bartlett_sphericity(data_esc)\n",
    "print(f'Barlett_Test: {round(barlett, 3)}')\n",
    "print(f'p-value: {round(pvalue, 3)}')"
   ]
  },
  {
   "cell_type": "markdown",
   "id": "5ae6f297-da68-463f-8a04-7350c22ed820",
   "metadata": {},
   "source": [
    "A la vista de los resultados, se rechaza la hipótesis nula de que la matriz no está correlacionada"
   ]
  },
  {
   "cell_type": "code",
   "execution_count": 47,
   "id": "6c7f7f42-a4ac-47e5-8220-5226c6aa8129",
   "metadata": {},
   "outputs": [
    {
     "name": "stdout",
     "output_type": "stream",
     "text": [
      "KMO_Total: 0.854\n"
     ]
    },
    {
     "data": {
      "text/html": [
       "<div>\n",
       "<style scoped>\n",
       "    .dataframe tbody tr th:only-of-type {\n",
       "        vertical-align: middle;\n",
       "    }\n",
       "\n",
       "    .dataframe tbody tr th {\n",
       "        vertical-align: top;\n",
       "    }\n",
       "\n",
       "    .dataframe thead th {\n",
       "        text-align: right;\n",
       "    }\n",
       "</style>\n",
       "<table border=\"1\" class=\"dataframe\">\n",
       "  <thead>\n",
       "    <tr style=\"text-align: right;\">\n",
       "      <th></th>\n",
       "      <th>KMO</th>\n",
       "    </tr>\n",
       "  </thead>\n",
       "  <tbody>\n",
       "    <tr>\n",
       "      <th>CRIM</th>\n",
       "      <td>0.888</td>\n",
       "    </tr>\n",
       "    <tr>\n",
       "      <th>ZN</th>\n",
       "      <td>0.823</td>\n",
       "    </tr>\n",
       "    <tr>\n",
       "      <th>INDUS</th>\n",
       "      <td>0.914</td>\n",
       "    </tr>\n",
       "    <tr>\n",
       "      <th>NOX</th>\n",
       "      <td>0.889</td>\n",
       "    </tr>\n",
       "    <tr>\n",
       "      <th>RM</th>\n",
       "      <td>0.706</td>\n",
       "    </tr>\n",
       "    <tr>\n",
       "      <th>AGE</th>\n",
       "      <td>0.887</td>\n",
       "    </tr>\n",
       "    <tr>\n",
       "      <th>DIS</th>\n",
       "      <td>0.878</td>\n",
       "    </tr>\n",
       "    <tr>\n",
       "      <th>TAX</th>\n",
       "      <td>0.831</td>\n",
       "    </tr>\n",
       "    <tr>\n",
       "      <th>PTRATIO</th>\n",
       "      <td>0.740</td>\n",
       "    </tr>\n",
       "    <tr>\n",
       "      <th>B</th>\n",
       "      <td>0.897</td>\n",
       "    </tr>\n",
       "    <tr>\n",
       "      <th>LSTAT</th>\n",
       "      <td>0.838</td>\n",
       "    </tr>\n",
       "  </tbody>\n",
       "</table>\n",
       "</div>"
      ],
      "text/plain": [
       "           KMO\n",
       "CRIM     0.888\n",
       "ZN       0.823\n",
       "INDUS    0.914\n",
       "NOX      0.889\n",
       "RM       0.706\n",
       "AGE      0.887\n",
       "DIS      0.878\n",
       "TAX      0.831\n",
       "PTRATIO  0.740\n",
       "B        0.897\n",
       "LSTAT    0.838"
      ]
     },
     "execution_count": 47,
     "metadata": {},
     "output_type": "execute_result"
    }
   ],
   "source": [
    "# Índice KMO\n",
    "kmo_total = calculate_kmo(data_esc)[1]\n",
    "kmo_var = calculate_kmo(data_esc)[0]\n",
    "print(f'KMO_Total: {round(kmo_total, 3)}') #KMO genreal\n",
    "round(pd.DataFrame(calculate_kmo(data_esc)[0], columns=['KMO'], index=data_esc.columns),3) #KMO variable"
   ]
  },
  {
   "cell_type": "markdown",
   "id": "298199cd-3e95-4522-a6f1-0cda50b01184",
   "metadata": {},
   "source": [
    "A la vista del valor del índice KMO (general) como por variable, se puede llevar a cabo la reducción de la dimensión"
   ]
  },
  {
   "cell_type": "markdown",
   "id": "b6a1efa5-80ea-4170-8d02-e1da8aefd316",
   "metadata": {},
   "source": [
    "## Análisis de Componentes Principales\n",
    "\n",
    "El PCA pretende hallar componentes linealmente independientes entre sí que sucesivamente recojan la mayor parte de la varianza total de las variables iniciales."
   ]
  },
  {
   "cell_type": "code",
   "execution_count": 48,
   "id": "3de61de2-feac-464e-8729-18a3bbb65cd0",
   "metadata": {},
   "outputs": [],
   "source": [
    "# definición y ajuste del modelo\n",
    "pca = PCA(n_components=None) # None para n_componentes=n_variables del dataset -> se recoge toda la varianza\n",
    "pca = pca.fit(data_esc) #ajuste del modelo"
   ]
  },
  {
   "cell_type": "markdown",
   "id": "006b6366-a239-4133-994c-44a5d3fc58a1",
   "metadata": {},
   "source": [
    "Los métodos empleados para escoger el número de componentes final son tanto `Scree plot` como `varianza explicada`."
   ]
  },
  {
   "cell_type": "code",
   "execution_count": 49,
   "id": "46c13995-c74f-4143-8128-98fffc6104d8",
   "metadata": {},
   "outputs": [
    {
     "data": {
      "image/png": "[encoded data removed]",
      "text/plain": [
       "<Figure size 640x480 with 1 Axes>"
      ]
     },
     "metadata": {},
     "output_type": "display_data"
    }
   ],
   "source": [
    "valores_singulares = pca.singular_values_  # raiz cuadrada de los autovalores\n",
    "\n",
    "plt.scatter(range(1, data_esc.shape[1]+1), valores_singulares ** 2)\n",
    "plt.plot(range(1, data_esc.shape[1]+1), valores_singulares ** 2)\n",
    "plt.title('Scree Plot')\n",
    "plt.xlabel('Dimensiones')\n",
    "plt.ylabel('Autovalores')\n",
    "plt.show()"
   ]
  },
  {
   "cell_type": "markdown",
   "id": "5f242c9a-1b74-4e39-9080-8aa2366221de",
   "metadata": {},
   "source": [
    "El gráfico muestra el valor de los autovalores en función de la dimensión\n",
    "\n",
    "- `Varianza explicada por cada componente`"
   ]
  },
  {
   "cell_type": "code",
   "execution_count": 50,
   "id": "6c1246aa-ce15-4b0d-a75a-f2ba2e4fadc8",
   "metadata": {},
   "outputs": [
    {
     "name": "stdout",
     "output_type": "stream",
     "text": [
      "Componente_1: 0.50601\n",
      "Componente_2: 0.61626\n",
      "Componente_3: 0.72097\n",
      "Componente_4: 0.78865\n",
      "Componente_5: 0.84691\n",
      "Componente_6: 0.89661\n",
      "Componente_7: 0.93126\n",
      "Componente_8: 0.94997\n",
      "Componente_9: 0.96807\n",
      "Componente_10: 0.98538\n",
      "Componente_11: 1.0\n"
     ]
    }
   ],
   "source": [
    "suma = 0\n",
    "for i, j in enumerate(pca.explained_variance_ratio_):\n",
    "     suma = suma + j\n",
    "     print(f\"Componente_{i+1}: {round(suma,5)}\")"
   ]
  },
  {
   "cell_type": "markdown",
   "id": "a9da6bb3-603c-408e-bb9f-c82f3c2ee9ea",
   "metadata": {},
   "source": [
    "Finalmente, se eligen 5 dimensiones puesto que se recoge casi el 85% de la variabilidad de los datos.\n",
    "\n",
    "Destacar que se desea obtener el máximo porcentaje de varianza expliada no comprender las nuevas dimensiones"
   ]
  },
  {
   "cell_type": "code",
   "execution_count": 51,
   "id": "40c56d7b-3f78-4a4b-97cb-ffd82a52eb70",
   "metadata": {},
   "outputs": [],
   "source": [
    "pca = PCA(n_components=5) \n",
    "pca = pca.fit(data_esc)"
   ]
  },
  {
   "cell_type": "markdown",
   "id": "4f4dce1b-5437-40a5-9b35-ec73fb3c8546",
   "metadata": {},
   "source": [
    "A partir del ajuste del modelo podemos obtener:\n",
    "\n",
    "`Cargas de las Componentes Principales sobre las variables antiguas`"
   ]
  },
  {
   "cell_type": "code",
   "execution_count": 52,
   "id": "e014d215-0a5a-4599-9f72-788d09dc68b9",
   "metadata": {},
   "outputs": [
    {
     "data": {
      "text/html": [
       "<div>\n",
       "<style scoped>\n",
       "    .dataframe tbody tr th:only-of-type {\n",
       "        vertical-align: middle;\n",
       "    }\n",
       "\n",
       "    .dataframe tbody tr th {\n",
       "        vertical-align: top;\n",
       "    }\n",
       "\n",
       "    .dataframe thead th {\n",
       "        text-align: right;\n",
       "    }\n",
       "</style>\n",
       "<table border=\"1\" class=\"dataframe\">\n",
       "  <thead>\n",
       "    <tr style=\"text-align: right;\">\n",
       "      <th></th>\n",
       "      <th>Comp_1</th>\n",
       "      <th>Comp_2</th>\n",
       "      <th>Comp_3</th>\n",
       "      <th>Comp_4</th>\n",
       "      <th>Comp_5</th>\n",
       "    </tr>\n",
       "  </thead>\n",
       "  <tbody>\n",
       "    <tr>\n",
       "      <th>CRIM</th>\n",
       "      <td>0.245010</td>\n",
       "      <td>-0.212788</td>\n",
       "      <td>0.456859</td>\n",
       "      <td>-0.048479</td>\n",
       "      <td>0.382543</td>\n",
       "    </tr>\n",
       "    <tr>\n",
       "      <th>ZN</th>\n",
       "      <td>-0.280553</td>\n",
       "      <td>-0.172885</td>\n",
       "      <td>0.452319</td>\n",
       "      <td>0.285961</td>\n",
       "      <td>0.290581</td>\n",
       "    </tr>\n",
       "    <tr>\n",
       "      <th>INDUS</th>\n",
       "      <td>0.365460</td>\n",
       "      <td>0.075708</td>\n",
       "      <td>-0.020166</td>\n",
       "      <td>-0.015595</td>\n",
       "      <td>0.160873</td>\n",
       "    </tr>\n",
       "    <tr>\n",
       "      <th>NOX</th>\n",
       "      <td>0.363386</td>\n",
       "      <td>0.267888</td>\n",
       "      <td>0.072140</td>\n",
       "      <td>0.157097</td>\n",
       "      <td>0.071108</td>\n",
       "    </tr>\n",
       "    <tr>\n",
       "      <th>RM</th>\n",
       "      <td>-0.220047</td>\n",
       "      <td>0.516420</td>\n",
       "      <td>0.349525</td>\n",
       "      <td>-0.500067</td>\n",
       "      <td>0.093616</td>\n",
       "    </tr>\n",
       "    <tr>\n",
       "      <th>AGE</th>\n",
       "      <td>0.338192</td>\n",
       "      <td>0.321033</td>\n",
       "      <td>-0.096567</td>\n",
       "      <td>0.071656</td>\n",
       "      <td>-0.017633</td>\n",
       "    </tr>\n",
       "    <tr>\n",
       "      <th>DIS</th>\n",
       "      <td>-0.342449</td>\n",
       "      <td>-0.399632</td>\n",
       "      <td>0.085470</td>\n",
       "      <td>0.029871</td>\n",
       "      <td>-0.019622</td>\n",
       "    </tr>\n",
       "    <tr>\n",
       "      <th>TAX</th>\n",
       "      <td>0.337141</td>\n",
       "      <td>-0.125952</td>\n",
       "      <td>0.275828</td>\n",
       "      <td>-0.141587</td>\n",
       "      <td>0.326286</td>\n",
       "    </tr>\n",
       "    <tr>\n",
       "      <th>PTRATIO</th>\n",
       "      <td>0.214447</td>\n",
       "      <td>-0.472427</td>\n",
       "      <td>-0.261864</td>\n",
       "      <td>-0.671389</td>\n",
       "      <td>0.037996</td>\n",
       "    </tr>\n",
       "    <tr>\n",
       "      <th>B</th>\n",
       "      <td>-0.206446</td>\n",
       "      <td>0.105978</td>\n",
       "      <td>-0.543924</td>\n",
       "      <td>0.110398</td>\n",
       "      <td>0.781564</td>\n",
       "    </tr>\n",
       "    <tr>\n",
       "      <th>LSTAT</th>\n",
       "      <td>0.336619</td>\n",
       "      <td>-0.259993</td>\n",
       "      <td>-0.042093</td>\n",
       "      <td>0.389695</td>\n",
       "      <td>-0.100392</td>\n",
       "    </tr>\n",
       "  </tbody>\n",
       "</table>\n",
       "</div>"
      ],
      "text/plain": [
       "           Comp_1    Comp_2    Comp_3    Comp_4    Comp_5\n",
       "CRIM     0.245010 -0.212788  0.456859 -0.048479  0.382543\n",
       "ZN      -0.280553 -0.172885  0.452319  0.285961  0.290581\n",
       "INDUS    0.365460  0.075708 -0.020166 -0.015595  0.160873\n",
       "NOX      0.363386  0.267888  0.072140  0.157097  0.071108\n",
       "RM      -0.220047  0.516420  0.349525 -0.500067  0.093616\n",
       "AGE      0.338192  0.321033 -0.096567  0.071656 -0.017633\n",
       "DIS     -0.342449 -0.399632  0.085470  0.029871 -0.019622\n",
       "TAX      0.337141 -0.125952  0.275828 -0.141587  0.326286\n",
       "PTRATIO  0.214447 -0.472427 -0.261864 -0.671389  0.037996\n",
       "B       -0.206446  0.105978 -0.543924  0.110398  0.781564\n",
       "LSTAT    0.336619 -0.259993 -0.042093  0.389695 -0.100392"
      ]
     },
     "execution_count": 52,
     "metadata": {},
     "output_type": "execute_result"
    }
   ],
   "source": [
    "componentes = ['Comp_1', 'Comp_2', 'Comp_3', 'Comp_4', 'Comp_5']\n",
    "pd.DataFrame(np.transpose(pca.components_), columns=componentes, index=data_esc.columns)"
   ]
  },
  {
   "cell_type": "markdown",
   "id": "c8492bc8-68d9-41b7-8078-5c298034160d",
   "metadata": {},
   "source": [
    "`Coordenadas antiguas en las nuevas dimensiones`"
   ]
  },
  {
   "cell_type": "code",
   "execution_count": 53,
   "id": "30400f45-02e2-4ff0-a543-1e4c9998c186",
   "metadata": {},
   "outputs": [
    {
     "name": "stdout",
     "output_type": "stream",
     "text": [
      "Coord. old - Componentes Principales: (394, 5)\n"
     ]
    }
   ],
   "source": [
    "x_new = pd.DataFrame(pca.fit_transform(data_esc), columns=componentes)\n",
    "print(f'Coord. old - Componentes Principales: {x_new.shape}')"
   ]
  },
  {
   "cell_type": "markdown",
   "id": "c2100ce5-14f2-4341-b336-6527abef59ac",
   "metadata": {},
   "source": [
    "`Coordenadas nuevas en las antiguas variables`"
   ]
  },
  {
   "cell_type": "code",
   "execution_count": 54,
   "id": "fecc8660-61c8-4c70-b9cc-41252f95e9bf",
   "metadata": {},
   "outputs": [
    {
     "name": "stdout",
     "output_type": "stream",
     "text": [
      "Coord. new - Antiguas variables: (394, 11)\n"
     ]
    }
   ],
   "source": [
    "x_old = pd.DataFrame(pca.inverse_transform(x_new), columns=data_esc.columns)\n",
    "print(f'Coord. new - Antiguas variables: {x_old.shape}')"
   ]
  },
  {
   "cell_type": "markdown",
   "id": "5933eff8-9ab6-47b2-86b5-82d0f11e1bfe",
   "metadata": {},
   "source": [
    "`Gráfico Biplot: interpretación de las instancias y las variables`"
   ]
  },
  {
   "cell_type": "code",
   "execution_count": 55,
   "id": "76c1b967-0aa6-43bc-8792-c2af0cb05861",
   "metadata": {},
   "outputs": [
    {
     "name": "stderr",
     "output_type": "stream",
     "text": [
      "posx and posy should be finite values\n",
      "posx and posy should be finite values\n",
      "posx and posy should be finite values\n",
      "posx and posy should be finite values\n",
      "posx and posy should be finite values\n",
      "posx and posy should be finite values\n",
      "posx and posy should be finite values\n",
      "posx and posy should be finite values\n",
      "posx and posy should be finite values\n",
      "posx and posy should be finite values\n",
      "posx and posy should be finite values\n",
      "posx and posy should be finite values\n",
      "posx and posy should be finite values\n",
      "posx and posy should be finite values\n",
      "posx and posy should be finite values\n",
      "posx and posy should be finite values\n",
      "posx and posy should be finite values\n",
      "posx and posy should be finite values\n",
      "posx and posy should be finite values\n",
      "posx and posy should be finite values\n",
      "posx and posy should be finite values\n",
      "posx and posy should be finite values\n"
     ]
    },
    {
     "data": {
      "image/png": "[encoded data removed]",
      "text/plain": [
       "<Figure size 1500x500 with 1 Axes>"
      ]
     },
     "metadata": {},
     "output_type": "display_data"
    }
   ],
   "source": [
    "# componentes a graficar en el Scatterplot: para elegir otra componente, cambiar del elemento de la lista\n",
    "comp_x = x_new.columns[0] #pc1\n",
    "comp_y = x_new.columns[1] #pc2\n",
    "\n",
    "# Parámetros necesarios para pintar las variables antiguas en el biplot\n",
    "n = x_old.shape[1] #número de variables antiguas (para recorrer el bucle)\n",
    "lista = x_old.columns  #nombre d elas variables\n",
    "factor = 3.5 #factor para mejor visualización de los autovalores (a elegir por usuario)\n",
    "\n",
    "#Gráfico Biplot\n",
    "plt.figure(figsize=(15,5))\n",
    "plt.scatter(x_new[comp_x], x_new[comp_y], color='green') #coordenadas de los individuos\n",
    "for i in range(n):  #coordenadas de las variables\n",
    "    plt.arrow(0, 0, x_old.iloc[0,i]*factor, x_old.iloc[1,i]*factor,color='orange', width=0.05)\n",
    "    plt.text(x_old.iloc[0,i]*factor, x_old.iloc[1,i]*factor, lista[i], fontsize=15)\n",
    "\n",
    "plt.title('Biplot - PCA', fontsize=20), plt.xlabel(comp_x, fontsize=15), plt.ylabel(comp_y, fontsize=15)\n",
    "plt.show()"
   ]
  },
  {
   "cell_type": "markdown",
   "id": "e7c7a5c9-5071-428e-aab0-36c0f729fe1c",
   "metadata": {},
   "source": [
    "`variables explicativas en un modelo predictivo`: uso de las nuevas variables/dimensiones como predictores pues las Componentes Principales se emplean para evitar multicolinealidad entre variables"
   ]
  },
  {
   "cell_type": "code",
   "execution_count": 62,
   "id": "7b1c2090-28b3-4cb2-b1b8-f519f7a3a931",
   "metadata": {},
   "outputs": [
    {
     "data": {
      "text/html": [
       "<div>\n",
       "<style scoped>\n",
       "    .dataframe tbody tr th:only-of-type {\n",
       "        vertical-align: middle;\n",
       "    }\n",
       "\n",
       "    .dataframe tbody tr th {\n",
       "        vertical-align: top;\n",
       "    }\n",
       "\n",
       "    .dataframe thead th {\n",
       "        text-align: right;\n",
       "    }\n",
       "</style>\n",
       "<table border=\"1\" class=\"dataframe\">\n",
       "  <thead>\n",
       "    <tr style=\"text-align: right;\">\n",
       "      <th></th>\n",
       "      <th>Comp_1</th>\n",
       "      <th>Comp_2</th>\n",
       "      <th>Comp_3</th>\n",
       "      <th>Comp_4</th>\n",
       "      <th>Comp_5</th>\n",
       "    </tr>\n",
       "  </thead>\n",
       "  <tbody>\n",
       "    <tr>\n",
       "      <th>Comp_1</th>\n",
       "      <td>1.000000e+00</td>\n",
       "      <td>1.762390e-17</td>\n",
       "      <td>-9.751780e-18</td>\n",
       "      <td>-7.241486e-17</td>\n",
       "      <td>-1.344460e-16</td>\n",
       "    </tr>\n",
       "    <tr>\n",
       "      <th>Comp_2</th>\n",
       "      <td>1.762390e-17</td>\n",
       "      <td>1.000000e+00</td>\n",
       "      <td>1.606956e-16</td>\n",
       "      <td>-2.058116e-16</td>\n",
       "      <td>3.017348e-17</td>\n",
       "    </tr>\n",
       "    <tr>\n",
       "      <th>Comp_3</th>\n",
       "      <td>-9.751780e-18</td>\n",
       "      <td>1.606956e-16</td>\n",
       "      <td>1.000000e+00</td>\n",
       "      <td>1.856297e-16</td>\n",
       "      <td>-4.193844e-16</td>\n",
       "    </tr>\n",
       "    <tr>\n",
       "      <th>Comp_4</th>\n",
       "      <td>-7.241486e-17</td>\n",
       "      <td>-2.058116e-16</td>\n",
       "      <td>1.856297e-16</td>\n",
       "      <td>1.000000e+00</td>\n",
       "      <td>2.496158e-16</td>\n",
       "    </tr>\n",
       "    <tr>\n",
       "      <th>Comp_5</th>\n",
       "      <td>-1.344460e-16</td>\n",
       "      <td>3.017348e-17</td>\n",
       "      <td>-4.193844e-16</td>\n",
       "      <td>2.496158e-16</td>\n",
       "      <td>1.000000e+00</td>\n",
       "    </tr>\n",
       "  </tbody>\n",
       "</table>\n",
       "</div>"
      ],
      "text/plain": [
       "              Comp_1        Comp_2        Comp_3        Comp_4        Comp_5\n",
       "Comp_1  1.000000e+00  1.762390e-17 -9.751780e-18 -7.241486e-17 -1.344460e-16\n",
       "Comp_2  1.762390e-17  1.000000e+00  1.606956e-16 -2.058116e-16  3.017348e-17\n",
       "Comp_3 -9.751780e-18  1.606956e-16  1.000000e+00  1.856297e-16 -4.193844e-16\n",
       "Comp_4 -7.241486e-17 -2.058116e-16  1.856297e-16  1.000000e+00  2.496158e-16\n",
       "Comp_5 -1.344460e-16  3.017348e-17 -4.193844e-16  2.496158e-16  1.000000e+00"
      ]
     },
     "execution_count": 62,
     "metadata": {},
     "output_type": "execute_result"
    }
   ],
   "source": [
    "x_new.corr() #Matriz de correlación de Pearson"
   ]
  },
  {
   "cell_type": "markdown",
   "id": "5e087054-6094-41db-969a-259e6a7f7569",
   "metadata": {},
   "source": [
    "## Caso 1: predicción del precio de la vivienda\n",
    "\n",
    "Haciendo uso de estas nuevas variables (+ las variables que fueron excluídas previamente) se modeliza una `regresión lineal` para obtener el precio de la vivienda.\n",
    "\n",
    "Obtenemos las variables categóricas y las convertimos a variables dummy:"
   ]
  },
  {
   "cell_type": "code",
   "execution_count": 73,
   "id": "bc9c88d4-0606-4d80-a4ff-098057993bc8",
   "metadata": {},
   "outputs": [],
   "source": [
    "data_cat['CHAS'] = data_cat['CHAS'].astype('category') \n",
    "data_cat['RAD'] = data_cat['RAD'].astype('category')\n",
    "\n",
    "# se aplica reset_index porque el concat se hace por índice y ese dataframe tiene los índices iniciales\n",
    "datos_entrada = pd.concat([x_new, data_cat.reset_index(drop=True)], axis=1)\n",
    "datos_entrada = pd.get_dummies(datos_entrada, drop_first=True, dtype=int)"
   ]
  },
  {
   "cell_type": "markdown",
   "id": "bd6fb641-5593-44d2-bac1-506e1fa50212",
   "metadata": {},
   "source": [
    "Finalmente se hace la modelización y se evalúa el desempeño del modelo con el `coeficiente de determinación`"
   ]
  },
  {
   "cell_type": "code",
   "execution_count": 76,
   "id": "623bd032-6c18-41fb-b427-da6b962525fc",
   "metadata": {},
   "outputs": [],
   "source": [
    "#definición y ajuste del modelo\n",
    "reg = LinearRegression(fit_intercept=True) #definición del modelo\n",
    "reg.fit(datos_entrada, y)"
   ]
  },
  {
   "cell_type": "code",
   "execution_count": 78,
   "id": "453fa4e2-0357-4b57-ab4c-f10ac851c61b",
   "metadata": {},
   "outputs": [
    {
     "name": "stdout",
     "output_type": "stream",
     "text": [
      "R2: 0.745\n",
      "R2-ajustado: 0.736\n"
     ]
    }
   ],
   "source": [
    "r2 = reg.score(datos_entrada, y) #r-square\n",
    "n = len(datos_entrada) #número de registros\n",
    "p = len(datos_entrada.columns) #número de varias independientes\n",
    "r2_adj = 1-(1-r2)*(n-1)/(n-p-1)\n",
    "\n",
    "print(f'R2: {round(r2,3)}')\n",
    "print(f'R2-ajustado: {round(r2_adj,3)}')"
   ]
  },
  {
   "cell_type": "markdown",
   "id": "78ab220a-21b3-46c9-b85c-94bb107809e8",
   "metadata": {},
   "source": [
    "Una vez se tienen los resultados obtenemos el peso de las variables en el modelo"
   ]
  },
  {
   "cell_type": "code",
   "execution_count": 81,
   "id": "4bb79f25-2ab9-4a06-a983-6c9c005a1bdf",
   "metadata": {},
   "outputs": [
    {
     "data": {
      "text/html": [
       "<div>\n",
       "<style scoped>\n",
       "    .dataframe tbody tr th:only-of-type {\n",
       "        vertical-align: middle;\n",
       "    }\n",
       "\n",
       "    .dataframe tbody tr th {\n",
       "        vertical-align: top;\n",
       "    }\n",
       "\n",
       "    .dataframe thead th {\n",
       "        text-align: right;\n",
       "    }\n",
       "</style>\n",
       "<table border=\"1\" class=\"dataframe\">\n",
       "  <thead>\n",
       "    <tr style=\"text-align: right;\">\n",
       "      <th></th>\n",
       "      <th>Coeficientes</th>\n",
       "    </tr>\n",
       "  </thead>\n",
       "  <tbody>\n",
       "    <tr>\n",
       "      <th>INTERCEPTO</th>\n",
       "      <td>18.474355</td>\n",
       "    </tr>\n",
       "    <tr>\n",
       "      <th>Comp_1</th>\n",
       "      <td>-2.911047</td>\n",
       "    </tr>\n",
       "    <tr>\n",
       "      <th>Comp_2</th>\n",
       "      <td>4.145958</td>\n",
       "    </tr>\n",
       "    <tr>\n",
       "      <th>Comp_3</th>\n",
       "      <td>0.815758</td>\n",
       "    </tr>\n",
       "    <tr>\n",
       "      <th>Comp_4</th>\n",
       "      <td>-1.194967</td>\n",
       "    </tr>\n",
       "    <tr>\n",
       "      <th>Comp_5</th>\n",
       "      <td>0.828317</td>\n",
       "    </tr>\n",
       "    <tr>\n",
       "      <th>CHAS_1.0</th>\n",
       "      <td>2.955627</td>\n",
       "    </tr>\n",
       "    <tr>\n",
       "      <th>RAD_2</th>\n",
       "      <td>2.580235</td>\n",
       "    </tr>\n",
       "    <tr>\n",
       "      <th>RAD_3</th>\n",
       "      <td>4.724084</td>\n",
       "    </tr>\n",
       "    <tr>\n",
       "      <th>RAD_4</th>\n",
       "      <td>3.078340</td>\n",
       "    </tr>\n",
       "    <tr>\n",
       "      <th>RAD_5</th>\n",
       "      <td>2.839142</td>\n",
       "    </tr>\n",
       "    <tr>\n",
       "      <th>RAD_6</th>\n",
       "      <td>2.117981</td>\n",
       "    </tr>\n",
       "    <tr>\n",
       "      <th>RAD_7</th>\n",
       "      <td>4.286175</td>\n",
       "    </tr>\n",
       "    <tr>\n",
       "      <th>RAD_8</th>\n",
       "      <td>3.201851</td>\n",
       "    </tr>\n",
       "    <tr>\n",
       "      <th>RAD_24</th>\n",
       "      <td>5.643258</td>\n",
       "    </tr>\n",
       "  </tbody>\n",
       "</table>\n",
       "</div>"
      ],
      "text/plain": [
       "            Coeficientes\n",
       "INTERCEPTO     18.474355\n",
       "Comp_1         -2.911047\n",
       "Comp_2          4.145958\n",
       "Comp_3          0.815758\n",
       "Comp_4         -1.194967\n",
       "Comp_5          0.828317\n",
       "CHAS_1.0        2.955627\n",
       "RAD_2           2.580235\n",
       "RAD_3           4.724084\n",
       "RAD_4           3.078340\n",
       "RAD_5           2.839142\n",
       "RAD_6           2.117981\n",
       "RAD_7           4.286175\n",
       "RAD_8           3.201851\n",
       "RAD_24          5.643258"
      ]
     },
     "execution_count": 81,
     "metadata": {},
     "output_type": "execute_result"
    }
   ],
   "source": [
    "estimadores = pd.DataFrame(reg.coef_.T, columns=['Coeficientes'], index=datos_entrada.columns) #variables dependientes\n",
    "intercepto = pd.DataFrame(reg.intercept_.T, columns=['Coeficientes'], index=['INTERCEPTO']) #intercepto\n",
    "coef_modelo = pd.concat([intercepto, estimadores], axis=0) #unión por fila\n",
    "\n",
    "coef_modelo"
   ]
  },
  {
   "cell_type": "markdown",
   "id": "8096f817-08cc-4689-8da3-8bc1605d9a27",
   "metadata": {},
   "source": [
    "## Caso 2: Análisis Factorial \n",
    "\n",
    "El AF se diferencia al PCA en que se desea encontrar factores/dimensiones que expliquen la mayor parte de la varianza común\n",
    "\n",
    "Se aplica el modelo teniendo en cuenta:\n",
    "- `Método de extracción de factores`: máxima verosimilitud\n",
    "- `Rotación`: varimax "
   ]
  },
  {
   "cell_type": "code",
   "execution_count": 83,
   "id": "a621597a-770c-4149-a753-d2460eb770d5",
   "metadata": {},
   "outputs": [],
   "source": [
    "n = 4\n",
    "fa = FactorAnalyzer(n_factors=n, rotation='varimax', method='principal').fit(data_esc) # definición y ajuste del modelo"
   ]
  },
  {
   "cell_type": "markdown",
   "id": "8bcd13ec-11fc-410b-bf49-32c31854b8f3",
   "metadata": {},
   "source": [
    "Al igual que en el caso anterior, se estudia la `variable explicada` así como el gráfico `scree-plot`\n",
    "\n",
    "- `Scree-plot`"
   ]
  },
  {
   "cell_type": "code",
   "execution_count": 84,
   "id": "229c3c65-079f-4b11-b192-a8c2a27b6258",
   "metadata": {},
   "outputs": [
    {
     "data": {
      "image/png": "[encoded data removed]",
      "text/plain": [
       "<Figure size 640x480 with 1 Axes>"
      ]
     },
     "metadata": {},
     "output_type": "display_data"
    }
   ],
   "source": [
    "autovalores = fa.get_eigenvalues()[0]\n",
    "\n",
    "plt.scatter(range(1, data_esc.shape[1]+1), autovalores)\n",
    "plt.plot(range(1, data_esc.shape[1]+1),autovalores)\n",
    "plt.title('Scree Plot')\n",
    "plt.xlabel('Factores')\n",
    "plt.ylabel('Autovalores')\n",
    "plt.show()"
   ]
  },
  {
   "cell_type": "code",
   "execution_count": null,
   "id": "2d8ca77a-050f-42e2-9540-61aad9112285",
   "metadata": {},
   "outputs": [],
   "source": [
    "- `Varianza Explicada`"
   ]
  },
  {
   "cell_type": "code",
   "execution_count": 85,
   "id": "495b0d0f-2beb-4dfa-b2ba-0508228c3071",
   "metadata": {},
   "outputs": [
    {
     "data": {
      "text/html": [
       "<div>\n",
       "<style scoped>\n",
       "    .dataframe tbody tr th:only-of-type {\n",
       "        vertical-align: middle;\n",
       "    }\n",
       "\n",
       "    .dataframe tbody tr th {\n",
       "        vertical-align: top;\n",
       "    }\n",
       "\n",
       "    .dataframe thead th {\n",
       "        text-align: right;\n",
       "    }\n",
       "</style>\n",
       "<table border=\"1\" class=\"dataframe\">\n",
       "  <thead>\n",
       "    <tr style=\"text-align: right;\">\n",
       "      <th></th>\n",
       "      <th>D.E - Cargas</th>\n",
       "      <th>Varianza por Factor</th>\n",
       "      <th>Variaza Acumulada</th>\n",
       "    </tr>\n",
       "  </thead>\n",
       "  <tbody>\n",
       "    <tr>\n",
       "      <th>Factor_1</th>\n",
       "      <td>3.585566</td>\n",
       "      <td>0.325961</td>\n",
       "      <td>0.325961</td>\n",
       "    </tr>\n",
       "    <tr>\n",
       "      <th>Factor_2</th>\n",
       "      <td>1.635994</td>\n",
       "      <td>0.148727</td>\n",
       "      <td>0.474687</td>\n",
       "    </tr>\n",
       "    <tr>\n",
       "      <th>Factor_3</th>\n",
       "      <td>2.232692</td>\n",
       "      <td>0.202972</td>\n",
       "      <td>0.677659</td>\n",
       "    </tr>\n",
       "    <tr>\n",
       "      <th>Factor_4</th>\n",
       "      <td>1.220851</td>\n",
       "      <td>0.110986</td>\n",
       "      <td>0.788646</td>\n",
       "    </tr>\n",
       "  </tbody>\n",
       "</table>\n",
       "</div>"
      ],
      "text/plain": [
       "          D.E - Cargas  Varianza por Factor  Variaza Acumulada\n",
       "Factor_1      3.585566             0.325961           0.325961\n",
       "Factor_2      1.635994             0.148727           0.474687\n",
       "Factor_3      2.232692             0.202972           0.677659\n",
       "Factor_4      1.220851             0.110986           0.788646"
      ]
     },
     "execution_count": 85,
     "metadata": {},
     "output_type": "execute_result"
    }
   ],
   "source": [
    "var_exp = fa.get_factor_variance()\n",
    "tabla = pd.DataFrame(\n",
    "    np.transpose(var_exp), # matriz traspuesta para la visualización correcta\n",
    "    columns=['D.E - Cargas', 'Varianza por Factor', 'Variaza Acumulada'], \n",
    "    index=['Factor_1', 'Factor_2', 'Factor_3', 'Factor_4']\n",
    ")\n",
    "tabla"
   ]
  },
  {
   "cell_type": "markdown",
   "id": "0ded04e6-4179-44a7-ba1b-1dfc8266c776",
   "metadata": {},
   "source": [
    "`Interpretación de las cargas`"
   ]
  },
  {
   "cell_type": "code",
   "execution_count": 86,
   "id": "e4f89e5b-fcdb-443f-8ea8-9fceac9a54ec",
   "metadata": {},
   "outputs": [
    {
     "data": {
      "text/html": [
       "<div>\n",
       "<style scoped>\n",
       "    .dataframe tbody tr th:only-of-type {\n",
       "        vertical-align: middle;\n",
       "    }\n",
       "\n",
       "    .dataframe tbody tr th {\n",
       "        vertical-align: top;\n",
       "    }\n",
       "\n",
       "    .dataframe thead th {\n",
       "        text-align: right;\n",
       "    }\n",
       "</style>\n",
       "<table border=\"1\" class=\"dataframe\">\n",
       "  <thead>\n",
       "    <tr style=\"text-align: right;\">\n",
       "      <th></th>\n",
       "      <th>Factor_1</th>\n",
       "      <th>Factor_2</th>\n",
       "      <th>Factor_3</th>\n",
       "      <th>Factor_4</th>\n",
       "    </tr>\n",
       "  </thead>\n",
       "  <tbody>\n",
       "    <tr>\n",
       "      <th>CRIM</th>\n",
       "      <td>0.157193</td>\n",
       "      <td>0.169403</td>\n",
       "      <td>0.754063</td>\n",
       "      <td>0.095774</td>\n",
       "    </tr>\n",
       "    <tr>\n",
       "      <th>ZN</th>\n",
       "      <td>-0.727658</td>\n",
       "      <td>-0.138651</td>\n",
       "      <td>0.095190</td>\n",
       "      <td>-0.461633</td>\n",
       "    </tr>\n",
       "    <tr>\n",
       "      <th>INDUS</th>\n",
       "      <td>0.694518</td>\n",
       "      <td>0.275207</td>\n",
       "      <td>0.389267</td>\n",
       "      <td>0.203464</td>\n",
       "    </tr>\n",
       "    <tr>\n",
       "      <th>NOX</th>\n",
       "      <td>0.799748</td>\n",
       "      <td>0.212335</td>\n",
       "      <td>0.399629</td>\n",
       "      <td>-0.044923</td>\n",
       "    </tr>\n",
       "    <tr>\n",
       "      <th>RM</th>\n",
       "      <td>-0.125950</td>\n",
       "      <td>-0.926980</td>\n",
       "      <td>-0.046165</td>\n",
       "      <td>-0.206228</td>\n",
       "    </tr>\n",
       "    <tr>\n",
       "      <th>AGE</th>\n",
       "      <td>0.837178</td>\n",
       "      <td>0.167382</td>\n",
       "      <td>0.213756</td>\n",
       "      <td>0.039952</td>\n",
       "    </tr>\n",
       "    <tr>\n",
       "      <th>DIS</th>\n",
       "      <td>-0.894948</td>\n",
       "      <td>-0.060613</td>\n",
       "      <td>-0.215822</td>\n",
       "      <td>-0.065782</td>\n",
       "    </tr>\n",
       "    <tr>\n",
       "      <th>TAX</th>\n",
       "      <td>0.425607</td>\n",
       "      <td>0.207320</td>\n",
       "      <td>0.685610</td>\n",
       "      <td>0.245513</td>\n",
       "    </tr>\n",
       "    <tr>\n",
       "      <th>PTRATIO</th>\n",
       "      <td>0.113737</td>\n",
       "      <td>0.217184</td>\n",
       "      <td>0.210223</td>\n",
       "      <td>0.914818</td>\n",
       "    </tr>\n",
       "    <tr>\n",
       "      <th>B</th>\n",
       "      <td>-0.139602</td>\n",
       "      <td>-0.001595</td>\n",
       "      <td>-0.761979</td>\n",
       "      <td>-0.023895</td>\n",
       "    </tr>\n",
       "    <tr>\n",
       "      <th>LSTAT</th>\n",
       "      <td>0.422124</td>\n",
       "      <td>0.697216</td>\n",
       "      <td>0.393089</td>\n",
       "      <td>0.094678</td>\n",
       "    </tr>\n",
       "  </tbody>\n",
       "</table>\n",
       "</div>"
      ],
      "text/plain": [
       "         Factor_1  Factor_2  Factor_3  Factor_4\n",
       "CRIM     0.157193  0.169403  0.754063  0.095774\n",
       "ZN      -0.727658 -0.138651  0.095190 -0.461633\n",
       "INDUS    0.694518  0.275207  0.389267  0.203464\n",
       "NOX      0.799748  0.212335  0.399629 -0.044923\n",
       "RM      -0.125950 -0.926980 -0.046165 -0.206228\n",
       "AGE      0.837178  0.167382  0.213756  0.039952\n",
       "DIS     -0.894948 -0.060613 -0.215822 -0.065782\n",
       "TAX      0.425607  0.207320  0.685610  0.245513\n",
       "PTRATIO  0.113737  0.217184  0.210223  0.914818\n",
       "B       -0.139602 -0.001595 -0.761979 -0.023895\n",
       "LSTAT    0.422124  0.697216  0.393089  0.094678"
      ]
     },
     "execution_count": 86,
     "metadata": {},
     "output_type": "execute_result"
    }
   ],
   "source": [
    "cargas = pd.DataFrame(fa.loadings_, columns=tabla.index, index=data_esc.columns)\n",
    "cargas"
   ]
  },
  {
   "cell_type": "markdown",
   "id": "d8db4cb1-5110-4f9b-b64e-05706d02d67a",
   "metadata": {},
   "source": [
    "De la tabla de cargas se obtiene la siguiente conclusión:\n",
    "- Factor 1:  zn (-), indus(+), nox(+), age(+), dis(-)\n",
    "- Factor 2: rm (-), lstat(+)\n",
    "- Factor 3: crim(+), tax(+)\n",
    "- Factor 4: ptratio(+)\n",
    "\n",
    "Importante: Para la lectura del factor, se interpreta que una carga inferior al 45% no es importante en éste"
   ]
  },
  {
   "cell_type": "markdown",
   "id": "56774f83-7dc5-44bf-be10-e642c52b3547",
   "metadata": {},
   "source": [
    "`Unicidad y Comunalidad`"
   ]
  },
  {
   "cell_type": "markdown",
   "id": "da4350d1-2b6c-44b0-8460-1e353efba403",
   "metadata": {},
   "source": [
    "- `Unicidad/Especificidad`"
   ]
  },
  {
   "cell_type": "code",
   "execution_count": 87,
   "id": "280b5d84-f2bd-4280-9379-4ba22e38f618",
   "metadata": {},
   "outputs": [
    {
     "data": {
      "text/html": [
       "<div>\n",
       "<style scoped>\n",
       "    .dataframe tbody tr th:only-of-type {\n",
       "        vertical-align: middle;\n",
       "    }\n",
       "\n",
       "    .dataframe tbody tr th {\n",
       "        vertical-align: top;\n",
       "    }\n",
       "\n",
       "    .dataframe thead th {\n",
       "        text-align: right;\n",
       "    }\n",
       "</style>\n",
       "<table border=\"1\" class=\"dataframe\">\n",
       "  <thead>\n",
       "    <tr style=\"text-align: right;\">\n",
       "      <th></th>\n",
       "      <th>Unicidad</th>\n",
       "    </tr>\n",
       "  </thead>\n",
       "  <tbody>\n",
       "    <tr>\n",
       "      <th>CRIM</th>\n",
       "      <td>0.368809</td>\n",
       "    </tr>\n",
       "    <tr>\n",
       "      <th>ZN</th>\n",
       "      <td>0.229124</td>\n",
       "    </tr>\n",
       "    <tr>\n",
       "      <th>INDUS</th>\n",
       "      <td>0.248979</td>\n",
       "    </tr>\n",
       "    <tr>\n",
       "      <th>NOX</th>\n",
       "      <td>0.153596</td>\n",
       "    </tr>\n",
       "    <tr>\n",
       "      <th>RM</th>\n",
       "      <td>0.080183</td>\n",
       "    </tr>\n",
       "    <tr>\n",
       "      <th>AGE</th>\n",
       "      <td>0.223827</td>\n",
       "    </tr>\n",
       "    <tr>\n",
       "      <th>DIS</th>\n",
       "      <td>0.144487</td>\n",
       "    </tr>\n",
       "    <tr>\n",
       "      <th>TAX</th>\n",
       "      <td>0.245540</td>\n",
       "    </tr>\n",
       "    <tr>\n",
       "      <th>PTRATIO</th>\n",
       "      <td>0.058808</td>\n",
       "    </tr>\n",
       "    <tr>\n",
       "      <th>B</th>\n",
       "      <td>0.399326</td>\n",
       "    </tr>\n",
       "    <tr>\n",
       "      <th>LSTAT</th>\n",
       "      <td>0.172219</td>\n",
       "    </tr>\n",
       "  </tbody>\n",
       "</table>\n",
       "</div>"
      ],
      "text/plain": [
       "         Unicidad\n",
       "CRIM     0.368809\n",
       "ZN       0.229124\n",
       "INDUS    0.248979\n",
       "NOX      0.153596\n",
       "RM       0.080183\n",
       "AGE      0.223827\n",
       "DIS      0.144487\n",
       "TAX      0.245540\n",
       "PTRATIO  0.058808\n",
       "B        0.399326\n",
       "LSTAT    0.172219"
      ]
     },
     "execution_count": 87,
     "metadata": {},
     "output_type": "execute_result"
    }
   ],
   "source": [
    "pd.DataFrame(fa.get_uniquenesses(), columns=['Unicidad'], index=data_esc.columns)"
   ]
  },
  {
   "cell_type": "markdown",
   "id": "a1cff3f5-bb5c-483c-9e70-f8e5c8e041fe",
   "metadata": {},
   "source": [
    "Valores muy bajos de unicidad para las variables \"RM\", \"PTRATIO\" y \"DIS\" -> factores únicos "
   ]
  },
  {
   "cell_type": "markdown",
   "id": "a18e9da3-900e-4458-97d3-d7643bf5affe",
   "metadata": {},
   "source": [
    "- `Comunalidad`"
   ]
  },
  {
   "cell_type": "code",
   "execution_count": 88,
   "id": "ac9a14f1-57ea-4a03-9bab-da111bf456dd",
   "metadata": {},
   "outputs": [
    {
     "data": {
      "text/html": [
       "<div>\n",
       "<style scoped>\n",
       "    .dataframe tbody tr th:only-of-type {\n",
       "        vertical-align: middle;\n",
       "    }\n",
       "\n",
       "    .dataframe tbody tr th {\n",
       "        vertical-align: top;\n",
       "    }\n",
       "\n",
       "    .dataframe thead th {\n",
       "        text-align: right;\n",
       "    }\n",
       "</style>\n",
       "<table border=\"1\" class=\"dataframe\">\n",
       "  <thead>\n",
       "    <tr style=\"text-align: right;\">\n",
       "      <th></th>\n",
       "      <th>Comunalidad</th>\n",
       "    </tr>\n",
       "  </thead>\n",
       "  <tbody>\n",
       "    <tr>\n",
       "      <th>CRIM</th>\n",
       "      <td>0.631191</td>\n",
       "    </tr>\n",
       "    <tr>\n",
       "      <th>ZN</th>\n",
       "      <td>0.770876</td>\n",
       "    </tr>\n",
       "    <tr>\n",
       "      <th>INDUS</th>\n",
       "      <td>0.751021</td>\n",
       "    </tr>\n",
       "    <tr>\n",
       "      <th>NOX</th>\n",
       "      <td>0.846404</td>\n",
       "    </tr>\n",
       "    <tr>\n",
       "      <th>RM</th>\n",
       "      <td>0.919817</td>\n",
       "    </tr>\n",
       "    <tr>\n",
       "      <th>AGE</th>\n",
       "      <td>0.776173</td>\n",
       "    </tr>\n",
       "    <tr>\n",
       "      <th>DIS</th>\n",
       "      <td>0.855513</td>\n",
       "    </tr>\n",
       "    <tr>\n",
       "      <th>TAX</th>\n",
       "      <td>0.754460</td>\n",
       "    </tr>\n",
       "    <tr>\n",
       "      <th>PTRATIO</th>\n",
       "      <td>0.941192</td>\n",
       "    </tr>\n",
       "    <tr>\n",
       "      <th>B</th>\n",
       "      <td>0.600674</td>\n",
       "    </tr>\n",
       "    <tr>\n",
       "      <th>LSTAT</th>\n",
       "      <td>0.827781</td>\n",
       "    </tr>\n",
       "  </tbody>\n",
       "</table>\n",
       "</div>"
      ],
      "text/plain": [
       "         Comunalidad\n",
       "CRIM        0.631191\n",
       "ZN          0.770876\n",
       "INDUS       0.751021\n",
       "NOX         0.846404\n",
       "RM          0.919817\n",
       "AGE         0.776173\n",
       "DIS         0.855513\n",
       "TAX         0.754460\n",
       "PTRATIO     0.941192\n",
       "B           0.600674\n",
       "LSTAT       0.827781"
      ]
     },
     "execution_count": 88,
     "metadata": {},
     "output_type": "execute_result"
    }
   ],
   "source": [
    "pd.DataFrame(fa.get_communalities(), columns=['Comunalidad'], index=data_esc.columns) # comunalidad=1-unicidad"
   ]
  }
 ],
 "metadata": {
  "kernelspec": {
   "display_name": "Python 3 (ipykernel)",
   "language": "python",
   "name": "python3"
  },
  "language_info": {
   "codemirror_mode": {
    "name": "ipython",
    "version": 3
   },
   "file_extension": ".py",
   "mimetype": "text/x-python",
   "name": "python",
   "nbconvert_exporter": "python",
   "pygments_lexer": "ipython3",
   "version": "3.10.14"
  }
 },
 "nbformat": 4,
 "nbformat_minor": 5
}
