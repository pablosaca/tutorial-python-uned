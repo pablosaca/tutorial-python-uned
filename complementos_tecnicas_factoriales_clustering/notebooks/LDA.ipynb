{
 "cells": [
  {
   "cell_type": "markdown",
   "id": "712646e7-b481-47db-80a0-e08a563ce61a",
   "metadata": {},
   "source": [
    "# ANÁLISIS DISCRIMINANTE LINEAL\n",
    "\n",
    "## Realizado por: Pablo Sánchez Cabrera"
   ]
  },
  {
   "cell_type": "code",
   "execution_count": 1,
   "id": "8bf9043c-a7d6-4db6-893b-32a3cb697bb1",
   "metadata": {},
   "outputs": [],
   "source": [
    "import pandas as pd\n",
    "import numpy as np\n",
    "import statsmodels.api as sm\n",
    "from sklearn.discriminant_analysis import LinearDiscriminantAnalysis as LDA\n",
    "import matplotlib.pyplot as plt\n",
    "import seaborn as sns"
   ]
  },
  {
   "cell_type": "markdown",
   "id": "52e1562f-a0a2-4a1a-b213-ca7a796b9198",
   "metadata": {},
   "source": [
    "Se cargan los datos de `OJ`. Estos datos están ya disponibles en la librería **statsmodels**."
   ]
  },
  {
   "cell_type": "code",
   "execution_count": 3,
   "id": "b8be57ba-1403-4152-aea8-ee2e885fa918",
   "metadata": {},
   "outputs": [],
   "source": [
    "data = sm.datasets.get_rdataset(\"OJ\", \"ISLR\", cache=True).data"
   ]
  },
  {
   "cell_type": "markdown",
   "id": "5aaf6e0a-aec1-47ca-ad3a-c7db1c6f4c5f",
   "metadata": {},
   "source": [
    "Seleccionamos las variables con las que se ilustra la técnica y se hace un resumen de las variables"
   ]
  },
  {
   "cell_type": "code",
   "execution_count": 4,
   "id": "386a75bc-063c-47bb-bbc8-c16e914b66bc",
   "metadata": {},
   "outputs": [
    {
     "data": {
      "text/html": [
       "<div>\n",
       "<style scoped>\n",
       "    .dataframe tbody tr th:only-of-type {\n",
       "        vertical-align: middle;\n",
       "    }\n",
       "\n",
       "    .dataframe tbody tr th {\n",
       "        vertical-align: top;\n",
       "    }\n",
       "\n",
       "    .dataframe thead th {\n",
       "        text-align: right;\n",
       "    }\n",
       "</style>\n",
       "<table border=\"1\" class=\"dataframe\">\n",
       "  <thead>\n",
       "    <tr style=\"text-align: right;\">\n",
       "      <th></th>\n",
       "      <th>PriceDiff</th>\n",
       "      <th>PctDiscMM</th>\n",
       "      <th>PctDiscCH</th>\n",
       "      <th>LoyalCH</th>\n",
       "    </tr>\n",
       "  </thead>\n",
       "  <tbody>\n",
       "    <tr>\n",
       "      <th>count</th>\n",
       "      <td>1070.000000</td>\n",
       "      <td>1070.000000</td>\n",
       "      <td>1070.000000</td>\n",
       "      <td>1070.000000</td>\n",
       "    </tr>\n",
       "    <tr>\n",
       "      <th>mean</th>\n",
       "      <td>0.146486</td>\n",
       "      <td>0.059298</td>\n",
       "      <td>0.027314</td>\n",
       "      <td>0.565782</td>\n",
       "    </tr>\n",
       "    <tr>\n",
       "      <th>std</th>\n",
       "      <td>0.271563</td>\n",
       "      <td>0.101760</td>\n",
       "      <td>0.062232</td>\n",
       "      <td>0.307843</td>\n",
       "    </tr>\n",
       "    <tr>\n",
       "      <th>min</th>\n",
       "      <td>-0.670000</td>\n",
       "      <td>0.000000</td>\n",
       "      <td>0.000000</td>\n",
       "      <td>0.000011</td>\n",
       "    </tr>\n",
       "    <tr>\n",
       "      <th>25%</th>\n",
       "      <td>0.000000</td>\n",
       "      <td>0.000000</td>\n",
       "      <td>0.000000</td>\n",
       "      <td>0.325257</td>\n",
       "    </tr>\n",
       "    <tr>\n",
       "      <th>50%</th>\n",
       "      <td>0.230000</td>\n",
       "      <td>0.000000</td>\n",
       "      <td>0.000000</td>\n",
       "      <td>0.600000</td>\n",
       "    </tr>\n",
       "    <tr>\n",
       "      <th>75%</th>\n",
       "      <td>0.320000</td>\n",
       "      <td>0.112676</td>\n",
       "      <td>0.000000</td>\n",
       "      <td>0.850873</td>\n",
       "    </tr>\n",
       "    <tr>\n",
       "      <th>max</th>\n",
       "      <td>0.640000</td>\n",
       "      <td>0.402010</td>\n",
       "      <td>0.252688</td>\n",
       "      <td>0.999947</td>\n",
       "    </tr>\n",
       "  </tbody>\n",
       "</table>\n",
       "</div>"
      ],
      "text/plain": [
       "         PriceDiff    PctDiscMM    PctDiscCH      LoyalCH\n",
       "count  1070.000000  1070.000000  1070.000000  1070.000000\n",
       "mean      0.146486     0.059298     0.027314     0.565782\n",
       "std       0.271563     0.101760     0.062232     0.307843\n",
       "min      -0.670000     0.000000     0.000000     0.000011\n",
       "25%       0.000000     0.000000     0.000000     0.325257\n",
       "50%       0.230000     0.000000     0.000000     0.600000\n",
       "75%       0.320000     0.112676     0.000000     0.850873\n",
       "max       0.640000     0.402010     0.252688     0.999947"
      ]
     },
     "execution_count": 4,
     "metadata": {},
     "output_type": "execute_result"
    }
   ],
   "source": [
    "var = ['Purchase', 'PriceDiff', 'PctDiscMM', 'PctDiscCH', 'LoyalCH']\n",
    "data = data.loc[:, var]\n",
    "\n",
    "data.describe()  #resumen de las variables cuantitativas"
   ]
  },
  {
   "cell_type": "markdown",
   "id": "a16395c8-561c-4e3b-ace8-c3293abb913f",
   "metadata": {},
   "source": [
    "Se define el modelo identificando tanto el target como las variables explicativas. "
   ]
  },
  {
   "cell_type": "code",
   "execution_count": 6,
   "id": "a92cda16-ca9e-464a-a96b-551adb1cb28b",
   "metadata": {},
   "outputs": [],
   "source": [
    "#target\n",
    "purchase = data['Purchase']\n",
    "purchase_cat = ['CH', 'MM'] # categorías del target\n",
    "\n",
    "# variables con poder discriminante\n",
    "var_disc = data.drop('Purchase', axis=1)\n",
    "\n",
    "#Definición y ajuste del modelo\n",
    "lda=LDA(solver='svd')  # \"svd\" (descomposición en valores singulares)\n",
    "modelo_lda=lda.fit(var_disc, purchase) # ajuste \n"
   ]
  },
  {
   "cell_type": "markdown",
   "id": "056c3409-7f4e-41ff-8d6c-bf390eb7973d",
   "metadata": {},
   "source": [
    "En este caso se emplea el método `\"svd\" - descomposición en valores singulares` pero podría emplearse otros como\n",
    "`\"lsqr\" - mínimos cuadrados` o `\"eigen\" - descomposión en valores propios`."
   ]
  },
  {
   "cell_type": "markdown",
   "id": "70f98e14-09ca-46bf-8f50-8b04332fba7f",
   "metadata": {},
   "source": [
    "`Probabilidad a priori de los grupos`"
   ]
  },
  {
   "cell_type": "code",
   "execution_count": 7,
   "id": "339ded27-01a5-469e-8ce8-cc6add1f3248",
   "metadata": {},
   "outputs": [
    {
     "data": {
      "text/html": [
       "<div>\n",
       "<style scoped>\n",
       "    .dataframe tbody tr th:only-of-type {\n",
       "        vertical-align: middle;\n",
       "    }\n",
       "\n",
       "    .dataframe tbody tr th {\n",
       "        vertical-align: top;\n",
       "    }\n",
       "\n",
       "    .dataframe thead th {\n",
       "        text-align: right;\n",
       "    }\n",
       "</style>\n",
       "<table border=\"1\" class=\"dataframe\">\n",
       "  <thead>\n",
       "    <tr style=\"text-align: right;\">\n",
       "      <th></th>\n",
       "      <th>Grupos: Prob. a priori</th>\n",
       "    </tr>\n",
       "  </thead>\n",
       "  <tbody>\n",
       "    <tr>\n",
       "      <th>CH</th>\n",
       "      <td>0.61028</td>\n",
       "    </tr>\n",
       "    <tr>\n",
       "      <th>MM</th>\n",
       "      <td>0.38972</td>\n",
       "    </tr>\n",
       "  </tbody>\n",
       "</table>\n",
       "</div>"
      ],
      "text/plain": [
       "    Grupos: Prob. a priori\n",
       "CH                 0.61028\n",
       "MM                 0.38972"
      ]
     },
     "execution_count": 7,
     "metadata": {},
     "output_type": "execute_result"
    }
   ],
   "source": [
    "pd.DataFrame(modelo_lda.priors_, columns=['Grupos: Prob. a priori'], index=purchase_cat)"
   ]
  },
  {
   "cell_type": "markdown",
   "id": "cffe300b-bc5f-4a55-bf52-6cbb8b19064b",
   "metadata": {},
   "source": [
    "`Predicción - Probabilidades a posteriori`"
   ]
  },
  {
   "cell_type": "code",
   "execution_count": 9,
   "id": "17db85d2-e959-4d92-9ed8-91a73201db4f",
   "metadata": {},
   "outputs": [
    {
     "data": {
      "text/html": [
       "<div>\n",
       "<style scoped>\n",
       "    .dataframe tbody tr th:only-of-type {\n",
       "        vertical-align: middle;\n",
       "    }\n",
       "\n",
       "    .dataframe tbody tr th {\n",
       "        vertical-align: top;\n",
       "    }\n",
       "\n",
       "    .dataframe thead th {\n",
       "        text-align: right;\n",
       "    }\n",
       "</style>\n",
       "<table border=\"1\" class=\"dataframe\">\n",
       "  <thead>\n",
       "    <tr style=\"text-align: right;\">\n",
       "      <th></th>\n",
       "      <th>Pred</th>\n",
       "      <th>CH</th>\n",
       "      <th>MM</th>\n",
       "    </tr>\n",
       "  </thead>\n",
       "  <tbody>\n",
       "    <tr>\n",
       "      <th>0</th>\n",
       "      <td>CH</td>\n",
       "      <td>0.636148</td>\n",
       "      <td>0.363852</td>\n",
       "    </tr>\n",
       "    <tr>\n",
       "      <th>1</th>\n",
       "      <td>CH</td>\n",
       "      <td>0.645331</td>\n",
       "      <td>0.354669</td>\n",
       "    </tr>\n",
       "    <tr>\n",
       "      <th>2</th>\n",
       "      <td>CH</td>\n",
       "      <td>0.920324</td>\n",
       "      <td>0.079676</td>\n",
       "    </tr>\n",
       "    <tr>\n",
       "      <th>3</th>\n",
       "      <td>MM</td>\n",
       "      <td>0.233605</td>\n",
       "      <td>0.766395</td>\n",
       "    </tr>\n",
       "    <tr>\n",
       "      <th>4</th>\n",
       "      <td>CH</td>\n",
       "      <td>0.952343</td>\n",
       "      <td>0.047657</td>\n",
       "    </tr>\n",
       "  </tbody>\n",
       "</table>\n",
       "</div>"
      ],
      "text/plain": [
       "  Pred        CH        MM\n",
       "0   CH  0.636148  0.363852\n",
       "1   CH  0.645331  0.354669\n",
       "2   CH  0.920324  0.079676\n",
       "3   MM  0.233605  0.766395\n",
       "4   CH  0.952343  0.047657"
      ]
     },
     "execution_count": 9,
     "metadata": {},
     "output_type": "execute_result"
    }
   ],
   "source": [
    "prob = pd.DataFrame(modelo_lda.predict_proba(var_disc), columns=purchase_cat)\n",
    "clase = pd.DataFrame(modelo_lda.predict(var_disc), columns=['Pred'])\n",
    "prob_clase = pd.concat([clase, prob], axis=1)   \n",
    "\n",
    "prob_clase.head(5) #se muestra los primeros 5 registros"
   ]
  },
  {
   "cell_type": "markdown",
   "id": "45c5868c-6f4c-4adf-b074-7561d5672222",
   "metadata": {},
   "source": [
    "Como puede verse en la tabla, se elige como clase predicha a la categoría cuya probabilidad sea superior a 0.5."
   ]
  },
  {
   "cell_type": "markdown",
   "id": "4c7bc732-30cf-46ea-a4ae-a18ef38bc8a0",
   "metadata": {},
   "source": [
    "`Bondad de ajuste`\n",
    "\n",
    "Se presenta tanto la matriz de confusión como el porcentaje de bien clasificados"
   ]
  },
  {
   "cell_type": "code",
   "execution_count": 10,
   "id": "99fb587e-84cc-4632-b498-914a690a0f44",
   "metadata": {},
   "outputs": [
    {
     "data": {
      "text/html": [
       "<div>\n",
       "<style scoped>\n",
       "    .dataframe tbody tr th:only-of-type {\n",
       "        vertical-align: middle;\n",
       "    }\n",
       "\n",
       "    .dataframe tbody tr th {\n",
       "        vertical-align: top;\n",
       "    }\n",
       "\n",
       "    .dataframe thead th {\n",
       "        text-align: right;\n",
       "    }\n",
       "</style>\n",
       "<table border=\"1\" class=\"dataframe\">\n",
       "  <thead>\n",
       "    <tr style=\"text-align: right;\">\n",
       "      <th>Purchase</th>\n",
       "      <th>CH</th>\n",
       "      <th>MM</th>\n",
       "    </tr>\n",
       "    <tr>\n",
       "      <th>Pred</th>\n",
       "      <th></th>\n",
       "      <th></th>\n",
       "    </tr>\n",
       "  </thead>\n",
       "  <tbody>\n",
       "    <tr>\n",
       "      <th>CH</th>\n",
       "      <td>567</td>\n",
       "      <td>101</td>\n",
       "    </tr>\n",
       "    <tr>\n",
       "      <th>MM</th>\n",
       "      <td>86</td>\n",
       "      <td>316</td>\n",
       "    </tr>\n",
       "  </tbody>\n",
       "</table>\n",
       "</div>"
      ],
      "text/plain": [
       "Purchase   CH   MM\n",
       "Pred              \n",
       "CH        567  101\n",
       "MM         86  316"
      ]
     },
     "execution_count": 10,
     "metadata": {},
     "output_type": "execute_result"
    }
   ],
   "source": [
    "pd.crosstab(prob_clase['Pred'], purchase) #matriz de confusión"
   ]
  },
  {
   "cell_type": "code",
   "execution_count": 12,
   "id": "094df6fe-d961-411b-833e-2c41a1a36b74",
   "metadata": {},
   "outputs": [
    {
     "data": {
      "text/plain": [
       "0.82523"
      ]
     },
     "execution_count": 12,
     "metadata": {},
     "output_type": "execute_result"
    }
   ],
   "source": [
    "round(np.mean(prob_clase['Pred'] == purchase),5)"
   ]
  }
 ],
 "metadata": {
  "kernelspec": {
   "display_name": "Python 3 (ipykernel)",
   "language": "python",
   "name": "python3"
  },
  "language_info": {
   "codemirror_mode": {
    "name": "ipython",
    "version": 3
   },
   "file_extension": ".py",
   "mimetype": "text/x-python",
   "name": "python",
   "nbconvert_exporter": "python",
   "pygments_lexer": "ipython3",
   "version": "3.10.14"
  }
 },
 "nbformat": 4,
 "nbformat_minor": 5
}
